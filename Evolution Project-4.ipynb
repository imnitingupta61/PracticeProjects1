{
 "cells": [
  {
   "cell_type": "code",
   "execution_count": 2,
   "id": "c0cc844a",
   "metadata": {},
   "outputs": [],
   "source": [
    "import pandas as pd\n",
    "import numpy as np\n",
    "import seaborn as sns\n",
    "import matplotlib.pyplot as plt\n",
    "import warnings\n",
    "warnings.filterwarnings('ignore')"
   ]
  },
  {
   "cell_type": "code",
   "execution_count": 3,
   "id": "ebb4372a",
   "metadata": {},
   "outputs": [],
   "source": [
    "df= pd.read_csv('https://raw.githubusercontent.com/wri/global-power-plant-database/master/source_databases_csv/database_IND.csv')"
   ]
  },
  {
   "cell_type": "code",
   "execution_count": 4,
   "id": "57f6c617",
   "metadata": {},
   "outputs": [
    {
     "data": {
      "text/html": [
       "<div>\n",
       "<style scoped>\n",
       "    .dataframe tbody tr th:only-of-type {\n",
       "        vertical-align: middle;\n",
       "    }\n",
       "\n",
       "    .dataframe tbody tr th {\n",
       "        vertical-align: top;\n",
       "    }\n",
       "\n",
       "    .dataframe thead th {\n",
       "        text-align: right;\n",
       "    }\n",
       "</style>\n",
       "<table border=\"1\" class=\"dataframe\">\n",
       "  <thead>\n",
       "    <tr style=\"text-align: right;\">\n",
       "      <th></th>\n",
       "      <th>country</th>\n",
       "      <th>country_long</th>\n",
       "      <th>name</th>\n",
       "      <th>gppd_idnr</th>\n",
       "      <th>capacity_mw</th>\n",
       "      <th>latitude</th>\n",
       "      <th>longitude</th>\n",
       "      <th>primary_fuel</th>\n",
       "      <th>other_fuel1</th>\n",
       "      <th>other_fuel2</th>\n",
       "      <th>...</th>\n",
       "      <th>year_of_capacity_data</th>\n",
       "      <th>generation_gwh_2013</th>\n",
       "      <th>generation_gwh_2014</th>\n",
       "      <th>generation_gwh_2015</th>\n",
       "      <th>generation_gwh_2016</th>\n",
       "      <th>generation_gwh_2017</th>\n",
       "      <th>generation_gwh_2018</th>\n",
       "      <th>generation_gwh_2019</th>\n",
       "      <th>generation_data_source</th>\n",
       "      <th>estimated_generation_gwh</th>\n",
       "    </tr>\n",
       "  </thead>\n",
       "  <tbody>\n",
       "    <tr>\n",
       "      <th>0</th>\n",
       "      <td>IND</td>\n",
       "      <td>India</td>\n",
       "      <td>ACME Solar Tower</td>\n",
       "      <td>WRI1020239</td>\n",
       "      <td>2.5</td>\n",
       "      <td>28.1839</td>\n",
       "      <td>73.2407</td>\n",
       "      <td>Solar</td>\n",
       "      <td>NaN</td>\n",
       "      <td>NaN</td>\n",
       "      <td>...</td>\n",
       "      <td>NaN</td>\n",
       "      <td>NaN</td>\n",
       "      <td>NaN</td>\n",
       "      <td>NaN</td>\n",
       "      <td>NaN</td>\n",
       "      <td>NaN</td>\n",
       "      <td>NaN</td>\n",
       "      <td>NaN</td>\n",
       "      <td>NaN</td>\n",
       "      <td>NaN</td>\n",
       "    </tr>\n",
       "    <tr>\n",
       "      <th>1</th>\n",
       "      <td>IND</td>\n",
       "      <td>India</td>\n",
       "      <td>ADITYA CEMENT WORKS</td>\n",
       "      <td>WRI1019881</td>\n",
       "      <td>98.0</td>\n",
       "      <td>24.7663</td>\n",
       "      <td>74.6090</td>\n",
       "      <td>Coal</td>\n",
       "      <td>NaN</td>\n",
       "      <td>NaN</td>\n",
       "      <td>...</td>\n",
       "      <td>NaN</td>\n",
       "      <td>NaN</td>\n",
       "      <td>NaN</td>\n",
       "      <td>NaN</td>\n",
       "      <td>NaN</td>\n",
       "      <td>NaN</td>\n",
       "      <td>NaN</td>\n",
       "      <td>NaN</td>\n",
       "      <td>NaN</td>\n",
       "      <td>NaN</td>\n",
       "    </tr>\n",
       "    <tr>\n",
       "      <th>2</th>\n",
       "      <td>IND</td>\n",
       "      <td>India</td>\n",
       "      <td>AES Saurashtra Windfarms</td>\n",
       "      <td>WRI1026669</td>\n",
       "      <td>39.2</td>\n",
       "      <td>21.9038</td>\n",
       "      <td>69.3732</td>\n",
       "      <td>Wind</td>\n",
       "      <td>NaN</td>\n",
       "      <td>NaN</td>\n",
       "      <td>...</td>\n",
       "      <td>NaN</td>\n",
       "      <td>NaN</td>\n",
       "      <td>NaN</td>\n",
       "      <td>NaN</td>\n",
       "      <td>NaN</td>\n",
       "      <td>NaN</td>\n",
       "      <td>NaN</td>\n",
       "      <td>NaN</td>\n",
       "      <td>NaN</td>\n",
       "      <td>NaN</td>\n",
       "    </tr>\n",
       "    <tr>\n",
       "      <th>3</th>\n",
       "      <td>IND</td>\n",
       "      <td>India</td>\n",
       "      <td>AGARTALA GT</td>\n",
       "      <td>IND0000001</td>\n",
       "      <td>135.0</td>\n",
       "      <td>23.8712</td>\n",
       "      <td>91.3602</td>\n",
       "      <td>Gas</td>\n",
       "      <td>NaN</td>\n",
       "      <td>NaN</td>\n",
       "      <td>...</td>\n",
       "      <td>2019.0</td>\n",
       "      <td>NaN</td>\n",
       "      <td>617.789264</td>\n",
       "      <td>843.747000</td>\n",
       "      <td>886.004428</td>\n",
       "      <td>663.774500</td>\n",
       "      <td>626.239128</td>\n",
       "      <td>NaN</td>\n",
       "      <td>Central Electricity Authority</td>\n",
       "      <td>NaN</td>\n",
       "    </tr>\n",
       "    <tr>\n",
       "      <th>4</th>\n",
       "      <td>IND</td>\n",
       "      <td>India</td>\n",
       "      <td>AKALTARA TPP</td>\n",
       "      <td>IND0000002</td>\n",
       "      <td>1800.0</td>\n",
       "      <td>21.9603</td>\n",
       "      <td>82.4091</td>\n",
       "      <td>Coal</td>\n",
       "      <td>Oil</td>\n",
       "      <td>NaN</td>\n",
       "      <td>...</td>\n",
       "      <td>2019.0</td>\n",
       "      <td>NaN</td>\n",
       "      <td>3035.550000</td>\n",
       "      <td>5916.370000</td>\n",
       "      <td>6243.000000</td>\n",
       "      <td>5385.579736</td>\n",
       "      <td>7279.000000</td>\n",
       "      <td>NaN</td>\n",
       "      <td>Central Electricity Authority</td>\n",
       "      <td>NaN</td>\n",
       "    </tr>\n",
       "    <tr>\n",
       "      <th>...</th>\n",
       "      <td>...</td>\n",
       "      <td>...</td>\n",
       "      <td>...</td>\n",
       "      <td>...</td>\n",
       "      <td>...</td>\n",
       "      <td>...</td>\n",
       "      <td>...</td>\n",
       "      <td>...</td>\n",
       "      <td>...</td>\n",
       "      <td>...</td>\n",
       "      <td>...</td>\n",
       "      <td>...</td>\n",
       "      <td>...</td>\n",
       "      <td>...</td>\n",
       "      <td>...</td>\n",
       "      <td>...</td>\n",
       "      <td>...</td>\n",
       "      <td>...</td>\n",
       "      <td>...</td>\n",
       "      <td>...</td>\n",
       "      <td>...</td>\n",
       "    </tr>\n",
       "    <tr>\n",
       "      <th>902</th>\n",
       "      <td>IND</td>\n",
       "      <td>India</td>\n",
       "      <td>YERMARUS TPP</td>\n",
       "      <td>IND0000513</td>\n",
       "      <td>1600.0</td>\n",
       "      <td>16.2949</td>\n",
       "      <td>77.3568</td>\n",
       "      <td>Coal</td>\n",
       "      <td>Oil</td>\n",
       "      <td>NaN</td>\n",
       "      <td>...</td>\n",
       "      <td>2019.0</td>\n",
       "      <td>NaN</td>\n",
       "      <td>NaN</td>\n",
       "      <td>0.994875</td>\n",
       "      <td>233.596650</td>\n",
       "      <td>865.400000</td>\n",
       "      <td>686.500000</td>\n",
       "      <td>NaN</td>\n",
       "      <td>Central Electricity Authority</td>\n",
       "      <td>NaN</td>\n",
       "    </tr>\n",
       "    <tr>\n",
       "      <th>903</th>\n",
       "      <td>IND</td>\n",
       "      <td>India</td>\n",
       "      <td>Yelesandra Solar Power Plant</td>\n",
       "      <td>WRI1026222</td>\n",
       "      <td>3.0</td>\n",
       "      <td>12.8932</td>\n",
       "      <td>78.1654</td>\n",
       "      <td>Solar</td>\n",
       "      <td>NaN</td>\n",
       "      <td>NaN</td>\n",
       "      <td>...</td>\n",
       "      <td>NaN</td>\n",
       "      <td>NaN</td>\n",
       "      <td>NaN</td>\n",
       "      <td>NaN</td>\n",
       "      <td>NaN</td>\n",
       "      <td>NaN</td>\n",
       "      <td>NaN</td>\n",
       "      <td>NaN</td>\n",
       "      <td>NaN</td>\n",
       "      <td>NaN</td>\n",
       "    </tr>\n",
       "    <tr>\n",
       "      <th>904</th>\n",
       "      <td>IND</td>\n",
       "      <td>India</td>\n",
       "      <td>Yelisirur wind power project</td>\n",
       "      <td>WRI1026776</td>\n",
       "      <td>25.5</td>\n",
       "      <td>15.2758</td>\n",
       "      <td>75.5811</td>\n",
       "      <td>Wind</td>\n",
       "      <td>NaN</td>\n",
       "      <td>NaN</td>\n",
       "      <td>...</td>\n",
       "      <td>NaN</td>\n",
       "      <td>NaN</td>\n",
       "      <td>NaN</td>\n",
       "      <td>NaN</td>\n",
       "      <td>NaN</td>\n",
       "      <td>NaN</td>\n",
       "      <td>NaN</td>\n",
       "      <td>NaN</td>\n",
       "      <td>NaN</td>\n",
       "      <td>NaN</td>\n",
       "    </tr>\n",
       "    <tr>\n",
       "      <th>905</th>\n",
       "      <td>IND</td>\n",
       "      <td>India</td>\n",
       "      <td>ZAWAR MINES</td>\n",
       "      <td>WRI1019901</td>\n",
       "      <td>80.0</td>\n",
       "      <td>24.3500</td>\n",
       "      <td>73.7477</td>\n",
       "      <td>Coal</td>\n",
       "      <td>NaN</td>\n",
       "      <td>NaN</td>\n",
       "      <td>...</td>\n",
       "      <td>NaN</td>\n",
       "      <td>NaN</td>\n",
       "      <td>NaN</td>\n",
       "      <td>NaN</td>\n",
       "      <td>NaN</td>\n",
       "      <td>NaN</td>\n",
       "      <td>NaN</td>\n",
       "      <td>NaN</td>\n",
       "      <td>NaN</td>\n",
       "      <td>NaN</td>\n",
       "    </tr>\n",
       "    <tr>\n",
       "      <th>906</th>\n",
       "      <td>IND</td>\n",
       "      <td>India</td>\n",
       "      <td>iEnergy Theni Wind Farm</td>\n",
       "      <td>WRI1026761</td>\n",
       "      <td>16.5</td>\n",
       "      <td>9.9344</td>\n",
       "      <td>77.4768</td>\n",
       "      <td>Wind</td>\n",
       "      <td>NaN</td>\n",
       "      <td>NaN</td>\n",
       "      <td>...</td>\n",
       "      <td>NaN</td>\n",
       "      <td>NaN</td>\n",
       "      <td>NaN</td>\n",
       "      <td>NaN</td>\n",
       "      <td>NaN</td>\n",
       "      <td>NaN</td>\n",
       "      <td>NaN</td>\n",
       "      <td>NaN</td>\n",
       "      <td>NaN</td>\n",
       "      <td>NaN</td>\n",
       "    </tr>\n",
       "  </tbody>\n",
       "</table>\n",
       "<p>907 rows × 27 columns</p>\n",
       "</div>"
      ],
      "text/plain": [
       "    country country_long                          name   gppd_idnr  \\\n",
       "0       IND        India              ACME Solar Tower  WRI1020239   \n",
       "1       IND        India           ADITYA CEMENT WORKS  WRI1019881   \n",
       "2       IND        India      AES Saurashtra Windfarms  WRI1026669   \n",
       "3       IND        India                   AGARTALA GT  IND0000001   \n",
       "4       IND        India                  AKALTARA TPP  IND0000002   \n",
       "..      ...          ...                           ...         ...   \n",
       "902     IND        India                  YERMARUS TPP  IND0000513   \n",
       "903     IND        India  Yelesandra Solar Power Plant  WRI1026222   \n",
       "904     IND        India  Yelisirur wind power project  WRI1026776   \n",
       "905     IND        India                   ZAWAR MINES  WRI1019901   \n",
       "906     IND        India       iEnergy Theni Wind Farm  WRI1026761   \n",
       "\n",
       "     capacity_mw  latitude  longitude primary_fuel other_fuel1 other_fuel2  \\\n",
       "0            2.5   28.1839    73.2407        Solar         NaN         NaN   \n",
       "1           98.0   24.7663    74.6090         Coal         NaN         NaN   \n",
       "2           39.2   21.9038    69.3732         Wind         NaN         NaN   \n",
       "3          135.0   23.8712    91.3602          Gas         NaN         NaN   \n",
       "4         1800.0   21.9603    82.4091         Coal         Oil         NaN   \n",
       "..           ...       ...        ...          ...         ...         ...   \n",
       "902       1600.0   16.2949    77.3568         Coal         Oil         NaN   \n",
       "903          3.0   12.8932    78.1654        Solar         NaN         NaN   \n",
       "904         25.5   15.2758    75.5811         Wind         NaN         NaN   \n",
       "905         80.0   24.3500    73.7477         Coal         NaN         NaN   \n",
       "906         16.5    9.9344    77.4768         Wind         NaN         NaN   \n",
       "\n",
       "     ...  year_of_capacity_data  generation_gwh_2013 generation_gwh_2014  \\\n",
       "0    ...                    NaN                  NaN                 NaN   \n",
       "1    ...                    NaN                  NaN                 NaN   \n",
       "2    ...                    NaN                  NaN                 NaN   \n",
       "3    ...                 2019.0                  NaN          617.789264   \n",
       "4    ...                 2019.0                  NaN         3035.550000   \n",
       "..   ...                    ...                  ...                 ...   \n",
       "902  ...                 2019.0                  NaN                 NaN   \n",
       "903  ...                    NaN                  NaN                 NaN   \n",
       "904  ...                    NaN                  NaN                 NaN   \n",
       "905  ...                    NaN                  NaN                 NaN   \n",
       "906  ...                    NaN                  NaN                 NaN   \n",
       "\n",
       "    generation_gwh_2015 generation_gwh_2016 generation_gwh_2017  \\\n",
       "0                   NaN                 NaN                 NaN   \n",
       "1                   NaN                 NaN                 NaN   \n",
       "2                   NaN                 NaN                 NaN   \n",
       "3            843.747000          886.004428          663.774500   \n",
       "4           5916.370000         6243.000000         5385.579736   \n",
       "..                  ...                 ...                 ...   \n",
       "902            0.994875          233.596650          865.400000   \n",
       "903                 NaN                 NaN                 NaN   \n",
       "904                 NaN                 NaN                 NaN   \n",
       "905                 NaN                 NaN                 NaN   \n",
       "906                 NaN                 NaN                 NaN   \n",
       "\n",
       "     generation_gwh_2018  generation_gwh_2019         generation_data_source  \\\n",
       "0                    NaN                  NaN                            NaN   \n",
       "1                    NaN                  NaN                            NaN   \n",
       "2                    NaN                  NaN                            NaN   \n",
       "3             626.239128                  NaN  Central Electricity Authority   \n",
       "4            7279.000000                  NaN  Central Electricity Authority   \n",
       "..                   ...                  ...                            ...   \n",
       "902           686.500000                  NaN  Central Electricity Authority   \n",
       "903                  NaN                  NaN                            NaN   \n",
       "904                  NaN                  NaN                            NaN   \n",
       "905                  NaN                  NaN                            NaN   \n",
       "906                  NaN                  NaN                            NaN   \n",
       "\n",
       "     estimated_generation_gwh  \n",
       "0                         NaN  \n",
       "1                         NaN  \n",
       "2                         NaN  \n",
       "3                         NaN  \n",
       "4                         NaN  \n",
       "..                        ...  \n",
       "902                       NaN  \n",
       "903                       NaN  \n",
       "904                       NaN  \n",
       "905                       NaN  \n",
       "906                       NaN  \n",
       "\n",
       "[907 rows x 27 columns]"
      ]
     },
     "execution_count": 4,
     "metadata": {},
     "output_type": "execute_result"
    }
   ],
   "source": [
    "df"
   ]
  },
  {
   "cell_type": "code",
   "execution_count": 5,
   "id": "5b3def5c",
   "metadata": {},
   "outputs": [
    {
     "data": {
      "text/html": [
       "<div>\n",
       "<style scoped>\n",
       "    .dataframe tbody tr th:only-of-type {\n",
       "        vertical-align: middle;\n",
       "    }\n",
       "\n",
       "    .dataframe tbody tr th {\n",
       "        vertical-align: top;\n",
       "    }\n",
       "\n",
       "    .dataframe thead th {\n",
       "        text-align: right;\n",
       "    }\n",
       "</style>\n",
       "<table border=\"1\" class=\"dataframe\">\n",
       "  <thead>\n",
       "    <tr style=\"text-align: right;\">\n",
       "      <th></th>\n",
       "      <th>0</th>\n",
       "      <th>1</th>\n",
       "      <th>2</th>\n",
       "      <th>3</th>\n",
       "      <th>4</th>\n",
       "      <th>5</th>\n",
       "      <th>6</th>\n",
       "      <th>7</th>\n",
       "      <th>8</th>\n",
       "      <th>9</th>\n",
       "    </tr>\n",
       "  </thead>\n",
       "  <tbody>\n",
       "    <tr>\n",
       "      <th>country</th>\n",
       "      <td>IND</td>\n",
       "      <td>IND</td>\n",
       "      <td>IND</td>\n",
       "      <td>IND</td>\n",
       "      <td>IND</td>\n",
       "      <td>IND</td>\n",
       "      <td>IND</td>\n",
       "      <td>IND</td>\n",
       "      <td>IND</td>\n",
       "      <td>IND</td>\n",
       "    </tr>\n",
       "    <tr>\n",
       "      <th>country_long</th>\n",
       "      <td>India</td>\n",
       "      <td>India</td>\n",
       "      <td>India</td>\n",
       "      <td>India</td>\n",
       "      <td>India</td>\n",
       "      <td>India</td>\n",
       "      <td>India</td>\n",
       "      <td>India</td>\n",
       "      <td>India</td>\n",
       "      <td>India</td>\n",
       "    </tr>\n",
       "    <tr>\n",
       "      <th>name</th>\n",
       "      <td>ACME Solar Tower</td>\n",
       "      <td>ADITYA CEMENT WORKS</td>\n",
       "      <td>AES Saurashtra Windfarms</td>\n",
       "      <td>AGARTALA GT</td>\n",
       "      <td>AKALTARA TPP</td>\n",
       "      <td>AKRIMOTA LIG</td>\n",
       "      <td>ALIYAR</td>\n",
       "      <td>ALLAIN DUHANGAN</td>\n",
       "      <td>ALMATTI DAM</td>\n",
       "      <td>AMAR KANTAK</td>\n",
       "    </tr>\n",
       "    <tr>\n",
       "      <th>gppd_idnr</th>\n",
       "      <td>WRI1020239</td>\n",
       "      <td>WRI1019881</td>\n",
       "      <td>WRI1026669</td>\n",
       "      <td>IND0000001</td>\n",
       "      <td>IND0000002</td>\n",
       "      <td>IND0000003</td>\n",
       "      <td>IND0000004</td>\n",
       "      <td>IND0000005</td>\n",
       "      <td>IND0000006</td>\n",
       "      <td>IND0000007</td>\n",
       "    </tr>\n",
       "    <tr>\n",
       "      <th>capacity_mw</th>\n",
       "      <td>2.5</td>\n",
       "      <td>98.0</td>\n",
       "      <td>39.2</td>\n",
       "      <td>135.0</td>\n",
       "      <td>1800.0</td>\n",
       "      <td>250.0</td>\n",
       "      <td>60.0</td>\n",
       "      <td>192.0</td>\n",
       "      <td>290.0</td>\n",
       "      <td>210.0</td>\n",
       "    </tr>\n",
       "    <tr>\n",
       "      <th>latitude</th>\n",
       "      <td>28.1839</td>\n",
       "      <td>24.7663</td>\n",
       "      <td>21.9038</td>\n",
       "      <td>23.8712</td>\n",
       "      <td>21.9603</td>\n",
       "      <td>23.7689</td>\n",
       "      <td>10.4547</td>\n",
       "      <td>32.2258</td>\n",
       "      <td>16.33</td>\n",
       "      <td>23.1642</td>\n",
       "    </tr>\n",
       "    <tr>\n",
       "      <th>longitude</th>\n",
       "      <td>73.2407</td>\n",
       "      <td>74.609</td>\n",
       "      <td>69.3732</td>\n",
       "      <td>91.3602</td>\n",
       "      <td>82.4091</td>\n",
       "      <td>68.6447</td>\n",
       "      <td>77.0078</td>\n",
       "      <td>77.207</td>\n",
       "      <td>75.8863</td>\n",
       "      <td>81.6373</td>\n",
       "    </tr>\n",
       "    <tr>\n",
       "      <th>primary_fuel</th>\n",
       "      <td>Solar</td>\n",
       "      <td>Coal</td>\n",
       "      <td>Wind</td>\n",
       "      <td>Gas</td>\n",
       "      <td>Coal</td>\n",
       "      <td>Coal</td>\n",
       "      <td>Hydro</td>\n",
       "      <td>Hydro</td>\n",
       "      <td>Hydro</td>\n",
       "      <td>Coal</td>\n",
       "    </tr>\n",
       "    <tr>\n",
       "      <th>other_fuel1</th>\n",
       "      <td>NaN</td>\n",
       "      <td>NaN</td>\n",
       "      <td>NaN</td>\n",
       "      <td>NaN</td>\n",
       "      <td>Oil</td>\n",
       "      <td>Oil</td>\n",
       "      <td>NaN</td>\n",
       "      <td>NaN</td>\n",
       "      <td>NaN</td>\n",
       "      <td>Oil</td>\n",
       "    </tr>\n",
       "    <tr>\n",
       "      <th>other_fuel2</th>\n",
       "      <td>NaN</td>\n",
       "      <td>NaN</td>\n",
       "      <td>NaN</td>\n",
       "      <td>NaN</td>\n",
       "      <td>NaN</td>\n",
       "      <td>NaN</td>\n",
       "      <td>NaN</td>\n",
       "      <td>NaN</td>\n",
       "      <td>NaN</td>\n",
       "      <td>NaN</td>\n",
       "    </tr>\n",
       "    <tr>\n",
       "      <th>other_fuel3</th>\n",
       "      <td>NaN</td>\n",
       "      <td>NaN</td>\n",
       "      <td>NaN</td>\n",
       "      <td>NaN</td>\n",
       "      <td>NaN</td>\n",
       "      <td>NaN</td>\n",
       "      <td>NaN</td>\n",
       "      <td>NaN</td>\n",
       "      <td>NaN</td>\n",
       "      <td>NaN</td>\n",
       "    </tr>\n",
       "    <tr>\n",
       "      <th>commissioning_year</th>\n",
       "      <td>2011.0</td>\n",
       "      <td>NaN</td>\n",
       "      <td>NaN</td>\n",
       "      <td>2004.0</td>\n",
       "      <td>2015.0</td>\n",
       "      <td>2005.0</td>\n",
       "      <td>1970.0</td>\n",
       "      <td>2010.0</td>\n",
       "      <td>2004.0</td>\n",
       "      <td>2008.0</td>\n",
       "    </tr>\n",
       "    <tr>\n",
       "      <th>owner</th>\n",
       "      <td>Solar Paces</td>\n",
       "      <td>Ultratech Cement ltd</td>\n",
       "      <td>AES</td>\n",
       "      <td>NaN</td>\n",
       "      <td>NaN</td>\n",
       "      <td>NaN</td>\n",
       "      <td>NaN</td>\n",
       "      <td>NaN</td>\n",
       "      <td>NaN</td>\n",
       "      <td>NaN</td>\n",
       "    </tr>\n",
       "    <tr>\n",
       "      <th>source</th>\n",
       "      <td>National Renewable Energy Laboratory</td>\n",
       "      <td>Ultratech Cement ltd</td>\n",
       "      <td>CDM</td>\n",
       "      <td>Central Electricity Authority</td>\n",
       "      <td>Central Electricity Authority</td>\n",
       "      <td>Central Electricity Authority</td>\n",
       "      <td>Central Electricity Authority</td>\n",
       "      <td>Central Electricity Authority</td>\n",
       "      <td>Central Electricity Authority</td>\n",
       "      <td>Central Electricity Authority</td>\n",
       "    </tr>\n",
       "    <tr>\n",
       "      <th>url</th>\n",
       "      <td>http://www.nrel.gov/csp/solarpaces/project_det...</td>\n",
       "      <td>http://www.ultratechcement.com/</td>\n",
       "      <td>https://cdm.unfccc.int/Projects/DB/DNV-CUK1328...</td>\n",
       "      <td>http://www.cea.nic.in/</td>\n",
       "      <td>http://www.cea.nic.in/</td>\n",
       "      <td>http://www.cea.nic.in/</td>\n",
       "      <td>http://www.cea.nic.in/</td>\n",
       "      <td>http://www.cea.nic.in/</td>\n",
       "      <td>http://www.cea.nic.in/</td>\n",
       "      <td>http://www.cea.nic.in/</td>\n",
       "    </tr>\n",
       "    <tr>\n",
       "      <th>geolocation_source</th>\n",
       "      <td>National Renewable Energy Laboratory</td>\n",
       "      <td>WRI</td>\n",
       "      <td>WRI</td>\n",
       "      <td>WRI</td>\n",
       "      <td>WRI</td>\n",
       "      <td>WRI</td>\n",
       "      <td>WRI</td>\n",
       "      <td>WRI</td>\n",
       "      <td>WRI</td>\n",
       "      <td>WRI</td>\n",
       "    </tr>\n",
       "    <tr>\n",
       "      <th>wepp_id</th>\n",
       "      <td>NaN</td>\n",
       "      <td>NaN</td>\n",
       "      <td>NaN</td>\n",
       "      <td>NaN</td>\n",
       "      <td>NaN</td>\n",
       "      <td>NaN</td>\n",
       "      <td>NaN</td>\n",
       "      <td>NaN</td>\n",
       "      <td>NaN</td>\n",
       "      <td>NaN</td>\n",
       "    </tr>\n",
       "    <tr>\n",
       "      <th>year_of_capacity_data</th>\n",
       "      <td>NaN</td>\n",
       "      <td>NaN</td>\n",
       "      <td>NaN</td>\n",
       "      <td>2019.0</td>\n",
       "      <td>2019.0</td>\n",
       "      <td>2019.0</td>\n",
       "      <td>2019.0</td>\n",
       "      <td>2019.0</td>\n",
       "      <td>2019.0</td>\n",
       "      <td>2019.0</td>\n",
       "    </tr>\n",
       "    <tr>\n",
       "      <th>generation_gwh_2013</th>\n",
       "      <td>NaN</td>\n",
       "      <td>NaN</td>\n",
       "      <td>NaN</td>\n",
       "      <td>NaN</td>\n",
       "      <td>NaN</td>\n",
       "      <td>NaN</td>\n",
       "      <td>NaN</td>\n",
       "      <td>NaN</td>\n",
       "      <td>NaN</td>\n",
       "      <td>NaN</td>\n",
       "    </tr>\n",
       "    <tr>\n",
       "      <th>generation_gwh_2014</th>\n",
       "      <td>NaN</td>\n",
       "      <td>NaN</td>\n",
       "      <td>NaN</td>\n",
       "      <td>617.789264</td>\n",
       "      <td>3035.55</td>\n",
       "      <td>1153.421</td>\n",
       "      <td>157.55825</td>\n",
       "      <td>674.3911</td>\n",
       "      <td>480.59495</td>\n",
       "      <td>1887.904</td>\n",
       "    </tr>\n",
       "    <tr>\n",
       "      <th>generation_gwh_2015</th>\n",
       "      <td>NaN</td>\n",
       "      <td>NaN</td>\n",
       "      <td>NaN</td>\n",
       "      <td>843.747</td>\n",
       "      <td>5916.37</td>\n",
       "      <td>1208.852</td>\n",
       "      <td>152.1952</td>\n",
       "      <td>721.3352</td>\n",
       "      <td>144.4342</td>\n",
       "      <td>1643.046</td>\n",
       "    </tr>\n",
       "    <tr>\n",
       "      <th>generation_gwh_2016</th>\n",
       "      <td>NaN</td>\n",
       "      <td>NaN</td>\n",
       "      <td>NaN</td>\n",
       "      <td>886.004428</td>\n",
       "      <td>6243.0</td>\n",
       "      <td>1175.765</td>\n",
       "      <td>61.42135</td>\n",
       "      <td>675.7244</td>\n",
       "      <td>402.02975</td>\n",
       "      <td>1338.093</td>\n",
       "    </tr>\n",
       "    <tr>\n",
       "      <th>generation_gwh_2017</th>\n",
       "      <td>NaN</td>\n",
       "      <td>NaN</td>\n",
       "      <td>NaN</td>\n",
       "      <td>663.7745</td>\n",
       "      <td>5385.579736</td>\n",
       "      <td>1147.913</td>\n",
       "      <td>89.6296</td>\n",
       "      <td>679.59495</td>\n",
       "      <td>439.3721</td>\n",
       "      <td>1563.457</td>\n",
       "    </tr>\n",
       "    <tr>\n",
       "      <th>generation_gwh_2018</th>\n",
       "      <td>NaN</td>\n",
       "      <td>NaN</td>\n",
       "      <td>NaN</td>\n",
       "      <td>626.239128</td>\n",
       "      <td>7279.0</td>\n",
       "      <td>976.655</td>\n",
       "      <td>48.32715</td>\n",
       "      <td>579.31885</td>\n",
       "      <td>406.3779</td>\n",
       "      <td>1487.88</td>\n",
       "    </tr>\n",
       "    <tr>\n",
       "      <th>generation_gwh_2019</th>\n",
       "      <td>NaN</td>\n",
       "      <td>NaN</td>\n",
       "      <td>NaN</td>\n",
       "      <td>NaN</td>\n",
       "      <td>NaN</td>\n",
       "      <td>NaN</td>\n",
       "      <td>NaN</td>\n",
       "      <td>NaN</td>\n",
       "      <td>NaN</td>\n",
       "      <td>NaN</td>\n",
       "    </tr>\n",
       "    <tr>\n",
       "      <th>generation_data_source</th>\n",
       "      <td>NaN</td>\n",
       "      <td>NaN</td>\n",
       "      <td>NaN</td>\n",
       "      <td>Central Electricity Authority</td>\n",
       "      <td>Central Electricity Authority</td>\n",
       "      <td>Central Electricity Authority</td>\n",
       "      <td>Central Electricity Authority</td>\n",
       "      <td>Central Electricity Authority</td>\n",
       "      <td>Central Electricity Authority</td>\n",
       "      <td>Central Electricity Authority</td>\n",
       "    </tr>\n",
       "    <tr>\n",
       "      <th>estimated_generation_gwh</th>\n",
       "      <td>NaN</td>\n",
       "      <td>NaN</td>\n",
       "      <td>NaN</td>\n",
       "      <td>NaN</td>\n",
       "      <td>NaN</td>\n",
       "      <td>NaN</td>\n",
       "      <td>NaN</td>\n",
       "      <td>NaN</td>\n",
       "      <td>NaN</td>\n",
       "      <td>NaN</td>\n",
       "    </tr>\n",
       "  </tbody>\n",
       "</table>\n",
       "</div>"
      ],
      "text/plain": [
       "                                                                          0  \\\n",
       "country                                                                 IND   \n",
       "country_long                                                          India   \n",
       "name                                                       ACME Solar Tower   \n",
       "gppd_idnr                                                        WRI1020239   \n",
       "capacity_mw                                                             2.5   \n",
       "latitude                                                            28.1839   \n",
       "longitude                                                           73.2407   \n",
       "primary_fuel                                                          Solar   \n",
       "other_fuel1                                                             NaN   \n",
       "other_fuel2                                                             NaN   \n",
       "other_fuel3                                                             NaN   \n",
       "commissioning_year                                                   2011.0   \n",
       "owner                                                           Solar Paces   \n",
       "source                                 National Renewable Energy Laboratory   \n",
       "url                       http://www.nrel.gov/csp/solarpaces/project_det...   \n",
       "geolocation_source                     National Renewable Energy Laboratory   \n",
       "wepp_id                                                                 NaN   \n",
       "year_of_capacity_data                                                   NaN   \n",
       "generation_gwh_2013                                                     NaN   \n",
       "generation_gwh_2014                                                     NaN   \n",
       "generation_gwh_2015                                                     NaN   \n",
       "generation_gwh_2016                                                     NaN   \n",
       "generation_gwh_2017                                                     NaN   \n",
       "generation_gwh_2018                                                     NaN   \n",
       "generation_gwh_2019                                                     NaN   \n",
       "generation_data_source                                                  NaN   \n",
       "estimated_generation_gwh                                                NaN   \n",
       "\n",
       "                                                        1  \\\n",
       "country                                               IND   \n",
       "country_long                                        India   \n",
       "name                                  ADITYA CEMENT WORKS   \n",
       "gppd_idnr                                      WRI1019881   \n",
       "capacity_mw                                          98.0   \n",
       "latitude                                          24.7663   \n",
       "longitude                                          74.609   \n",
       "primary_fuel                                         Coal   \n",
       "other_fuel1                                           NaN   \n",
       "other_fuel2                                           NaN   \n",
       "other_fuel3                                           NaN   \n",
       "commissioning_year                                    NaN   \n",
       "owner                                Ultratech Cement ltd   \n",
       "source                               Ultratech Cement ltd   \n",
       "url                       http://www.ultratechcement.com/   \n",
       "geolocation_source                                    WRI   \n",
       "wepp_id                                               NaN   \n",
       "year_of_capacity_data                                 NaN   \n",
       "generation_gwh_2013                                   NaN   \n",
       "generation_gwh_2014                                   NaN   \n",
       "generation_gwh_2015                                   NaN   \n",
       "generation_gwh_2016                                   NaN   \n",
       "generation_gwh_2017                                   NaN   \n",
       "generation_gwh_2018                                   NaN   \n",
       "generation_gwh_2019                                   NaN   \n",
       "generation_data_source                                NaN   \n",
       "estimated_generation_gwh                              NaN   \n",
       "\n",
       "                                                                          2  \\\n",
       "country                                                                 IND   \n",
       "country_long                                                          India   \n",
       "name                                               AES Saurashtra Windfarms   \n",
       "gppd_idnr                                                        WRI1026669   \n",
       "capacity_mw                                                            39.2   \n",
       "latitude                                                            21.9038   \n",
       "longitude                                                           69.3732   \n",
       "primary_fuel                                                           Wind   \n",
       "other_fuel1                                                             NaN   \n",
       "other_fuel2                                                             NaN   \n",
       "other_fuel3                                                             NaN   \n",
       "commissioning_year                                                      NaN   \n",
       "owner                                                                   AES   \n",
       "source                                                                  CDM   \n",
       "url                       https://cdm.unfccc.int/Projects/DB/DNV-CUK1328...   \n",
       "geolocation_source                                                      WRI   \n",
       "wepp_id                                                                 NaN   \n",
       "year_of_capacity_data                                                   NaN   \n",
       "generation_gwh_2013                                                     NaN   \n",
       "generation_gwh_2014                                                     NaN   \n",
       "generation_gwh_2015                                                     NaN   \n",
       "generation_gwh_2016                                                     NaN   \n",
       "generation_gwh_2017                                                     NaN   \n",
       "generation_gwh_2018                                                     NaN   \n",
       "generation_gwh_2019                                                     NaN   \n",
       "generation_data_source                                                  NaN   \n",
       "estimated_generation_gwh                                                NaN   \n",
       "\n",
       "                                                      3  \\\n",
       "country                                             IND   \n",
       "country_long                                      India   \n",
       "name                                        AGARTALA GT   \n",
       "gppd_idnr                                    IND0000001   \n",
       "capacity_mw                                       135.0   \n",
       "latitude                                        23.8712   \n",
       "longitude                                       91.3602   \n",
       "primary_fuel                                        Gas   \n",
       "other_fuel1                                         NaN   \n",
       "other_fuel2                                         NaN   \n",
       "other_fuel3                                         NaN   \n",
       "commissioning_year                               2004.0   \n",
       "owner                                               NaN   \n",
       "source                    Central Electricity Authority   \n",
       "url                              http://www.cea.nic.in/   \n",
       "geolocation_source                                  WRI   \n",
       "wepp_id                                             NaN   \n",
       "year_of_capacity_data                            2019.0   \n",
       "generation_gwh_2013                                 NaN   \n",
       "generation_gwh_2014                          617.789264   \n",
       "generation_gwh_2015                             843.747   \n",
       "generation_gwh_2016                          886.004428   \n",
       "generation_gwh_2017                            663.7745   \n",
       "generation_gwh_2018                          626.239128   \n",
       "generation_gwh_2019                                 NaN   \n",
       "generation_data_source    Central Electricity Authority   \n",
       "estimated_generation_gwh                            NaN   \n",
       "\n",
       "                                                      4  \\\n",
       "country                                             IND   \n",
       "country_long                                      India   \n",
       "name                                       AKALTARA TPP   \n",
       "gppd_idnr                                    IND0000002   \n",
       "capacity_mw                                      1800.0   \n",
       "latitude                                        21.9603   \n",
       "longitude                                       82.4091   \n",
       "primary_fuel                                       Coal   \n",
       "other_fuel1                                         Oil   \n",
       "other_fuel2                                         NaN   \n",
       "other_fuel3                                         NaN   \n",
       "commissioning_year                               2015.0   \n",
       "owner                                               NaN   \n",
       "source                    Central Electricity Authority   \n",
       "url                              http://www.cea.nic.in/   \n",
       "geolocation_source                                  WRI   \n",
       "wepp_id                                             NaN   \n",
       "year_of_capacity_data                            2019.0   \n",
       "generation_gwh_2013                                 NaN   \n",
       "generation_gwh_2014                             3035.55   \n",
       "generation_gwh_2015                             5916.37   \n",
       "generation_gwh_2016                              6243.0   \n",
       "generation_gwh_2017                         5385.579736   \n",
       "generation_gwh_2018                              7279.0   \n",
       "generation_gwh_2019                                 NaN   \n",
       "generation_data_source    Central Electricity Authority   \n",
       "estimated_generation_gwh                            NaN   \n",
       "\n",
       "                                                      5  \\\n",
       "country                                             IND   \n",
       "country_long                                      India   \n",
       "name                                       AKRIMOTA LIG   \n",
       "gppd_idnr                                    IND0000003   \n",
       "capacity_mw                                       250.0   \n",
       "latitude                                        23.7689   \n",
       "longitude                                       68.6447   \n",
       "primary_fuel                                       Coal   \n",
       "other_fuel1                                         Oil   \n",
       "other_fuel2                                         NaN   \n",
       "other_fuel3                                         NaN   \n",
       "commissioning_year                               2005.0   \n",
       "owner                                               NaN   \n",
       "source                    Central Electricity Authority   \n",
       "url                              http://www.cea.nic.in/   \n",
       "geolocation_source                                  WRI   \n",
       "wepp_id                                             NaN   \n",
       "year_of_capacity_data                            2019.0   \n",
       "generation_gwh_2013                                 NaN   \n",
       "generation_gwh_2014                            1153.421   \n",
       "generation_gwh_2015                            1208.852   \n",
       "generation_gwh_2016                            1175.765   \n",
       "generation_gwh_2017                            1147.913   \n",
       "generation_gwh_2018                             976.655   \n",
       "generation_gwh_2019                                 NaN   \n",
       "generation_data_source    Central Electricity Authority   \n",
       "estimated_generation_gwh                            NaN   \n",
       "\n",
       "                                                      6  \\\n",
       "country                                             IND   \n",
       "country_long                                      India   \n",
       "name                                             ALIYAR   \n",
       "gppd_idnr                                    IND0000004   \n",
       "capacity_mw                                        60.0   \n",
       "latitude                                        10.4547   \n",
       "longitude                                       77.0078   \n",
       "primary_fuel                                      Hydro   \n",
       "other_fuel1                                         NaN   \n",
       "other_fuel2                                         NaN   \n",
       "other_fuel3                                         NaN   \n",
       "commissioning_year                               1970.0   \n",
       "owner                                               NaN   \n",
       "source                    Central Electricity Authority   \n",
       "url                              http://www.cea.nic.in/   \n",
       "geolocation_source                                  WRI   \n",
       "wepp_id                                             NaN   \n",
       "year_of_capacity_data                            2019.0   \n",
       "generation_gwh_2013                                 NaN   \n",
       "generation_gwh_2014                           157.55825   \n",
       "generation_gwh_2015                            152.1952   \n",
       "generation_gwh_2016                            61.42135   \n",
       "generation_gwh_2017                             89.6296   \n",
       "generation_gwh_2018                            48.32715   \n",
       "generation_gwh_2019                                 NaN   \n",
       "generation_data_source    Central Electricity Authority   \n",
       "estimated_generation_gwh                            NaN   \n",
       "\n",
       "                                                      7  \\\n",
       "country                                             IND   \n",
       "country_long                                      India   \n",
       "name                                    ALLAIN DUHANGAN   \n",
       "gppd_idnr                                    IND0000005   \n",
       "capacity_mw                                       192.0   \n",
       "latitude                                        32.2258   \n",
       "longitude                                        77.207   \n",
       "primary_fuel                                      Hydro   \n",
       "other_fuel1                                         NaN   \n",
       "other_fuel2                                         NaN   \n",
       "other_fuel3                                         NaN   \n",
       "commissioning_year                               2010.0   \n",
       "owner                                               NaN   \n",
       "source                    Central Electricity Authority   \n",
       "url                              http://www.cea.nic.in/   \n",
       "geolocation_source                                  WRI   \n",
       "wepp_id                                             NaN   \n",
       "year_of_capacity_data                            2019.0   \n",
       "generation_gwh_2013                                 NaN   \n",
       "generation_gwh_2014                            674.3911   \n",
       "generation_gwh_2015                            721.3352   \n",
       "generation_gwh_2016                            675.7244   \n",
       "generation_gwh_2017                           679.59495   \n",
       "generation_gwh_2018                           579.31885   \n",
       "generation_gwh_2019                                 NaN   \n",
       "generation_data_source    Central Electricity Authority   \n",
       "estimated_generation_gwh                            NaN   \n",
       "\n",
       "                                                      8  \\\n",
       "country                                             IND   \n",
       "country_long                                      India   \n",
       "name                                        ALMATTI DAM   \n",
       "gppd_idnr                                    IND0000006   \n",
       "capacity_mw                                       290.0   \n",
       "latitude                                          16.33   \n",
       "longitude                                       75.8863   \n",
       "primary_fuel                                      Hydro   \n",
       "other_fuel1                                         NaN   \n",
       "other_fuel2                                         NaN   \n",
       "other_fuel3                                         NaN   \n",
       "commissioning_year                               2004.0   \n",
       "owner                                               NaN   \n",
       "source                    Central Electricity Authority   \n",
       "url                              http://www.cea.nic.in/   \n",
       "geolocation_source                                  WRI   \n",
       "wepp_id                                             NaN   \n",
       "year_of_capacity_data                            2019.0   \n",
       "generation_gwh_2013                                 NaN   \n",
       "generation_gwh_2014                           480.59495   \n",
       "generation_gwh_2015                            144.4342   \n",
       "generation_gwh_2016                           402.02975   \n",
       "generation_gwh_2017                            439.3721   \n",
       "generation_gwh_2018                            406.3779   \n",
       "generation_gwh_2019                                 NaN   \n",
       "generation_data_source    Central Electricity Authority   \n",
       "estimated_generation_gwh                            NaN   \n",
       "\n",
       "                                                      9  \n",
       "country                                             IND  \n",
       "country_long                                      India  \n",
       "name                                        AMAR KANTAK  \n",
       "gppd_idnr                                    IND0000007  \n",
       "capacity_mw                                       210.0  \n",
       "latitude                                        23.1642  \n",
       "longitude                                       81.6373  \n",
       "primary_fuel                                       Coal  \n",
       "other_fuel1                                         Oil  \n",
       "other_fuel2                                         NaN  \n",
       "other_fuel3                                         NaN  \n",
       "commissioning_year                               2008.0  \n",
       "owner                                               NaN  \n",
       "source                    Central Electricity Authority  \n",
       "url                              http://www.cea.nic.in/  \n",
       "geolocation_source                                  WRI  \n",
       "wepp_id                                             NaN  \n",
       "year_of_capacity_data                            2019.0  \n",
       "generation_gwh_2013                                 NaN  \n",
       "generation_gwh_2014                            1887.904  \n",
       "generation_gwh_2015                            1643.046  \n",
       "generation_gwh_2016                            1338.093  \n",
       "generation_gwh_2017                            1563.457  \n",
       "generation_gwh_2018                             1487.88  \n",
       "generation_gwh_2019                                 NaN  \n",
       "generation_data_source    Central Electricity Authority  \n",
       "estimated_generation_gwh                            NaN  "
      ]
     },
     "execution_count": 5,
     "metadata": {},
     "output_type": "execute_result"
    }
   ],
   "source": [
    "df.head(10).T"
   ]
  },
  {
   "cell_type": "markdown",
   "id": "d8a322e5",
   "metadata": {},
   "source": [
    "Checking null values"
   ]
  },
  {
   "cell_type": "code",
   "execution_count": 6,
   "id": "53a56657",
   "metadata": {},
   "outputs": [
    {
     "data": {
      "text/plain": [
       "country                       0\n",
       "country_long                  0\n",
       "name                          0\n",
       "gppd_idnr                     0\n",
       "capacity_mw                   0\n",
       "latitude                     46\n",
       "longitude                    46\n",
       "primary_fuel                  0\n",
       "other_fuel1                 709\n",
       "other_fuel2                 906\n",
       "other_fuel3                 907\n",
       "commissioning_year          380\n",
       "owner                       565\n",
       "source                        0\n",
       "url                           0\n",
       "geolocation_source           19\n",
       "wepp_id                     907\n",
       "year_of_capacity_data       388\n",
       "generation_gwh_2013         907\n",
       "generation_gwh_2014         509\n",
       "generation_gwh_2015         485\n",
       "generation_gwh_2016         473\n",
       "generation_gwh_2017         467\n",
       "generation_gwh_2018         459\n",
       "generation_gwh_2019         907\n",
       "generation_data_source      458\n",
       "estimated_generation_gwh    907\n",
       "dtype: int64"
      ]
     },
     "execution_count": 6,
     "metadata": {},
     "output_type": "execute_result"
    }
   ],
   "source": [
    "df.isnull().sum()"
   ]
  },
  {
   "cell_type": "markdown",
   "id": "7989536e",
   "metadata": {},
   "source": [
    "As per the above observation we need to remove those columns who have most of the NaN values because filling those Nan values pridiction will not good. other_fuel-1,other_fuel-2,other_fuel_3, wepp_id,generation_gwh_2013,generation_gwh_2019,estimated_generation_gwh "
   ]
  },
  {
   "cell_type": "code",
   "execution_count": 7,
   "id": "c3cf9c54",
   "metadata": {},
   "outputs": [
    {
     "data": {
      "text/plain": [
       "country                       1\n",
       "country_long                  1\n",
       "name                        907\n",
       "gppd_idnr                   907\n",
       "capacity_mw                 361\n",
       "latitude                    836\n",
       "longitude                   827\n",
       "primary_fuel                  8\n",
       "other_fuel1                   3\n",
       "other_fuel2                   1\n",
       "other_fuel3                   0\n",
       "commissioning_year           73\n",
       "owner                       280\n",
       "source                      191\n",
       "url                         304\n",
       "geolocation_source            3\n",
       "wepp_id                       0\n",
       "year_of_capacity_data         1\n",
       "generation_gwh_2013           0\n",
       "generation_gwh_2014         371\n",
       "generation_gwh_2015         396\n",
       "generation_gwh_2016         403\n",
       "generation_gwh_2017         408\n",
       "generation_gwh_2018         410\n",
       "generation_gwh_2019           0\n",
       "generation_data_source        1\n",
       "estimated_generation_gwh      0\n",
       "dtype: int64"
      ]
     },
     "execution_count": 7,
     "metadata": {},
     "output_type": "execute_result"
    }
   ],
   "source": [
    "df.nunique()"
   ]
  },
  {
   "cell_type": "markdown",
   "id": "62be46d0",
   "metadata": {},
   "source": [
    "As per above observation remove other columns which has no use of, country(all same), country_long(all same),name(all unique values), gppd_idnr(all unique), generatio_data_source(all same), Year_of_capacity_data(all 1 values), url (has no use of at all)"
   ]
  },
  {
   "cell_type": "markdown",
   "id": "998f0bae",
   "metadata": {},
   "source": [
    "# Dropping those columns"
   ]
  },
  {
   "cell_type": "code",
   "execution_count": 8,
   "id": "d4ae7b3c",
   "metadata": {},
   "outputs": [],
   "source": [
    "df.drop(['other_fuel1','other_fuel2','other_fuel3', 'wepp_id','generation_gwh_2013','country','country_long','name','gppd_idnr','generation_data_source','year_of_capacity_data','url','generation_gwh_2019','estimated_generation_gwh'],axis=1,inplace=True)"
   ]
  },
  {
   "cell_type": "code",
   "execution_count": 9,
   "id": "ffd41ba6",
   "metadata": {},
   "outputs": [
    {
     "data": {
      "text/plain": [
       "(907, 13)"
      ]
     },
     "execution_count": 9,
     "metadata": {},
     "output_type": "execute_result"
    }
   ],
   "source": [
    "df.shape"
   ]
  },
  {
   "cell_type": "code",
   "execution_count": 10,
   "id": "3cae6f97",
   "metadata": {},
   "outputs": [
    {
     "data": {
      "text/plain": [
       "capacity_mw              0\n",
       "latitude                46\n",
       "longitude               46\n",
       "primary_fuel             0\n",
       "commissioning_year     380\n",
       "owner                  565\n",
       "source                   0\n",
       "geolocation_source      19\n",
       "generation_gwh_2014    509\n",
       "generation_gwh_2015    485\n",
       "generation_gwh_2016    473\n",
       "generation_gwh_2017    467\n",
       "generation_gwh_2018    459\n",
       "dtype: int64"
      ]
     },
     "execution_count": 10,
     "metadata": {},
     "output_type": "execute_result"
    }
   ],
   "source": [
    "df.isnull().sum()"
   ]
  },
  {
   "cell_type": "code",
   "execution_count": 11,
   "id": "22e352e3",
   "metadata": {},
   "outputs": [
    {
     "data": {
      "text/plain": [
       "<AxesSubplot:>"
      ]
     },
     "execution_count": 11,
     "metadata": {},
     "output_type": "execute_result"
    },
    {
     "data": {
      "image/png": "[encoded data removed]",
      "text/plain": [
       "<Figure size 432x288 with 2 Axes>"
      ]
     },
     "metadata": {
      "needs_background": "light"
     },
     "output_type": "display_data"
    }
   ],
   "source": [
    "sns.heatmap(df.isnull())"
   ]
  },
  {
   "cell_type": "markdown",
   "id": "9ba67e68",
   "metadata": {},
   "source": [
    "As per above observation it shows so many null values"
   ]
  },
  {
   "cell_type": "code",
   "execution_count": 12,
   "id": "2df25b9d",
   "metadata": {},
   "outputs": [
    {
     "data": {
      "text/plain": [
       "capacity_mw            float64\n",
       "latitude               float64\n",
       "longitude              float64\n",
       "primary_fuel            object\n",
       "commissioning_year     float64\n",
       "owner                   object\n",
       "source                  object\n",
       "geolocation_source      object\n",
       "generation_gwh_2014    float64\n",
       "generation_gwh_2015    float64\n",
       "generation_gwh_2016    float64\n",
       "generation_gwh_2017    float64\n",
       "generation_gwh_2018    float64\n",
       "dtype: object"
      ]
     },
     "execution_count": 12,
     "metadata": {},
     "output_type": "execute_result"
    }
   ],
   "source": [
    "df.dtypes"
   ]
  },
  {
   "cell_type": "markdown",
   "id": "d55d401b",
   "metadata": {},
   "source": [
    "# filling NaN values"
   ]
  },
  {
   "cell_type": "code",
   "execution_count": 13,
   "id": "af124d60",
   "metadata": {},
   "outputs": [],
   "source": [
    "import sklearn\n",
    "from sklearn.impute import SimpleImputer"
   ]
  },
  {
   "cell_type": "code",
   "execution_count": 14,
   "id": "4a0359e7",
   "metadata": {},
   "outputs": [],
   "source": [
    "imp=SimpleImputer(strategy='mean')\n",
    "df['latitude']=imp.fit_transform(df['latitude'].values.reshape(-1,1))"
   ]
  },
  {
   "cell_type": "code",
   "execution_count": 15,
   "id": "4471d460",
   "metadata": {},
   "outputs": [],
   "source": [
    "df['longitude']=imp.fit_transform(df['longitude'].values.reshape(-1,1))"
   ]
  },
  {
   "cell_type": "code",
   "execution_count": 16,
   "id": "f5ba84ba",
   "metadata": {},
   "outputs": [],
   "source": [
    "df['generation_gwh_2014']=imp.fit_transform(df['generation_gwh_2014'].values.reshape(-1,1))"
   ]
  },
  {
   "cell_type": "code",
   "execution_count": 17,
   "id": "cdcb27cb",
   "metadata": {},
   "outputs": [],
   "source": [
    "df['generation_gwh_2015']=imp.fit_transform(df['generation_gwh_2015'].values.reshape(-1,1))"
   ]
  },
  {
   "cell_type": "code",
   "execution_count": 18,
   "id": "4dd31c59",
   "metadata": {},
   "outputs": [],
   "source": [
    "df['generation_gwh_2016']=imp.fit_transform(df['generation_gwh_2016'].values.reshape(-1,1))"
   ]
  },
  {
   "cell_type": "code",
   "execution_count": 19,
   "id": "4801af21",
   "metadata": {},
   "outputs": [],
   "source": [
    "df['generation_gwh_2017']=imp.fit_transform(df['generation_gwh_2017'].values.reshape(-1,1))"
   ]
  },
  {
   "cell_type": "code",
   "execution_count": 20,
   "id": "6f5796cc",
   "metadata": {},
   "outputs": [],
   "source": [
    "df['generation_gwh_2018']=imp.fit_transform(df['generation_gwh_2018'].values.reshape(-1,1))"
   ]
  },
  {
   "cell_type": "code",
   "execution_count": 21,
   "id": "98b374bd",
   "metadata": {},
   "outputs": [],
   "source": [
    "imp1=SimpleImputer(strategy='most_frequent')"
   ]
  },
  {
   "cell_type": "code",
   "execution_count": 22,
   "id": "4238133d",
   "metadata": {},
   "outputs": [],
   "source": [
    "df['commissioning_year']=imp1.fit_transform(df['commissioning_year'].values.reshape(-1,1))"
   ]
  },
  {
   "cell_type": "code",
   "execution_count": 23,
   "id": "332f9af2",
   "metadata": {},
   "outputs": [],
   "source": [
    "df['owner']=imp1.fit_transform(df['owner'].values.reshape(-1,1))"
   ]
  },
  {
   "cell_type": "code",
   "execution_count": 24,
   "id": "5f8f3a67",
   "metadata": {},
   "outputs": [],
   "source": [
    "df['geolocation_source']=imp1.fit_transform(df['geolocation_source'].values.reshape(-1,1))"
   ]
  },
  {
   "cell_type": "code",
   "execution_count": 25,
   "id": "4a67834f",
   "metadata": {},
   "outputs": [
    {
     "data": {
      "text/plain": [
       "capacity_mw            0\n",
       "latitude               0\n",
       "longitude              0\n",
       "primary_fuel           0\n",
       "commissioning_year     0\n",
       "owner                  0\n",
       "source                 0\n",
       "geolocation_source     0\n",
       "generation_gwh_2014    0\n",
       "generation_gwh_2015    0\n",
       "generation_gwh_2016    0\n",
       "generation_gwh_2017    0\n",
       "generation_gwh_2018    0\n",
       "dtype: int64"
      ]
     },
     "execution_count": 25,
     "metadata": {},
     "output_type": "execute_result"
    }
   ],
   "source": [
    "df.isnull().sum()"
   ]
  },
  {
   "cell_type": "code",
   "execution_count": 26,
   "id": "7de41129",
   "metadata": {},
   "outputs": [
    {
     "data": {
      "text/plain": [
       "Coal       258\n",
       "Hydro      251\n",
       "Solar      127\n",
       "Wind       123\n",
       "Gas         69\n",
       "Biomass     50\n",
       "Oil         20\n",
       "Nuclear      9\n",
       "Name: primary_fuel, dtype: int64"
      ]
     },
     "execution_count": 26,
     "metadata": {},
     "output_type": "execute_result"
    },
    {
     "data": {
      "image/png": "[encoded data removed]",
      "text/plain": [
       "<Figure size 432x288 with 1 Axes>"
      ]
     },
     "metadata": {
      "needs_background": "light"
     },
     "output_type": "display_data"
    }
   ],
   "source": [
    "sns.countplot(x='primary_fuel',data=df)\n",
    "df['primary_fuel'].value_counts()"
   ]
  },
  {
   "cell_type": "markdown",
   "id": "3eca9ee9",
   "metadata": {},
   "source": [
    "As per above observation 258 power plant has coal as a primary_fuel, 251 has Hydro,127 has Solar, 123 has Wind, 69 has Gas,50 has Biomass, 20 has Oil and 9 has Nuclear as a primary fuel "
   ]
  },
  {
   "cell_type": "code",
   "execution_count": 27,
   "id": "8d913c30",
   "metadata": {},
   "outputs": [
    {
     "data": {
      "text/plain": [
       "Acc Acc ltd                                                    569\n",
       "Sterling Agro Industries ltd.                                    4\n",
       "Jk Cement ltd                                                    4\n",
       "Maharashtra State Power Generation Co Ltd (MAHAGENCO)            3\n",
       "Karnataka Power Corporation Limited                              3\n",
       "                                                              ... \n",
       "Sunkon Energy Private Limited                                    1\n",
       "West Bengal Energy Development Corporation Limited (WBEDCL)      1\n",
       "Energy Infratech Private Limited                                 1\n",
       "K. N. Ram                                                        1\n",
       "iEnergy Wind Farms                                               1\n",
       "Name: owner, Length: 280, dtype: int64"
      ]
     },
     "execution_count": 27,
     "metadata": {},
     "output_type": "execute_result"
    },
    {
     "data": {
      "image/png": "[encoded data removed]",
      "text/plain": [
       "<Figure size 432x288 with 1 Axes>"
      ]
     },
     "metadata": {
      "needs_background": "light"
     },
     "output_type": "display_data"
    }
   ],
   "source": [
    "sns.countplot(x='owner',data=df)\n",
    "df['owner'].value_counts()"
   ]
  },
  {
   "cell_type": "markdown",
   "id": "13a7be9f",
   "metadata": {},
   "source": [
    "As per above observation there are 280 non unique owners"
   ]
  },
  {
   "cell_type": "code",
   "execution_count": 28,
   "id": "7753d9be",
   "metadata": {},
   "outputs": [
    {
     "data": {
      "text/plain": [
       "Central Electricity Authority                                  519\n",
       "CDM                                                            124\n",
       "Lancosola                                                       10\n",
       "National Renewable Energy Laboratory                             8\n",
       "National Thermal Power Corporation (NTPC)                        6\n",
       "                                                              ... \n",
       "Harsha Engineers Limited                                         1\n",
       "Godawari Energy ltd                                              1\n",
       "Sunkon Energy Private Limited                                    1\n",
       "West Bengal Energy Development Corporation Limited (WBEDCL)      1\n",
       "Yashwantrao Krishna ssk                                          1\n",
       "Name: source, Length: 191, dtype: int64"
      ]
     },
     "execution_count": 28,
     "metadata": {},
     "output_type": "execute_result"
    },
    {
     "data": {
      "image/png": "[encoded data removed]",
      "text/plain": [
       "<Figure size 432x288 with 1 Axes>"
      ]
     },
     "metadata": {
      "needs_background": "light"
     },
     "output_type": "display_data"
    }
   ],
   "source": [
    "sns.countplot(x='source',data=df)\n",
    "df['source'].value_counts()"
   ]
  },
  {
   "cell_type": "markdown",
   "id": "50b91e28",
   "metadata": {},
   "source": [
    "As per above observation there are 191 non unique sources"
   ]
  },
  {
   "cell_type": "code",
   "execution_count": 29,
   "id": "5a5f58ce",
   "metadata": {},
   "outputs": [
    {
     "data": {
      "text/html": [
       "<div>\n",
       "<style scoped>\n",
       "    .dataframe tbody tr th:only-of-type {\n",
       "        vertical-align: middle;\n",
       "    }\n",
       "\n",
       "    .dataframe tbody tr th {\n",
       "        vertical-align: top;\n",
       "    }\n",
       "\n",
       "    .dataframe thead th {\n",
       "        text-align: right;\n",
       "    }\n",
       "</style>\n",
       "<table border=\"1\" class=\"dataframe\">\n",
       "  <thead>\n",
       "    <tr style=\"text-align: right;\">\n",
       "      <th></th>\n",
       "      <th>capacity_mw</th>\n",
       "      <th>latitude</th>\n",
       "      <th>longitude</th>\n",
       "      <th>commissioning_year</th>\n",
       "      <th>generation_gwh_2014</th>\n",
       "      <th>generation_gwh_2015</th>\n",
       "      <th>generation_gwh_2016</th>\n",
       "      <th>generation_gwh_2017</th>\n",
       "      <th>generation_gwh_2018</th>\n",
       "    </tr>\n",
       "  </thead>\n",
       "  <tbody>\n",
       "    <tr>\n",
       "      <th>count</th>\n",
       "      <td>907.000000</td>\n",
       "      <td>907.000000</td>\n",
       "      <td>907.000000</td>\n",
       "      <td>907.000000</td>\n",
       "      <td>907.000000</td>\n",
       "      <td>907.000000</td>\n",
       "      <td>907.000000</td>\n",
       "      <td>907.000000</td>\n",
       "      <td>907.000000</td>\n",
       "    </tr>\n",
       "    <tr>\n",
       "      <th>mean</th>\n",
       "      <td>326.223755</td>\n",
       "      <td>21.197918</td>\n",
       "      <td>77.464907</td>\n",
       "      <td>2004.594267</td>\n",
       "      <td>2431.823590</td>\n",
       "      <td>2428.226946</td>\n",
       "      <td>2467.936859</td>\n",
       "      <td>2547.759305</td>\n",
       "      <td>2600.804099</td>\n",
       "    </tr>\n",
       "    <tr>\n",
       "      <th>std</th>\n",
       "      <td>590.085456</td>\n",
       "      <td>6.079148</td>\n",
       "      <td>4.812291</td>\n",
       "      <td>15.734928</td>\n",
       "      <td>2665.338608</td>\n",
       "      <td>2859.349132</td>\n",
       "      <td>2877.890004</td>\n",
       "      <td>2921.502193</td>\n",
       "      <td>3030.808041</td>\n",
       "    </tr>\n",
       "    <tr>\n",
       "      <th>min</th>\n",
       "      <td>0.000000</td>\n",
       "      <td>8.168900</td>\n",
       "      <td>68.644700</td>\n",
       "      <td>1927.000000</td>\n",
       "      <td>0.000000</td>\n",
       "      <td>0.000000</td>\n",
       "      <td>0.000000</td>\n",
       "      <td>0.000000</td>\n",
       "      <td>0.000000</td>\n",
       "    </tr>\n",
       "    <tr>\n",
       "      <th>25%</th>\n",
       "      <td>16.725000</td>\n",
       "      <td>17.072000</td>\n",
       "      <td>74.388900</td>\n",
       "      <td>1998.000000</td>\n",
       "      <td>1211.362750</td>\n",
       "      <td>916.000000</td>\n",
       "      <td>896.500214</td>\n",
       "      <td>882.594850</td>\n",
       "      <td>824.842340</td>\n",
       "    </tr>\n",
       "    <tr>\n",
       "      <th>50%</th>\n",
       "      <td>59.200000</td>\n",
       "      <td>21.281800</td>\n",
       "      <td>76.979200</td>\n",
       "      <td>2014.000000</td>\n",
       "      <td>2431.823590</td>\n",
       "      <td>2428.226946</td>\n",
       "      <td>2467.936859</td>\n",
       "      <td>2547.759305</td>\n",
       "      <td>2600.804099</td>\n",
       "    </tr>\n",
       "    <tr>\n",
       "      <th>75%</th>\n",
       "      <td>385.250000</td>\n",
       "      <td>25.176450</td>\n",
       "      <td>79.206100</td>\n",
       "      <td>2015.000000</td>\n",
       "      <td>2431.823590</td>\n",
       "      <td>2428.226946</td>\n",
       "      <td>2467.936859</td>\n",
       "      <td>2547.759305</td>\n",
       "      <td>2600.804099</td>\n",
       "    </tr>\n",
       "    <tr>\n",
       "      <th>max</th>\n",
       "      <td>4760.000000</td>\n",
       "      <td>34.649000</td>\n",
       "      <td>95.408000</td>\n",
       "      <td>2018.000000</td>\n",
       "      <td>28127.000000</td>\n",
       "      <td>30539.000000</td>\n",
       "      <td>30015.000000</td>\n",
       "      <td>35116.000000</td>\n",
       "      <td>35136.000000</td>\n",
       "    </tr>\n",
       "  </tbody>\n",
       "</table>\n",
       "</div>"
      ],
      "text/plain": [
       "       capacity_mw    latitude   longitude  commissioning_year  \\\n",
       "count   907.000000  907.000000  907.000000          907.000000   \n",
       "mean    326.223755   21.197918   77.464907         2004.594267   \n",
       "std     590.085456    6.079148    4.812291           15.734928   \n",
       "min       0.000000    8.168900   68.644700         1927.000000   \n",
       "25%      16.725000   17.072000   74.388900         1998.000000   \n",
       "50%      59.200000   21.281800   76.979200         2014.000000   \n",
       "75%     385.250000   25.176450   79.206100         2015.000000   \n",
       "max    4760.000000   34.649000   95.408000         2018.000000   \n",
       "\n",
       "       generation_gwh_2014  generation_gwh_2015  generation_gwh_2016  \\\n",
       "count           907.000000           907.000000           907.000000   \n",
       "mean           2431.823590          2428.226946          2467.936859   \n",
       "std            2665.338608          2859.349132          2877.890004   \n",
       "min               0.000000             0.000000             0.000000   \n",
       "25%            1211.362750           916.000000           896.500214   \n",
       "50%            2431.823590          2428.226946          2467.936859   \n",
       "75%            2431.823590          2428.226946          2467.936859   \n",
       "max           28127.000000         30539.000000         30015.000000   \n",
       "\n",
       "       generation_gwh_2017  generation_gwh_2018  \n",
       "count           907.000000           907.000000  \n",
       "mean           2547.759305          2600.804099  \n",
       "std            2921.502193          3030.808041  \n",
       "min               0.000000             0.000000  \n",
       "25%             882.594850           824.842340  \n",
       "50%            2547.759305          2600.804099  \n",
       "75%            2547.759305          2600.804099  \n",
       "max           35116.000000         35136.000000  "
      ]
     },
     "execution_count": 29,
     "metadata": {},
     "output_type": "execute_result"
    }
   ],
   "source": [
    "df.describe()"
   ]
  },
  {
   "cell_type": "markdown",
   "id": "b6f7aee5",
   "metadata": {},
   "source": [
    "as per above observation the difference between min,25%,50%,75% and max has unequal differences so skewness is present in data"
   ]
  },
  {
   "cell_type": "markdown",
   "id": "389b865a",
   "metadata": {},
   "source": [
    "# Distribution of continuous columns"
   ]
  },
  {
   "cell_type": "code",
   "execution_count": 30,
   "id": "bf7156d5",
   "metadata": {},
   "outputs": [
    {
     "data": {
      "text/plain": [
       "<AxesSubplot:xlabel='capacity_mw', ylabel='Density'>"
      ]
     },
     "execution_count": 30,
     "metadata": {},
     "output_type": "execute_result"
    },
    {
     "data": {
      "image/png": "[encoded data removed]",
      "text/plain": [
       "<Figure size 432x288 with 1 Axes>"
      ]
     },
     "metadata": {
      "needs_background": "light"
     },
     "output_type": "display_data"
    }
   ],
   "source": [
    "sns.distplot(df['capacity_mw'], kde= True)"
   ]
  },
  {
   "cell_type": "code",
   "execution_count": 31,
   "id": "b237e2b1",
   "metadata": {},
   "outputs": [
    {
     "data": {
      "text/plain": [
       "<AxesSubplot:xlabel='latitude', ylabel='Density'>"
      ]
     },
     "execution_count": 31,
     "metadata": {},
     "output_type": "execute_result"
    },
    {
     "data": {
      "image/png": "[encoded data removed]",
      "text/plain": [
       "<Figure size 432x288 with 1 Axes>"
      ]
     },
     "metadata": {
      "needs_background": "light"
     },
     "output_type": "display_data"
    }
   ],
   "source": [
    "sns.distplot(df['latitude'], kde= True)"
   ]
  },
  {
   "cell_type": "code",
   "execution_count": 32,
   "id": "37cfbab6",
   "metadata": {},
   "outputs": [
    {
     "data": {
      "text/plain": [
       "<AxesSubplot:xlabel='longitude', ylabel='Density'>"
      ]
     },
     "execution_count": 32,
     "metadata": {},
     "output_type": "execute_result"
    },
    {
     "data": {
      "image/png": "[encoded data removed]",
      "text/plain": [
       "<Figure size 432x288 with 1 Axes>"
      ]
     },
     "metadata": {
      "needs_background": "light"
     },
     "output_type": "display_data"
    }
   ],
   "source": [
    "sns.distplot(df['longitude'], kde= True)"
   ]
  },
  {
   "cell_type": "code",
   "execution_count": 33,
   "id": "870c2132",
   "metadata": {},
   "outputs": [
    {
     "data": {
      "text/plain": [
       "<AxesSubplot:xlabel='generation_gwh_2014', ylabel='Density'>"
      ]
     },
     "execution_count": 33,
     "metadata": {},
     "output_type": "execute_result"
    },
    {
     "data": {
      "image/png": "[encoded data removed]",
      "text/plain": [
       "<Figure size 432x288 with 1 Axes>"
      ]
     },
     "metadata": {
      "needs_background": "light"
     },
     "output_type": "display_data"
    }
   ],
   "source": [
    "sns.distplot(df['generation_gwh_2014'], kde= True)"
   ]
  },
  {
   "cell_type": "code",
   "execution_count": 34,
   "id": "d7c741bb",
   "metadata": {},
   "outputs": [
    {
     "data": {
      "text/plain": [
       "<AxesSubplot:xlabel='generation_gwh_2015', ylabel='Density'>"
      ]
     },
     "execution_count": 34,
     "metadata": {},
     "output_type": "execute_result"
    },
    {
     "data": {
      "image/png": "[encoded data removed]",
      "text/plain": [
       "<Figure size 432x288 with 1 Axes>"
      ]
     },
     "metadata": {
      "needs_background": "light"
     },
     "output_type": "display_data"
    }
   ],
   "source": [
    "sns.distplot(df['generation_gwh_2015'], kde= True)"
   ]
  },
  {
   "cell_type": "code",
   "execution_count": 35,
   "id": "1e30944e",
   "metadata": {},
   "outputs": [
    {
     "data": {
      "text/plain": [
       "<AxesSubplot:xlabel='generation_gwh_2016', ylabel='Density'>"
      ]
     },
     "execution_count": 35,
     "metadata": {},
     "output_type": "execute_result"
    },
    {
     "data": {
      "image/png": "[encoded data removed]",
      "text/plain": [
       "<Figure size 432x288 with 1 Axes>"
      ]
     },
     "metadata": {
      "needs_background": "light"
     },
     "output_type": "display_data"
    }
   ],
   "source": [
    "sns.distplot(df['generation_gwh_2016'], kde= True)"
   ]
  },
  {
   "cell_type": "code",
   "execution_count": 36,
   "id": "54651c51",
   "metadata": {},
   "outputs": [
    {
     "data": {
      "text/plain": [
       "<AxesSubplot:xlabel='generation_gwh_2017', ylabel='Density'>"
      ]
     },
     "execution_count": 36,
     "metadata": {},
     "output_type": "execute_result"
    },
    {
     "data": {
      "image/png": "[encoded data removed]",
      "text/plain": [
       "<Figure size 432x288 with 1 Axes>"
      ]
     },
     "metadata": {
      "needs_background": "light"
     },
     "output_type": "display_data"
    }
   ],
   "source": [
    "sns.distplot(df['generation_gwh_2017'], kde= True)"
   ]
  },
  {
   "cell_type": "code",
   "execution_count": 37,
   "id": "f55b73cf",
   "metadata": {},
   "outputs": [
    {
     "data": {
      "text/plain": [
       "<AxesSubplot:xlabel='generation_gwh_2018', ylabel='Density'>"
      ]
     },
     "execution_count": 37,
     "metadata": {},
     "output_type": "execute_result"
    },
    {
     "data": {
      "image/png": "[encoded data removed]",
      "text/plain": [
       "<Figure size 432x288 with 1 Axes>"
      ]
     },
     "metadata": {
      "needs_background": "light"
     },
     "output_type": "display_data"
    }
   ],
   "source": [
    "sns.distplot(df['generation_gwh_2018'], kde= True)"
   ]
  },
  {
   "cell_type": "markdown",
   "id": "7f2f8c45",
   "metadata": {},
   "source": [
    "As per above distibution plot the skewness is present in data all normal distributions are either right skewed or left skewed."
   ]
  },
  {
   "cell_type": "code",
   "execution_count": 42,
   "id": "2113f2ee",
   "metadata": {
    "scrolled": true
   },
   "outputs": [
    {
     "data": {
      "text/plain": [
       "<AxesSubplot:xlabel='capacity_mw', ylabel='latitude'>"
      ]
     },
     "execution_count": 42,
     "metadata": {},
     "output_type": "execute_result"
    },
    {
     "data": {
      "image/png": "[encoded data removed]",
      "text/plain": [
       "<Figure size 432x288 with 1 Axes>"
      ]
     },
     "metadata": {
      "needs_background": "light"
     },
     "output_type": "display_data"
    }
   ],
   "source": [
    "sns.scatterplot(x='capacity_mw', y='latitude',data=df)"
   ]
  },
  {
   "cell_type": "code",
   "execution_count": 43,
   "id": "70b225cf",
   "metadata": {},
   "outputs": [
    {
     "data": {
      "text/plain": [
       "<AxesSubplot:xlabel='capacity_mw', ylabel='longitude'>"
      ]
     },
     "execution_count": 43,
     "metadata": {},
     "output_type": "execute_result"
    },
    {
     "data": {
      "image/png": "[encoded data removed]",
      "text/plain": [
       "<Figure size 432x288 with 1 Axes>"
      ]
     },
     "metadata": {
      "needs_background": "light"
     },
     "output_type": "display_data"
    }
   ],
   "source": [
    "sns.scatterplot(x='capacity_mw', y='longitude',data=df)"
   ]
  },
  {
   "cell_type": "markdown",
   "id": "03214fe0",
   "metadata": {},
   "source": [
    "Here as per above observations data is ighly spreaded under 1000 mw"
   ]
  },
  {
   "cell_type": "code",
   "execution_count": 44,
   "id": "ed3e7494",
   "metadata": {},
   "outputs": [
    {
     "data": {
      "text/plain": [
       "<AxesSubplot:xlabel='capacity_mw', ylabel='primary_fuel'>"
      ]
     },
     "execution_count": 44,
     "metadata": {},
     "output_type": "execute_result"
    },
    {
     "data": {
      "image/png": "[encoded data removed]",
      "text/plain": [
       "<Figure size 432x288 with 1 Axes>"
      ]
     },
     "metadata": {
      "needs_background": "light"
     },
     "output_type": "display_data"
    }
   ],
   "source": [
    "sns.scatterplot(x='capacity_mw', y='primary_fuel',data=df)"
   ]
  },
  {
   "cell_type": "markdown",
   "id": "a45792c2",
   "metadata": {},
   "source": [
    "As per the above observations coal is highlr distributed as compared to others."
   ]
  },
  {
   "cell_type": "code",
   "execution_count": 45,
   "id": "823201af",
   "metadata": {},
   "outputs": [
    {
     "data": {
      "text/plain": [
       "<AxesSubplot:xlabel='capacity_mw', ylabel='generation_gwh_2014'>"
      ]
     },
     "execution_count": 45,
     "metadata": {},
     "output_type": "execute_result"
    },
    {
     "data": {
      "image/png": "[encoded data removed]",
      "text/plain": [
       "<Figure size 432x288 with 1 Axes>"
      ]
     },
     "metadata": {
      "needs_background": "light"
     },
     "output_type": "display_data"
    }
   ],
   "source": [
    "sns.scatterplot(x='capacity_mw', y='generation_gwh_2014',data=df)"
   ]
  },
  {
   "cell_type": "markdown",
   "id": "16c614f3",
   "metadata": {},
   "source": [
    "As per above observatoion in year of 2014, no of hours increasing results the capacity increased."
   ]
  },
  {
   "cell_type": "code",
   "execution_count": 47,
   "id": "5002d3e6",
   "metadata": {},
   "outputs": [
    {
     "data": {
      "text/plain": [
       "<AxesSubplot:xlabel='capacity_mw', ylabel='generation_gwh_2015'>"
      ]
     },
     "execution_count": 47,
     "metadata": {},
     "output_type": "execute_result"
    },
    {
     "data": {
      "image/png": "[encoded data removed]",
      "text/plain": [
       "<Figure size 432x288 with 1 Axes>"
      ]
     },
     "metadata": {
      "needs_background": "light"
     },
     "output_type": "display_data"
    }
   ],
   "source": [
    "sns.scatterplot(x='capacity_mw', y='generation_gwh_2015',data=df)"
   ]
  },
  {
   "cell_type": "markdown",
   "id": "38ae7f76",
   "metadata": {},
   "source": [
    "As per above observatoion in year of 2015, no of hours increasing results the capacity increased."
   ]
  },
  {
   "cell_type": "code",
   "execution_count": 49,
   "id": "edf9308e",
   "metadata": {},
   "outputs": [
    {
     "data": {
      "text/plain": [
       "<AxesSubplot:xlabel='capacity_mw', ylabel='generation_gwh_2016'>"
      ]
     },
     "execution_count": 49,
     "metadata": {},
     "output_type": "execute_result"
    },
    {
     "data": {
      "image/png": "[encoded data removed]",
      "text/plain": [
       "<Figure size 432x288 with 1 Axes>"
      ]
     },
     "metadata": {
      "needs_background": "light"
     },
     "output_type": "display_data"
    }
   ],
   "source": [
    "sns.scatterplot(x='capacity_mw', y='generation_gwh_2016',data=df)"
   ]
  },
  {
   "cell_type": "markdown",
   "id": "cbae125a",
   "metadata": {},
   "source": [
    "As per above observatoion in year of 2016, no of hours increasing results the capacity increased."
   ]
  },
  {
   "cell_type": "code",
   "execution_count": 50,
   "id": "f303424f",
   "metadata": {},
   "outputs": [
    {
     "data": {
      "text/plain": [
       "<AxesSubplot:xlabel='capacity_mw', ylabel='generation_gwh_2017'>"
      ]
     },
     "execution_count": 50,
     "metadata": {},
     "output_type": "execute_result"
    },
    {
     "data": {
      "image/png": "[encoded data removed]",
      "text/plain": [
       "<Figure size 432x288 with 1 Axes>"
      ]
     },
     "metadata": {
      "needs_background": "light"
     },
     "output_type": "display_data"
    }
   ],
   "source": [
    "sns.scatterplot(x='capacity_mw', y='generation_gwh_2017',data=df)"
   ]
  },
  {
   "cell_type": "markdown",
   "id": "a2e6254e",
   "metadata": {},
   "source": [
    "As per above observatoion in year of 2017, no of hours increasing results the capacity increased."
   ]
  },
  {
   "cell_type": "code",
   "execution_count": 51,
   "id": "c7e6487e",
   "metadata": {},
   "outputs": [
    {
     "data": {
      "text/plain": [
       "<AxesSubplot:xlabel='capacity_mw', ylabel='generation_gwh_2018'>"
      ]
     },
     "execution_count": 51,
     "metadata": {},
     "output_type": "execute_result"
    },
    {
     "data": {
      "image/png": "[encoded data removed]",
      "text/plain": [
       "<Figure size 432x288 with 1 Axes>"
      ]
     },
     "metadata": {
      "needs_background": "light"
     },
     "output_type": "display_data"
    }
   ],
   "source": [
    "sns.scatterplot(x='capacity_mw', y='generation_gwh_2018',data=df)"
   ]
  },
  {
   "cell_type": "markdown",
   "id": "ce5009b9",
   "metadata": {},
   "source": [
    "As per above observatoion in year of 2018, no of hours increasing results the capacity increased."
   ]
  },
  {
   "cell_type": "code",
   "execution_count": 54,
   "id": "d4dddc7f",
   "metadata": {},
   "outputs": [
    {
     "data": {
      "text/plain": [
       "<AxesSubplot:xlabel='primary_fuel', ylabel='generation_gwh_2014'>"
      ]
     },
     "execution_count": 54,
     "metadata": {},
     "output_type": "execute_result"
    },
    {
     "data": {
      "image/png": "[encoded data removed]",
      "text/plain": [
       "<Figure size 432x288 with 1 Axes>"
      ]
     },
     "metadata": {
      "needs_background": "light"
     },
     "output_type": "display_data"
    }
   ],
   "source": [
    "sns.scatterplot(x='primary_fuel', y='generation_gwh_2014',data=df)"
   ]
  },
  {
   "cell_type": "markdown",
   "id": "12917608",
   "metadata": {},
   "source": [
    "As per above observation the highly used primary fuel is Coal. Nuclear and Hydro are second and third highest . solar,wind and biomass is very less used"
   ]
  },
  {
   "cell_type": "code",
   "execution_count": 56,
   "id": "d298009e",
   "metadata": {},
   "outputs": [
    {
     "data": {
      "text/plain": [
       "<AxesSubplot:xlabel='primary_fuel', ylabel='generation_gwh_2015'>"
      ]
     },
     "execution_count": 56,
     "metadata": {},
     "output_type": "execute_result"
    },
    {
     "data": {
      "image/png": "[encoded data removed]",
      "text/plain": [
       "<Figure size 432x288 with 1 Axes>"
      ]
     },
     "metadata": {
      "needs_background": "light"
     },
     "output_type": "display_data"
    }
   ],
   "source": [
    "sns.scatterplot(x='primary_fuel', y='generation_gwh_2015',data=df)"
   ]
  },
  {
   "cell_type": "markdown",
   "id": "d3834327",
   "metadata": {},
   "source": [
    "As per above observation the highly used primary fuel is Coal. Nuclear and Hydro are second and third highest . solar,wind and biomass is very less used"
   ]
  },
  {
   "cell_type": "code",
   "execution_count": 57,
   "id": "c9f1f0c1",
   "metadata": {},
   "outputs": [
    {
     "data": {
      "text/plain": [
       "<AxesSubplot:xlabel='primary_fuel', ylabel='generation_gwh_2016'>"
      ]
     },
     "execution_count": 57,
     "metadata": {},
     "output_type": "execute_result"
    },
    {
     "data": {
      "image/png": "[encoded data removed]",
      "text/plain": [
       "<Figure size 432x288 with 1 Axes>"
      ]
     },
     "metadata": {
      "needs_background": "light"
     },
     "output_type": "display_data"
    }
   ],
   "source": [
    "sns.scatterplot(x='primary_fuel', y='generation_gwh_2016',data=df)"
   ]
  },
  {
   "cell_type": "markdown",
   "id": "fe5b71cb",
   "metadata": {},
   "source": [
    "As per above observation the highly used primary fuel is Coal. Nuclear and Hydro are second and third highest . solar,wind and biomass is very less used"
   ]
  },
  {
   "cell_type": "code",
   "execution_count": 59,
   "id": "a2ad97a6",
   "metadata": {},
   "outputs": [
    {
     "data": {
      "text/plain": [
       "<AxesSubplot:xlabel='primary_fuel', ylabel='generation_gwh_2016'>"
      ]
     },
     "execution_count": 59,
     "metadata": {},
     "output_type": "execute_result"
    },
    {
     "data": {
      "image/png": "[encoded data removed]",
      "text/plain": [
       "<Figure size 432x288 with 1 Axes>"
      ]
     },
     "metadata": {
      "needs_background": "light"
     },
     "output_type": "display_data"
    }
   ],
   "source": [
    "sns.scatterplot(x='primary_fuel', y='generation_gwh_2016',data=df)"
   ]
  },
  {
   "cell_type": "markdown",
   "id": "7050d7ca",
   "metadata": {},
   "source": [
    "As per above observation the highly used primary fuel is Coal. Nuclear and Hydro are second and third highest . solar,wind and biomass is very less used"
   ]
  },
  {
   "cell_type": "code",
   "execution_count": 60,
   "id": "5b9a8492",
   "metadata": {},
   "outputs": [
    {
     "data": {
      "text/plain": [
       "<AxesSubplot:xlabel='primary_fuel', ylabel='generation_gwh_2017'>"
      ]
     },
     "execution_count": 60,
     "metadata": {},
     "output_type": "execute_result"
    },
    {
     "data": {
      "image/png": "[encoded data removed]",
      "text/plain": [
       "<Figure size 432x288 with 1 Axes>"
      ]
     },
     "metadata": {
      "needs_background": "light"
     },
     "output_type": "display_data"
    }
   ],
   "source": [
    "sns.scatterplot(x='primary_fuel', y='generation_gwh_2017',data=df)"
   ]
  },
  {
   "cell_type": "markdown",
   "id": "14fe6125",
   "metadata": {},
   "source": [
    "As per above observation the highly used primary fuel is Coal. Nuclear and Hydro are second and third highest . solar,wind and biomass is very less used"
   ]
  },
  {
   "cell_type": "code",
   "execution_count": 61,
   "id": "e283d130",
   "metadata": {},
   "outputs": [
    {
     "data": {
      "text/plain": [
       "<AxesSubplot:xlabel='primary_fuel', ylabel='generation_gwh_2018'>"
      ]
     },
     "execution_count": 61,
     "metadata": {},
     "output_type": "execute_result"
    },
    {
     "data": {
      "image/png": "[encoded data removed]",
      "text/plain": [
       "<Figure size 432x288 with 1 Axes>"
      ]
     },
     "metadata": {
      "needs_background": "light"
     },
     "output_type": "display_data"
    }
   ],
   "source": [
    "sns.scatterplot(x='primary_fuel', y='generation_gwh_2018',data=df)"
   ]
  },
  {
   "cell_type": "markdown",
   "id": "4a6e70a2",
   "metadata": {},
   "source": [
    "As per above observation the highly used primary fuel is Coal. Nuclear and Hydro are second and third highest . solar,wind and biomass is very less used"
   ]
  },
  {
   "cell_type": "markdown",
   "id": "6d262065",
   "metadata": {},
   "source": [
    "# Label Encoder"
   ]
  },
  {
   "cell_type": "code",
   "execution_count": 62,
   "id": "dea18a0f",
   "metadata": {},
   "outputs": [],
   "source": [
    "from sklearn.preprocessing import LabelEncoder\n",
    "enc = LabelEncoder()\n",
    "for i in df.columns:\n",
    "    if df[i].dtype == 'object':\n",
    "        df[i]= enc.fit_transform(df[i].values.reshape(-1,1))"
   ]
  },
  {
   "cell_type": "code",
   "execution_count": 63,
   "id": "919047e2",
   "metadata": {},
   "outputs": [
    {
     "data": {
      "text/plain": [
       "capacity_mw            float64\n",
       "latitude               float64\n",
       "longitude              float64\n",
       "primary_fuel             int32\n",
       "commissioning_year     float64\n",
       "owner                    int32\n",
       "source                   int32\n",
       "geolocation_source       int32\n",
       "generation_gwh_2014    float64\n",
       "generation_gwh_2015    float64\n",
       "generation_gwh_2016    float64\n",
       "generation_gwh_2017    float64\n",
       "generation_gwh_2018    float64\n",
       "dtype: object"
      ]
     },
     "execution_count": 63,
     "metadata": {},
     "output_type": "execute_result"
    }
   ],
   "source": [
    "df.dtypes"
   ]
  },
  {
   "cell_type": "code",
   "execution_count": 64,
   "id": "555165d2",
   "metadata": {},
   "outputs": [
    {
     "data": {
      "text/html": [
       "<div>\n",
       "<style scoped>\n",
       "    .dataframe tbody tr th:only-of-type {\n",
       "        vertical-align: middle;\n",
       "    }\n",
       "\n",
       "    .dataframe tbody tr th {\n",
       "        vertical-align: top;\n",
       "    }\n",
       "\n",
       "    .dataframe thead th {\n",
       "        text-align: right;\n",
       "    }\n",
       "</style>\n",
       "<table border=\"1\" class=\"dataframe\">\n",
       "  <thead>\n",
       "    <tr style=\"text-align: right;\">\n",
       "      <th></th>\n",
       "      <th>capacity_mw</th>\n",
       "      <th>latitude</th>\n",
       "      <th>longitude</th>\n",
       "      <th>primary_fuel</th>\n",
       "      <th>commissioning_year</th>\n",
       "      <th>owner</th>\n",
       "      <th>source</th>\n",
       "      <th>geolocation_source</th>\n",
       "      <th>generation_gwh_2014</th>\n",
       "      <th>generation_gwh_2015</th>\n",
       "      <th>generation_gwh_2016</th>\n",
       "      <th>generation_gwh_2017</th>\n",
       "      <th>generation_gwh_2018</th>\n",
       "    </tr>\n",
       "  </thead>\n",
       "  <tbody>\n",
       "    <tr>\n",
       "      <th>capacity_mw</th>\n",
       "      <td>1.000000</td>\n",
       "      <td>0.050984</td>\n",
       "      <td>0.195882</td>\n",
       "      <td>-0.380395</td>\n",
       "      <td>-0.004072</td>\n",
       "      <td>-3.110481e-01</td>\n",
       "      <td>-2.421218e-01</td>\n",
       "      <td>2.048653e-01</td>\n",
       "      <td>6.943503e-01</td>\n",
       "      <td>7.111899e-01</td>\n",
       "      <td>7.422211e-01</td>\n",
       "      <td>7.575852e-01</td>\n",
       "      <td>7.734556e-01</td>\n",
       "    </tr>\n",
       "    <tr>\n",
       "      <th>latitude</th>\n",
       "      <td>0.050984</td>\n",
       "      <td>1.000000</td>\n",
       "      <td>0.036362</td>\n",
       "      <td>-0.010204</td>\n",
       "      <td>0.034519</td>\n",
       "      <td>-7.118234e-02</td>\n",
       "      <td>5.592656e-02</td>\n",
       "      <td>-1.842751e-01</td>\n",
       "      <td>4.432124e-02</td>\n",
       "      <td>3.639795e-02</td>\n",
       "      <td>3.125609e-02</td>\n",
       "      <td>3.121240e-02</td>\n",
       "      <td>3.132625e-02</td>\n",
       "    </tr>\n",
       "    <tr>\n",
       "      <th>longitude</th>\n",
       "      <td>0.195882</td>\n",
       "      <td>0.036362</td>\n",
       "      <td>1.000000</td>\n",
       "      <td>-0.347948</td>\n",
       "      <td>-0.159025</td>\n",
       "      <td>-3.012853e-01</td>\n",
       "      <td>-2.393334e-01</td>\n",
       "      <td>2.523426e-01</td>\n",
       "      <td>1.147221e-02</td>\n",
       "      <td>1.881819e-02</td>\n",
       "      <td>3.920892e-02</td>\n",
       "      <td>3.967547e-02</td>\n",
       "      <td>3.777965e-02</td>\n",
       "    </tr>\n",
       "    <tr>\n",
       "      <th>primary_fuel</th>\n",
       "      <td>-0.380395</td>\n",
       "      <td>-0.010204</td>\n",
       "      <td>-0.347948</td>\n",
       "      <td>1.000000</td>\n",
       "      <td>0.164947</td>\n",
       "      <td>2.842958e-01</td>\n",
       "      <td>5.361263e-02</td>\n",
       "      <td>-4.832168e-01</td>\n",
       "      <td>-1.247688e-01</td>\n",
       "      <td>-1.248280e-01</td>\n",
       "      <td>-1.310514e-01</td>\n",
       "      <td>-1.320034e-01</td>\n",
       "      <td>-1.369831e-01</td>\n",
       "    </tr>\n",
       "    <tr>\n",
       "      <th>commissioning_year</th>\n",
       "      <td>-0.004072</td>\n",
       "      <td>0.034519</td>\n",
       "      <td>-0.159025</td>\n",
       "      <td>0.164947</td>\n",
       "      <td>1.000000</td>\n",
       "      <td>4.089166e-01</td>\n",
       "      <td>3.222222e-01</td>\n",
       "      <td>-2.599290e-01</td>\n",
       "      <td>1.100630e-01</td>\n",
       "      <td>1.218816e-01</td>\n",
       "      <td>1.411613e-01</td>\n",
       "      <td>1.413426e-01</td>\n",
       "      <td>1.442491e-01</td>\n",
       "    </tr>\n",
       "    <tr>\n",
       "      <th>owner</th>\n",
       "      <td>-0.311048</td>\n",
       "      <td>-0.071182</td>\n",
       "      <td>-0.301285</td>\n",
       "      <td>0.284296</td>\n",
       "      <td>0.408917</td>\n",
       "      <td>1.000000e+00</td>\n",
       "      <td>7.695825e-01</td>\n",
       "      <td>-3.848377e-01</td>\n",
       "      <td>-6.294944e-17</td>\n",
       "      <td>-4.253175e-17</td>\n",
       "      <td>2.693476e-17</td>\n",
       "      <td>6.221934e-17</td>\n",
       "      <td>4.713271e-17</td>\n",
       "    </tr>\n",
       "    <tr>\n",
       "      <th>source</th>\n",
       "      <td>-0.242122</td>\n",
       "      <td>0.055927</td>\n",
       "      <td>-0.239333</td>\n",
       "      <td>0.053613</td>\n",
       "      <td>0.322222</td>\n",
       "      <td>7.695825e-01</td>\n",
       "      <td>1.000000e+00</td>\n",
       "      <td>-5.057202e-01</td>\n",
       "      <td>-7.136539e-17</td>\n",
       "      <td>-2.160931e-17</td>\n",
       "      <td>-1.636718e-17</td>\n",
       "      <td>-6.157496e-20</td>\n",
       "      <td>1.092118e-17</td>\n",
       "    </tr>\n",
       "    <tr>\n",
       "      <th>geolocation_source</th>\n",
       "      <td>0.204865</td>\n",
       "      <td>-0.184275</td>\n",
       "      <td>0.252343</td>\n",
       "      <td>-0.483217</td>\n",
       "      <td>-0.259929</td>\n",
       "      <td>-3.848377e-01</td>\n",
       "      <td>-5.057202e-01</td>\n",
       "      <td>1.000000e+00</td>\n",
       "      <td>1.557310e-17</td>\n",
       "      <td>-6.339264e-18</td>\n",
       "      <td>1.115708e-17</td>\n",
       "      <td>-9.450976e-18</td>\n",
       "      <td>-1.048582e-17</td>\n",
       "    </tr>\n",
       "    <tr>\n",
       "      <th>generation_gwh_2014</th>\n",
       "      <td>0.694350</td>\n",
       "      <td>0.044321</td>\n",
       "      <td>0.011472</td>\n",
       "      <td>-0.124769</td>\n",
       "      <td>0.110063</td>\n",
       "      <td>-6.294944e-17</td>\n",
       "      <td>-7.136539e-17</td>\n",
       "      <td>1.557310e-17</td>\n",
       "      <td>1.000000e+00</td>\n",
       "      <td>9.535943e-01</td>\n",
       "      <td>9.258738e-01</td>\n",
       "      <td>8.916868e-01</td>\n",
       "      <td>8.849556e-01</td>\n",
       "    </tr>\n",
       "    <tr>\n",
       "      <th>generation_gwh_2015</th>\n",
       "      <td>0.711190</td>\n",
       "      <td>0.036398</td>\n",
       "      <td>0.018818</td>\n",
       "      <td>-0.124828</td>\n",
       "      <td>0.121882</td>\n",
       "      <td>-4.253175e-17</td>\n",
       "      <td>-2.160931e-17</td>\n",
       "      <td>-6.339264e-18</td>\n",
       "      <td>9.535943e-01</td>\n",
       "      <td>1.000000e+00</td>\n",
       "      <td>9.688877e-01</td>\n",
       "      <td>9.282425e-01</td>\n",
       "      <td>9.234611e-01</td>\n",
       "    </tr>\n",
       "    <tr>\n",
       "      <th>generation_gwh_2016</th>\n",
       "      <td>0.742221</td>\n",
       "      <td>0.031256</td>\n",
       "      <td>0.039209</td>\n",
       "      <td>-0.131051</td>\n",
       "      <td>0.141161</td>\n",
       "      <td>2.693476e-17</td>\n",
       "      <td>-1.636718e-17</td>\n",
       "      <td>1.115708e-17</td>\n",
       "      <td>9.258738e-01</td>\n",
       "      <td>9.688877e-01</td>\n",
       "      <td>1.000000e+00</td>\n",
       "      <td>9.646488e-01</td>\n",
       "      <td>9.571589e-01</td>\n",
       "    </tr>\n",
       "    <tr>\n",
       "      <th>generation_gwh_2017</th>\n",
       "      <td>0.757585</td>\n",
       "      <td>0.031212</td>\n",
       "      <td>0.039675</td>\n",
       "      <td>-0.132003</td>\n",
       "      <td>0.141343</td>\n",
       "      <td>6.221934e-17</td>\n",
       "      <td>-6.157496e-20</td>\n",
       "      <td>-9.450976e-18</td>\n",
       "      <td>8.916868e-01</td>\n",
       "      <td>9.282425e-01</td>\n",
       "      <td>9.646488e-01</td>\n",
       "      <td>1.000000e+00</td>\n",
       "      <td>9.826888e-01</td>\n",
       "    </tr>\n",
       "    <tr>\n",
       "      <th>generation_gwh_2018</th>\n",
       "      <td>0.773456</td>\n",
       "      <td>0.031326</td>\n",
       "      <td>0.037780</td>\n",
       "      <td>-0.136983</td>\n",
       "      <td>0.144249</td>\n",
       "      <td>4.713271e-17</td>\n",
       "      <td>1.092118e-17</td>\n",
       "      <td>-1.048582e-17</td>\n",
       "      <td>8.849556e-01</td>\n",
       "      <td>9.234611e-01</td>\n",
       "      <td>9.571589e-01</td>\n",
       "      <td>9.826888e-01</td>\n",
       "      <td>1.000000e+00</td>\n",
       "    </tr>\n",
       "  </tbody>\n",
       "</table>\n",
       "</div>"
      ],
      "text/plain": [
       "                     capacity_mw  latitude  longitude  primary_fuel  \\\n",
       "capacity_mw             1.000000  0.050984   0.195882     -0.380395   \n",
       "latitude                0.050984  1.000000   0.036362     -0.010204   \n",
       "longitude               0.195882  0.036362   1.000000     -0.347948   \n",
       "primary_fuel           -0.380395 -0.010204  -0.347948      1.000000   \n",
       "commissioning_year     -0.004072  0.034519  -0.159025      0.164947   \n",
       "owner                  -0.311048 -0.071182  -0.301285      0.284296   \n",
       "source                 -0.242122  0.055927  -0.239333      0.053613   \n",
       "geolocation_source      0.204865 -0.184275   0.252343     -0.483217   \n",
       "generation_gwh_2014     0.694350  0.044321   0.011472     -0.124769   \n",
       "generation_gwh_2015     0.711190  0.036398   0.018818     -0.124828   \n",
       "generation_gwh_2016     0.742221  0.031256   0.039209     -0.131051   \n",
       "generation_gwh_2017     0.757585  0.031212   0.039675     -0.132003   \n",
       "generation_gwh_2018     0.773456  0.031326   0.037780     -0.136983   \n",
       "\n",
       "                     commissioning_year         owner        source  \\\n",
       "capacity_mw                   -0.004072 -3.110481e-01 -2.421218e-01   \n",
       "latitude                       0.034519 -7.118234e-02  5.592656e-02   \n",
       "longitude                     -0.159025 -3.012853e-01 -2.393334e-01   \n",
       "primary_fuel                   0.164947  2.842958e-01  5.361263e-02   \n",
       "commissioning_year             1.000000  4.089166e-01  3.222222e-01   \n",
       "owner                          0.408917  1.000000e+00  7.695825e-01   \n",
       "source                         0.322222  7.695825e-01  1.000000e+00   \n",
       "geolocation_source            -0.259929 -3.848377e-01 -5.057202e-01   \n",
       "generation_gwh_2014            0.110063 -6.294944e-17 -7.136539e-17   \n",
       "generation_gwh_2015            0.121882 -4.253175e-17 -2.160931e-17   \n",
       "generation_gwh_2016            0.141161  2.693476e-17 -1.636718e-17   \n",
       "generation_gwh_2017            0.141343  6.221934e-17 -6.157496e-20   \n",
       "generation_gwh_2018            0.144249  4.713271e-17  1.092118e-17   \n",
       "\n",
       "                     geolocation_source  generation_gwh_2014  \\\n",
       "capacity_mw                2.048653e-01         6.943503e-01   \n",
       "latitude                  -1.842751e-01         4.432124e-02   \n",
       "longitude                  2.523426e-01         1.147221e-02   \n",
       "primary_fuel              -4.832168e-01        -1.247688e-01   \n",
       "commissioning_year        -2.599290e-01         1.100630e-01   \n",
       "owner                     -3.848377e-01        -6.294944e-17   \n",
       "source                    -5.057202e-01        -7.136539e-17   \n",
       "geolocation_source         1.000000e+00         1.557310e-17   \n",
       "generation_gwh_2014        1.557310e-17         1.000000e+00   \n",
       "generation_gwh_2015       -6.339264e-18         9.535943e-01   \n",
       "generation_gwh_2016        1.115708e-17         9.258738e-01   \n",
       "generation_gwh_2017       -9.450976e-18         8.916868e-01   \n",
       "generation_gwh_2018       -1.048582e-17         8.849556e-01   \n",
       "\n",
       "                     generation_gwh_2015  generation_gwh_2016  \\\n",
       "capacity_mw                 7.111899e-01         7.422211e-01   \n",
       "latitude                    3.639795e-02         3.125609e-02   \n",
       "longitude                   1.881819e-02         3.920892e-02   \n",
       "primary_fuel               -1.248280e-01        -1.310514e-01   \n",
       "commissioning_year          1.218816e-01         1.411613e-01   \n",
       "owner                      -4.253175e-17         2.693476e-17   \n",
       "source                     -2.160931e-17        -1.636718e-17   \n",
       "geolocation_source         -6.339264e-18         1.115708e-17   \n",
       "generation_gwh_2014         9.535943e-01         9.258738e-01   \n",
       "generation_gwh_2015         1.000000e+00         9.688877e-01   \n",
       "generation_gwh_2016         9.688877e-01         1.000000e+00   \n",
       "generation_gwh_2017         9.282425e-01         9.646488e-01   \n",
       "generation_gwh_2018         9.234611e-01         9.571589e-01   \n",
       "\n",
       "                     generation_gwh_2017  generation_gwh_2018  \n",
       "capacity_mw                 7.575852e-01         7.734556e-01  \n",
       "latitude                    3.121240e-02         3.132625e-02  \n",
       "longitude                   3.967547e-02         3.777965e-02  \n",
       "primary_fuel               -1.320034e-01        -1.369831e-01  \n",
       "commissioning_year          1.413426e-01         1.442491e-01  \n",
       "owner                       6.221934e-17         4.713271e-17  \n",
       "source                     -6.157496e-20         1.092118e-17  \n",
       "geolocation_source         -9.450976e-18        -1.048582e-17  \n",
       "generation_gwh_2014         8.916868e-01         8.849556e-01  \n",
       "generation_gwh_2015         9.282425e-01         9.234611e-01  \n",
       "generation_gwh_2016         9.646488e-01         9.571589e-01  \n",
       "generation_gwh_2017         1.000000e+00         9.826888e-01  \n",
       "generation_gwh_2018         9.826888e-01         1.000000e+00  "
      ]
     },
     "execution_count": 64,
     "metadata": {},
     "output_type": "execute_result"
    }
   ],
   "source": [
    "df.corr()"
   ]
  },
  {
   "cell_type": "code",
   "execution_count": 66,
   "id": "1fb95a6a",
   "metadata": {},
   "outputs": [
    {
     "data": {
      "text/plain": [
       "<AxesSubplot:>"
      ]
     },
     "execution_count": 66,
     "metadata": {},
     "output_type": "execute_result"
    },
    {
     "data": {
      "image/png": "[encoded data removed]",
      "text/plain": [
       "<Figure size 864x864 with 2 Axes>"
      ]
     },
     "metadata": {
      "needs_background": "light"
     },
     "output_type": "display_data"
    }
   ],
   "source": [
    "plt.figure(figsize=(12,12))\n",
    "sns.heatmap(df.corr(),annot= True, linewidth=1, linecolor='red', fmt='0.2f')"
   ]
  },
  {
   "cell_type": "markdown",
   "id": "be7ee39b",
   "metadata": {},
   "source": [
    "As per the above observations generation_gwh_2014,2015,2016,2017,2018 are highly coorelated with Capacity_mw and source,owner and fuel are negatively coorelated with capacity_mw but these are object data types. The less coorelated with capacity_mw is latitude"
   ]
  },
  {
   "cell_type": "markdown",
   "id": "335ad797",
   "metadata": {},
   "source": [
    "For Primary fuel owner is highly coorelated with primary_fuel which is object datatype gelocation_source,longitude and capacity_mw are negatively coorelated with primary_fuel"
   ]
  },
  {
   "cell_type": "markdown",
   "id": "ccaafca5",
   "metadata": {},
   "source": [
    "we can drop owner as not need for model performancr"
   ]
  },
  {
   "cell_type": "code",
   "execution_count": 69,
   "id": "1421b90d",
   "metadata": {},
   "outputs": [],
   "source": [
    "df.drop(['owner'], axis=1, inplace=True)"
   ]
  },
  {
   "cell_type": "code",
   "execution_count": 72,
   "id": "13c0dc4c",
   "metadata": {},
   "outputs": [
    {
     "name": "stdout",
     "output_type": "stream",
     "text": [
      "<class 'pandas.core.frame.DataFrame'>\n",
      "RangeIndex: 907 entries, 0 to 906\n",
      "Data columns (total 12 columns):\n",
      " #   Column               Non-Null Count  Dtype  \n",
      "---  ------               --------------  -----  \n",
      " 0   capacity_mw          907 non-null    float64\n",
      " 1   latitude             907 non-null    float64\n",
      " 2   longitude            907 non-null    float64\n",
      " 3   primary_fuel         907 non-null    int32  \n",
      " 4   commissioning_year   907 non-null    float64\n",
      " 5   source               907 non-null    int32  \n",
      " 6   geolocation_source   907 non-null    int32  \n",
      " 7   generation_gwh_2014  907 non-null    float64\n",
      " 8   generation_gwh_2015  907 non-null    float64\n",
      " 9   generation_gwh_2016  907 non-null    float64\n",
      " 10  generation_gwh_2017  907 non-null    float64\n",
      " 11  generation_gwh_2018  907 non-null    float64\n",
      "dtypes: float64(9), int32(3)\n",
      "memory usage: 74.5 KB\n"
     ]
    }
   ],
   "source": [
    "df.info()"
   ]
  },
  {
   "cell_type": "markdown",
   "id": "16580073",
   "metadata": {},
   "source": [
    "# Checking for outliers"
   ]
  },
  {
   "cell_type": "code",
   "execution_count": 67,
   "id": "23d3da2a",
   "metadata": {},
   "outputs": [
    {
     "data": {
      "image/png": "[encoded data removed]",
      "text/plain": [
       "<Figure size 432x288 with 1 Axes>"
      ]
     },
     "metadata": {
      "needs_background": "light"
     },
     "output_type": "display_data"
    },
    {
     "data": {
      "image/png": "[encoded data removed]",
      "text/plain": [
       "<Figure size 432x288 with 1 Axes>"
      ]
     },
     "metadata": {
      "needs_background": "light"
     },
     "output_type": "display_data"
    },
    {
     "data": {
      "image/png": "[encoded data removed]",
      "text/plain": [
       "<Figure size 432x288 with 1 Axes>"
      ]
     },
     "metadata": {
      "needs_background": "light"
     },
     "output_type": "display_data"
    },
    {
     "data": {
      "image/png": "[encoded data removed]",
      "text/plain": [
       "<Figure size 432x288 with 1 Axes>"
      ]
     },
     "metadata": {
      "needs_background": "light"
     },
     "output_type": "display_data"
    },
    {
     "data": {
      "image/png": "[encoded data removed]",
      "text/plain": [
       "<Figure size 432x288 with 1 Axes>"
      ]
     },
     "metadata": {
      "needs_background": "light"
     },
     "output_type": "display_data"
    },
    {
     "data": {
      "image/png": "[encoded data removed]",
      "text/plain": [
       "<Figure size 432x288 with 1 Axes>"
      ]
     },
     "metadata": {
      "needs_background": "light"
     },
     "output_type": "display_data"
    },
    {
     "data": {
      "image/png": "[encoded data removed]",
      "text/plain": [
       "<Figure size 432x288 with 1 Axes>"
      ]
     },
     "metadata": {
      "needs_background": "light"
     },
     "output_type": "display_data"
    },
    {
     "data": {
      "image/png": "[encoded data removed]",
      "text/plain": [
       "<Figure size 432x288 with 1 Axes>"
      ]
     },
     "metadata": {
      "needs_background": "light"
     },
     "output_type": "display_data"
    },
    {
     "data": {
      "image/png": "[encoded data removed]",
      "text/plain": [
       "<Figure size 432x288 with 1 Axes>"
      ]
     },
     "metadata": {
      "needs_background": "light"
     },
     "output_type": "display_data"
    },
    {
     "data": {
      "image/png": "[encoded data removed]",
      "text/plain": [
       "<Figure size 432x288 with 1 Axes>"
      ]
     },
     "metadata": {
      "needs_background": "light"
     },
     "output_type": "display_data"
    },
    {
     "data": {
      "image/png": "[encoded data removed]",
      "text/plain": [
       "<Figure size 432x288 with 1 Axes>"
      ]
     },
     "metadata": {
      "needs_background": "light"
     },
     "output_type": "display_data"
    },
    {
     "data": {
      "image/png": "[encoded data removed]",
      "text/plain": [
       "<Figure size 432x288 with 1 Axes>"
      ]
     },
     "metadata": {
      "needs_background": "light"
     },
     "output_type": "display_data"
    },
    {
     "data": {
      "image/png": "[encoded data removed]",
      "text/plain": [
       "<Figure size 432x288 with 1 Axes>"
      ]
     },
     "metadata": {
      "needs_background": "light"
     },
     "output_type": "display_data"
    }
   ],
   "source": [
    "for i in df:\n",
    "    plt.boxplot(df[i], labels= [i])\n",
    "    plt.show()"
   ]
  },
  {
   "cell_type": "markdown",
   "id": "fb3f5f1a",
   "metadata": {},
   "source": [
    "As per the above observation by boxplot we have found there are so many outliers present in data.Need to remove outliers for the best prediction of data."
   ]
  },
  {
   "cell_type": "markdown",
   "id": "2b300685",
   "metadata": {},
   "source": [
    "# Remove outliers form continuous values, removing outliers from object type values results loss of data with no benifits"
   ]
  },
  {
   "cell_type": "code",
   "execution_count": 78,
   "id": "a21dce44",
   "metadata": {},
   "outputs": [
    {
     "name": "stdout",
     "output_type": "stream",
     "text": [
      "(array([ 15,  15,  15,  15,  15, 143, 143, 143, 143, 143, 143, 147, 158,\n",
      "       179, 183, 209, 209, 209, 209, 209, 209, 244, 308, 308, 308, 308,\n",
      "       308, 308, 323, 333, 340, 360, 363, 364, 364, 364, 364, 364, 364,\n",
      "       375, 416, 427, 482, 493, 493, 493, 493, 493, 493, 494, 494, 494,\n",
      "       494, 494, 494, 499, 519, 546, 577, 638, 648, 648, 648, 648, 648,\n",
      "       648, 657, 657, 657, 657, 657, 657, 695, 695, 695, 695, 695, 695,\n",
      "       721, 721, 721, 721, 724, 724, 724, 724, 724, 726, 726, 726, 726,\n",
      "       726, 726, 767, 786, 786, 786, 786, 786, 786, 788, 808, 808, 808,\n",
      "       808, 808, 808, 818, 847, 880, 880, 880, 880, 880, 880], dtype=int64), array([1, 2, 3, 4, 6, 0, 1, 2, 3, 4, 6, 6, 0, 5, 5, 0, 1, 2, 3, 4, 6, 5,\n",
      "       0, 1, 2, 3, 4, 6, 5, 5, 5, 5, 6, 0, 1, 2, 3, 4, 6, 6, 5, 5, 6, 0,\n",
      "       1, 2, 3, 4, 6, 0, 1, 2, 3, 4, 6, 5, 5, 5, 5, 5, 0, 1, 2, 3, 4, 6,\n",
      "       0, 1, 2, 3, 4, 6, 0, 1, 2, 3, 4, 6, 0, 1, 2, 4, 0, 1, 2, 3, 4, 0,\n",
      "       1, 2, 3, 4, 6, 6, 0, 1, 2, 3, 4, 6, 6, 0, 1, 2, 3, 4, 6, 5, 5, 0,\n",
      "       1, 2, 3, 4, 6], dtype=int64))\n"
     ]
    }
   ],
   "source": [
    "from scipy.stats import zscore\n",
    "\n",
    "z=np.abs(zscore(df[['generation_gwh_2014','generation_gwh_2015','generation_gwh_2016','generation_gwh_2017','generation_gwh_2018','longitude','capacity_mw']]))\n",
    "print(np.where(z>3))"
   ]
  },
  {
   "cell_type": "code",
   "execution_count": 79,
   "id": "0c6a496e",
   "metadata": {},
   "outputs": [
    {
     "name": "stdout",
     "output_type": "stream",
     "text": [
      "with outliers:: (907, 12)\n",
      "After removing outliers:: (868, 12)\n"
     ]
    }
   ],
   "source": [
    "z = np.abs(zscore(df[['generation_gwh_2014','generation_gwh_2015','generation_gwh_2016','generation_gwh_2017','generation_gwh_2018','longitude','capacity_mw']]))\n",
    "threshold = 3\n",
    "df_new = df[(z<3).all(axis = 1)]\n",
    "\n",
    "print(\"with outliers::\",df.shape)\n",
    "print(\"After removing outliers::\",df_new.shape)"
   ]
  },
  {
   "cell_type": "code",
   "execution_count": 80,
   "id": "4b31c7fd",
   "metadata": {},
   "outputs": [
    {
     "name": "stdout",
     "output_type": "stream",
     "text": [
      "Percentage of data loss:  4.299889746416759\n"
     ]
    }
   ],
   "source": [
    "print (\"Percentage of data loss: \", ((907-868)/907)*100)"
   ]
  },
  {
   "cell_type": "code",
   "execution_count": 81,
   "id": "68588c01",
   "metadata": {},
   "outputs": [
    {
     "data": {
      "text/plain": [
       "capacity_mw            3.123576\n",
       "latitude              -0.149698\n",
       "longitude              1.141881\n",
       "primary_fuel           0.472251\n",
       "commissioning_year    -1.714873\n",
       "source                 1.827373\n",
       "geolocation_source    -2.159841\n",
       "generation_gwh_2014    5.035446\n",
       "generation_gwh_2015    5.364134\n",
       "generation_gwh_2016    5.068427\n",
       "generation_gwh_2017    5.110952\n",
       "generation_gwh_2018    4.937907\n",
       "dtype: float64"
      ]
     },
     "execution_count": 81,
     "metadata": {},
     "output_type": "execute_result"
    }
   ],
   "source": [
    "df.skew()"
   ]
  },
  {
   "cell_type": "markdown",
   "id": "3fd4c7a8",
   "metadata": {},
   "source": [
    "Skewness mor than +/-0.5 will be treated\n",
    "\n",
    "we will remove skewness from numerical data"
   ]
  },
  {
   "cell_type": "code",
   "execution_count": 83,
   "id": "738ffe9c",
   "metadata": {},
   "outputs": [],
   "source": [
    "from sklearn.preprocessing import power_transform\n",
    "\n",
    "df[['generation_gwh_2014','generation_gwh_2015','generation_gwh_2016','generation_gwh_2017','generation_gwh_2018','longitude','capacity_mw']]=power_transform(df[['generation_gwh_2014','generation_gwh_2015','generation_gwh_2016','generation_gwh_2017','generation_gwh_2018','longitude','capacity_mw']],method='yeo-johnson')"
   ]
  },
  {
   "cell_type": "code",
   "execution_count": 84,
   "id": "7861fada",
   "metadata": {},
   "outputs": [
    {
     "data": {
      "text/plain": [
       "capacity_mw            0.022164\n",
       "latitude              -0.149698\n",
       "longitude              0.002926\n",
       "primary_fuel           0.472251\n",
       "commissioning_year    -1.714873\n",
       "source                 1.827373\n",
       "geolocation_source    -2.159841\n",
       "generation_gwh_2014    0.123226\n",
       "generation_gwh_2015    0.074582\n",
       "generation_gwh_2016    0.041821\n",
       "generation_gwh_2017    0.018337\n",
       "generation_gwh_2018    0.000783\n",
       "dtype: float64"
      ]
     },
     "execution_count": 84,
     "metadata": {},
     "output_type": "execute_result"
    }
   ],
   "source": [
    "df.skew()"
   ]
  },
  {
   "cell_type": "markdown",
   "id": "008824cc",
   "metadata": {},
   "source": [
    "As per above observations skewness is handeled"
   ]
  },
  {
   "cell_type": "markdown",
   "id": "ecbcb600",
   "metadata": {},
   "source": [
    "# Splitting feature and target columns"
   ]
  },
  {
   "cell_type": "code",
   "execution_count": 85,
   "id": "582d60c7",
   "metadata": {},
   "outputs": [],
   "source": [
    "x=df.drop(['capacity_mw'],axis=1)\n",
    "y=df['capacity_mw']"
   ]
  },
  {
   "cell_type": "code",
   "execution_count": 86,
   "id": "3b6b1d89",
   "metadata": {},
   "outputs": [
    {
     "data": {
      "text/plain": [
       "(907, 11)"
      ]
     },
     "execution_count": 86,
     "metadata": {},
     "output_type": "execute_result"
    }
   ],
   "source": [
    "x.shape"
   ]
  },
  {
   "cell_type": "code",
   "execution_count": 87,
   "id": "ba67d083",
   "metadata": {},
   "outputs": [
    {
     "data": {
      "text/plain": [
       "(907,)"
      ]
     },
     "execution_count": 87,
     "metadata": {},
     "output_type": "execute_result"
    }
   ],
   "source": [
    "y.shape"
   ]
  },
  {
   "cell_type": "markdown",
   "id": "50bebd89",
   "metadata": {},
   "source": [
    "# Scaling the data using min max scaler"
   ]
  },
  {
   "cell_type": "code",
   "execution_count": 88,
   "id": "1f5774a6",
   "metadata": {},
   "outputs": [],
   "source": [
    "from sklearn.preprocessing import MinMaxScaler\n",
    "\n",
    "mn=MinMaxScaler()\n",
    "x=mn.fit_transform(x)"
   ]
  },
  {
   "cell_type": "markdown",
   "id": "51e7efb0",
   "metadata": {},
   "source": [
    "# Importing Models"
   ]
  },
  {
   "cell_type": "code",
   "execution_count": 94,
   "id": "1312bd52",
   "metadata": {},
   "outputs": [],
   "source": [
    "import sklearn\n",
    "from sklearn.model_selection import train_test_split\n",
    "from sklearn.neighbors import KNeighborsRegressor\n",
    "from sklearn.tree import DecisionTreeRegressor\n",
    "from sklearn.ensemble import RandomForestRegressor\n",
    "from sklearn.ensemble import AdaBoostRegressor\n",
    "from sklearn.linear_model import Ridge, Lasso\n",
    "from sklearn.metrics import mean_squared_error,mean_absolute_error\n",
    "from sklearn.metrics import r2_score"
   ]
  },
  {
   "cell_type": "code",
   "execution_count": 90,
   "id": "53798ea8",
   "metadata": {},
   "outputs": [
    {
     "data": {
      "text/plain": [
       "[KNeighborsRegressor(n_neighbors=2),\n",
       " DecisionTreeRegressor(),\n",
       " RandomForestRegressor(),\n",
       " AdaBoostRegressor(),\n",
       " Ridge()]"
      ]
     },
     "execution_count": 90,
     "metadata": {},
     "output_type": "execute_result"
    }
   ],
   "source": [
    "ne = KNeighborsRegressor(n_neighbors=2)\n",
    "dt = DecisionTreeRegressor()\n",
    "rf= RandomForestRegressor(n_estimators=100)\n",
    "ab= AdaBoostRegressor()\n",
    "rd= Ridge()\n",
    "mod = [ne, dt, rf, ab, rd]\n",
    "mod"
   ]
  },
  {
   "cell_type": "code",
   "execution_count": 95,
   "id": "b5933055",
   "metadata": {},
   "outputs": [
    {
     "name": "stdout",
     "output_type": "stream",
     "text": [
      "For Model KNeighborsRegressor(n_neighbors=2) At random state 0, the training accuracy is: 0.8987035076596285\n",
      "For Model KNeighborsRegressor(n_neighbors=2) At random state 0, the testing accuracy is: 0.7577905854304876\n",
      "\n",
      "\n",
      "For Model KNeighborsRegressor(n_neighbors=2) At random state 1, the training accuracy is: 0.8996885949969057\n",
      "For Model KNeighborsRegressor(n_neighbors=2) At random state 1, the testing accuracy is: 0.6434500327252575\n",
      "\n",
      "\n",
      "For Model KNeighborsRegressor(n_neighbors=2) At random state 2, the training accuracy is: 0.8989900164567945\n",
      "For Model KNeighborsRegressor(n_neighbors=2) At random state 2, the testing accuracy is: 0.6164746509643476\n",
      "\n",
      "\n",
      "For Model KNeighborsRegressor(n_neighbors=2) At random state 3, the training accuracy is: 0.8980106241844157\n",
      "For Model KNeighborsRegressor(n_neighbors=2) At random state 3, the testing accuracy is: 0.725816713081811\n",
      "\n",
      "\n",
      "For Model KNeighborsRegressor(n_neighbors=2) At random state 4, the training accuracy is: 0.8998278937189115\n",
      "For Model KNeighborsRegressor(n_neighbors=2) At random state 4, the testing accuracy is: 0.7596531685669922\n",
      "\n",
      "\n",
      "For Model KNeighborsRegressor(n_neighbors=2) At random state 5, the training accuracy is: 0.8824876920763008\n",
      "For Model KNeighborsRegressor(n_neighbors=2) At random state 5, the testing accuracy is: 0.6952894528425433\n",
      "\n",
      "\n",
      "For Model KNeighborsRegressor(n_neighbors=2) At random state 6, the training accuracy is: 0.8997112471486637\n",
      "For Model KNeighborsRegressor(n_neighbors=2) At random state 6, the testing accuracy is: 0.6747216807206561\n",
      "\n",
      "\n",
      "For Model KNeighborsRegressor(n_neighbors=2) At random state 7, the training accuracy is: 0.8866978300176398\n",
      "For Model KNeighborsRegressor(n_neighbors=2) At random state 7, the testing accuracy is: 0.7263862067740687\n",
      "\n",
      "\n",
      "For Model KNeighborsRegressor(n_neighbors=2) At random state 8, the training accuracy is: 0.8890778350205892\n",
      "For Model KNeighborsRegressor(n_neighbors=2) At random state 8, the testing accuracy is: 0.6899243907920896\n",
      "\n",
      "\n",
      "For Model KNeighborsRegressor(n_neighbors=2) At random state 9, the training accuracy is: 0.8908896802226988\n",
      "For Model KNeighborsRegressor(n_neighbors=2) At random state 9, the testing accuracy is: 0.7191181432685414\n",
      "\n",
      "\n",
      "For Model KNeighborsRegressor(n_neighbors=2) At random state 10, the training accuracy is: 0.8995802895078839\n",
      "For Model KNeighborsRegressor(n_neighbors=2) At random state 10, the testing accuracy is: 0.6932561487708218\n",
      "\n",
      "\n",
      "For Model KNeighborsRegressor(n_neighbors=2) At random state 11, the training accuracy is: 0.8899228128691994\n",
      "For Model KNeighborsRegressor(n_neighbors=2) At random state 11, the testing accuracy is: 0.7367356984393212\n",
      "\n",
      "\n",
      "For Model KNeighborsRegressor(n_neighbors=2) At random state 12, the training accuracy is: 0.8986250786510743\n",
      "For Model KNeighborsRegressor(n_neighbors=2) At random state 12, the testing accuracy is: 0.6459358478136856\n",
      "\n",
      "\n",
      "For Model KNeighborsRegressor(n_neighbors=2) At random state 13, the training accuracy is: 0.8987864366844119\n",
      "For Model KNeighborsRegressor(n_neighbors=2) At random state 13, the testing accuracy is: 0.6459282305005527\n",
      "\n",
      "\n",
      "For Model KNeighborsRegressor(n_neighbors=2) At random state 14, the training accuracy is: 0.9008796229220217\n",
      "For Model KNeighborsRegressor(n_neighbors=2) At random state 14, the testing accuracy is: 0.631517859746954\n",
      "\n",
      "\n",
      "For Model KNeighborsRegressor(n_neighbors=2) At random state 15, the training accuracy is: 0.8955335831261417\n",
      "For Model KNeighborsRegressor(n_neighbors=2) At random state 15, the testing accuracy is: 0.7063930095846158\n",
      "\n",
      "\n",
      "For Model KNeighborsRegressor(n_neighbors=2) At random state 16, the training accuracy is: 0.9096242700189316\n",
      "For Model KNeighborsRegressor(n_neighbors=2) At random state 16, the testing accuracy is: 0.5239897641165268\n",
      "\n",
      "\n",
      "For Model KNeighborsRegressor(n_neighbors=2) At random state 17, the training accuracy is: 0.8938387696211761\n",
      "For Model KNeighborsRegressor(n_neighbors=2) At random state 17, the testing accuracy is: 0.6589112621078662\n",
      "\n",
      "\n",
      "For Model KNeighborsRegressor(n_neighbors=2) At random state 18, the training accuracy is: 0.8885420484140805\n",
      "For Model KNeighborsRegressor(n_neighbors=2) At random state 18, the testing accuracy is: 0.7193268319882914\n",
      "\n",
      "\n",
      "For Model KNeighborsRegressor(n_neighbors=2) At random state 19, the training accuracy is: 0.9034426493146593\n",
      "For Model KNeighborsRegressor(n_neighbors=2) At random state 19, the testing accuracy is: 0.6789408856747465\n",
      "\n",
      "\n",
      "For Model KNeighborsRegressor(n_neighbors=2) At random state 20, the training accuracy is: 0.9015720032033796\n",
      "For Model KNeighborsRegressor(n_neighbors=2) At random state 20, the testing accuracy is: 0.6134966311613981\n",
      "\n",
      "\n",
      "For Model KNeighborsRegressor(n_neighbors=2) At random state 21, the training accuracy is: 0.9043634949641917\n",
      "For Model KNeighborsRegressor(n_neighbors=2) At random state 21, the testing accuracy is: 0.5589161711248787\n",
      "\n",
      "\n",
      "For Model KNeighborsRegressor(n_neighbors=2) At random state 22, the training accuracy is: 0.9045773722191944\n",
      "For Model KNeighborsRegressor(n_neighbors=2) At random state 22, the testing accuracy is: 0.5713045342897782\n",
      "\n",
      "\n",
      "For Model KNeighborsRegressor(n_neighbors=2) At random state 23, the training accuracy is: 0.9063305818451204\n",
      "For Model KNeighborsRegressor(n_neighbors=2) At random state 23, the testing accuracy is: 0.6271237785397721\n",
      "\n",
      "\n",
      "For Model KNeighborsRegressor(n_neighbors=2) At random state 24, the training accuracy is: 0.9093666240897886\n",
      "For Model KNeighborsRegressor(n_neighbors=2) At random state 24, the testing accuracy is: 0.6511334562451733\n",
      "\n",
      "\n",
      "For Model KNeighborsRegressor(n_neighbors=2) At random state 25, the training accuracy is: 0.904115150243203\n",
      "For Model KNeighborsRegressor(n_neighbors=2) At random state 25, the testing accuracy is: 0.5817325537339069\n",
      "\n",
      "\n",
      "For Model KNeighborsRegressor(n_neighbors=2) At random state 26, the training accuracy is: 0.9056293641155296\n",
      "For Model KNeighborsRegressor(n_neighbors=2) At random state 26, the testing accuracy is: 0.6759553476084947\n",
      "\n",
      "\n",
      "For Model KNeighborsRegressor(n_neighbors=2) At random state 27, the training accuracy is: 0.8892075976125257\n",
      "For Model KNeighborsRegressor(n_neighbors=2) At random state 27, the testing accuracy is: 0.7286976876246173\n",
      "\n",
      "\n",
      "For Model KNeighborsRegressor(n_neighbors=2) At random state 28, the training accuracy is: 0.8917264125035994\n",
      "For Model KNeighborsRegressor(n_neighbors=2) At random state 28, the testing accuracy is: 0.7254775245236136\n",
      "\n",
      "\n",
      "For Model KNeighborsRegressor(n_neighbors=2) At random state 29, the training accuracy is: 0.8943757279248619\n",
      "For Model KNeighborsRegressor(n_neighbors=2) At random state 29, the testing accuracy is: 0.6690380917101985\n",
      "\n",
      "\n",
      "For Model KNeighborsRegressor(n_neighbors=2) At random state 30, the training accuracy is: 0.8879163534819144\n",
      "For Model KNeighborsRegressor(n_neighbors=2) At random state 30, the testing accuracy is: 0.6561368186270164\n",
      "\n",
      "\n",
      "For Model KNeighborsRegressor(n_neighbors=2) At random state 31, the training accuracy is: 0.8954505708116899\n",
      "For Model KNeighborsRegressor(n_neighbors=2) At random state 31, the testing accuracy is: 0.7182780102257265\n",
      "\n",
      "\n",
      "For Model KNeighborsRegressor(n_neighbors=2) At random state 32, the training accuracy is: 0.8957592216442267\n",
      "For Model KNeighborsRegressor(n_neighbors=2) At random state 32, the testing accuracy is: 0.6306245951415519\n",
      "\n",
      "\n",
      "For Model KNeighborsRegressor(n_neighbors=2) At random state 33, the training accuracy is: 0.9093031870485684\n",
      "For Model KNeighborsRegressor(n_neighbors=2) At random state 33, the testing accuracy is: 0.5698156573790469\n",
      "\n",
      "\n",
      "For Model KNeighborsRegressor(n_neighbors=2) At random state 34, the training accuracy is: 0.8924317660044405\n",
      "For Model KNeighborsRegressor(n_neighbors=2) At random state 34, the testing accuracy is: 0.716620947017944\n",
      "\n",
      "\n",
      "For Model KNeighborsRegressor(n_neighbors=2) At random state 35, the training accuracy is: 0.8972698593581085\n",
      "For Model KNeighborsRegressor(n_neighbors=2) At random state 35, the testing accuracy is: 0.6501726230054719\n",
      "\n",
      "\n",
      "For Model KNeighborsRegressor(n_neighbors=2) At random state 36, the training accuracy is: 0.8947133475140295\n",
      "For Model KNeighborsRegressor(n_neighbors=2) At random state 36, the testing accuracy is: 0.6764719081574588\n",
      "\n",
      "\n",
      "For Model KNeighborsRegressor(n_neighbors=2) At random state 37, the training accuracy is: 0.8992499531650305\n",
      "For Model KNeighborsRegressor(n_neighbors=2) At random state 37, the testing accuracy is: 0.6481383101787492\n",
      "\n",
      "\n",
      "For Model KNeighborsRegressor(n_neighbors=2) At random state 38, the training accuracy is: 0.8989190534989759\n",
      "For Model KNeighborsRegressor(n_neighbors=2) At random state 38, the testing accuracy is: 0.7278007382903149\n",
      "\n",
      "\n",
      "For Model KNeighborsRegressor(n_neighbors=2) At random state 39, the training accuracy is: 0.9003575398064916\n",
      "For Model KNeighborsRegressor(n_neighbors=2) At random state 39, the testing accuracy is: 0.6271313616539567\n",
      "\n",
      "\n",
      "For Model KNeighborsRegressor(n_neighbors=2) At random state 40, the training accuracy is: 0.8897830873903055\n",
      "For Model KNeighborsRegressor(n_neighbors=2) At random state 40, the testing accuracy is: 0.6838513437556053\n",
      "\n",
      "\n",
      "For Model KNeighborsRegressor(n_neighbors=2) At random state 41, the training accuracy is: 0.8953682619284314\n",
      "For Model KNeighborsRegressor(n_neighbors=2) At random state 41, the testing accuracy is: 0.6018859117565871\n",
      "\n",
      "\n",
      "For Model KNeighborsRegressor(n_neighbors=2) At random state 42, the training accuracy is: 0.8990442160371022\n",
      "For Model KNeighborsRegressor(n_neighbors=2) At random state 42, the testing accuracy is: 0.7077124183814206\n",
      "\n",
      "\n",
      "For Model KNeighborsRegressor(n_neighbors=2) At random state 43, the training accuracy is: 0.8999160224451621\n",
      "For Model KNeighborsRegressor(n_neighbors=2) At random state 43, the testing accuracy is: 0.7179324677216837\n",
      "\n",
      "\n",
      "For Model KNeighborsRegressor(n_neighbors=2) At random state 44, the training accuracy is: 0.8948552335326413\n",
      "For Model KNeighborsRegressor(n_neighbors=2) At random state 44, the testing accuracy is: 0.7254065336179454\n",
      "\n",
      "\n",
      "For Model KNeighborsRegressor(n_neighbors=2) At random state 45, the training accuracy is: 0.8857760680549844\n",
      "For Model KNeighborsRegressor(n_neighbors=2) At random state 45, the testing accuracy is: 0.6140064627751078\n",
      "\n",
      "\n",
      "For Model KNeighborsRegressor(n_neighbors=2) At random state 46, the training accuracy is: 0.8977709408903922\n",
      "For Model KNeighborsRegressor(n_neighbors=2) At random state 46, the testing accuracy is: 0.6700956101511543\n",
      "\n",
      "\n",
      "For Model KNeighborsRegressor(n_neighbors=2) At random state 47, the training accuracy is: 0.8972071556243689\n",
      "For Model KNeighborsRegressor(n_neighbors=2) At random state 47, the testing accuracy is: 0.7145890671870984\n",
      "\n",
      "\n"
     ]
    },
    {
     "name": "stdout",
     "output_type": "stream",
     "text": [
      "For Model KNeighborsRegressor(n_neighbors=2) At random state 48, the training accuracy is: 0.900855920194393\n",
      "For Model KNeighborsRegressor(n_neighbors=2) At random state 48, the testing accuracy is: 0.6284808970984943\n",
      "\n",
      "\n",
      "For Model KNeighborsRegressor(n_neighbors=2) At random state 49, the training accuracy is: 0.8980332482866619\n",
      "For Model KNeighborsRegressor(n_neighbors=2) At random state 49, the testing accuracy is: 0.605950188716923\n",
      "\n",
      "\n",
      "For Model KNeighborsRegressor(n_neighbors=2) At random state 50, the training accuracy is: 0.8925905757529355\n",
      "For Model KNeighborsRegressor(n_neighbors=2) At random state 50, the testing accuracy is: 0.6413505062985995\n",
      "\n",
      "\n",
      "For Model KNeighborsRegressor(n_neighbors=2) At random state 51, the training accuracy is: 0.9101192242730833\n",
      "For Model KNeighborsRegressor(n_neighbors=2) At random state 51, the testing accuracy is: 0.5933708552818826\n",
      "\n",
      "\n",
      "For Model KNeighborsRegressor(n_neighbors=2) At random state 52, the training accuracy is: 0.8975767651880924\n",
      "For Model KNeighborsRegressor(n_neighbors=2) At random state 52, the testing accuracy is: 0.5845746456705361\n",
      "\n",
      "\n",
      "For Model KNeighborsRegressor(n_neighbors=2) At random state 53, the training accuracy is: 0.8957256989450226\n",
      "For Model KNeighborsRegressor(n_neighbors=2) At random state 53, the testing accuracy is: 0.6486672745494283\n",
      "\n",
      "\n",
      "For Model KNeighborsRegressor(n_neighbors=2) At random state 54, the training accuracy is: 0.8981258276255569\n",
      "For Model KNeighborsRegressor(n_neighbors=2) At random state 54, the testing accuracy is: 0.5431214827833845\n",
      "\n",
      "\n",
      "For Model KNeighborsRegressor(n_neighbors=2) At random state 55, the training accuracy is: 0.8909102035873762\n",
      "For Model KNeighborsRegressor(n_neighbors=2) At random state 55, the testing accuracy is: 0.7186657721986089\n",
      "\n",
      "\n",
      "For Model KNeighborsRegressor(n_neighbors=2) At random state 56, the training accuracy is: 0.897252706601222\n",
      "For Model KNeighborsRegressor(n_neighbors=2) At random state 56, the testing accuracy is: 0.6285766324177111\n",
      "\n",
      "\n",
      "For Model KNeighborsRegressor(n_neighbors=2) At random state 57, the training accuracy is: 0.9000551380485521\n",
      "For Model KNeighborsRegressor(n_neighbors=2) At random state 57, the testing accuracy is: 0.6456054006495878\n",
      "\n",
      "\n",
      "For Model KNeighborsRegressor(n_neighbors=2) At random state 58, the training accuracy is: 0.8972080038423955\n",
      "For Model KNeighborsRegressor(n_neighbors=2) At random state 58, the testing accuracy is: 0.5508660616298269\n",
      "\n",
      "\n",
      "For Model KNeighborsRegressor(n_neighbors=2) At random state 59, the training accuracy is: 0.903359173817789\n",
      "For Model KNeighborsRegressor(n_neighbors=2) At random state 59, the testing accuracy is: 0.6847239228043838\n",
      "\n",
      "\n",
      "For Model KNeighborsRegressor(n_neighbors=2) At random state 60, the training accuracy is: 0.8983066852873649\n",
      "For Model KNeighborsRegressor(n_neighbors=2) At random state 60, the testing accuracy is: 0.5752547944676434\n",
      "\n",
      "\n",
      "For Model KNeighborsRegressor(n_neighbors=2) At random state 61, the training accuracy is: 0.8938805035860201\n",
      "For Model KNeighborsRegressor(n_neighbors=2) At random state 61, the testing accuracy is: 0.6757987969631604\n",
      "\n",
      "\n",
      "For Model KNeighborsRegressor(n_neighbors=2) At random state 62, the training accuracy is: 0.8862675198843204\n",
      "For Model KNeighborsRegressor(n_neighbors=2) At random state 62, the testing accuracy is: 0.6655633518228989\n",
      "\n",
      "\n",
      "For Model KNeighborsRegressor(n_neighbors=2) At random state 63, the training accuracy is: 0.91231476628222\n",
      "For Model KNeighborsRegressor(n_neighbors=2) At random state 63, the testing accuracy is: 0.6843479596358202\n",
      "\n",
      "\n",
      "For Model KNeighborsRegressor(n_neighbors=2) At random state 64, the training accuracy is: 0.8936670567756272\n",
      "For Model KNeighborsRegressor(n_neighbors=2) At random state 64, the testing accuracy is: 0.6522543223193806\n",
      "\n",
      "\n",
      "For Model KNeighborsRegressor(n_neighbors=2) At random state 65, the training accuracy is: 0.8868235096144612\n",
      "For Model KNeighborsRegressor(n_neighbors=2) At random state 65, the testing accuracy is: 0.6645415521478835\n",
      "\n",
      "\n",
      "For Model KNeighborsRegressor(n_neighbors=2) At random state 66, the training accuracy is: 0.8925330979529469\n",
      "For Model KNeighborsRegressor(n_neighbors=2) At random state 66, the testing accuracy is: 0.668886063859695\n",
      "\n",
      "\n",
      "For Model KNeighborsRegressor(n_neighbors=2) At random state 67, the training accuracy is: 0.8956966449808994\n",
      "For Model KNeighborsRegressor(n_neighbors=2) At random state 67, the testing accuracy is: 0.6303573695141258\n",
      "\n",
      "\n",
      "For Model KNeighborsRegressor(n_neighbors=2) At random state 68, the training accuracy is: 0.9060104091435384\n",
      "For Model KNeighborsRegressor(n_neighbors=2) At random state 68, the testing accuracy is: 0.6531811345634662\n",
      "\n",
      "\n",
      "For Model KNeighborsRegressor(n_neighbors=2) At random state 69, the training accuracy is: 0.9002393963906463\n",
      "For Model KNeighborsRegressor(n_neighbors=2) At random state 69, the testing accuracy is: 0.6633087319126032\n",
      "\n",
      "\n",
      "For Model KNeighborsRegressor(n_neighbors=2) At random state 70, the training accuracy is: 0.8843074592217477\n",
      "For Model KNeighborsRegressor(n_neighbors=2) At random state 70, the testing accuracy is: 0.7944532325091134\n",
      "\n",
      "\n",
      "For Model KNeighborsRegressor(n_neighbors=2) At random state 71, the training accuracy is: 0.8971050750320853\n",
      "For Model KNeighborsRegressor(n_neighbors=2) At random state 71, the testing accuracy is: 0.7143968181430991\n",
      "\n",
      "\n",
      "For Model KNeighborsRegressor(n_neighbors=2) At random state 72, the training accuracy is: 0.9035982442071291\n",
      "For Model KNeighborsRegressor(n_neighbors=2) At random state 72, the testing accuracy is: 0.6390366644791424\n",
      "\n",
      "\n",
      "For Model KNeighborsRegressor(n_neighbors=2) At random state 73, the training accuracy is: 0.9073647713838476\n",
      "For Model KNeighborsRegressor(n_neighbors=2) At random state 73, the testing accuracy is: 0.6231628714492958\n",
      "\n",
      "\n",
      "For Model KNeighborsRegressor(n_neighbors=2) At random state 74, the training accuracy is: 0.885048300036017\n",
      "For Model KNeighborsRegressor(n_neighbors=2) At random state 74, the testing accuracy is: 0.7246476418049561\n",
      "\n",
      "\n",
      "For Model KNeighborsRegressor(n_neighbors=2) At random state 75, the training accuracy is: 0.8996802919317347\n",
      "For Model KNeighborsRegressor(n_neighbors=2) At random state 75, the testing accuracy is: 0.6431201327985039\n",
      "\n",
      "\n",
      "For Model KNeighborsRegressor(n_neighbors=2) At random state 76, the training accuracy is: 0.9006292989879676\n",
      "For Model KNeighborsRegressor(n_neighbors=2) At random state 76, the testing accuracy is: 0.6205470582503778\n",
      "\n",
      "\n",
      "For Model KNeighborsRegressor(n_neighbors=2) At random state 77, the training accuracy is: 0.9029153634768561\n",
      "For Model KNeighborsRegressor(n_neighbors=2) At random state 77, the testing accuracy is: 0.6473319472274132\n",
      "\n",
      "\n",
      "For Model KNeighborsRegressor(n_neighbors=2) At random state 78, the training accuracy is: 0.8902192565427438\n",
      "For Model KNeighborsRegressor(n_neighbors=2) At random state 78, the testing accuracy is: 0.6912375695729136\n",
      "\n",
      "\n",
      "For Model KNeighborsRegressor(n_neighbors=2) At random state 79, the training accuracy is: 0.8988768180680006\n",
      "For Model KNeighborsRegressor(n_neighbors=2) At random state 79, the testing accuracy is: 0.7005368399809129\n",
      "\n",
      "\n",
      "For Model KNeighborsRegressor(n_neighbors=2) At random state 80, the training accuracy is: 0.8894916249002309\n",
      "For Model KNeighborsRegressor(n_neighbors=2) At random state 80, the testing accuracy is: 0.6767124235346397\n",
      "\n",
      "\n",
      "For Model KNeighborsRegressor(n_neighbors=2) At random state 81, the training accuracy is: 0.8933360592698948\n",
      "For Model KNeighborsRegressor(n_neighbors=2) At random state 81, the testing accuracy is: 0.5633443450065303\n",
      "\n",
      "\n",
      "For Model KNeighborsRegressor(n_neighbors=2) At random state 82, the training accuracy is: 0.9054724709625906\n",
      "For Model KNeighborsRegressor(n_neighbors=2) At random state 82, the testing accuracy is: 0.5591819673422483\n",
      "\n",
      "\n",
      "For Model KNeighborsRegressor(n_neighbors=2) At random state 83, the training accuracy is: 0.8991975055225077\n",
      "For Model KNeighborsRegressor(n_neighbors=2) At random state 83, the testing accuracy is: 0.6509603873267111\n",
      "\n",
      "\n",
      "For Model KNeighborsRegressor(n_neighbors=2) At random state 84, the training accuracy is: 0.9017757668428706\n",
      "For Model KNeighborsRegressor(n_neighbors=2) At random state 84, the testing accuracy is: 0.656921437128487\n",
      "\n",
      "\n",
      "For Model KNeighborsRegressor(n_neighbors=2) At random state 85, the training accuracy is: 0.9000251774369368\n",
      "For Model KNeighborsRegressor(n_neighbors=2) At random state 85, the testing accuracy is: 0.6460471568258648\n",
      "\n",
      "\n",
      "For Model KNeighborsRegressor(n_neighbors=2) At random state 86, the training accuracy is: 0.8896371362318681\n",
      "For Model KNeighborsRegressor(n_neighbors=2) At random state 86, the testing accuracy is: 0.4839458937896062\n",
      "\n",
      "\n",
      "For Model KNeighborsRegressor(n_neighbors=2) At random state 87, the training accuracy is: 0.8968109813899009\n",
      "For Model KNeighborsRegressor(n_neighbors=2) At random state 87, the testing accuracy is: 0.6756844091089858\n",
      "\n",
      "\n",
      "For Model KNeighborsRegressor(n_neighbors=2) At random state 88, the training accuracy is: 0.9019064059922506\n",
      "For Model KNeighborsRegressor(n_neighbors=2) At random state 88, the testing accuracy is: 0.6585547242849425\n",
      "\n",
      "\n",
      "For Model KNeighborsRegressor(n_neighbors=2) At random state 89, the training accuracy is: 0.8912665595080667\n",
      "For Model KNeighborsRegressor(n_neighbors=2) At random state 89, the testing accuracy is: 0.760320688842686\n",
      "\n",
      "\n",
      "For Model KNeighborsRegressor(n_neighbors=2) At random state 90, the training accuracy is: 0.8926539853916127\n",
      "For Model KNeighborsRegressor(n_neighbors=2) At random state 90, the testing accuracy is: 0.7234288147300774\n",
      "\n",
      "\n",
      "For Model KNeighborsRegressor(n_neighbors=2) At random state 91, the training accuracy is: 0.896101775744329\n",
      "For Model KNeighborsRegressor(n_neighbors=2) At random state 91, the testing accuracy is: 0.6327642438603249\n",
      "\n",
      "\n",
      "For Model KNeighborsRegressor(n_neighbors=2) At random state 92, the training accuracy is: 0.8861852346020027\n",
      "For Model KNeighborsRegressor(n_neighbors=2) At random state 92, the testing accuracy is: 0.7603358688431703\n",
      "\n",
      "\n",
      "For Model KNeighborsRegressor(n_neighbors=2) At random state 93, the training accuracy is: 0.8920891910297024\n",
      "For Model KNeighborsRegressor(n_neighbors=2) At random state 93, the testing accuracy is: 0.663020019151014\n",
      "\n",
      "\n",
      "For Model KNeighborsRegressor(n_neighbors=2) At random state 94, the training accuracy is: 0.9049424913754086\n",
      "For Model KNeighborsRegressor(n_neighbors=2) At random state 94, the testing accuracy is: 0.6373302091447504\n",
      "\n",
      "\n",
      "For Model KNeighborsRegressor(n_neighbors=2) At random state 95, the training accuracy is: 0.8950805498570825\n",
      "For Model KNeighborsRegressor(n_neighbors=2) At random state 95, the testing accuracy is: 0.6713775888246818\n",
      "\n",
      "\n",
      "For Model KNeighborsRegressor(n_neighbors=2) At random state 96, the training accuracy is: 0.8895096459195242\n",
      "For Model KNeighborsRegressor(n_neighbors=2) At random state 96, the testing accuracy is: 0.7107177940254704\n",
      "\n",
      "\n"
     ]
    },
    {
     "name": "stdout",
     "output_type": "stream",
     "text": [
      "For Model KNeighborsRegressor(n_neighbors=2) At random state 97, the training accuracy is: 0.9077126838495896\n",
      "For Model KNeighborsRegressor(n_neighbors=2) At random state 97, the testing accuracy is: 0.5719217895348471\n",
      "\n",
      "\n",
      "For Model KNeighborsRegressor(n_neighbors=2) At random state 98, the training accuracy is: 0.8918027425415955\n",
      "For Model KNeighborsRegressor(n_neighbors=2) At random state 98, the testing accuracy is: 0.7523761929540632\n",
      "\n",
      "\n",
      "For Model KNeighborsRegressor(n_neighbors=2) At random state 99, the training accuracy is: 0.9045125714897398\n",
      "For Model KNeighborsRegressor(n_neighbors=2) At random state 99, the testing accuracy is: 0.6339532995725287\n",
      "\n",
      "\n",
      "For Model DecisionTreeRegressor() At random state 0, the training accuracy is: 0.9932148610242925\n",
      "For Model DecisionTreeRegressor() At random state 0, the testing accuracy is: 0.6936745411576514\n",
      "\n",
      "\n",
      "For Model DecisionTreeRegressor() At random state 1, the training accuracy is: 0.993061881530853\n",
      "For Model DecisionTreeRegressor() At random state 1, the testing accuracy is: 0.7074469514019811\n",
      "\n",
      "\n",
      "For Model DecisionTreeRegressor() At random state 2, the training accuracy is: 0.9951076526788487\n",
      "For Model DecisionTreeRegressor() At random state 2, the testing accuracy is: 0.7106291481018152\n",
      "\n",
      "\n",
      "For Model DecisionTreeRegressor() At random state 3, the training accuracy is: 0.9967282508303533\n",
      "For Model DecisionTreeRegressor() At random state 3, the testing accuracy is: 0.7714159748732426\n",
      "\n",
      "\n",
      "For Model DecisionTreeRegressor() At random state 4, the training accuracy is: 0.9950095221079553\n",
      "For Model DecisionTreeRegressor() At random state 4, the testing accuracy is: 0.6728691236516862\n",
      "\n",
      "\n",
      "For Model DecisionTreeRegressor() At random state 5, the training accuracy is: 0.9929891960406265\n",
      "For Model DecisionTreeRegressor() At random state 5, the testing accuracy is: 0.6909698033121332\n",
      "\n",
      "\n",
      "For Model DecisionTreeRegressor() At random state 6, the training accuracy is: 0.9928004658422247\n",
      "For Model DecisionTreeRegressor() At random state 6, the testing accuracy is: 0.7043137554133665\n",
      "\n",
      "\n",
      "For Model DecisionTreeRegressor() At random state 7, the training accuracy is: 0.9929986404714363\n",
      "For Model DecisionTreeRegressor() At random state 7, the testing accuracy is: 0.7041447281381662\n",
      "\n",
      "\n",
      "For Model DecisionTreeRegressor() At random state 8, the training accuracy is: 0.9945130967226252\n",
      "For Model DecisionTreeRegressor() At random state 8, the testing accuracy is: 0.7011001269804122\n",
      "\n",
      "\n",
      "For Model DecisionTreeRegressor() At random state 9, the training accuracy is: 0.9918856821849448\n",
      "For Model DecisionTreeRegressor() At random state 9, the testing accuracy is: 0.7561518483338412\n",
      "\n",
      "\n",
      "For Model DecisionTreeRegressor() At random state 10, the training accuracy is: 0.9956511987304278\n",
      "For Model DecisionTreeRegressor() At random state 10, the testing accuracy is: 0.7137705338712594\n",
      "\n",
      "\n",
      "For Model DecisionTreeRegressor() At random state 11, the training accuracy is: 0.9924950961336706\n",
      "For Model DecisionTreeRegressor() At random state 11, the testing accuracy is: 0.7572294440999453\n",
      "\n",
      "\n",
      "For Model DecisionTreeRegressor() At random state 12, the training accuracy is: 0.9938223554789729\n",
      "For Model DecisionTreeRegressor() At random state 12, the testing accuracy is: 0.7102248138328884\n",
      "\n",
      "\n",
      "For Model DecisionTreeRegressor() At random state 13, the training accuracy is: 0.9929596795325387\n",
      "For Model DecisionTreeRegressor() At random state 13, the testing accuracy is: 0.7072183842073241\n",
      "\n",
      "\n",
      "For Model DecisionTreeRegressor() At random state 14, the training accuracy is: 0.995979742318179\n",
      "For Model DecisionTreeRegressor() At random state 14, the testing accuracy is: 0.6468982923589839\n",
      "\n",
      "\n",
      "For Model DecisionTreeRegressor() At random state 15, the training accuracy is: 0.9958816070464113\n",
      "For Model DecisionTreeRegressor() At random state 15, the testing accuracy is: 0.7385381396931777\n",
      "\n",
      "\n",
      "For Model DecisionTreeRegressor() At random state 16, the training accuracy is: 0.9945303954300347\n",
      "For Model DecisionTreeRegressor() At random state 16, the testing accuracy is: 0.638281556513016\n",
      "\n",
      "\n",
      "For Model DecisionTreeRegressor() At random state 17, the training accuracy is: 0.9936698472925436\n",
      "For Model DecisionTreeRegressor() At random state 17, the testing accuracy is: 0.6077106483943372\n",
      "\n",
      "\n",
      "For Model DecisionTreeRegressor() At random state 18, the training accuracy is: 0.9919312135225723\n",
      "For Model DecisionTreeRegressor() At random state 18, the testing accuracy is: 0.6944647735769681\n",
      "\n",
      "\n",
      "For Model DecisionTreeRegressor() At random state 19, the training accuracy is: 0.9973680355945108\n",
      "For Model DecisionTreeRegressor() At random state 19, the testing accuracy is: 0.7329081805306931\n",
      "\n",
      "\n",
      "For Model DecisionTreeRegressor() At random state 20, the training accuracy is: 0.9928311021644985\n",
      "For Model DecisionTreeRegressor() At random state 20, the testing accuracy is: 0.7159872043819301\n",
      "\n",
      "\n",
      "For Model DecisionTreeRegressor() At random state 21, the training accuracy is: 0.9929929186686242\n",
      "For Model DecisionTreeRegressor() At random state 21, the testing accuracy is: 0.7129081202915071\n",
      "\n",
      "\n",
      "For Model DecisionTreeRegressor() At random state 22, the training accuracy is: 0.9938788809209689\n",
      "For Model DecisionTreeRegressor() At random state 22, the testing accuracy is: 0.700788949047766\n",
      "\n",
      "\n",
      "For Model DecisionTreeRegressor() At random state 23, the training accuracy is: 0.9934971036470458\n",
      "For Model DecisionTreeRegressor() At random state 23, the testing accuracy is: 0.6605313833401592\n",
      "\n",
      "\n",
      "For Model DecisionTreeRegressor() At random state 24, the training accuracy is: 0.9934467707840975\n",
      "For Model DecisionTreeRegressor() At random state 24, the testing accuracy is: 0.690734018114801\n",
      "\n",
      "\n",
      "For Model DecisionTreeRegressor() At random state 25, the training accuracy is: 0.9916546433390016\n",
      "For Model DecisionTreeRegressor() At random state 25, the testing accuracy is: 0.6556694124853089\n",
      "\n",
      "\n",
      "For Model DecisionTreeRegressor() At random state 26, the training accuracy is: 0.994684170699162\n",
      "For Model DecisionTreeRegressor() At random state 26, the testing accuracy is: 0.7276071239035935\n",
      "\n",
      "\n",
      "For Model DecisionTreeRegressor() At random state 27, the training accuracy is: 0.9918536423239295\n",
      "For Model DecisionTreeRegressor() At random state 27, the testing accuracy is: 0.5916190612543373\n",
      "\n",
      "\n",
      "For Model DecisionTreeRegressor() At random state 28, the training accuracy is: 0.9934499910440766\n",
      "For Model DecisionTreeRegressor() At random state 28, the testing accuracy is: 0.7442872262398403\n",
      "\n",
      "\n",
      "For Model DecisionTreeRegressor() At random state 29, the training accuracy is: 0.9934181861644449\n",
      "For Model DecisionTreeRegressor() At random state 29, the testing accuracy is: 0.6229522218069009\n",
      "\n",
      "\n",
      "For Model DecisionTreeRegressor() At random state 30, the training accuracy is: 0.9944161274157085\n",
      "For Model DecisionTreeRegressor() At random state 30, the testing accuracy is: 0.6986624556043775\n",
      "\n",
      "\n",
      "For Model DecisionTreeRegressor() At random state 31, the training accuracy is: 0.9951229914492759\n",
      "For Model DecisionTreeRegressor() At random state 31, the testing accuracy is: 0.6900292821116265\n",
      "\n",
      "\n",
      "For Model DecisionTreeRegressor() At random state 32, the training accuracy is: 0.993615880871367\n",
      "For Model DecisionTreeRegressor() At random state 32, the testing accuracy is: 0.6843931953477084\n",
      "\n",
      "\n",
      "For Model DecisionTreeRegressor() At random state 33, the training accuracy is: 0.9943401412812656\n",
      "For Model DecisionTreeRegressor() At random state 33, the testing accuracy is: 0.6406586962312517\n",
      "\n",
      "\n",
      "For Model DecisionTreeRegressor() At random state 34, the training accuracy is: 0.9932214247447315\n",
      "For Model DecisionTreeRegressor() At random state 34, the testing accuracy is: 0.775858371534845\n",
      "\n",
      "\n",
      "For Model DecisionTreeRegressor() At random state 35, the training accuracy is: 0.9932317962606608\n",
      "For Model DecisionTreeRegressor() At random state 35, the testing accuracy is: 0.7222685170600234\n",
      "\n",
      "\n",
      "For Model DecisionTreeRegressor() At random state 36, the training accuracy is: 0.9932906699223889\n",
      "For Model DecisionTreeRegressor() At random state 36, the testing accuracy is: 0.7181132746354875\n",
      "\n",
      "\n",
      "For Model DecisionTreeRegressor() At random state 37, the training accuracy is: 0.9930069686551735\n",
      "For Model DecisionTreeRegressor() At random state 37, the testing accuracy is: 0.7614652994778414\n",
      "\n",
      "\n",
      "For Model DecisionTreeRegressor() At random state 38, the training accuracy is: 0.9946856836515593\n",
      "For Model DecisionTreeRegressor() At random state 38, the testing accuracy is: 0.7040887105933679\n",
      "\n",
      "\n",
      "For Model DecisionTreeRegressor() At random state 39, the training accuracy is: 0.9931296481919821\n",
      "For Model DecisionTreeRegressor() At random state 39, the testing accuracy is: 0.68970541635389\n",
      "\n",
      "\n",
      "For Model DecisionTreeRegressor() At random state 40, the training accuracy is: 0.9940948591317775\n",
      "For Model DecisionTreeRegressor() At random state 40, the testing accuracy is: 0.6567250648207719\n",
      "\n",
      "\n",
      "For Model DecisionTreeRegressor() At random state 41, the training accuracy is: 0.9937997639936509\n",
      "For Model DecisionTreeRegressor() At random state 41, the testing accuracy is: 0.7142676005279256\n",
      "\n",
      "\n",
      "For Model DecisionTreeRegressor() At random state 42, the training accuracy is: 0.9952805690441787\n",
      "For Model DecisionTreeRegressor() At random state 42, the testing accuracy is: 0.6671291894647037\n",
      "\n",
      "\n",
      "For Model DecisionTreeRegressor() At random state 43, the training accuracy is: 0.9931405961573273\n",
      "For Model DecisionTreeRegressor() At random state 43, the testing accuracy is: 0.6761690100339774\n",
      "\n",
      "\n",
      "For Model DecisionTreeRegressor() At random state 44, the training accuracy is: 0.9933888759284992\n",
      "For Model DecisionTreeRegressor() At random state 44, the testing accuracy is: 0.6657600902271594\n",
      "\n",
      "\n",
      "For Model DecisionTreeRegressor() At random state 45, the training accuracy is: 0.9944525941524399\n",
      "For Model DecisionTreeRegressor() At random state 45, the testing accuracy is: 0.647194379506558\n",
      "\n",
      "\n",
      "For Model DecisionTreeRegressor() At random state 46, the training accuracy is: 0.9934774713505333\n",
      "For Model DecisionTreeRegressor() At random state 46, the testing accuracy is: 0.7016951086666477\n",
      "\n",
      "\n",
      "For Model DecisionTreeRegressor() At random state 47, the training accuracy is: 0.9938720043204181\n",
      "For Model DecisionTreeRegressor() At random state 47, the testing accuracy is: 0.7545883711317838\n",
      "\n",
      "\n",
      "For Model DecisionTreeRegressor() At random state 48, the training accuracy is: 0.9941524640544934\n",
      "For Model DecisionTreeRegressor() At random state 48, the testing accuracy is: 0.5989127396583241\n",
      "\n",
      "\n",
      "For Model DecisionTreeRegressor() At random state 49, the training accuracy is: 0.9952606133598717\n",
      "For Model DecisionTreeRegressor() At random state 49, the testing accuracy is: 0.7457441527288886\n",
      "\n",
      "\n",
      "For Model DecisionTreeRegressor() At random state 50, the training accuracy is: 0.9933650206392188\n",
      "For Model DecisionTreeRegressor() At random state 50, the testing accuracy is: 0.6982478617301635\n",
      "\n",
      "\n",
      "For Model DecisionTreeRegressor() At random state 51, the training accuracy is: 0.9931592608308172\n",
      "For Model DecisionTreeRegressor() At random state 51, the testing accuracy is: 0.7475383119749042\n",
      "\n",
      "\n",
      "For Model DecisionTreeRegressor() At random state 52, the training accuracy is: 0.9929374398999204\n",
      "For Model DecisionTreeRegressor() At random state 52, the testing accuracy is: 0.6514636234450315\n",
      "\n",
      "\n"
     ]
    },
    {
     "name": "stdout",
     "output_type": "stream",
     "text": [
      "For Model DecisionTreeRegressor() At random state 53, the training accuracy is: 0.9920818417434423\n",
      "For Model DecisionTreeRegressor() At random state 53, the testing accuracy is: 0.7385190139479972\n",
      "\n",
      "\n",
      "For Model DecisionTreeRegressor() At random state 54, the training accuracy is: 0.9961490483156901\n",
      "For Model DecisionTreeRegressor() At random state 54, the testing accuracy is: 0.6308799001381747\n",
      "\n",
      "\n",
      "For Model DecisionTreeRegressor() At random state 55, the training accuracy is: 0.9944921530391506\n",
      "For Model DecisionTreeRegressor() At random state 55, the testing accuracy is: 0.7760735310928232\n",
      "\n",
      "\n",
      "For Model DecisionTreeRegressor() At random state 56, the training accuracy is: 0.99324140220584\n",
      "For Model DecisionTreeRegressor() At random state 56, the testing accuracy is: 0.7136098685154204\n",
      "\n",
      "\n",
      "For Model DecisionTreeRegressor() At random state 57, the training accuracy is: 0.9920687189890214\n",
      "For Model DecisionTreeRegressor() At random state 57, the testing accuracy is: 0.6972058503788361\n",
      "\n",
      "\n",
      "For Model DecisionTreeRegressor() At random state 58, the training accuracy is: 0.9919381113072698\n",
      "For Model DecisionTreeRegressor() At random state 58, the testing accuracy is: 0.6931157066423691\n",
      "\n",
      "\n",
      "For Model DecisionTreeRegressor() At random state 59, the training accuracy is: 0.9953146627214925\n",
      "For Model DecisionTreeRegressor() At random state 59, the testing accuracy is: 0.734639518371202\n",
      "\n",
      "\n",
      "For Model DecisionTreeRegressor() At random state 60, the training accuracy is: 0.9925623164184588\n",
      "For Model DecisionTreeRegressor() At random state 60, the testing accuracy is: 0.7501777653904464\n",
      "\n",
      "\n",
      "For Model DecisionTreeRegressor() At random state 61, the training accuracy is: 0.9940710045371294\n",
      "For Model DecisionTreeRegressor() At random state 61, the testing accuracy is: 0.6927450117531477\n",
      "\n",
      "\n",
      "For Model DecisionTreeRegressor() At random state 62, the training accuracy is: 0.9928709803751935\n",
      "For Model DecisionTreeRegressor() At random state 62, the testing accuracy is: 0.7554729573703893\n",
      "\n",
      "\n",
      "For Model DecisionTreeRegressor() At random state 63, the training accuracy is: 0.9941440092365641\n",
      "For Model DecisionTreeRegressor() At random state 63, the testing accuracy is: 0.6378748853961416\n",
      "\n",
      "\n",
      "For Model DecisionTreeRegressor() At random state 64, the training accuracy is: 0.9916403177202355\n",
      "For Model DecisionTreeRegressor() At random state 64, the testing accuracy is: 0.7761593727459353\n",
      "\n",
      "\n",
      "For Model DecisionTreeRegressor() At random state 65, the training accuracy is: 0.992474253218416\n",
      "For Model DecisionTreeRegressor() At random state 65, the testing accuracy is: 0.7204234616642391\n",
      "\n",
      "\n",
      "For Model DecisionTreeRegressor() At random state 66, the training accuracy is: 0.9925451859182916\n",
      "For Model DecisionTreeRegressor() At random state 66, the testing accuracy is: 0.6752036557159129\n",
      "\n",
      "\n",
      "For Model DecisionTreeRegressor() At random state 67, the training accuracy is: 0.9920197775019104\n",
      "For Model DecisionTreeRegressor() At random state 67, the testing accuracy is: 0.6386187107426253\n",
      "\n",
      "\n",
      "For Model DecisionTreeRegressor() At random state 68, the training accuracy is: 0.993704082791293\n",
      "For Model DecisionTreeRegressor() At random state 68, the testing accuracy is: 0.6831058237695256\n",
      "\n",
      "\n",
      "For Model DecisionTreeRegressor() At random state 69, the training accuracy is: 0.9920941904193515\n",
      "For Model DecisionTreeRegressor() At random state 69, the testing accuracy is: 0.6723333890761196\n",
      "\n",
      "\n",
      "For Model DecisionTreeRegressor() At random state 70, the training accuracy is: 0.9936102634831271\n",
      "For Model DecisionTreeRegressor() At random state 70, the testing accuracy is: 0.7928050569561516\n",
      "\n",
      "\n",
      "For Model DecisionTreeRegressor() At random state 71, the training accuracy is: 0.9918999629014904\n",
      "For Model DecisionTreeRegressor() At random state 71, the testing accuracy is: 0.6887808174597445\n",
      "\n",
      "\n",
      "For Model DecisionTreeRegressor() At random state 72, the training accuracy is: 0.9939266437141311\n",
      "For Model DecisionTreeRegressor() At random state 72, the testing accuracy is: 0.6569838781994243\n",
      "\n",
      "\n",
      "For Model DecisionTreeRegressor() At random state 73, the training accuracy is: 0.9937107471832295\n",
      "For Model DecisionTreeRegressor() At random state 73, the testing accuracy is: 0.6409772233763287\n",
      "\n",
      "\n",
      "For Model DecisionTreeRegressor() At random state 74, the training accuracy is: 0.9937920159135601\n",
      "For Model DecisionTreeRegressor() At random state 74, the testing accuracy is: 0.7508039600089323\n",
      "\n",
      "\n",
      "For Model DecisionTreeRegressor() At random state 75, the training accuracy is: 0.9930445007947726\n",
      "For Model DecisionTreeRegressor() At random state 75, the testing accuracy is: 0.661899837746494\n",
      "\n",
      "\n",
      "For Model DecisionTreeRegressor() At random state 76, the training accuracy is: 0.9920072736183408\n",
      "For Model DecisionTreeRegressor() At random state 76, the testing accuracy is: 0.7273893601971151\n",
      "\n",
      "\n",
      "For Model DecisionTreeRegressor() At random state 77, the training accuracy is: 0.9930375311245168\n",
      "For Model DecisionTreeRegressor() At random state 77, the testing accuracy is: 0.7139262703654794\n",
      "\n",
      "\n",
      "For Model DecisionTreeRegressor() At random state 78, the training accuracy is: 0.9922295658597878\n",
      "For Model DecisionTreeRegressor() At random state 78, the testing accuracy is: 0.7172336936509189\n",
      "\n",
      "\n",
      "For Model DecisionTreeRegressor() At random state 79, the training accuracy is: 0.9943233419743464\n",
      "For Model DecisionTreeRegressor() At random state 79, the testing accuracy is: 0.6897640622217163\n",
      "\n",
      "\n",
      "For Model DecisionTreeRegressor() At random state 80, the training accuracy is: 0.9926467976314278\n",
      "For Model DecisionTreeRegressor() At random state 80, the testing accuracy is: 0.7525539713748922\n",
      "\n",
      "\n",
      "For Model DecisionTreeRegressor() At random state 81, the training accuracy is: 0.9942464992842348\n",
      "For Model DecisionTreeRegressor() At random state 81, the testing accuracy is: 0.7025856188561759\n",
      "\n",
      "\n",
      "For Model DecisionTreeRegressor() At random state 82, the training accuracy is: 0.9919342749202893\n",
      "For Model DecisionTreeRegressor() At random state 82, the testing accuracy is: 0.7162284894746536\n",
      "\n",
      "\n",
      "For Model DecisionTreeRegressor() At random state 83, the training accuracy is: 0.9966123459179582\n",
      "For Model DecisionTreeRegressor() At random state 83, the testing accuracy is: 0.6682776624281673\n",
      "\n",
      "\n",
      "For Model DecisionTreeRegressor() At random state 84, the training accuracy is: 0.9932835606920581\n",
      "For Model DecisionTreeRegressor() At random state 84, the testing accuracy is: 0.7472903207463399\n",
      "\n",
      "\n",
      "For Model DecisionTreeRegressor() At random state 85, the training accuracy is: 0.9952205553029132\n",
      "For Model DecisionTreeRegressor() At random state 85, the testing accuracy is: 0.6358867497688803\n",
      "\n",
      "\n",
      "For Model DecisionTreeRegressor() At random state 86, the training accuracy is: 0.9946231686776986\n",
      "For Model DecisionTreeRegressor() At random state 86, the testing accuracy is: 0.6115094141565706\n",
      "\n",
      "\n",
      "For Model DecisionTreeRegressor() At random state 87, the training accuracy is: 0.9938887561463999\n",
      "For Model DecisionTreeRegressor() At random state 87, the testing accuracy is: 0.7307310019299709\n",
      "\n",
      "\n",
      "For Model DecisionTreeRegressor() At random state 88, the training accuracy is: 0.9924455971653136\n",
      "For Model DecisionTreeRegressor() At random state 88, the testing accuracy is: 0.7100356301617525\n",
      "\n",
      "\n",
      "For Model DecisionTreeRegressor() At random state 89, the training accuracy is: 0.992456706387303\n",
      "For Model DecisionTreeRegressor() At random state 89, the testing accuracy is: 0.7123580362378774\n",
      "\n",
      "\n",
      "For Model DecisionTreeRegressor() At random state 90, the training accuracy is: 0.9941862209515502\n",
      "For Model DecisionTreeRegressor() At random state 90, the testing accuracy is: 0.6986149783323226\n",
      "\n",
      "\n",
      "For Model DecisionTreeRegressor() At random state 91, the training accuracy is: 0.9934862602721464\n",
      "For Model DecisionTreeRegressor() At random state 91, the testing accuracy is: 0.6469179118754249\n",
      "\n",
      "\n",
      "For Model DecisionTreeRegressor() At random state 92, the training accuracy is: 0.9922624822687067\n",
      "For Model DecisionTreeRegressor() At random state 92, the testing accuracy is: 0.7533289425699631\n",
      "\n",
      "\n",
      "For Model DecisionTreeRegressor() At random state 93, the training accuracy is: 0.992942980597623\n",
      "For Model DecisionTreeRegressor() At random state 93, the testing accuracy is: 0.7732708421769077\n",
      "\n",
      "\n",
      "For Model DecisionTreeRegressor() At random state 94, the training accuracy is: 0.9920508388546367\n",
      "For Model DecisionTreeRegressor() At random state 94, the testing accuracy is: 0.6051487252352581\n",
      "\n",
      "\n",
      "For Model DecisionTreeRegressor() At random state 95, the training accuracy is: 0.992378713854166\n",
      "For Model DecisionTreeRegressor() At random state 95, the testing accuracy is: 0.6075465543666818\n",
      "\n",
      "\n",
      "For Model DecisionTreeRegressor() At random state 96, the training accuracy is: 0.9925748795573937\n",
      "For Model DecisionTreeRegressor() At random state 96, the testing accuracy is: 0.7506852103045651\n",
      "\n",
      "\n",
      "For Model DecisionTreeRegressor() At random state 97, the training accuracy is: 0.9928325241035996\n",
      "For Model DecisionTreeRegressor() At random state 97, the testing accuracy is: 0.6119676169912058\n",
      "\n",
      "\n",
      "For Model DecisionTreeRegressor() At random state 98, the training accuracy is: 0.9941616275612244\n",
      "For Model DecisionTreeRegressor() At random state 98, the testing accuracy is: 0.803959565124171\n",
      "\n",
      "\n",
      "For Model DecisionTreeRegressor() At random state 99, the training accuracy is: 0.9939437635461251\n",
      "For Model DecisionTreeRegressor() At random state 99, the testing accuracy is: 0.6840299072153411\n",
      "\n",
      "\n"
     ]
    },
    {
     "name": "stdout",
     "output_type": "stream",
     "text": [
      "For Model RandomForestRegressor() At random state 0, the training accuracy is: 0.9682977238484107\n",
      "For Model RandomForestRegressor() At random state 0, the testing accuracy is: 0.8389189209159439\n",
      "\n",
      "\n",
      "For Model RandomForestRegressor() At random state 1, the training accuracy is: 0.9703957462050666\n",
      "For Model RandomForestRegressor() At random state 1, the testing accuracy is: 0.8154889552668648\n",
      "\n",
      "\n",
      "For Model RandomForestRegressor() At random state 2, the training accuracy is: 0.9708070666016616\n",
      "For Model RandomForestRegressor() At random state 2, the testing accuracy is: 0.8120328085113033\n",
      "\n",
      "\n",
      "For Model RandomForestRegressor() At random state 3, the training accuracy is: 0.9721255353721672\n",
      "For Model RandomForestRegressor() At random state 3, the testing accuracy is: 0.8408572893609172\n",
      "\n",
      "\n",
      "For Model RandomForestRegressor() At random state 4, the training accuracy is: 0.9712676159551092\n",
      "For Model RandomForestRegressor() At random state 4, the testing accuracy is: 0.8238718442064962\n",
      "\n",
      "\n",
      "For Model RandomForestRegressor() At random state 5, the training accuracy is: 0.9693116920226181\n",
      "For Model RandomForestRegressor() At random state 5, the testing accuracy is: 0.8315145745107727\n",
      "\n",
      "\n",
      "For Model RandomForestRegressor() At random state 6, the training accuracy is: 0.969345752398566\n",
      "For Model RandomForestRegressor() At random state 6, the testing accuracy is: 0.8003122905219191\n",
      "\n",
      "\n",
      "For Model RandomForestRegressor() At random state 7, the training accuracy is: 0.9667487131725427\n",
      "For Model RandomForestRegressor() At random state 7, the testing accuracy is: 0.8440243934952018\n",
      "\n",
      "\n",
      "For Model RandomForestRegressor() At random state 8, the training accuracy is: 0.9694314923278385\n",
      "For Model RandomForestRegressor() At random state 8, the testing accuracy is: 0.8102907051617034\n",
      "\n",
      "\n",
      "For Model RandomForestRegressor() At random state 9, the training accuracy is: 0.9689612557997782\n",
      "For Model RandomForestRegressor() At random state 9, the testing accuracy is: 0.8198009152334564\n",
      "\n",
      "\n",
      "For Model RandomForestRegressor() At random state 10, the training accuracy is: 0.9688513248187122\n",
      "For Model RandomForestRegressor() At random state 10, the testing accuracy is: 0.8426688476634938\n",
      "\n",
      "\n",
      "For Model RandomForestRegressor() At random state 11, the training accuracy is: 0.9656509131193489\n",
      "For Model RandomForestRegressor() At random state 11, the testing accuracy is: 0.8493229334864311\n",
      "\n",
      "\n",
      "For Model RandomForestRegressor() At random state 12, the training accuracy is: 0.966124737116248\n",
      "For Model RandomForestRegressor() At random state 12, the testing accuracy is: 0.854442751153524\n",
      "\n",
      "\n",
      "For Model RandomForestRegressor() At random state 13, the training accuracy is: 0.969667818085894\n",
      "For Model RandomForestRegressor() At random state 13, the testing accuracy is: 0.7942888364563158\n",
      "\n",
      "\n",
      "For Model RandomForestRegressor() At random state 14, the training accuracy is: 0.9696311637034188\n",
      "For Model RandomForestRegressor() At random state 14, the testing accuracy is: 0.8099795725935693\n",
      "\n",
      "\n",
      "For Model RandomForestRegressor() At random state 15, the training accuracy is: 0.9698104091694064\n",
      "For Model RandomForestRegressor() At random state 15, the testing accuracy is: 0.8278134892248871\n",
      "\n",
      "\n",
      "For Model RandomForestRegressor() At random state 16, the training accuracy is: 0.9691812094051274\n",
      "For Model RandomForestRegressor() At random state 16, the testing accuracy is: 0.7713358970278202\n",
      "\n",
      "\n",
      "For Model RandomForestRegressor() At random state 17, the training accuracy is: 0.9720463590746437\n",
      "For Model RandomForestRegressor() At random state 17, the testing accuracy is: 0.7791326571248878\n",
      "\n",
      "\n",
      "For Model RandomForestRegressor() At random state 18, the training accuracy is: 0.9671497499005802\n",
      "For Model RandomForestRegressor() At random state 18, the testing accuracy is: 0.8307385309796471\n",
      "\n",
      "\n",
      "For Model RandomForestRegressor() At random state 19, the training accuracy is: 0.9715694584599178\n",
      "For Model RandomForestRegressor() At random state 19, the testing accuracy is: 0.8152274665377309\n",
      "\n",
      "\n",
      "For Model RandomForestRegressor() At random state 20, the training accuracy is: 0.9682330952768833\n",
      "For Model RandomForestRegressor() At random state 20, the testing accuracy is: 0.8297970026801049\n",
      "\n",
      "\n",
      "For Model RandomForestRegressor() At random state 21, the training accuracy is: 0.968758065190307\n",
      "For Model RandomForestRegressor() At random state 21, the testing accuracy is: 0.81712083436587\n",
      "\n",
      "\n",
      "For Model RandomForestRegressor() At random state 22, the training accuracy is: 0.9709779895942037\n",
      "For Model RandomForestRegressor() At random state 22, the testing accuracy is: 0.7814162210590425\n",
      "\n",
      "\n",
      "For Model RandomForestRegressor() At random state 23, the training accuracy is: 0.9709428756469729\n",
      "For Model RandomForestRegressor() At random state 23, the testing accuracy is: 0.772857085859896\n",
      "\n",
      "\n",
      "For Model RandomForestRegressor() At random state 24, the training accuracy is: 0.9689739971912623\n",
      "For Model RandomForestRegressor() At random state 24, the testing accuracy is: 0.829277411252433\n",
      "\n",
      "\n",
      "For Model RandomForestRegressor() At random state 25, the training accuracy is: 0.9661959751659832\n",
      "For Model RandomForestRegressor() At random state 25, the testing accuracy is: 0.8396738401259889\n",
      "\n",
      "\n",
      "For Model RandomForestRegressor() At random state 26, the training accuracy is: 0.9720231779896035\n",
      "For Model RandomForestRegressor() At random state 26, the testing accuracy is: 0.7928214683930481\n",
      "\n",
      "\n",
      "For Model RandomForestRegressor() At random state 27, the training accuracy is: 0.9671027994185565\n",
      "For Model RandomForestRegressor() At random state 27, the testing accuracy is: 0.8098980950121785\n",
      "\n",
      "\n",
      "For Model RandomForestRegressor() At random state 28, the training accuracy is: 0.9690410773043626\n",
      "For Model RandomForestRegressor() At random state 28, the testing accuracy is: 0.8326912540344317\n",
      "\n",
      "\n",
      "For Model RandomForestRegressor() At random state 29, the training accuracy is: 0.9669753002055353\n",
      "For Model RandomForestRegressor() At random state 29, the testing accuracy is: 0.8372815946968233\n",
      "\n",
      "\n",
      "For Model RandomForestRegressor() At random state 30, the training accuracy is: 0.9711354403293524\n",
      "For Model RandomForestRegressor() At random state 30, the testing accuracy is: 0.8114058096499411\n",
      "\n",
      "\n",
      "For Model RandomForestRegressor() At random state 31, the training accuracy is: 0.9697758173611857\n",
      "For Model RandomForestRegressor() At random state 31, the testing accuracy is: 0.8423306788329381\n",
      "\n",
      "\n",
      "For Model RandomForestRegressor() At random state 32, the training accuracy is: 0.9703772045789306\n",
      "For Model RandomForestRegressor() At random state 32, the testing accuracy is: 0.8082187144601445\n",
      "\n",
      "\n",
      "For Model RandomForestRegressor() At random state 33, the training accuracy is: 0.9711946659234236\n",
      "For Model RandomForestRegressor() At random state 33, the testing accuracy is: 0.7618450481216039\n",
      "\n",
      "\n",
      "For Model RandomForestRegressor() At random state 34, the training accuracy is: 0.9687674545540423\n",
      "For Model RandomForestRegressor() At random state 34, the testing accuracy is: 0.849992326253949\n",
      "\n",
      "\n",
      "For Model RandomForestRegressor() At random state 35, the training accuracy is: 0.9699027112127298\n",
      "For Model RandomForestRegressor() At random state 35, the testing accuracy is: 0.8079653113446252\n",
      "\n",
      "\n",
      "For Model RandomForestRegressor() At random state 36, the training accuracy is: 0.9674004037967217\n",
      "For Model RandomForestRegressor() At random state 36, the testing accuracy is: 0.8316895916798592\n",
      "\n",
      "\n",
      "For Model RandomForestRegressor() At random state 37, the training accuracy is: 0.9668678527468658\n",
      "For Model RandomForestRegressor() At random state 37, the testing accuracy is: 0.8477432021933\n",
      "\n",
      "\n",
      "For Model RandomForestRegressor() At random state 38, the training accuracy is: 0.9702814813321842\n",
      "For Model RandomForestRegressor() At random state 38, the testing accuracy is: 0.8199693393686972\n",
      "\n",
      "\n",
      "For Model RandomForestRegressor() At random state 39, the training accuracy is: 0.9700288374453955\n",
      "For Model RandomForestRegressor() At random state 39, the testing accuracy is: 0.8096619199466301\n",
      "\n",
      "\n",
      "For Model RandomForestRegressor() At random state 40, the training accuracy is: 0.9715150704744716\n",
      "For Model RandomForestRegressor() At random state 40, the testing accuracy is: 0.7730400978105818\n",
      "\n",
      "\n",
      "For Model RandomForestRegressor() At random state 41, the training accuracy is: 0.9719018755850777\n",
      "For Model RandomForestRegressor() At random state 41, the testing accuracy is: 0.7804478599068806\n",
      "\n",
      "\n"
     ]
    },
    {
     "name": "stdout",
     "output_type": "stream",
     "text": [
      "For Model RandomForestRegressor() At random state 42, the training accuracy is: 0.9695711634883889\n",
      "For Model RandomForestRegressor() At random state 42, the testing accuracy is: 0.8285589066007654\n",
      "\n",
      "\n",
      "For Model RandomForestRegressor() At random state 43, the training accuracy is: 0.9676343649516711\n",
      "For Model RandomForestRegressor() At random state 43, the testing accuracy is: 0.8372959719928252\n",
      "\n",
      "\n",
      "For Model RandomForestRegressor() At random state 44, the training accuracy is: 0.9685093151646583\n",
      "For Model RandomForestRegressor() At random state 44, the testing accuracy is: 0.8217915837658438\n",
      "\n",
      "\n",
      "For Model RandomForestRegressor() At random state 45, the training accuracy is: 0.9715514876996285\n",
      "For Model RandomForestRegressor() At random state 45, the testing accuracy is: 0.7912273924472573\n",
      "\n",
      "\n",
      "For Model RandomForestRegressor() At random state 46, the training accuracy is: 0.9701259198241888\n",
      "For Model RandomForestRegressor() At random state 46, the testing accuracy is: 0.8311887716797055\n",
      "\n",
      "\n",
      "For Model RandomForestRegressor() At random state 47, the training accuracy is: 0.9673480248486476\n",
      "For Model RandomForestRegressor() At random state 47, the testing accuracy is: 0.8401539837271379\n",
      "\n",
      "\n",
      "For Model RandomForestRegressor() At random state 48, the training accuracy is: 0.9709759412347689\n",
      "For Model RandomForestRegressor() At random state 48, the testing accuracy is: 0.7840281704137813\n",
      "\n",
      "\n",
      "For Model RandomForestRegressor() At random state 49, the training accuracy is: 0.9679404816545725\n",
      "For Model RandomForestRegressor() At random state 49, the testing accuracy is: 0.8432627610556735\n",
      "\n",
      "\n",
      "For Model RandomForestRegressor() At random state 50, the training accuracy is: 0.9655881952832087\n",
      "For Model RandomForestRegressor() At random state 50, the testing accuracy is: 0.8484936070520288\n",
      "\n",
      "\n",
      "For Model RandomForestRegressor() At random state 51, the training accuracy is: 0.9668091271375746\n",
      "For Model RandomForestRegressor() At random state 51, the testing accuracy is: 0.8369050085475376\n",
      "\n",
      "\n",
      "For Model RandomForestRegressor() At random state 52, the training accuracy is: 0.9697261748301298\n",
      "For Model RandomForestRegressor() At random state 52, the testing accuracy is: 0.7874067033083683\n",
      "\n",
      "\n",
      "For Model RandomForestRegressor() At random state 53, the training accuracy is: 0.967497631965277\n",
      "For Model RandomForestRegressor() At random state 53, the testing accuracy is: 0.8281150355448625\n",
      "\n",
      "\n",
      "For Model RandomForestRegressor() At random state 54, the training accuracy is: 0.9719152496686186\n",
      "For Model RandomForestRegressor() At random state 54, the testing accuracy is: 0.7719338568735022\n",
      "\n",
      "\n",
      "For Model RandomForestRegressor() At random state 55, the training accuracy is: 0.968471782358278\n",
      "For Model RandomForestRegressor() At random state 55, the testing accuracy is: 0.8558286959968794\n",
      "\n",
      "\n",
      "For Model RandomForestRegressor() At random state 56, the training accuracy is: 0.9698313062063497\n",
      "For Model RandomForestRegressor() At random state 56, the testing accuracy is: 0.8001704855225404\n",
      "\n",
      "\n",
      "For Model RandomForestRegressor() At random state 57, the training accuracy is: 0.9680610264625751\n",
      "For Model RandomForestRegressor() At random state 57, the testing accuracy is: 0.7926711716583016\n",
      "\n",
      "\n",
      "For Model RandomForestRegressor() At random state 58, the training accuracy is: 0.9700744833240422\n",
      "For Model RandomForestRegressor() At random state 58, the testing accuracy is: 0.7561423648615953\n",
      "\n",
      "\n",
      "For Model RandomForestRegressor() At random state 59, the training accuracy is: 0.9709023503201235\n",
      "For Model RandomForestRegressor() At random state 59, the testing accuracy is: 0.8251937374908707\n",
      "\n",
      "\n",
      "For Model RandomForestRegressor() At random state 60, the training accuracy is: 0.96836414597326\n",
      "For Model RandomForestRegressor() At random state 60, the testing accuracy is: 0.8360609313058172\n",
      "\n",
      "\n",
      "For Model RandomForestRegressor() At random state 61, the training accuracy is: 0.9697127161744145\n",
      "For Model RandomForestRegressor() At random state 61, the testing accuracy is: 0.8044025190372275\n",
      "\n",
      "\n",
      "For Model RandomForestRegressor() At random state 62, the training accuracy is: 0.9676654563778031\n",
      "For Model RandomForestRegressor() At random state 62, the testing accuracy is: 0.8438580848918729\n",
      "\n",
      "\n",
      "For Model RandomForestRegressor() At random state 63, the training accuracy is: 0.9715219654997611\n",
      "For Model RandomForestRegressor() At random state 63, the testing accuracy is: 0.8078562904584551\n",
      "\n",
      "\n",
      "For Model RandomForestRegressor() At random state 64, the training accuracy is: 0.967023908926392\n",
      "For Model RandomForestRegressor() At random state 64, the testing accuracy is: 0.8461212145953972\n",
      "\n",
      "\n",
      "For Model RandomForestRegressor() At random state 65, the training accuracy is: 0.9685316612837738\n",
      "For Model RandomForestRegressor() At random state 65, the testing accuracy is: 0.8069363057947547\n",
      "\n",
      "\n",
      "For Model RandomForestRegressor() At random state 66, the training accuracy is: 0.9683987578996329\n",
      "For Model RandomForestRegressor() At random state 66, the testing accuracy is: 0.7896730441956015\n",
      "\n",
      "\n",
      "For Model RandomForestRegressor() At random state 67, the training accuracy is: 0.9697127389475915\n",
      "For Model RandomForestRegressor() At random state 67, the testing accuracy is: 0.7745157206207269\n",
      "\n",
      "\n",
      "For Model RandomForestRegressor() At random state 68, the training accuracy is: 0.9693189819253356\n",
      "For Model RandomForestRegressor() At random state 68, the testing accuracy is: 0.8077180877766963\n",
      "\n",
      "\n",
      "For Model RandomForestRegressor() At random state 69, the training accuracy is: 0.9690273187321199\n",
      "For Model RandomForestRegressor() At random state 69, the testing accuracy is: 0.8038438059655719\n",
      "\n",
      "\n",
      "For Model RandomForestRegressor() At random state 70, the training accuracy is: 0.9660086463833046\n",
      "For Model RandomForestRegressor() At random state 70, the testing accuracy is: 0.8650637961999033\n",
      "\n",
      "\n",
      "For Model RandomForestRegressor() At random state 71, the training accuracy is: 0.9703185856324711\n",
      "For Model RandomForestRegressor() At random state 71, the testing accuracy is: 0.7735885518129031\n",
      "\n",
      "\n",
      "For Model RandomForestRegressor() At random state 72, the training accuracy is: 0.9679443331412841\n",
      "For Model RandomForestRegressor() At random state 72, the testing accuracy is: 0.8225153360049244\n",
      "\n",
      "\n",
      "For Model RandomForestRegressor() At random state 73, the training accuracy is: 0.9722080909756701\n",
      "For Model RandomForestRegressor() At random state 73, the testing accuracy is: 0.7451302085940542\n",
      "\n",
      "\n",
      "For Model RandomForestRegressor() At random state 74, the training accuracy is: 0.9664865261006841\n",
      "For Model RandomForestRegressor() At random state 74, the testing accuracy is: 0.8636434177470524\n",
      "\n",
      "\n",
      "For Model RandomForestRegressor() At random state 75, the training accuracy is: 0.967654187759738\n",
      "For Model RandomForestRegressor() At random state 75, the testing accuracy is: 0.8306234972412687\n",
      "\n",
      "\n",
      "For Model RandomForestRegressor() At random state 76, the training accuracy is: 0.9675927952741398\n",
      "For Model RandomForestRegressor() At random state 76, the testing accuracy is: 0.819400134318236\n",
      "\n",
      "\n",
      "For Model RandomForestRegressor() At random state 77, the training accuracy is: 0.9709964756906649\n",
      "For Model RandomForestRegressor() At random state 77, the testing accuracy is: 0.8121740294710253\n",
      "\n",
      "\n",
      "For Model RandomForestRegressor() At random state 78, the training accuracy is: 0.9669039265712605\n",
      "For Model RandomForestRegressor() At random state 78, the testing accuracy is: 0.8430620090522567\n",
      "\n",
      "\n",
      "For Model RandomForestRegressor() At random state 79, the training accuracy is: 0.9670728741653395\n",
      "For Model RandomForestRegressor() At random state 79, the testing accuracy is: 0.8473207783211741\n",
      "\n",
      "\n",
      "For Model RandomForestRegressor() At random state 80, the training accuracy is: 0.9674797852542507\n",
      "For Model RandomForestRegressor() At random state 80, the testing accuracy is: 0.8612814594154063\n",
      "\n",
      "\n",
      "For Model RandomForestRegressor() At random state 81, the training accuracy is: 0.969254701533831\n",
      "For Model RandomForestRegressor() At random state 81, the testing accuracy is: 0.7919088012509925\n",
      "\n",
      "\n",
      "For Model RandomForestRegressor() At random state 82, the training accuracy is: 0.9693116718668005\n",
      "For Model RandomForestRegressor() At random state 82, the testing accuracy is: 0.7947448829389775\n",
      "\n",
      "\n",
      "For Model RandomForestRegressor() At random state 83, the training accuracy is: 0.9723420861061356\n",
      "For Model RandomForestRegressor() At random state 83, the testing accuracy is: 0.7950586131213444\n",
      "\n",
      "\n"
     ]
    },
    {
     "name": "stdout",
     "output_type": "stream",
     "text": [
      "For Model RandomForestRegressor() At random state 84, the training accuracy is: 0.9691402587167703\n",
      "For Model RandomForestRegressor() At random state 84, the testing accuracy is: 0.8237886726067972\n",
      "\n",
      "\n",
      "For Model RandomForestRegressor() At random state 85, the training accuracy is: 0.9715387367748444\n",
      "For Model RandomForestRegressor() At random state 85, the testing accuracy is: 0.8213806353784426\n",
      "\n",
      "\n",
      "For Model RandomForestRegressor() At random state 86, the training accuracy is: 0.9721769871773194\n",
      "For Model RandomForestRegressor() At random state 86, the testing accuracy is: 0.7572896959075281\n",
      "\n",
      "\n",
      "For Model RandomForestRegressor() At random state 87, the training accuracy is: 0.9682422380272138\n",
      "For Model RandomForestRegressor() At random state 87, the testing accuracy is: 0.8359120332768116\n",
      "\n",
      "\n",
      "For Model RandomForestRegressor() At random state 88, the training accuracy is: 0.9692626666639891\n",
      "For Model RandomForestRegressor() At random state 88, the testing accuracy is: 0.7991081631642292\n",
      "\n",
      "\n",
      "For Model RandomForestRegressor() At random state 89, the training accuracy is: 0.9685756531478074\n",
      "For Model RandomForestRegressor() At random state 89, the testing accuracy is: 0.8293154988039191\n",
      "\n",
      "\n",
      "For Model RandomForestRegressor() At random state 90, the training accuracy is: 0.9675918339867654\n",
      "For Model RandomForestRegressor() At random state 90, the testing accuracy is: 0.8544553931502766\n",
      "\n",
      "\n",
      "For Model RandomForestRegressor() At random state 91, the training accuracy is: 0.9689293166334442\n",
      "For Model RandomForestRegressor() At random state 91, the testing accuracy is: 0.7999356773559889\n",
      "\n",
      "\n",
      "For Model RandomForestRegressor() At random state 92, the training accuracy is: 0.9663796359181558\n",
      "For Model RandomForestRegressor() At random state 92, the testing accuracy is: 0.8624824934043809\n",
      "\n",
      "\n",
      "For Model RandomForestRegressor() At random state 93, the training accuracy is: 0.9683405309217303\n",
      "For Model RandomForestRegressor() At random state 93, the testing accuracy is: 0.8414838928972262\n",
      "\n",
      "\n",
      "For Model RandomForestRegressor() At random state 94, the training accuracy is: 0.9707497591303544\n",
      "For Model RandomForestRegressor() At random state 94, the testing accuracy is: 0.7756712499565537\n",
      "\n",
      "\n",
      "For Model RandomForestRegressor() At random state 95, the training accuracy is: 0.9710745199035966\n",
      "For Model RandomForestRegressor() At random state 95, the testing accuracy is: 0.7774971501625563\n",
      "\n",
      "\n",
      "For Model RandomForestRegressor() At random state 96, the training accuracy is: 0.9654142830741278\n",
      "For Model RandomForestRegressor() At random state 96, the testing accuracy is: 0.8589570268999875\n",
      "\n",
      "\n",
      "For Model RandomForestRegressor() At random state 97, the training accuracy is: 0.9716766934655143\n",
      "For Model RandomForestRegressor() At random state 97, the testing accuracy is: 0.763603244835148\n",
      "\n",
      "\n",
      "For Model RandomForestRegressor() At random state 98, the training accuracy is: 0.9664481245070351\n",
      "For Model RandomForestRegressor() At random state 98, the testing accuracy is: 0.8716791373948716\n",
      "\n",
      "\n",
      "For Model RandomForestRegressor() At random state 99, the training accuracy is: 0.9695778057309645\n",
      "For Model RandomForestRegressor() At random state 99, the testing accuracy is: 0.8299052050694251\n",
      "\n",
      "\n",
      "For Model AdaBoostRegressor() At random state 0, the training accuracy is: 0.7750064539827599\n",
      "For Model AdaBoostRegressor() At random state 0, the testing accuracy is: 0.7848355782685348\n",
      "\n",
      "\n",
      "For Model AdaBoostRegressor() At random state 1, the training accuracy is: 0.7685786654075553\n",
      "For Model AdaBoostRegressor() At random state 1, the testing accuracy is: 0.717930116798468\n",
      "\n",
      "\n",
      "For Model AdaBoostRegressor() At random state 2, the training accuracy is: 0.7866096875845673\n",
      "For Model AdaBoostRegressor() At random state 2, the testing accuracy is: 0.7823212849481096\n",
      "\n",
      "\n",
      "For Model AdaBoostRegressor() At random state 3, the training accuracy is: 0.7914896015062141\n",
      "For Model AdaBoostRegressor() At random state 3, the testing accuracy is: 0.7477748334621737\n",
      "\n",
      "\n",
      "For Model AdaBoostRegressor() At random state 4, the training accuracy is: 0.7817597242923532\n",
      "For Model AdaBoostRegressor() At random state 4, the testing accuracy is: 0.7506401114706587\n",
      "\n",
      "\n",
      "For Model AdaBoostRegressor() At random state 5, the training accuracy is: 0.7900621674243408\n",
      "For Model AdaBoostRegressor() At random state 5, the testing accuracy is: 0.7712838043552706\n",
      "\n",
      "\n",
      "For Model AdaBoostRegressor() At random state 6, the training accuracy is: 0.7909911442249408\n",
      "For Model AdaBoostRegressor() At random state 6, the testing accuracy is: 0.7442892987550507\n",
      "\n",
      "\n",
      "For Model AdaBoostRegressor() At random state 7, the training accuracy is: 0.7828217794378076\n",
      "For Model AdaBoostRegressor() At random state 7, the testing accuracy is: 0.7947172514948438\n",
      "\n",
      "\n",
      "For Model AdaBoostRegressor() At random state 8, the training accuracy is: 0.7766171131999571\n",
      "For Model AdaBoostRegressor() At random state 8, the testing accuracy is: 0.7174711181660849\n",
      "\n",
      "\n",
      "For Model AdaBoostRegressor() At random state 9, the training accuracy is: 0.8088904315161506\n",
      "For Model AdaBoostRegressor() At random state 9, the testing accuracy is: 0.7666340271345521\n",
      "\n",
      "\n",
      "For Model AdaBoostRegressor() At random state 10, the training accuracy is: 0.7793513779147799\n",
      "For Model AdaBoostRegressor() At random state 10, the testing accuracy is: 0.7845642893414704\n",
      "\n",
      "\n",
      "For Model AdaBoostRegressor() At random state 11, the training accuracy is: 0.7814731811778644\n",
      "For Model AdaBoostRegressor() At random state 11, the testing accuracy is: 0.7679000171332001\n",
      "\n",
      "\n",
      "For Model AdaBoostRegressor() At random state 12, the training accuracy is: 0.7761825593057847\n",
      "For Model AdaBoostRegressor() At random state 12, the testing accuracy is: 0.7948591745875622\n",
      "\n",
      "\n",
      "For Model AdaBoostRegressor() At random state 13, the training accuracy is: 0.7982255749709046\n",
      "For Model AdaBoostRegressor() At random state 13, the testing accuracy is: 0.7368724187979682\n",
      "\n",
      "\n",
      "For Model AdaBoostRegressor() At random state 14, the training accuracy is: 0.796297551909938\n",
      "For Model AdaBoostRegressor() At random state 14, the testing accuracy is: 0.7432990473127014\n",
      "\n",
      "\n",
      "For Model AdaBoostRegressor() At random state 15, the training accuracy is: 0.791949455854742\n",
      "For Model AdaBoostRegressor() At random state 15, the testing accuracy is: 0.7747554741774999\n",
      "\n",
      "\n",
      "For Model AdaBoostRegressor() At random state 16, the training accuracy is: 0.7968664123277256\n",
      "For Model AdaBoostRegressor() At random state 16, the testing accuracy is: 0.7448063230561379\n",
      "\n",
      "\n",
      "For Model AdaBoostRegressor() At random state 17, the training accuracy is: 0.78968711825231\n",
      "For Model AdaBoostRegressor() At random state 17, the testing accuracy is: 0.7483647682684818\n",
      "\n",
      "\n",
      "For Model AdaBoostRegressor() At random state 18, the training accuracy is: 0.7933852783367692\n",
      "For Model AdaBoostRegressor() At random state 18, the testing accuracy is: 0.7709299453091486\n",
      "\n",
      "\n",
      "For Model AdaBoostRegressor() At random state 19, the training accuracy is: 0.796096307105536\n",
      "For Model AdaBoostRegressor() At random state 19, the testing accuracy is: 0.7463888777449844\n",
      "\n",
      "\n",
      "For Model AdaBoostRegressor() At random state 20, the training accuracy is: 0.7820169172197499\n",
      "For Model AdaBoostRegressor() At random state 20, the testing accuracy is: 0.7688702785118405\n",
      "\n",
      "\n",
      "For Model AdaBoostRegressor() At random state 21, the training accuracy is: 0.7981717594207746\n",
      "For Model AdaBoostRegressor() At random state 21, the testing accuracy is: 0.7518803792978037\n",
      "\n",
      "\n",
      "For Model AdaBoostRegressor() At random state 22, the training accuracy is: 0.7834596092441691\n",
      "For Model AdaBoostRegressor() At random state 22, the testing accuracy is: 0.7302134624132671\n",
      "\n",
      "\n",
      "For Model AdaBoostRegressor() At random state 23, the training accuracy is: 0.789433206272074\n",
      "For Model AdaBoostRegressor() At random state 23, the testing accuracy is: 0.7396439719071917\n",
      "\n",
      "\n",
      "For Model AdaBoostRegressor() At random state 24, the training accuracy is: 0.7931873895526004\n",
      "For Model AdaBoostRegressor() At random state 24, the testing accuracy is: 0.781442337497812\n",
      "\n",
      "\n",
      "For Model AdaBoostRegressor() At random state 25, the training accuracy is: 0.7869787723383657\n",
      "For Model AdaBoostRegressor() At random state 25, the testing accuracy is: 0.7821253400913112\n",
      "\n",
      "\n",
      "For Model AdaBoostRegressor() At random state 26, the training accuracy is: 0.781610700635422\n",
      "For Model AdaBoostRegressor() At random state 26, the testing accuracy is: 0.7204544730276372\n",
      "\n",
      "\n"
     ]
    },
    {
     "name": "stdout",
     "output_type": "stream",
     "text": [
      "For Model AdaBoostRegressor() At random state 27, the training accuracy is: 0.7831141921452768\n",
      "For Model AdaBoostRegressor() At random state 27, the testing accuracy is: 0.7647802657553323\n",
      "\n",
      "\n",
      "For Model AdaBoostRegressor() At random state 28, the training accuracy is: 0.7927184067071396\n",
      "For Model AdaBoostRegressor() At random state 28, the testing accuracy is: 0.7553132908265084\n",
      "\n",
      "\n",
      "For Model AdaBoostRegressor() At random state 29, the training accuracy is: 0.7676930657095935\n",
      "For Model AdaBoostRegressor() At random state 29, the testing accuracy is: 0.7803669889758194\n",
      "\n",
      "\n",
      "For Model AdaBoostRegressor() At random state 30, the training accuracy is: 0.7915231262326266\n",
      "For Model AdaBoostRegressor() At random state 30, the testing accuracy is: 0.7690541179957281\n",
      "\n",
      "\n",
      "For Model AdaBoostRegressor() At random state 31, the training accuracy is: 0.7832274263090053\n",
      "For Model AdaBoostRegressor() At random state 31, the testing accuracy is: 0.7515606166716409\n",
      "\n",
      "\n",
      "For Model AdaBoostRegressor() At random state 32, the training accuracy is: 0.7970197672685448\n",
      "For Model AdaBoostRegressor() At random state 32, the testing accuracy is: 0.7317417189060651\n",
      "\n",
      "\n",
      "For Model AdaBoostRegressor() At random state 33, the training accuracy is: 0.7870511276496969\n",
      "For Model AdaBoostRegressor() At random state 33, the testing accuracy is: 0.7498036078937356\n",
      "\n",
      "\n",
      "For Model AdaBoostRegressor() At random state 34, the training accuracy is: 0.777476004852309\n",
      "For Model AdaBoostRegressor() At random state 34, the testing accuracy is: 0.7845918527275749\n",
      "\n",
      "\n",
      "For Model AdaBoostRegressor() At random state 35, the training accuracy is: 0.7823925807939909\n",
      "For Model AdaBoostRegressor() At random state 35, the testing accuracy is: 0.7369157929678483\n",
      "\n",
      "\n",
      "For Model AdaBoostRegressor() At random state 36, the training accuracy is: 0.7842623748441586\n",
      "For Model AdaBoostRegressor() At random state 36, the testing accuracy is: 0.7633898802534705\n",
      "\n",
      "\n",
      "For Model AdaBoostRegressor() At random state 37, the training accuracy is: 0.7723620067821659\n",
      "For Model AdaBoostRegressor() At random state 37, the testing accuracy is: 0.8020252886404\n",
      "\n",
      "\n",
      "For Model AdaBoostRegressor() At random state 38, the training accuracy is: 0.7863780571560122\n",
      "For Model AdaBoostRegressor() At random state 38, the testing accuracy is: 0.7472528964392233\n",
      "\n",
      "\n",
      "For Model AdaBoostRegressor() At random state 39, the training accuracy is: 0.7943454275782534\n",
      "For Model AdaBoostRegressor() At random state 39, the testing accuracy is: 0.7440464029013933\n",
      "\n",
      "\n",
      "For Model AdaBoostRegressor() At random state 40, the training accuracy is: 0.8091918103790527\n",
      "For Model AdaBoostRegressor() At random state 40, the testing accuracy is: 0.7338834097236414\n",
      "\n",
      "\n",
      "For Model AdaBoostRegressor() At random state 41, the training accuracy is: 0.8002195503669042\n",
      "For Model AdaBoostRegressor() At random state 41, the testing accuracy is: 0.759499946378684\n",
      "\n",
      "\n",
      "For Model AdaBoostRegressor() At random state 42, the training accuracy is: 0.7828964728922242\n",
      "For Model AdaBoostRegressor() At random state 42, the testing accuracy is: 0.7632032286791582\n",
      "\n",
      "\n",
      "For Model AdaBoostRegressor() At random state 43, the training accuracy is: 0.7868441205791677\n",
      "For Model AdaBoostRegressor() At random state 43, the testing accuracy is: 0.779132489063998\n",
      "\n",
      "\n",
      "For Model AdaBoostRegressor() At random state 44, the training accuracy is: 0.7581914289929786\n",
      "For Model AdaBoostRegressor() At random state 44, the testing accuracy is: 0.7709938436437614\n",
      "\n",
      "\n",
      "For Model AdaBoostRegressor() At random state 45, the training accuracy is: 0.7915364773241129\n",
      "For Model AdaBoostRegressor() At random state 45, the testing accuracy is: 0.7507684163515148\n",
      "\n",
      "\n",
      "For Model AdaBoostRegressor() At random state 46, the training accuracy is: 0.7888373219740261\n",
      "For Model AdaBoostRegressor() At random state 46, the testing accuracy is: 0.7661911712092357\n",
      "\n",
      "\n",
      "For Model AdaBoostRegressor() At random state 47, the training accuracy is: 0.7923408942573311\n",
      "For Model AdaBoostRegressor() At random state 47, the testing accuracy is: 0.7531074147033548\n",
      "\n",
      "\n",
      "For Model AdaBoostRegressor() At random state 48, the training accuracy is: 0.7900176793964077\n",
      "For Model AdaBoostRegressor() At random state 48, the testing accuracy is: 0.734091531360306\n",
      "\n",
      "\n",
      "For Model AdaBoostRegressor() At random state 49, the training accuracy is: 0.7824807068869064\n",
      "For Model AdaBoostRegressor() At random state 49, the testing accuracy is: 0.7417472838648603\n",
      "\n",
      "\n",
      "For Model AdaBoostRegressor() At random state 50, the training accuracy is: 0.7887116580814555\n",
      "For Model AdaBoostRegressor() At random state 50, the testing accuracy is: 0.775302559450431\n",
      "\n",
      "\n",
      "For Model AdaBoostRegressor() At random state 51, the training accuracy is: 0.7938909763605406\n",
      "For Model AdaBoostRegressor() At random state 51, the testing accuracy is: 0.7602863427074181\n",
      "\n",
      "\n",
      "For Model AdaBoostRegressor() At random state 52, the training accuracy is: 0.7994322195830026\n",
      "For Model AdaBoostRegressor() At random state 52, the testing accuracy is: 0.758980126936137\n",
      "\n",
      "\n",
      "For Model AdaBoostRegressor() At random state 53, the training accuracy is: 0.7730150797152879\n",
      "For Model AdaBoostRegressor() At random state 53, the testing accuracy is: 0.7279843686539471\n",
      "\n",
      "\n",
      "For Model AdaBoostRegressor() At random state 54, the training accuracy is: 0.7907515062940428\n",
      "For Model AdaBoostRegressor() At random state 54, the testing accuracy is: 0.7476182799523775\n",
      "\n",
      "\n",
      "For Model AdaBoostRegressor() At random state 55, the training accuracy is: 0.7684562071292592\n",
      "For Model AdaBoostRegressor() At random state 55, the testing accuracy is: 0.7347890514371209\n",
      "\n",
      "\n",
      "For Model AdaBoostRegressor() At random state 56, the training accuracy is: 0.8049699764484892\n",
      "For Model AdaBoostRegressor() At random state 56, the testing accuracy is: 0.7497837129521104\n",
      "\n",
      "\n",
      "For Model AdaBoostRegressor() At random state 57, the training accuracy is: 0.7983116678660671\n",
      "For Model AdaBoostRegressor() At random state 57, the testing accuracy is: 0.732771591249817\n",
      "\n",
      "\n",
      "For Model AdaBoostRegressor() At random state 58, the training accuracy is: 0.7933269773115297\n",
      "For Model AdaBoostRegressor() At random state 58, the testing accuracy is: 0.7294305905545229\n",
      "\n",
      "\n",
      "For Model AdaBoostRegressor() At random state 59, the training accuracy is: 0.7923656852862189\n",
      "For Model AdaBoostRegressor() At random state 59, the testing accuracy is: 0.7478692895537062\n",
      "\n",
      "\n",
      "For Model AdaBoostRegressor() At random state 60, the training accuracy is: 0.7880190911826851\n",
      "For Model AdaBoostRegressor() At random state 60, the testing accuracy is: 0.7746354230697912\n",
      "\n",
      "\n",
      "For Model AdaBoostRegressor() At random state 61, the training accuracy is: 0.7802696133275288\n",
      "For Model AdaBoostRegressor() At random state 61, the testing accuracy is: 0.7668769239140912\n",
      "\n",
      "\n",
      "For Model AdaBoostRegressor() At random state 62, the training accuracy is: 0.7796024866372964\n",
      "For Model AdaBoostRegressor() At random state 62, the testing accuracy is: 0.765517010092623\n",
      "\n",
      "\n",
      "For Model AdaBoostRegressor() At random state 63, the training accuracy is: 0.7707837682755326\n",
      "For Model AdaBoostRegressor() At random state 63, the testing accuracy is: 0.7595379102490536\n",
      "\n",
      "\n",
      "For Model AdaBoostRegressor() At random state 64, the training accuracy is: 0.7795766557639766\n",
      "For Model AdaBoostRegressor() At random state 64, the testing accuracy is: 0.7936319052549153\n",
      "\n",
      "\n",
      "For Model AdaBoostRegressor() At random state 65, the training accuracy is: 0.7953114823693318\n",
      "For Model AdaBoostRegressor() At random state 65, the testing accuracy is: 0.7651704074873285\n",
      "\n",
      "\n",
      "For Model AdaBoostRegressor() At random state 66, the training accuracy is: 0.7991864336800756\n",
      "For Model AdaBoostRegressor() At random state 66, the testing accuracy is: 0.7502980770788914\n",
      "\n",
      "\n",
      "For Model AdaBoostRegressor() At random state 67, the training accuracy is: 0.8049695269898087\n",
      "For Model AdaBoostRegressor() At random state 67, the testing accuracy is: 0.6980418803228992\n",
      "\n",
      "\n",
      "For Model AdaBoostRegressor() At random state 68, the training accuracy is: 0.7781654890654597\n",
      "For Model AdaBoostRegressor() At random state 68, the testing accuracy is: 0.7437401053885218\n",
      "\n",
      "\n",
      "For Model AdaBoostRegressor() At random state 69, the training accuracy is: 0.7833074618540361\n",
      "For Model AdaBoostRegressor() At random state 69, the testing accuracy is: 0.7088981338464915\n",
      "\n",
      "\n"
     ]
    },
    {
     "name": "stdout",
     "output_type": "stream",
     "text": [
      "For Model AdaBoostRegressor() At random state 70, the training accuracy is: 0.8041946157289397\n",
      "For Model AdaBoostRegressor() At random state 70, the testing accuracy is: 0.7935923868800783\n",
      "\n",
      "\n",
      "For Model AdaBoostRegressor() At random state 71, the training accuracy is: 0.8030821886203184\n",
      "For Model AdaBoostRegressor() At random state 71, the testing accuracy is: 0.7510336983143429\n",
      "\n",
      "\n",
      "For Model AdaBoostRegressor() At random state 72, the training accuracy is: 0.7983154621575386\n",
      "For Model AdaBoostRegressor() At random state 72, the testing accuracy is: 0.7649887285555188\n",
      "\n",
      "\n",
      "For Model AdaBoostRegressor() At random state 73, the training accuracy is: 0.808375467904662\n",
      "For Model AdaBoostRegressor() At random state 73, the testing accuracy is: 0.732402483932435\n",
      "\n",
      "\n",
      "For Model AdaBoostRegressor() At random state 74, the training accuracy is: 0.7897779833654693\n",
      "For Model AdaBoostRegressor() At random state 74, the testing accuracy is: 0.7951014522764662\n",
      "\n",
      "\n",
      "For Model AdaBoostRegressor() At random state 75, the training accuracy is: 0.7749549394777734\n",
      "For Model AdaBoostRegressor() At random state 75, the testing accuracy is: 0.7770274928110108\n",
      "\n",
      "\n",
      "For Model AdaBoostRegressor() At random state 76, the training accuracy is: 0.7923036748411348\n",
      "For Model AdaBoostRegressor() At random state 76, the testing accuracy is: 0.7755598612017032\n",
      "\n",
      "\n",
      "For Model AdaBoostRegressor() At random state 77, the training accuracy is: 0.7933358615460906\n",
      "For Model AdaBoostRegressor() At random state 77, the testing accuracy is: 0.7324714847691154\n",
      "\n",
      "\n",
      "For Model AdaBoostRegressor() At random state 78, the training accuracy is: 0.7800641806256382\n",
      "For Model AdaBoostRegressor() At random state 78, the testing accuracy is: 0.7686309251179472\n",
      "\n",
      "\n",
      "For Model AdaBoostRegressor() At random state 79, the training accuracy is: 0.7862046656282934\n",
      "For Model AdaBoostRegressor() At random state 79, the testing accuracy is: 0.7880344272999149\n",
      "\n",
      "\n",
      "For Model AdaBoostRegressor() At random state 80, the training accuracy is: 0.7847550074903866\n",
      "For Model AdaBoostRegressor() At random state 80, the testing accuracy is: 0.787561020200506\n",
      "\n",
      "\n",
      "For Model AdaBoostRegressor() At random state 81, the training accuracy is: 0.7749113733727996\n",
      "For Model AdaBoostRegressor() At random state 81, the testing accuracy is: 0.742520633619451\n",
      "\n",
      "\n",
      "For Model AdaBoostRegressor() At random state 82, the training accuracy is: 0.7894653567524914\n",
      "For Model AdaBoostRegressor() At random state 82, the testing accuracy is: 0.7195949706549357\n",
      "\n",
      "\n",
      "For Model AdaBoostRegressor() At random state 83, the training accuracy is: 0.795043296767709\n",
      "For Model AdaBoostRegressor() At random state 83, the testing accuracy is: 0.7491319103691838\n",
      "\n",
      "\n",
      "For Model AdaBoostRegressor() At random state 84, the training accuracy is: 0.7992089165423096\n",
      "For Model AdaBoostRegressor() At random state 84, the testing accuracy is: 0.7437025397293888\n",
      "\n",
      "\n",
      "For Model AdaBoostRegressor() At random state 85, the training accuracy is: 0.7903929756248793\n",
      "For Model AdaBoostRegressor() At random state 85, the testing accuracy is: 0.7651565786282699\n",
      "\n",
      "\n",
      "For Model AdaBoostRegressor() At random state 86, the training accuracy is: 0.8149243514429971\n",
      "For Model AdaBoostRegressor() At random state 86, the testing accuracy is: 0.7344550758708244\n",
      "\n",
      "\n",
      "For Model AdaBoostRegressor() At random state 87, the training accuracy is: 0.7936395853847358\n",
      "For Model AdaBoostRegressor() At random state 87, the testing accuracy is: 0.7827992680851568\n",
      "\n",
      "\n",
      "For Model AdaBoostRegressor() At random state 88, the training accuracy is: 0.7939900927013194\n",
      "For Model AdaBoostRegressor() At random state 88, the testing accuracy is: 0.7489702888321352\n",
      "\n",
      "\n",
      "For Model AdaBoostRegressor() At random state 89, the training accuracy is: 0.7723724426566708\n",
      "For Model AdaBoostRegressor() At random state 89, the testing accuracy is: 0.7375613314662772\n",
      "\n",
      "\n",
      "For Model AdaBoostRegressor() At random state 90, the training accuracy is: 0.7837047265084397\n",
      "For Model AdaBoostRegressor() At random state 90, the testing accuracy is: 0.7834362066334736\n",
      "\n",
      "\n",
      "For Model AdaBoostRegressor() At random state 91, the training accuracy is: 0.7890195141356471\n",
      "For Model AdaBoostRegressor() At random state 91, the testing accuracy is: 0.7582613933985607\n",
      "\n",
      "\n",
      "For Model AdaBoostRegressor() At random state 92, the training accuracy is: 0.7742903251370331\n",
      "For Model AdaBoostRegressor() At random state 92, the testing accuracy is: 0.812192447116303\n",
      "\n",
      "\n",
      "For Model AdaBoostRegressor() At random state 93, the training accuracy is: 0.7703850416105456\n",
      "For Model AdaBoostRegressor() At random state 93, the testing accuracy is: 0.762333119269903\n",
      "\n",
      "\n",
      "For Model AdaBoostRegressor() At random state 94, the training accuracy is: 0.7887869005112389\n",
      "For Model AdaBoostRegressor() At random state 94, the testing accuracy is: 0.7449337337095521\n",
      "\n",
      "\n",
      "For Model AdaBoostRegressor() At random state 95, the training accuracy is: 0.7754363282439048\n",
      "For Model AdaBoostRegressor() At random state 95, the testing accuracy is: 0.730192070680369\n",
      "\n",
      "\n",
      "For Model AdaBoostRegressor() At random state 96, the training accuracy is: 0.7620754032610932\n",
      "For Model AdaBoostRegressor() At random state 96, the testing accuracy is: 0.8165252778221505\n",
      "\n",
      "\n",
      "For Model AdaBoostRegressor() At random state 97, the training accuracy is: 0.8031077170393943\n",
      "For Model AdaBoostRegressor() At random state 97, the testing accuracy is: 0.7174023946303717\n",
      "\n",
      "\n",
      "For Model AdaBoostRegressor() At random state 98, the training accuracy is: 0.7368844728149391\n",
      "For Model AdaBoostRegressor() At random state 98, the testing accuracy is: 0.8112346620972646\n",
      "\n",
      "\n",
      "For Model AdaBoostRegressor() At random state 99, the training accuracy is: 0.7977441111077339\n",
      "For Model AdaBoostRegressor() At random state 99, the testing accuracy is: 0.7379663234623333\n",
      "\n",
      "\n",
      "For Model Ridge() At random state 0, the training accuracy is: 0.448763857697834\n",
      "For Model Ridge() At random state 0, the testing accuracy is: 0.4731386373627914\n",
      "\n",
      "\n",
      "For Model Ridge() At random state 1, the training accuracy is: 0.4693253652994127\n",
      "For Model Ridge() At random state 1, the testing accuracy is: 0.4004055010786822\n",
      "\n",
      "\n",
      "For Model Ridge() At random state 2, the training accuracy is: 0.45626434812607053\n",
      "For Model Ridge() At random state 2, the testing accuracy is: 0.45341368441379704\n",
      "\n",
      "\n",
      "For Model Ridge() At random state 3, the training accuracy is: 0.4782937401106254\n",
      "For Model Ridge() At random state 3, the testing accuracy is: 0.3787475719733836\n",
      "\n",
      "\n",
      "For Model Ridge() At random state 4, the training accuracy is: 0.4794924088598468\n",
      "For Model Ridge() At random state 4, the testing accuracy is: 0.35189828758853614\n",
      "\n",
      "\n",
      "For Model Ridge() At random state 5, the training accuracy is: 0.4487583306866655\n",
      "For Model Ridge() At random state 5, the testing accuracy is: 0.4771855601882916\n",
      "\n",
      "\n",
      "For Model Ridge() At random state 6, the training accuracy is: 0.4607117487101401\n",
      "For Model Ridge() At random state 6, the testing accuracy is: 0.43921006053160516\n",
      "\n",
      "\n",
      "For Model Ridge() At random state 7, the training accuracy is: 0.4508438757962595\n",
      "For Model Ridge() At random state 7, the testing accuracy is: 0.4687711283868665\n",
      "\n",
      "\n",
      "For Model Ridge() At random state 8, the training accuracy is: 0.4483749918306805\n",
      "For Model Ridge() At random state 8, the testing accuracy is: 0.4843064352559797\n",
      "\n",
      "\n",
      "For Model Ridge() At random state 9, the training accuracy is: 0.4415655009541609\n",
      "For Model Ridge() At random state 9, the testing accuracy is: 0.49365424768656274\n",
      "\n",
      "\n",
      "For Model Ridge() At random state 10, the training accuracy is: 0.45346839403459105\n",
      "For Model Ridge() At random state 10, the testing accuracy is: 0.4587208806445491\n",
      "\n",
      "\n",
      "For Model Ridge() At random state 11, the training accuracy is: 0.45938418567179606\n",
      "For Model Ridge() At random state 11, the testing accuracy is: 0.4446344419390176\n",
      "\n",
      "\n",
      "For Model Ridge() At random state 12, the training accuracy is: 0.45538492304423117\n",
      "For Model Ridge() At random state 12, the testing accuracy is: 0.4575010746498769\n",
      "\n",
      "\n",
      "For Model Ridge() At random state 13, the training accuracy is: 0.4639823803747497\n",
      "For Model Ridge() At random state 13, the testing accuracy is: 0.4315484329166064\n",
      "\n",
      "\n",
      "For Model Ridge() At random state 14, the training accuracy is: 0.4592910325361721\n",
      "For Model Ridge() At random state 14, the testing accuracy is: 0.4412984651748063\n",
      "\n",
      "\n",
      "For Model Ridge() At random state 15, the training accuracy is: 0.45537100043766154\n",
      "For Model Ridge() At random state 15, the testing accuracy is: 0.455736844383949\n",
      "\n",
      "\n",
      "For Model Ridge() At random state 16, the training accuracy is: 0.4720297228812872\n",
      "For Model Ridge() At random state 16, the testing accuracy is: 0.39382485167007963\n",
      "\n",
      "\n",
      "For Model Ridge() At random state 17, the training accuracy is: 0.46493678130004024\n",
      "For Model Ridge() At random state 17, the testing accuracy is: 0.4172768738091439\n",
      "\n",
      "\n",
      "For Model Ridge() At random state 18, the training accuracy is: 0.4499168295849739\n",
      "For Model Ridge() At random state 18, the testing accuracy is: 0.4737606879765818\n",
      "\n",
      "\n",
      "For Model Ridge() At random state 19, the training accuracy is: 0.4627334145193307\n",
      "For Model Ridge() At random state 19, the testing accuracy is: 0.4293837047019188\n",
      "\n",
      "\n",
      "For Model Ridge() At random state 20, the training accuracy is: 0.4586599927843853\n",
      "For Model Ridge() At random state 20, the testing accuracy is: 0.43579567297399746\n",
      "\n",
      "\n",
      "For Model Ridge() At random state 21, the training accuracy is: 0.44475887826771177\n",
      "For Model Ridge() At random state 21, the testing accuracy is: 0.49605540630874223\n",
      "\n",
      "\n",
      "For Model Ridge() At random state 22, the training accuracy is: 0.4501473823377249\n",
      "For Model Ridge() At random state 22, the testing accuracy is: 0.4792919960445612\n",
      "\n",
      "\n",
      "For Model Ridge() At random state 23, the training accuracy is: 0.46520945287167914\n",
      "For Model Ridge() At random state 23, the testing accuracy is: 0.4264498316971801\n",
      "\n",
      "\n",
      "For Model Ridge() At random state 24, the training accuracy is: 0.4634773115173948\n",
      "For Model Ridge() At random state 24, the testing accuracy is: 0.4261293659997528\n",
      "\n",
      "\n",
      "For Model Ridge() At random state 25, the training accuracy is: 0.4603672845946979\n",
      "For Model Ridge() At random state 25, the testing accuracy is: 0.4351646932696934\n",
      "\n",
      "\n",
      "For Model Ridge() At random state 26, the training accuracy is: 0.4802750002556343\n",
      "For Model Ridge() At random state 26, the testing accuracy is: 0.36300645800703546\n",
      "\n",
      "\n",
      "For Model Ridge() At random state 27, the training accuracy is: 0.42851700606540655\n",
      "For Model Ridge() At random state 27, the testing accuracy is: 0.5460525105320939\n",
      "\n",
      "\n",
      "For Model Ridge() At random state 28, the training accuracy is: 0.4709780522150282\n",
      "For Model Ridge() At random state 28, the testing accuracy is: 0.4061525333362961\n",
      "\n",
      "\n",
      "For Model Ridge() At random state 29, the training accuracy is: 0.4562743847853171\n",
      "For Model Ridge() At random state 29, the testing accuracy is: 0.44913720922772116\n",
      "\n",
      "\n",
      "For Model Ridge() At random state 30, the training accuracy is: 0.4781799979364354\n",
      "For Model Ridge() At random state 30, the testing accuracy is: 0.37590655216336255\n",
      "\n",
      "\n",
      "For Model Ridge() At random state 31, the training accuracy is: 0.46218949257712316\n",
      "For Model Ridge() At random state 31, the testing accuracy is: 0.42827752343812153\n",
      "\n",
      "\n",
      "For Model Ridge() At random state 32, the training accuracy is: 0.46270576933498453\n",
      "For Model Ridge() At random state 32, the testing accuracy is: 0.42352877230470043\n",
      "\n",
      "\n",
      "For Model Ridge() At random state 33, the training accuracy is: 0.4610463685639188\n",
      "For Model Ridge() At random state 33, the testing accuracy is: 0.43584194373762664\n",
      "\n",
      "\n",
      "For Model Ridge() At random state 34, the training accuracy is: 0.4680608175929537\n",
      "For Model Ridge() At random state 34, the testing accuracy is: 0.418304817735364\n",
      "\n",
      "\n"
     ]
    },
    {
     "name": "stdout",
     "output_type": "stream",
     "text": [
      "For Model Ridge() At random state 35, the training accuracy is: 0.4594342319545718\n",
      "For Model Ridge() At random state 35, the testing accuracy is: 0.4414811089606345\n",
      "\n",
      "\n",
      "For Model Ridge() At random state 36, the training accuracy is: 0.46022811980427547\n",
      "For Model Ridge() At random state 36, the testing accuracy is: 0.4418703532424004\n",
      "\n",
      "\n",
      "For Model Ridge() At random state 37, the training accuracy is: 0.43200695492798424\n",
      "For Model Ridge() At random state 37, the testing accuracy is: 0.5204055015799924\n",
      "\n",
      "\n",
      "For Model Ridge() At random state 38, the training accuracy is: 0.4650949530788091\n",
      "For Model Ridge() At random state 38, the testing accuracy is: 0.4198530748386031\n",
      "\n",
      "\n",
      "For Model Ridge() At random state 39, the training accuracy is: 0.44109761031206385\n",
      "For Model Ridge() At random state 39, the testing accuracy is: 0.5063544450358852\n",
      "\n",
      "\n",
      "For Model Ridge() At random state 40, the training accuracy is: 0.4470414576039291\n",
      "For Model Ridge() At random state 40, the testing accuracy is: 0.4721182327172021\n",
      "\n",
      "\n",
      "For Model Ridge() At random state 41, the training accuracy is: 0.4475183640327661\n",
      "For Model Ridge() At random state 41, the testing accuracy is: 0.4692473022737266\n",
      "\n",
      "\n",
      "For Model Ridge() At random state 42, the training accuracy is: 0.46801573618523185\n",
      "For Model Ridge() At random state 42, the testing accuracy is: 0.38874924904926533\n",
      "\n",
      "\n",
      "For Model Ridge() At random state 43, the training accuracy is: 0.4357597510798731\n",
      "For Model Ridge() At random state 43, the testing accuracy is: 0.521629116396308\n",
      "\n",
      "\n",
      "For Model Ridge() At random state 44, the training accuracy is: 0.4429718165064698\n",
      "For Model Ridge() At random state 44, the testing accuracy is: 0.49113807696189615\n",
      "\n",
      "\n",
      "For Model Ridge() At random state 45, the training accuracy is: 0.4725409208814846\n",
      "For Model Ridge() At random state 45, the testing accuracy is: 0.3945292096750411\n",
      "\n",
      "\n",
      "For Model Ridge() At random state 46, the training accuracy is: 0.4532980834990642\n",
      "For Model Ridge() At random state 46, the testing accuracy is: 0.4603544585157876\n",
      "\n",
      "\n",
      "For Model Ridge() At random state 47, the training accuracy is: 0.45920670387493934\n",
      "For Model Ridge() At random state 47, the testing accuracy is: 0.4437223701447801\n",
      "\n",
      "\n",
      "For Model Ridge() At random state 48, the training accuracy is: 0.45679262934509046\n",
      "For Model Ridge() At random state 48, the testing accuracy is: 0.4473685012898142\n",
      "\n",
      "\n",
      "For Model Ridge() At random state 49, the training accuracy is: 0.44793659959061494\n",
      "For Model Ridge() At random state 49, the testing accuracy is: 0.47329583631204264\n",
      "\n",
      "\n",
      "For Model Ridge() At random state 50, the training accuracy is: 0.4225539013158913\n",
      "For Model Ridge() At random state 50, the testing accuracy is: 0.5565925939634593\n",
      "\n",
      "\n",
      "For Model Ridge() At random state 51, the training accuracy is: 0.4501833451015502\n",
      "For Model Ridge() At random state 51, the testing accuracy is: 0.4734791832912397\n",
      "\n",
      "\n",
      "For Model Ridge() At random state 52, the training accuracy is: 0.46032909657115095\n",
      "For Model Ridge() At random state 52, the testing accuracy is: 0.43511511329587516\n",
      "\n",
      "\n",
      "For Model Ridge() At random state 53, the training accuracy is: 0.47735898567000157\n",
      "For Model Ridge() At random state 53, the testing accuracy is: 0.37311122962926113\n",
      "\n",
      "\n",
      "For Model Ridge() At random state 54, the training accuracy is: 0.47349932076455814\n",
      "For Model Ridge() At random state 54, the testing accuracy is: 0.3956815238116982\n",
      "\n",
      "\n",
      "For Model Ridge() At random state 55, the training accuracy is: 0.4511882215725327\n",
      "For Model Ridge() At random state 55, the testing accuracy is: 0.4719785774988182\n",
      "\n",
      "\n",
      "For Model Ridge() At random state 56, the training accuracy is: 0.4936210363667394\n",
      "For Model Ridge() At random state 56, the testing accuracy is: 0.33184606439178765\n",
      "\n",
      "\n",
      "For Model Ridge() At random state 57, the training accuracy is: 0.4457839827739205\n",
      "For Model Ridge() At random state 57, the testing accuracy is: 0.48227652160071144\n",
      "\n",
      "\n",
      "For Model Ridge() At random state 58, the training accuracy is: 0.4574367937252686\n",
      "For Model Ridge() At random state 58, the testing accuracy is: 0.4456828788104319\n",
      "\n",
      "\n",
      "For Model Ridge() At random state 59, the training accuracy is: 0.45623533726078946\n",
      "For Model Ridge() At random state 59, the testing accuracy is: 0.45875677826167127\n",
      "\n",
      "\n",
      "For Model Ridge() At random state 60, the training accuracy is: 0.450641035583757\n",
      "For Model Ridge() At random state 60, the testing accuracy is: 0.4539765693887863\n",
      "\n",
      "\n",
      "For Model Ridge() At random state 61, the training accuracy is: 0.45017258839484564\n",
      "For Model Ridge() At random state 61, the testing accuracy is: 0.4745283014969486\n",
      "\n",
      "\n",
      "For Model Ridge() At random state 62, the training accuracy is: 0.4806986916429431\n",
      "For Model Ridge() At random state 62, the testing accuracy is: 0.3678098307525528\n",
      "\n",
      "\n",
      "For Model Ridge() At random state 63, the training accuracy is: 0.46592253948257667\n",
      "For Model Ridge() At random state 63, the testing accuracy is: 0.4122560552419102\n",
      "\n",
      "\n",
      "For Model Ridge() At random state 64, the training accuracy is: 0.4457686943730086\n",
      "For Model Ridge() At random state 64, the testing accuracy is: 0.4859324457485016\n",
      "\n",
      "\n",
      "For Model Ridge() At random state 65, the training accuracy is: 0.4480450372345087\n",
      "For Model Ridge() At random state 65, the testing accuracy is: 0.48304452315092306\n",
      "\n",
      "\n",
      "For Model Ridge() At random state 66, the training accuracy is: 0.4709799179133175\n",
      "For Model Ridge() At random state 66, the testing accuracy is: 0.39535114180717357\n",
      "\n",
      "\n",
      "For Model Ridge() At random state 67, the training accuracy is: 0.494762496340969\n",
      "For Model Ridge() At random state 67, the testing accuracy is: 0.30848676347062\n",
      "\n",
      "\n",
      "For Model Ridge() At random state 68, the training accuracy is: 0.473041281198917\n",
      "For Model Ridge() At random state 68, the testing accuracy is: 0.38943654417377616\n",
      "\n",
      "\n",
      "For Model Ridge() At random state 69, the training accuracy is: 0.4638573900121803\n",
      "For Model Ridge() At random state 69, the testing accuracy is: 0.42017334430421327\n",
      "\n",
      "\n",
      "For Model Ridge() At random state 70, the training accuracy is: 0.44654141796578894\n",
      "For Model Ridge() At random state 70, the testing accuracy is: 0.4844866955984686\n",
      "\n",
      "\n",
      "For Model Ridge() At random state 71, the training accuracy is: 0.4805742153920377\n",
      "For Model Ridge() At random state 71, the testing accuracy is: 0.36734474762166336\n",
      "\n",
      "\n",
      "For Model Ridge() At random state 72, the training accuracy is: 0.4615445202020928\n",
      "For Model Ridge() At random state 72, the testing accuracy is: 0.4201104011304846\n",
      "\n",
      "\n",
      "For Model Ridge() At random state 73, the training accuracy is: 0.4481118936166869\n",
      "For Model Ridge() At random state 73, the testing accuracy is: 0.483381672687881\n",
      "\n",
      "\n",
      "For Model Ridge() At random state 74, the training accuracy is: 0.4614727244938278\n",
      "For Model Ridge() At random state 74, the testing accuracy is: 0.4323457571484002\n",
      "\n",
      "\n",
      "For Model Ridge() At random state 75, the training accuracy is: 0.4755485504020155\n",
      "For Model Ridge() At random state 75, the testing accuracy is: 0.380571187508121\n",
      "\n",
      "\n",
      "For Model Ridge() At random state 76, the training accuracy is: 0.46311430711143786\n",
      "For Model Ridge() At random state 76, the testing accuracy is: 0.42848294357707384\n",
      "\n",
      "\n",
      "For Model Ridge() At random state 77, the training accuracy is: 0.47502904741280394\n",
      "For Model Ridge() At random state 77, the testing accuracy is: 0.3785299992395986\n",
      "\n",
      "\n",
      "For Model Ridge() At random state 78, the training accuracy is: 0.47598016533606413\n",
      "For Model Ridge() At random state 78, the testing accuracy is: 0.3761601940578362\n",
      "\n",
      "\n",
      "For Model Ridge() At random state 79, the training accuracy is: 0.44721643591717464\n",
      "For Model Ridge() At random state 79, the testing accuracy is: 0.48026637244710657\n",
      "\n",
      "\n",
      "For Model Ridge() At random state 80, the training accuracy is: 0.44199617419512915\n",
      "For Model Ridge() At random state 80, the testing accuracy is: 0.4985327321865418\n",
      "\n",
      "\n",
      "For Model Ridge() At random state 81, the training accuracy is: 0.4616330668547878\n",
      "For Model Ridge() At random state 81, the testing accuracy is: 0.4305313944245034\n",
      "\n",
      "\n",
      "For Model Ridge() At random state 82, the training accuracy is: 0.46903519560994544\n",
      "For Model Ridge() At random state 82, the testing accuracy is: 0.4062775750190628\n",
      "\n",
      "\n",
      "For Model Ridge() At random state 83, the training accuracy is: 0.4802546949125467\n",
      "For Model Ridge() At random state 83, the testing accuracy is: 0.3615598798962062\n",
      "\n",
      "\n",
      "For Model Ridge() At random state 84, the training accuracy is: 0.4759844384489008\n",
      "For Model Ridge() At random state 84, the testing accuracy is: 0.38277496517434095\n",
      "\n",
      "\n",
      "For Model Ridge() At random state 85, the training accuracy is: 0.4560992983758142\n",
      "For Model Ridge() At random state 85, the testing accuracy is: 0.4565032687079883\n",
      "\n",
      "\n",
      "For Model Ridge() At random state 86, the training accuracy is: 0.47378710497887244\n",
      "For Model Ridge() At random state 86, the testing accuracy is: 0.3826201713802272\n",
      "\n",
      "\n",
      "For Model Ridge() At random state 87, the training accuracy is: 0.45846706876115406\n",
      "For Model Ridge() At random state 87, the testing accuracy is: 0.44422555532772323\n",
      "\n",
      "\n",
      "For Model Ridge() At random state 88, the training accuracy is: 0.46278177016198296\n",
      "For Model Ridge() At random state 88, the testing accuracy is: 0.4308446457780212\n",
      "\n",
      "\n",
      "For Model Ridge() At random state 89, the training accuracy is: 0.4686257235369191\n",
      "For Model Ridge() At random state 89, the testing accuracy is: 0.4015582364439447\n",
      "\n",
      "\n",
      "For Model Ridge() At random state 90, the training accuracy is: 0.43397692016380274\n",
      "For Model Ridge() At random state 90, the testing accuracy is: 0.5096007778355083\n",
      "\n",
      "\n",
      "For Model Ridge() At random state 91, the training accuracy is: 0.45311417504888307\n",
      "For Model Ridge() At random state 91, the testing accuracy is: 0.4698309987636292\n",
      "\n",
      "\n",
      "For Model Ridge() At random state 92, the training accuracy is: 0.4128381781285676\n",
      "For Model Ridge() At random state 92, the testing accuracy is: 0.5791854948732791\n",
      "\n",
      "\n",
      "For Model Ridge() At random state 93, the training accuracy is: 0.45048725902458164\n",
      "For Model Ridge() At random state 93, the testing accuracy is: 0.4645229805031782\n",
      "\n",
      "\n",
      "For Model Ridge() At random state 94, the training accuracy is: 0.4634249881675593\n",
      "For Model Ridge() At random state 94, the testing accuracy is: 0.413070294961149\n",
      "\n",
      "\n",
      "For Model Ridge() At random state 95, the training accuracy is: 0.45734402455685463\n",
      "For Model Ridge() At random state 95, the testing accuracy is: 0.4457247210866889\n",
      "\n",
      "\n",
      "For Model Ridge() At random state 96, the training accuracy is: 0.4366388983207806\n",
      "For Model Ridge() At random state 96, the testing accuracy is: 0.513379999492548\n",
      "\n",
      "\n",
      "For Model Ridge() At random state 97, the training accuracy is: 0.45469071396786964\n",
      "For Model Ridge() At random state 97, the testing accuracy is: 0.45668223805390695\n",
      "\n",
      "\n",
      "For Model Ridge() At random state 98, the training accuracy is: 0.4451974314402163\n",
      "For Model Ridge() At random state 98, the testing accuracy is: 0.4874503719809885\n",
      "\n",
      "\n",
      "For Model Ridge() At random state 99, the training accuracy is: 0.4708643077145831\n",
      "For Model Ridge() At random state 99, the testing accuracy is: 0.3829620654445842\n",
      "\n",
      "\n"
     ]
    }
   ],
   "source": [
    "for j in mod:\n",
    "    for i in range(0,100):\n",
    "        xtrain,xtest,ytrain,ytest = train_test_split(x,y,test_size= 0.22, random_state=i)\n",
    "        j.fit(xtrain,ytrain)\n",
    "        pred_train = j.predict(xtrain)\n",
    "        pred_test= j.predict(xtest)\n",
    "\n",
    "        print(f\"For Model {j} At random state {i}, the training accuracy is: {r2_score(ytrain,pred_train)}\")\n",
    "        print(f\"For Model {j} At random state {i}, the testing accuracy is: {r2_score(ytest,pred_test)}\")\n",
    "        print('\\n')"
   ]
  },
  {
   "cell_type": "markdown",
   "id": "9c502885",
   "metadata": {},
   "source": [
    "As per above visualization we found model Random Forest Regressor is best at random state is 12"
   ]
  },
  {
   "cell_type": "code",
   "execution_count": 96,
   "id": "f23a8684",
   "metadata": {},
   "outputs": [
    {
     "name": "stdout",
     "output_type": "stream",
     "text": [
      "Mean Squared error 0.5494057160474738\n",
      "Mean Absolute Error 0.6120809732700532\n"
     ]
    }
   ],
   "source": [
    "print(\"Mean Squared error\", mean_squared_error(ytest,pred_test))\n",
    "print(\"Mean Absolute Error\", mean_absolute_error(ytest,pred_test))"
   ]
  },
  {
   "cell_type": "markdown",
   "id": "b69ddf0e",
   "metadata": {},
   "source": [
    "# Using Grid Search CV to find the best parameter"
   ]
  },
  {
   "cell_type": "code",
   "execution_count": 98,
   "id": "8ebf8c7e",
   "metadata": {},
   "outputs": [
    {
     "name": "stdout",
     "output_type": "stream",
     "text": [
      "GridSearchCV(estimator=RandomForestRegressor(),\n",
      "             param_grid={'n_estimators': [10, 20, 50, 100],\n",
      "                         'random_state': [12]})\n"
     ]
    },
    {
     "data": {
      "text/plain": [
       "GridSearchCV(estimator=RandomForestRegressor(),\n",
       "             param_grid={'n_estimators': [10, 20, 50, 100],\n",
       "                         'random_state': [12]})"
      ]
     },
     "execution_count": 98,
     "metadata": {},
     "output_type": "execute_result"
    }
   ],
   "source": [
    "from sklearn.model_selection import GridSearchCV\n",
    "\n",
    "model = RandomForestRegressor()\n",
    "param_grid = {'n_estimators': [10,20,50,100], 'random_state' : [12]}\n",
    "xg_grid = GridSearchCV(estimator = model, param_grid = param_grid)\n",
    "print(xg_grid)\n",
    "xg_grid.fit(xtrain, ytrain)"
   ]
  },
  {
   "cell_type": "code",
   "execution_count": 99,
   "id": "2faad065",
   "metadata": {},
   "outputs": [
    {
     "name": "stdout",
     "output_type": "stream",
     "text": [
      "0.8046031010583803\n",
      "RandomForestRegressor(random_state=12)\n",
      "{'n_estimators': 100, 'random_state': 12}\n"
     ]
    }
   ],
   "source": [
    "print(xg_grid.best_score_)\n",
    "print(xg_grid.best_estimator_)\n",
    "print(xg_grid.best_params_)"
   ]
  },
  {
   "cell_type": "markdown",
   "id": "76b83312",
   "metadata": {},
   "source": [
    "As per Grid Search CV we found the best accuracy when n_estimators=100, random_state= 12"
   ]
  },
  {
   "cell_type": "code",
   "execution_count": 101,
   "id": "1db3a4ad",
   "metadata": {},
   "outputs": [
    {
     "name": "stdout",
     "output_type": "stream",
     "text": [
      "Mean Squared Error 0.14284507118293555\n",
      "Mean Absolute Error 0.27586413867741383\n"
     ]
    }
   ],
   "source": [
    "xtrain,xtest,ytrain,ytest = train_test_split(x,y,test_size= 0.22, random_state=42)\n",
    "RFR = RandomForestRegressor(n_estimators=100)\n",
    "RFR.fit(xtrain,ytrain)\n",
    "pred_train =RFR.predict(xtrain)\n",
    "pred_test= RFR.predict(xtest)\n",
    "print(\"Mean Squared Error\", mean_squared_error(ytest,pred_test))\n",
    "print(\"Mean Absolute Error\", mean_absolute_error(ytest,pred_test))"
   ]
  },
  {
   "cell_type": "code",
   "execution_count": 108,
   "id": "0e75e881",
   "metadata": {},
   "outputs": [
    {
     "data": {
      "text/plain": [
       "0.9709803081691087"
      ]
     },
     "execution_count": 108,
     "metadata": {},
     "output_type": "execute_result"
    }
   ],
   "source": [
    "RFR.score(xtrain,ytrain)"
   ]
  },
  {
   "cell_type": "code",
   "execution_count": 111,
   "id": "0582a41e",
   "metadata": {},
   "outputs": [
    {
     "data": {
      "text/plain": [
       "1.0"
      ]
     },
     "execution_count": 111,
     "metadata": {},
     "output_type": "execute_result"
    }
   ],
   "source": [
    "RFR.score(xtrain,pred_train)"
   ]
  },
  {
   "cell_type": "markdown",
   "id": "3c13087f",
   "metadata": {},
   "source": [
    "# Cross Valdation of Model"
   ]
  },
  {
   "cell_type": "code",
   "execution_count": 112,
   "id": "3595239d",
   "metadata": {},
   "outputs": [
    {
     "name": "stdout",
     "output_type": "stream",
     "text": [
      "At cross val  2 the cv score  is 0.7960309995121206 and accuracy score for training is 0.9709803081691087 and accuracy for testing is 0.8209586050344855\n",
      "\n",
      "\n",
      "At cross val  3 the cv score  is 0.7970798029240086 and accuracy score for training is 0.9709803081691087 and accuracy for testing is 0.8209586050344855\n",
      "\n",
      "\n",
      "At cross val  4 the cv score  is 0.8048510354391786 and accuracy score for training is 0.9709803081691087 and accuracy for testing is 0.8209586050344855\n",
      "\n",
      "\n",
      "At cross val  5 the cv score  is 0.8003466866385518 and accuracy score for training is 0.9709803081691087 and accuracy for testing is 0.8209586050344855\n",
      "\n",
      "\n",
      "At cross val  6 the cv score  is 0.80100945799907 and accuracy score for training is 0.9709803081691087 and accuracy for testing is 0.8209586050344855\n",
      "\n",
      "\n",
      "At cross val  7 the cv score  is 0.7962548623704885 and accuracy score for training is 0.9709803081691087 and accuracy for testing is 0.8209586050344855\n",
      "\n",
      "\n",
      "At cross val  8 the cv score  is 0.8083680678522196 and accuracy score for training is 0.9709803081691087 and accuracy for testing is 0.8209586050344855\n",
      "\n",
      "\n",
      "At cross val  9 the cv score  is 0.8049067671980547 and accuracy score for training is 0.9709803081691087 and accuracy for testing is 0.8209586050344855\n",
      "\n",
      "\n"
     ]
    }
   ],
   "source": [
    "train_accuracy = r2_score(ytrain,pred_train)\n",
    "test_accuracy =r2_score(ytest,pred_test)\n",
    "\n",
    "from sklearn.model_selection import cross_val_score\n",
    "for j in range(2,10):\n",
    "    cv_score =cross_val_score(RFR,x,y,cv=j)\n",
    "    cv_mean = cv_score.mean()\n",
    "    print(f\"At cross val  {j} the cv score  is {cv_mean} and accuracy score for training is {train_accuracy} and accuracy for testing is {test_accuracy}\")\n",
    "    print(\"\\n\")"
   ]
  },
  {
   "cell_type": "code",
   "execution_count": 113,
   "id": "cfd81ac9",
   "metadata": {},
   "outputs": [
    {
     "data": {
      "image/png": "[encoded data removed]",
      "text/plain": [
       "<Figure size 576x432 with 1 Axes>"
      ]
     },
     "metadata": {
      "needs_background": "light"
     },
     "output_type": "display_data"
    }
   ],
   "source": [
    "plt.figure(figsize=(8,6))\n",
    "plt.scatter(x= ytest, y =pred_test, color= \"maroon\")\n",
    "plt.plot(ytest,ytest, color='b')\n",
    "plt.xlabel('Actual Charges', fontsize= 14)\n",
    "plt.ylabel(\"Predicted Charges\", fontsize=14)\n",
    "plt.show()"
   ]
  },
  {
   "cell_type": "markdown",
   "id": "c2bd88c6",
   "metadata": {},
   "source": [
    "Random Forest Regressor is the best model"
   ]
  },
  {
   "cell_type": "markdown",
   "id": "990fb5c6",
   "metadata": {},
   "source": [
    "# Saving the Model"
   ]
  },
  {
   "cell_type": "code",
   "execution_count": 115,
   "id": "02f65f10",
   "metadata": {},
   "outputs": [],
   "source": [
    "import pickle\n",
    "filename = 'capacity.pkl'\n",
    "pickle.dump(RFR, open(filename, 'wb'))"
   ]
  },
  {
   "cell_type": "markdown",
   "id": "ae42f291",
   "metadata": {},
   "source": [
    "# Conclusion"
   ]
  },
  {
   "cell_type": "code",
   "execution_count": 116,
   "id": "bee529fb",
   "metadata": {},
   "outputs": [
    {
     "name": "stdout",
     "output_type": "stream",
     "text": [
      "0.8209586050344855\n"
     ]
    }
   ],
   "source": [
    "loaded_model = pickle.load(open('capacity.pkl', 'rb'))\n",
    "result = loaded_model.score(xtest,ytest)\n",
    "print(result)"
   ]
  },
  {
   "cell_type": "code",
   "execution_count": 117,
   "id": "432af80a",
   "metadata": {},
   "outputs": [],
   "source": [
    "conclusion = pd.DataFrame([loaded_model.predict(xtest)[:],pred_test[:]],index=[\"Predicted\", \"Original\"])"
   ]
  },
  {
   "cell_type": "code",
   "execution_count": 118,
   "id": "22313e78",
   "metadata": {},
   "outputs": [
    {
     "data": {
      "text/html": [
       "<div>\n",
       "<style scoped>\n",
       "    .dataframe tbody tr th:only-of-type {\n",
       "        vertical-align: middle;\n",
       "    }\n",
       "\n",
       "    .dataframe tbody tr th {\n",
       "        vertical-align: top;\n",
       "    }\n",
       "\n",
       "    .dataframe thead th {\n",
       "        text-align: right;\n",
       "    }\n",
       "</style>\n",
       "<table border=\"1\" class=\"dataframe\">\n",
       "  <thead>\n",
       "    <tr style=\"text-align: right;\">\n",
       "      <th></th>\n",
       "      <th>0</th>\n",
       "      <th>1</th>\n",
       "      <th>2</th>\n",
       "      <th>3</th>\n",
       "      <th>4</th>\n",
       "      <th>5</th>\n",
       "      <th>6</th>\n",
       "      <th>7</th>\n",
       "      <th>8</th>\n",
       "      <th>9</th>\n",
       "      <th>...</th>\n",
       "      <th>190</th>\n",
       "      <th>191</th>\n",
       "      <th>192</th>\n",
       "      <th>193</th>\n",
       "      <th>194</th>\n",
       "      <th>195</th>\n",
       "      <th>196</th>\n",
       "      <th>197</th>\n",
       "      <th>198</th>\n",
       "      <th>199</th>\n",
       "    </tr>\n",
       "  </thead>\n",
       "  <tbody>\n",
       "    <tr>\n",
       "      <th>Predicted</th>\n",
       "      <td>0.842688</td>\n",
       "      <td>-0.405584</td>\n",
       "      <td>-0.070399</td>\n",
       "      <td>0.847017</td>\n",
       "      <td>-1.082192</td>\n",
       "      <td>-1.72869</td>\n",
       "      <td>0.208055</td>\n",
       "      <td>-1.573127</td>\n",
       "      <td>0.83947</td>\n",
       "      <td>-0.132203</td>\n",
       "      <td>...</td>\n",
       "      <td>-0.150809</td>\n",
       "      <td>-0.813883</td>\n",
       "      <td>-0.561628</td>\n",
       "      <td>-0.899421</td>\n",
       "      <td>-0.773528</td>\n",
       "      <td>0.540123</td>\n",
       "      <td>0.163833</td>\n",
       "      <td>0.585856</td>\n",
       "      <td>-1.066769</td>\n",
       "      <td>-0.929216</td>\n",
       "    </tr>\n",
       "    <tr>\n",
       "      <th>Original</th>\n",
       "      <td>0.842688</td>\n",
       "      <td>-0.405584</td>\n",
       "      <td>-0.070399</td>\n",
       "      <td>0.847017</td>\n",
       "      <td>-1.082192</td>\n",
       "      <td>-1.72869</td>\n",
       "      <td>0.208055</td>\n",
       "      <td>-1.573127</td>\n",
       "      <td>0.83947</td>\n",
       "      <td>-0.132203</td>\n",
       "      <td>...</td>\n",
       "      <td>-0.150809</td>\n",
       "      <td>-0.813883</td>\n",
       "      <td>-0.561628</td>\n",
       "      <td>-0.899421</td>\n",
       "      <td>-0.773528</td>\n",
       "      <td>0.540123</td>\n",
       "      <td>0.163833</td>\n",
       "      <td>0.585856</td>\n",
       "      <td>-1.066769</td>\n",
       "      <td>-0.929216</td>\n",
       "    </tr>\n",
       "  </tbody>\n",
       "</table>\n",
       "<p>2 rows × 200 columns</p>\n",
       "</div>"
      ],
      "text/plain": [
       "                0         1         2         3         4        5    \\\n",
       "Predicted  0.842688 -0.405584 -0.070399  0.847017 -1.082192 -1.72869   \n",
       "Original   0.842688 -0.405584 -0.070399  0.847017 -1.082192 -1.72869   \n",
       "\n",
       "                6         7        8         9    ...       190       191  \\\n",
       "Predicted  0.208055 -1.573127  0.83947 -0.132203  ... -0.150809 -0.813883   \n",
       "Original   0.208055 -1.573127  0.83947 -0.132203  ... -0.150809 -0.813883   \n",
       "\n",
       "                192       193       194       195       196       197  \\\n",
       "Predicted -0.561628 -0.899421 -0.773528  0.540123  0.163833  0.585856   \n",
       "Original  -0.561628 -0.899421 -0.773528  0.540123  0.163833  0.585856   \n",
       "\n",
       "                198       199  \n",
       "Predicted -1.066769 -0.929216  \n",
       "Original  -1.066769 -0.929216  \n",
       "\n",
       "[2 rows x 200 columns]"
      ]
     },
     "execution_count": 118,
     "metadata": {},
     "output_type": "execute_result"
    }
   ],
   "source": [
    "conclusion"
   ]
  },
  {
   "cell_type": "markdown",
   "id": "2f7927bd",
   "metadata": {},
   "source": [
    "# Now taking Primary_fuel as a target varibale using classification method"
   ]
  },
  {
   "cell_type": "code",
   "execution_count": 119,
   "id": "57eb7501",
   "metadata": {},
   "outputs": [],
   "source": [
    "x=df.drop(['primary_fuel'],axis=1)\n",
    "y=df['primary_fuel']"
   ]
  },
  {
   "cell_type": "code",
   "execution_count": 120,
   "id": "f6dd3d00",
   "metadata": {},
   "outputs": [
    {
     "data": {
      "text/plain": [
       "(907, 11)"
      ]
     },
     "execution_count": 120,
     "metadata": {},
     "output_type": "execute_result"
    }
   ],
   "source": [
    "x.shape"
   ]
  },
  {
   "cell_type": "code",
   "execution_count": 121,
   "id": "edd03cbe",
   "metadata": {},
   "outputs": [
    {
     "data": {
      "text/plain": [
       "(907,)"
      ]
     },
     "execution_count": 121,
     "metadata": {},
     "output_type": "execute_result"
    }
   ],
   "source": [
    "y.shape"
   ]
  },
  {
   "cell_type": "markdown",
   "id": "a5b69fb9",
   "metadata": {},
   "source": [
    "# Importing Model"
   ]
  },
  {
   "cell_type": "code",
   "execution_count": 125,
   "id": "a3955816",
   "metadata": {},
   "outputs": [],
   "source": [
    "import sklearn\n",
    "from sklearn.linear_model import LogisticRegression\n",
    "from sklearn.neighbors import KNeighborsClassifier\n",
    "from sklearn.svm import SVC\n",
    "from sklearn.tree import DecisionTreeClassifier\n",
    "from sklearn.ensemble import RandomForestClassifier\n",
    "from sklearn.ensemble import VotingClassifier\n",
    "from sklearn.metrics import accuracy_score,confusion_matrix,classification_report"
   ]
  },
  {
   "cell_type": "code",
   "execution_count": 123,
   "id": "85b49460",
   "metadata": {},
   "outputs": [
    {
     "data": {
      "text/plain": [
       "[LogisticRegression(),\n",
       " KNeighborsClassifier(),\n",
       " SVC(),\n",
       " DecisionTreeClassifier(),\n",
       " RandomForestClassifier(random_state=42)]"
      ]
     },
     "execution_count": 123,
     "metadata": {},
     "output_type": "execute_result"
    }
   ],
   "source": [
    "LR = LogisticRegression()\n",
    "KNN = KNeighborsClassifier()\n",
    "SV = SVC()\n",
    "DT = DecisionTreeClassifier()\n",
    "RF = RandomForestClassifier(n_estimators=100, random_state=42)\n",
    "mod = [LR, KNN, SV, DT, RF]\n",
    "\n",
    "mod"
   ]
  },
  {
   "cell_type": "code",
   "execution_count": 126,
   "id": "1eee950a",
   "metadata": {},
   "outputs": [
    {
     "name": "stdout",
     "output_type": "stream",
     "text": [
      "Accuracy Score 0.395\n",
      "Confusion Metrics [[ 0  3  0  0  0  0  3  0]\n",
      " [ 0 27  0 17  0  0  8  0]\n",
      " [ 0  5  0 11  0  0  2  1]\n",
      " [ 0 25  0 29  0  0  0 10]\n",
      " [ 0  2  0  1  0  0  0  0]\n",
      " [ 0  3  0  2  0  0  0  1]\n",
      " [ 0  2  0  2  0  0 16  0]\n",
      " [ 0  7  0 16  0  0  0  7]]\n",
      "Classification_report               precision    recall  f1-score   support\n",
      "\n",
      "           0       0.00      0.00      0.00         6\n",
      "           1       0.36      0.52      0.43        52\n",
      "           2       0.00      0.00      0.00        19\n",
      "           3       0.37      0.45      0.41        64\n",
      "           4       0.00      0.00      0.00         3\n",
      "           5       0.00      0.00      0.00         6\n",
      "           6       0.55      0.80      0.65        20\n",
      "           7       0.37      0.23      0.29        30\n",
      "\n",
      "    accuracy                           0.40       200\n",
      "   macro avg       0.21      0.25      0.22       200\n",
      "weighted avg       0.32      0.40      0.35       200\n",
      "\n",
      "Accuracy Score 0.71\n",
      "Confusion Metrics [[ 2  3  0  0  0  0  1  0]\n",
      " [ 1 38  1  6  0  0  5  1]\n",
      " [ 1  9  2  6  0  0  0  1]\n",
      " [ 0  7  4 53  0  0  0  0]\n",
      " [ 0  2  1  0  0  0  0  0]\n",
      " [ 0  1  2  3  0  0  0  0]\n",
      " [ 1  2  0  0  0  0 17  0]\n",
      " [ 0  0  0  0  0  0  0 30]]\n",
      "Classification_report               precision    recall  f1-score   support\n",
      "\n",
      "           0       0.40      0.33      0.36         6\n",
      "           1       0.61      0.73      0.67        52\n",
      "           2       0.20      0.11      0.14        19\n",
      "           3       0.78      0.83      0.80        64\n",
      "           4       0.00      0.00      0.00         3\n",
      "           5       0.00      0.00      0.00         6\n",
      "           6       0.74      0.85      0.79        20\n",
      "           7       0.94      1.00      0.97        30\n",
      "\n",
      "    accuracy                           0.71       200\n",
      "   macro avg       0.46      0.48      0.47       200\n",
      "weighted avg       0.65      0.71      0.68       200\n",
      "\n",
      "Accuracy Score 0.26\n",
      "Confusion Metrics [[ 0  6  0  0  0  0  0  0]\n",
      " [ 0 52  0  0  0  0  0  0]\n",
      " [ 0 19  0  0  0  0  0  0]\n",
      " [ 0 64  0  0  0  0  0  0]\n",
      " [ 0  3  0  0  0  0  0  0]\n",
      " [ 0  6  0  0  0  0  0  0]\n",
      " [ 0 20  0  0  0  0  0  0]\n",
      " [ 0 30  0  0  0  0  0  0]]\n",
      "Classification_report               precision    recall  f1-score   support\n",
      "\n",
      "           0       0.00      0.00      0.00         6\n",
      "           1       0.26      1.00      0.41        52\n",
      "           2       0.00      0.00      0.00        19\n",
      "           3       0.00      0.00      0.00        64\n",
      "           4       0.00      0.00      0.00         3\n",
      "           5       0.00      0.00      0.00         6\n",
      "           6       0.00      0.00      0.00        20\n",
      "           7       0.00      0.00      0.00        30\n",
      "\n",
      "    accuracy                           0.26       200\n",
      "   macro avg       0.03      0.12      0.05       200\n",
      "weighted avg       0.07      0.26      0.11       200\n",
      "\n",
      "Accuracy Score 0.805\n",
      "Confusion Metrics [[ 4  2  0  0  0  0  0  0]\n",
      " [ 2 43  1  3  2  1  0  0]\n",
      " [ 0  4 10  3  0  2  0  0]\n",
      " [ 0  6  5 53  0  0  0  0]\n",
      " [ 0  2  0  1  0  0  0  0]\n",
      " [ 0  1  0  1  1  3  0  0]\n",
      " [ 0  2  0  0  0  0 18  0]\n",
      " [ 0  0  0  0  0  0  0 30]]\n",
      "Classification_report               precision    recall  f1-score   support\n",
      "\n",
      "           0       0.67      0.67      0.67         6\n",
      "           1       0.72      0.83      0.77        52\n",
      "           2       0.62      0.53      0.57        19\n",
      "           3       0.87      0.83      0.85        64\n",
      "           4       0.00      0.00      0.00         3\n",
      "           5       0.50      0.50      0.50         6\n",
      "           6       1.00      0.90      0.95        20\n",
      "           7       1.00      1.00      1.00        30\n",
      "\n",
      "    accuracy                           0.81       200\n",
      "   macro avg       0.67      0.66      0.66       200\n",
      "weighted avg       0.81      0.81      0.81       200\n",
      "\n",
      "Accuracy Score 0.84\n",
      "Confusion Metrics [[ 4  2  0  0  0  0  0  0]\n",
      " [ 4 41  3  4  0  0  0  0]\n",
      " [ 0  6  9  3  0  1  0  0]\n",
      " [ 0  2  0 62  0  0  0  0]\n",
      " [ 0  3  0  0  0  0  0  0]\n",
      " [ 0  1  1  1  0  3  0  0]\n",
      " [ 0  1  0  0  0  0 19  0]\n",
      " [ 0  0  0  0  0  0  0 30]]\n",
      "Classification_report               precision    recall  f1-score   support\n",
      "\n",
      "           0       0.50      0.67      0.57         6\n",
      "           1       0.73      0.79      0.76        52\n",
      "           2       0.69      0.47      0.56        19\n",
      "           3       0.89      0.97      0.93        64\n",
      "           4       0.00      0.00      0.00         3\n",
      "           5       0.75      0.50      0.60         6\n",
      "           6       1.00      0.95      0.97        20\n",
      "           7       1.00      1.00      1.00        30\n",
      "\n",
      "    accuracy                           0.84       200\n",
      "   macro avg       0.70      0.67      0.67       200\n",
      "weighted avg       0.83      0.84      0.83       200\n",
      "\n"
     ]
    }
   ],
   "source": [
    "for i in mod:\n",
    "    xtrain,xtest,ytrain,ytest = train_test_split(x,y,test_size= .22, random_state=42)\n",
    "    i.fit(xtrain,ytrain)\n",
    "    pred = i.predict(xtest)\n",
    "    print(\"Accuracy Score\", accuracy_score(ytest,pred))\n",
    "    print(\"Confusion Metrics\", confusion_matrix(ytest,pred))\n",
    "    print(\"Classification_report\", classification_report(ytest,pred))"
   ]
  },
  {
   "cell_type": "markdown",
   "id": "36ba26c1",
   "metadata": {},
   "source": [
    "As per all the above classification techniques Random forest gives the better accuracy out of all classifiers"
   ]
  },
  {
   "cell_type": "markdown",
   "id": "90b62093",
   "metadata": {},
   "source": [
    "# As per all the above classification techniques Random forest gives the better accuracy out of all classifiers"
   ]
  },
  {
   "cell_type": "code",
   "execution_count": 127,
   "id": "15ea469e",
   "metadata": {},
   "outputs": [],
   "source": [
    "from sklearn.model_selection import GridSearchCV"
   ]
  },
  {
   "cell_type": "code",
   "execution_count": 128,
   "id": "205bf119",
   "metadata": {},
   "outputs": [],
   "source": [
    "model = RandomForestClassifier()\n",
    "param_grid = {'n_estimators': [200, 500],'criterion' :['gini', 'entropy']}"
   ]
  },
  {
   "cell_type": "code",
   "execution_count": 129,
   "id": "45356b22",
   "metadata": {},
   "outputs": [
    {
     "data": {
      "text/plain": [
       "GridSearchCV(estimator=RandomForestClassifier(),\n",
       "             param_grid={'criterion': ['gini', 'entropy'],\n",
       "                         'n_estimators': [200, 500]})"
      ]
     },
     "execution_count": 129,
     "metadata": {},
     "output_type": "execute_result"
    }
   ],
   "source": [
    "grid = GridSearchCV(estimator = model, param_grid = param_grid)\n",
    "grid.fit(xtrain,ytrain)"
   ]
  },
  {
   "cell_type": "code",
   "execution_count": 130,
   "id": "05866557",
   "metadata": {},
   "outputs": [
    {
     "name": "stdout",
     "output_type": "stream",
     "text": [
      "0.8557786434921587\n",
      "RandomForestClassifier(criterion='entropy', n_estimators=200)\n",
      "{'criterion': 'entropy', 'n_estimators': 200}\n"
     ]
    }
   ],
   "source": [
    "print(grid.best_score_)\n",
    "print(grid.best_estimator_)\n",
    "print(grid.best_params_)"
   ]
  },
  {
   "cell_type": "markdown",
   "id": "a35b4ab1",
   "metadata": {},
   "source": [
    "As per Grid Search CV we found the best accuracy when criterion='entropy',n_estimators=200"
   ]
  },
  {
   "cell_type": "code",
   "execution_count": 131,
   "id": "2c6a22ec",
   "metadata": {},
   "outputs": [],
   "source": [
    "RFC = RandomForestClassifier(criterion='entropy',n_estimators=200)"
   ]
  },
  {
   "cell_type": "code",
   "execution_count": 132,
   "id": "74a8f5da",
   "metadata": {},
   "outputs": [
    {
     "name": "stdout",
     "output_type": "stream",
     "text": [
      "Accuracy Score 0.83\n",
      "Confusion Metrics [[ 4  2  0  0  0  0  0  0]\n",
      " [ 3 41  3  5  0  0  0  0]\n",
      " [ 0  5  8  4  0  2  0  0]\n",
      " [ 0  3  0 61  0  0  0  0]\n",
      " [ 0  2  0  1  0  0  0  0]\n",
      " [ 0  1  1  1  0  3  0  0]\n",
      " [ 0  1  0  0  0  0 19  0]\n",
      " [ 0  0  0  0  0  0  0 30]]\n",
      "Classification_report               precision    recall  f1-score   support\n",
      "\n",
      "           0       0.57      0.67      0.62         6\n",
      "           1       0.75      0.79      0.77        52\n",
      "           2       0.67      0.42      0.52        19\n",
      "           3       0.85      0.95      0.90        64\n",
      "           4       0.00      0.00      0.00         3\n",
      "           5       0.60      0.50      0.55         6\n",
      "           6       1.00      0.95      0.97        20\n",
      "           7       1.00      1.00      1.00        30\n",
      "\n",
      "    accuracy                           0.83       200\n",
      "   macro avg       0.68      0.66      0.66       200\n",
      "weighted avg       0.81      0.83      0.82       200\n",
      "\n"
     ]
    }
   ],
   "source": [
    "RFC.fit(xtrain,ytrain)\n",
    "pred = RFC.predict(xtest)\n",
    "print(\"Accuracy Score\", accuracy_score(ytest,pred))\n",
    "print(\"Confusion Metrics\", confusion_matrix(ytest,pred))\n",
    "print(\"Classification_report\", classification_report(ytest,pred))"
   ]
  },
  {
   "cell_type": "markdown",
   "id": "5f49a81f",
   "metadata": {},
   "source": [
    "# Cross validation score for Random Forest Classifier\n"
   ]
  },
  {
   "cell_type": "code",
   "execution_count": 133,
   "id": "37d19033",
   "metadata": {},
   "outputs": [
    {
     "name": "stdout",
     "output_type": "stream",
     "text": [
      "At cv value at 2 the cv score is [0.83920705 0.8410596 ]\n",
      "0.8401333255535781\n",
      "0.0009262770954284183\n",
      "At cv value at 3 the cv score is [0.84158416 0.84768212 0.86423841]\n",
      "0.851168229405722\n",
      "0.009571433494448583\n",
      "At cv value at 4 the cv score is [0.83259912 0.85022026 0.81938326 0.86283186]\n",
      "0.8412586253947214\n",
      "0.01657734916822771\n",
      "At cv value at 5 the cv score is [0.82417582 0.83516484 0.90607735 0.84530387 0.85082873]\n",
      "0.8523101208184081\n",
      "0.02838202354111888\n",
      "At cv value at 6 the cv score is [0.82236842 0.8807947  0.86092715 0.83443709 0.8410596  0.87417219]\n",
      "0.8522931915882421\n",
      "0.021237143797120675\n",
      "At cv value at 7 the cv score is [0.84615385 0.86153846 0.84615385 0.89230769 0.8372093  0.86046512\n",
      " 0.87596899]\n",
      "0.8599710367152227\n",
      "0.01774510344441927\n",
      "At cv value at 8 the cv score is [0.81578947 0.84210526 0.85964912 0.90265487 0.83185841 0.82300885\n",
      " 0.84955752 0.86725664]\n",
      "0.8489850178543705\n",
      "0.026090498740539807\n",
      "At cv value at 9 the cv score is [0.82178218 0.85148515 0.85148515 0.87128713 0.89108911 0.82178218\n",
      " 0.84158416 0.86       0.88      ]\n",
      "0.8544994499449945\n",
      "0.02267396922982474\n"
     ]
    }
   ],
   "source": [
    "from sklearn.model_selection import cross_val_score\n",
    "for i in range (2,10):\n",
    "    score= cross_val_score(RFC,x,y,cv=i)\n",
    "    print(\"At cv value at\", i,\"the cv score is\",score)\n",
    "    print(score.mean())\n",
    "    print(score.std())"
   ]
  },
  {
   "cell_type": "markdown",
   "id": "5864a4c7",
   "metadata": {},
   "source": [
    "# Model Saving"
   ]
  },
  {
   "cell_type": "code",
   "execution_count": 144,
   "id": "3d373730",
   "metadata": {},
   "outputs": [],
   "source": [
    "import pickle\n",
    "filename = \"primary_fuel.pkl\"\n",
    "pickle.dump(RF, open(filename, 'wb'))"
   ]
  },
  {
   "cell_type": "markdown",
   "id": "edc1b956",
   "metadata": {},
   "source": [
    "# Counclusion"
   ]
  },
  {
   "cell_type": "code",
   "execution_count": 145,
   "id": "d4d63d50",
   "metadata": {},
   "outputs": [
    {
     "data": {
      "text/html": [
       "<div>\n",
       "<style scoped>\n",
       "    .dataframe tbody tr th:only-of-type {\n",
       "        vertical-align: middle;\n",
       "    }\n",
       "\n",
       "    .dataframe tbody tr th {\n",
       "        vertical-align: top;\n",
       "    }\n",
       "\n",
       "    .dataframe thead th {\n",
       "        text-align: right;\n",
       "    }\n",
       "</style>\n",
       "<table border=\"1\" class=\"dataframe\">\n",
       "  <thead>\n",
       "    <tr style=\"text-align: right;\">\n",
       "      <th></th>\n",
       "      <th>Original</th>\n",
       "      <th>Predicted</th>\n",
       "    </tr>\n",
       "  </thead>\n",
       "  <tbody>\n",
       "    <tr>\n",
       "      <th>0</th>\n",
       "      <td>2</td>\n",
       "      <td>2</td>\n",
       "    </tr>\n",
       "    <tr>\n",
       "      <th>1</th>\n",
       "      <td>7</td>\n",
       "      <td>7</td>\n",
       "    </tr>\n",
       "    <tr>\n",
       "      <th>2</th>\n",
       "      <td>3</td>\n",
       "      <td>3</td>\n",
       "    </tr>\n",
       "    <tr>\n",
       "      <th>3</th>\n",
       "      <td>3</td>\n",
       "      <td>3</td>\n",
       "    </tr>\n",
       "    <tr>\n",
       "      <th>4</th>\n",
       "      <td>3</td>\n",
       "      <td>3</td>\n",
       "    </tr>\n",
       "    <tr>\n",
       "      <th>...</th>\n",
       "      <td>...</td>\n",
       "      <td>...</td>\n",
       "    </tr>\n",
       "    <tr>\n",
       "      <th>195</th>\n",
       "      <td>3</td>\n",
       "      <td>3</td>\n",
       "    </tr>\n",
       "    <tr>\n",
       "      <th>196</th>\n",
       "      <td>3</td>\n",
       "      <td>3</td>\n",
       "    </tr>\n",
       "    <tr>\n",
       "      <th>197</th>\n",
       "      <td>2</td>\n",
       "      <td>3</td>\n",
       "    </tr>\n",
       "    <tr>\n",
       "      <th>198</th>\n",
       "      <td>6</td>\n",
       "      <td>6</td>\n",
       "    </tr>\n",
       "    <tr>\n",
       "      <th>199</th>\n",
       "      <td>3</td>\n",
       "      <td>3</td>\n",
       "    </tr>\n",
       "  </tbody>\n",
       "</table>\n",
       "<p>200 rows × 2 columns</p>\n",
       "</div>"
      ],
      "text/plain": [
       "     Original  Predicted\n",
       "0           2          2\n",
       "1           7          7\n",
       "2           3          3\n",
       "3           3          3\n",
       "4           3          3\n",
       "..        ...        ...\n",
       "195         3          3\n",
       "196         3          3\n",
       "197         2          3\n",
       "198         6          6\n",
       "199         3          3\n",
       "\n",
       "[200 rows x 2 columns]"
      ]
     },
     "execution_count": 145,
     "metadata": {},
     "output_type": "execute_result"
    }
   ],
   "source": [
    "import numpy as np\n",
    "a = np.array(ytest)\n",
    "predicted =np.array(RFC.predict(xtrain))\n",
    "df_com= pd.DataFrame({\"Original\":a, \"Predicted\":pred}, index =range(len(a)))\n",
    "df_com"
   ]
  },
  {
   "cell_type": "code",
   "execution_count": null,
   "id": "f6116f3f",
   "metadata": {},
   "outputs": [],
   "source": []
  }
 ],
 "metadata": {
  "kernelspec": {
   "display_name": "Python 3 (ipykernel)",
   "language": "python",
   "name": "python3"
  },
  "language_info": {
   "codemirror_mode": {
    "name": "ipython",
    "version": 3
   },
   "file_extension": ".py",
   "mimetype": "text/x-python",
   "name": "python",
   "nbconvert_exporter": "python",
   "pygments_lexer": "ipython3",
   "version": "3.9.12"
  }
 },
 "nbformat": 4,
 "nbformat_minor": 5
}
