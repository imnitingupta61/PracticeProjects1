{
 "cells": [
  {
   "cell_type": "code",
   "execution_count": 2,
   "id": "62e1b863",
   "metadata": {},
   "outputs": [
    {
     "name": "stdout",
     "output_type": "stream",
     "text": [
      "s\n",
      "s\n",
      "t\n",
      "t\n",
      "r\n",
      "r\n",
      "n\n",
      "n\n",
      "g\n",
      "g\n",
      "e\n",
      "e\n",
      "The End\n"
     ]
    }
   ],
   "source": [
    "for val in \"stringexample\":\n",
    "    if val== 'i':\n",
    "        continue\n",
    "    else:\n",
    "        if val=='x':\n",
    "            break\n",
    "        print(val)\n",
    "    print(val)\n",
    "print(\"The End\")\n",
    "        "
   ]
  },
  {
   "cell_type": "code",
   "execution_count": 10,
   "id": "aa7e6ebe",
   "metadata": {},
   "outputs": [
    {
     "data": {
      "text/plain": [
       "{0: 0,\n",
       " 1: 1,\n",
       " 2: 4,\n",
       " 3: 9,\n",
       " 4: 16,\n",
       " 5: 25,\n",
       " 6: 36,\n",
       " 7: 49,\n",
       " 8: 64,\n",
       " 9: 81,\n",
       " 10: 100,\n",
       " 11: 121,\n",
       " 12: 144,\n",
       " 13: 169,\n",
       " 14: 196,\n",
       " 15: 225,\n",
       " 16: 256,\n",
       " 17: 289,\n",
       " 18: 324,\n",
       " 19: 361}"
      ]
     },
     "execution_count": 10,
     "metadata": {},
     "output_type": "execute_result"
    }
   ],
   "source": [
    "{x: x**2 for x in range(20)}"
   ]
  },
  {
   "cell_type": "code",
   "execution_count": 21,
   "id": "723c7f29",
   "metadata": {},
   "outputs": [],
   "source": [
    "def result(name, test1, test2 ):\n",
    "    marks = test1 + test2\n",
    "    print (\"Congratulations!\", name, \",You have got \", marks, \"marks\")\n",
    "    \n",
    "    "
   ]
  },
  {
   "cell_type": "code",
   "execution_count": 22,
   "id": "19e19d28",
   "metadata": {},
   "outputs": [
    {
     "name": "stdout",
     "output_type": "stream",
     "text": [
      "Congratulations! Nitin ,You have got  96 marks\n"
     ]
    }
   ],
   "source": [
    "result('Nitin', 55, 41)"
   ]
  },
  {
   "cell_type": "code",
   "execution_count": 1,
   "id": "e23b4224",
   "metadata": {},
   "outputs": [
    {
     "name": "stdout",
     "output_type": "stream",
     "text": [
      "20\n",
      "50\n",
      "90\n",
      "140\n",
      "200\n",
      "270\n",
      "The sum is  270\n"
     ]
    }
   ],
   "source": [
    "numbers = [20, 30, 40, 50, 60, 70]\n",
    "\n",
    "sum = 0\n",
    "\n",
    "for val in numbers:\n",
    "    sum = sum + val\n",
    "    print(sum)\n",
    "    \n",
    "print('The sum is ', sum)"
   ]
  },
  {
   "cell_type": "code",
   "execution_count": 3,
   "id": "9c8236eb",
   "metadata": {},
   "outputs": [
    {
     "name": "stdout",
     "output_type": "stream",
     "text": [
      "2\n",
      "8\n",
      "40\n",
      "240\n",
      "1680\n",
      "13440\n",
      "The multiplication of numbers are:  13440\n"
     ]
    }
   ],
   "source": [
    "numbers1 = [2, 4, 5, 6, 7, 8]\n",
    "\n",
    "mul = 1\n",
    "\n",
    "for val in numbers1:\n",
    "    mul = mul * val\n",
    "    print(mul)\n",
    "    \n",
    "print('The multiplication of numbers are: ', mul)"
   ]
  },
  {
   "cell_type": "code",
   "execution_count": 16,
   "id": "ace3669c",
   "metadata": {},
   "outputs": [
    {
     "name": "stdout",
     "output_type": "stream",
     "text": [
      "Please Enter number:\t6\n",
      "The factorial of given number is 720\n"
     ]
    }
   ],
   "source": [
    "num = int(input(\"Please Enter number:\\t\"))\n",
    "\n",
    "fact =1\n",
    "\n",
    "for i in range(1, num+1):\n",
    "    \n",
    "    fact = fact*i\n",
    "    \n",
    "print('The factorial of given number is', fact)\n",
    "    "
   ]
  },
  {
   "cell_type": "code",
   "execution_count": 26,
   "id": "ecbb5c0c",
   "metadata": {},
   "outputs": [
    {
     "name": "stdout",
     "output_type": "stream",
     "text": [
      "Please Enter first number:\t13\n",
      "Please Enter second number:\t13\n",
      "Both numbers are equal\n"
     ]
    }
   ],
   "source": [
    "num1= int(input('Please Enter first number:\\t'))\n",
    "num2= int(input('Please Enter second number:\\t'))\n",
    "\n",
    "if (num1==num2):\n",
    "    print(\"Both numbers are equal\")\n",
    "elif (num1>num2):\n",
    "    print(\"The Greater number is\", num1)\n",
    "else:\n",
    "    print(\"The Greater number is\", num2)"
   ]
  },
  {
   "cell_type": "code",
   "execution_count": 55,
   "id": "2e936335",
   "metadata": {},
   "outputs": [
    {
     "name": "stdout",
     "output_type": "stream",
     "text": [
      "Please Enter first number:\t13\n",
      "Please Enter second number:\t25\n",
      "Please Enter Third number:\t63\n",
      "The Greater number is 63\n"
     ]
    }
   ],
   "source": [
    "num1= int(input('Please Enter first number:\\t'))\n",
    "num2= int(input('Please Enter second number:\\t'))\n",
    "num3= int(input('Please Enter Third number:\\t'))\n",
    "\n",
    "if (num1==num2==num3):\n",
    "    print(\"All numbers are equal\")\n",
    "elif (num1>num2) and (num1>num3):\n",
    "        print(\"The Greater number is\", num1)\n",
    "elif(num2>num3) and (num2>num1):\n",
    "    print(\"The Greater number is\", num2)\n",
    "else:\n",
    "    print(\"The Greater number is\", num3)\n",
    "    \n",
    "\n",
    "    "
   ]
  },
  {
   "cell_type": "code",
   "execution_count": 64,
   "id": "972904ea",
   "metadata": {},
   "outputs": [
    {
     "name": "stdout",
     "output_type": "stream",
     "text": [
      "Please Enter number which you want table:\t19\n",
      "19 * 1 = 19\n",
      "19 * 2 = 38\n",
      "19 * 3 = 57\n",
      "19 * 4 = 76\n",
      "19 * 5 = 95\n",
      "19 * 6 = 114\n",
      "19 * 7 = 133\n",
      "19 * 8 = 152\n",
      "19 * 9 = 171\n",
      "19 * 10 = 190\n"
     ]
    }
   ],
   "source": [
    "num1= int(input('Please Enter number which you want table:\\t'))\n",
    "\n",
    "table = 1\n",
    "\n",
    "for i in range(1,11):\n",
    "    table = num1*i\n",
    "    print(num1, '*', i ,\"=\" ,table)"
   ]
  },
  {
   "cell_type": "code",
   "execution_count": 66,
   "id": "a98c69b1",
   "metadata": {},
   "outputs": [
    {
     "name": "stdout",
     "output_type": "stream",
     "text": [
      "Please Enter number which you want square:\t6\n",
      "The square of a number is 36\n"
     ]
    }
   ],
   "source": [
    "num1= int(input('Please Enter number which you want square:\\t'))\n",
    "\n",
    "square = 1\n",
    "\n",
    "square = num1 * num1\n",
    "print('The square of a number is', square)"
   ]
  },
  {
   "cell_type": "code",
   "execution_count": null,
   "id": "9bfeb228",
   "metadata": {},
   "outputs": [],
   "source": [
    "name = 'My name is Khan'\n",
    "\n",
    "reverse = name.reverse"
   ]
  }
 ],
 "metadata": {
  "kernelspec": {
   "display_name": "Python 3 (ipykernel)",
   "language": "python",
   "name": "python3"
  },
  "language_info": {
   "codemirror_mode": {
    "name": "ipython",
    "version": 3
   },
   "file_extension": ".py",
   "mimetype": "text/x-python",
   "name": "python",
   "nbconvert_exporter": "python",
   "pygments_lexer": "ipython3",
   "version": "3.9.7"
  }
 },
 "nbformat": 4,
 "nbformat_minor": 5
}
