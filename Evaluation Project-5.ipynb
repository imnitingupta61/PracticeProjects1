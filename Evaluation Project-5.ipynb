{
 "cells": [
  {
   "cell_type": "code",
   "execution_count": 1,
   "id": "c0663122",
   "metadata": {},
   "outputs": [],
   "source": [
    "import pandas as pd\n",
    "import numpy as np\n",
    "import sklearn\n",
    "import seaborn as sns\n",
    "import matplotlib.pyplot as plt\n",
    "from sklearn.model_selection import train_test_split\n",
    "import warnings\n",
    "warnings.filterwarnings(\"ignore\")"
   ]
  },
  {
   "cell_type": "code",
   "execution_count": 2,
   "id": "bc364eb0",
   "metadata": {},
   "outputs": [
    {
     "data": {
      "text/html": [
       "<div>\n",
       "<style scoped>\n",
       "    .dataframe tbody tr th:only-of-type {\n",
       "        vertical-align: middle;\n",
       "    }\n",
       "\n",
       "    .dataframe tbody tr th {\n",
       "        vertical-align: top;\n",
       "    }\n",
       "\n",
       "    .dataframe thead th {\n",
       "        text-align: right;\n",
       "    }\n",
       "</style>\n",
       "<table border=\"1\" class=\"dataframe\">\n",
       "  <thead>\n",
       "    <tr style=\"text-align: right;\">\n",
       "      <th></th>\n",
       "      <th>Age</th>\n",
       "      <th>Workclass</th>\n",
       "      <th>Fnlwgt</th>\n",
       "      <th>Education</th>\n",
       "      <th>Education_num</th>\n",
       "      <th>Marital_status</th>\n",
       "      <th>Occupation</th>\n",
       "      <th>Relationship</th>\n",
       "      <th>Race</th>\n",
       "      <th>Sex</th>\n",
       "      <th>Capital_gain</th>\n",
       "      <th>Capital_loss</th>\n",
       "      <th>Hours_per_week</th>\n",
       "      <th>Native_country</th>\n",
       "      <th>Income</th>\n",
       "    </tr>\n",
       "  </thead>\n",
       "  <tbody>\n",
       "    <tr>\n",
       "      <th>0</th>\n",
       "      <td>50</td>\n",
       "      <td>Self-emp-not-inc</td>\n",
       "      <td>83311</td>\n",
       "      <td>Bachelors</td>\n",
       "      <td>13</td>\n",
       "      <td>Married-civ-spouse</td>\n",
       "      <td>Exec-managerial</td>\n",
       "      <td>Husband</td>\n",
       "      <td>White</td>\n",
       "      <td>Male</td>\n",
       "      <td>0</td>\n",
       "      <td>0</td>\n",
       "      <td>13</td>\n",
       "      <td>United-States</td>\n",
       "      <td>&lt;=50K</td>\n",
       "    </tr>\n",
       "    <tr>\n",
       "      <th>1</th>\n",
       "      <td>38</td>\n",
       "      <td>Private</td>\n",
       "      <td>215646</td>\n",
       "      <td>HS-grad</td>\n",
       "      <td>9</td>\n",
       "      <td>Divorced</td>\n",
       "      <td>Handlers-cleaners</td>\n",
       "      <td>Not-in-family</td>\n",
       "      <td>White</td>\n",
       "      <td>Male</td>\n",
       "      <td>0</td>\n",
       "      <td>0</td>\n",
       "      <td>40</td>\n",
       "      <td>United-States</td>\n",
       "      <td>&lt;=50K</td>\n",
       "    </tr>\n",
       "    <tr>\n",
       "      <th>2</th>\n",
       "      <td>53</td>\n",
       "      <td>Private</td>\n",
       "      <td>234721</td>\n",
       "      <td>11th</td>\n",
       "      <td>7</td>\n",
       "      <td>Married-civ-spouse</td>\n",
       "      <td>Handlers-cleaners</td>\n",
       "      <td>Husband</td>\n",
       "      <td>Black</td>\n",
       "      <td>Male</td>\n",
       "      <td>0</td>\n",
       "      <td>0</td>\n",
       "      <td>40</td>\n",
       "      <td>United-States</td>\n",
       "      <td>&lt;=50K</td>\n",
       "    </tr>\n",
       "    <tr>\n",
       "      <th>3</th>\n",
       "      <td>28</td>\n",
       "      <td>Private</td>\n",
       "      <td>338409</td>\n",
       "      <td>Bachelors</td>\n",
       "      <td>13</td>\n",
       "      <td>Married-civ-spouse</td>\n",
       "      <td>Prof-specialty</td>\n",
       "      <td>Wife</td>\n",
       "      <td>Black</td>\n",
       "      <td>Female</td>\n",
       "      <td>0</td>\n",
       "      <td>0</td>\n",
       "      <td>40</td>\n",
       "      <td>Cuba</td>\n",
       "      <td>&lt;=50K</td>\n",
       "    </tr>\n",
       "    <tr>\n",
       "      <th>4</th>\n",
       "      <td>37</td>\n",
       "      <td>Private</td>\n",
       "      <td>284582</td>\n",
       "      <td>Masters</td>\n",
       "      <td>14</td>\n",
       "      <td>Married-civ-spouse</td>\n",
       "      <td>Exec-managerial</td>\n",
       "      <td>Wife</td>\n",
       "      <td>White</td>\n",
       "      <td>Female</td>\n",
       "      <td>0</td>\n",
       "      <td>0</td>\n",
       "      <td>40</td>\n",
       "      <td>United-States</td>\n",
       "      <td>&lt;=50K</td>\n",
       "    </tr>\n",
       "    <tr>\n",
       "      <th>...</th>\n",
       "      <td>...</td>\n",
       "      <td>...</td>\n",
       "      <td>...</td>\n",
       "      <td>...</td>\n",
       "      <td>...</td>\n",
       "      <td>...</td>\n",
       "      <td>...</td>\n",
       "      <td>...</td>\n",
       "      <td>...</td>\n",
       "      <td>...</td>\n",
       "      <td>...</td>\n",
       "      <td>...</td>\n",
       "      <td>...</td>\n",
       "      <td>...</td>\n",
       "      <td>...</td>\n",
       "    </tr>\n",
       "    <tr>\n",
       "      <th>32555</th>\n",
       "      <td>27</td>\n",
       "      <td>Private</td>\n",
       "      <td>257302</td>\n",
       "      <td>Assoc-acdm</td>\n",
       "      <td>12</td>\n",
       "      <td>Married-civ-spouse</td>\n",
       "      <td>Tech-support</td>\n",
       "      <td>Wife</td>\n",
       "      <td>White</td>\n",
       "      <td>Female</td>\n",
       "      <td>0</td>\n",
       "      <td>0</td>\n",
       "      <td>38</td>\n",
       "      <td>United-States</td>\n",
       "      <td>&lt;=50K</td>\n",
       "    </tr>\n",
       "    <tr>\n",
       "      <th>32556</th>\n",
       "      <td>40</td>\n",
       "      <td>Private</td>\n",
       "      <td>154374</td>\n",
       "      <td>HS-grad</td>\n",
       "      <td>9</td>\n",
       "      <td>Married-civ-spouse</td>\n",
       "      <td>Machine-op-inspct</td>\n",
       "      <td>Husband</td>\n",
       "      <td>White</td>\n",
       "      <td>Male</td>\n",
       "      <td>0</td>\n",
       "      <td>0</td>\n",
       "      <td>40</td>\n",
       "      <td>United-States</td>\n",
       "      <td>&gt;50K</td>\n",
       "    </tr>\n",
       "    <tr>\n",
       "      <th>32557</th>\n",
       "      <td>58</td>\n",
       "      <td>Private</td>\n",
       "      <td>151910</td>\n",
       "      <td>HS-grad</td>\n",
       "      <td>9</td>\n",
       "      <td>Widowed</td>\n",
       "      <td>Adm-clerical</td>\n",
       "      <td>Unmarried</td>\n",
       "      <td>White</td>\n",
       "      <td>Female</td>\n",
       "      <td>0</td>\n",
       "      <td>0</td>\n",
       "      <td>40</td>\n",
       "      <td>United-States</td>\n",
       "      <td>&lt;=50K</td>\n",
       "    </tr>\n",
       "    <tr>\n",
       "      <th>32558</th>\n",
       "      <td>22</td>\n",
       "      <td>Private</td>\n",
       "      <td>201490</td>\n",
       "      <td>HS-grad</td>\n",
       "      <td>9</td>\n",
       "      <td>Never-married</td>\n",
       "      <td>Adm-clerical</td>\n",
       "      <td>Own-child</td>\n",
       "      <td>White</td>\n",
       "      <td>Male</td>\n",
       "      <td>0</td>\n",
       "      <td>0</td>\n",
       "      <td>20</td>\n",
       "      <td>United-States</td>\n",
       "      <td>&lt;=50K</td>\n",
       "    </tr>\n",
       "    <tr>\n",
       "      <th>32559</th>\n",
       "      <td>52</td>\n",
       "      <td>Self-emp-inc</td>\n",
       "      <td>287927</td>\n",
       "      <td>HS-grad</td>\n",
       "      <td>9</td>\n",
       "      <td>Married-civ-spouse</td>\n",
       "      <td>Exec-managerial</td>\n",
       "      <td>Wife</td>\n",
       "      <td>White</td>\n",
       "      <td>Female</td>\n",
       "      <td>15024</td>\n",
       "      <td>0</td>\n",
       "      <td>40</td>\n",
       "      <td>United-States</td>\n",
       "      <td>&gt;50K</td>\n",
       "    </tr>\n",
       "  </tbody>\n",
       "</table>\n",
       "<p>32560 rows × 15 columns</p>\n",
       "</div>"
      ],
      "text/plain": [
       "       Age          Workclass  Fnlwgt    Education  Education_num  \\\n",
       "0       50   Self-emp-not-inc   83311    Bachelors             13   \n",
       "1       38            Private  215646      HS-grad              9   \n",
       "2       53            Private  234721         11th              7   \n",
       "3       28            Private  338409    Bachelors             13   \n",
       "4       37            Private  284582      Masters             14   \n",
       "...    ...                ...     ...          ...            ...   \n",
       "32555   27            Private  257302   Assoc-acdm             12   \n",
       "32556   40            Private  154374      HS-grad              9   \n",
       "32557   58            Private  151910      HS-grad              9   \n",
       "32558   22            Private  201490      HS-grad              9   \n",
       "32559   52       Self-emp-inc  287927      HS-grad              9   \n",
       "\n",
       "            Marital_status          Occupation    Relationship    Race  \\\n",
       "0       Married-civ-spouse     Exec-managerial         Husband   White   \n",
       "1                 Divorced   Handlers-cleaners   Not-in-family   White   \n",
       "2       Married-civ-spouse   Handlers-cleaners         Husband   Black   \n",
       "3       Married-civ-spouse      Prof-specialty            Wife   Black   \n",
       "4       Married-civ-spouse     Exec-managerial            Wife   White   \n",
       "...                    ...                 ...             ...     ...   \n",
       "32555   Married-civ-spouse        Tech-support            Wife   White   \n",
       "32556   Married-civ-spouse   Machine-op-inspct         Husband   White   \n",
       "32557              Widowed        Adm-clerical       Unmarried   White   \n",
       "32558        Never-married        Adm-clerical       Own-child   White   \n",
       "32559   Married-civ-spouse     Exec-managerial            Wife   White   \n",
       "\n",
       "           Sex  Capital_gain  Capital_loss  Hours_per_week  Native_country  \\\n",
       "0         Male             0             0              13   United-States   \n",
       "1         Male             0             0              40   United-States   \n",
       "2         Male             0             0              40   United-States   \n",
       "3       Female             0             0              40            Cuba   \n",
       "4       Female             0             0              40   United-States   \n",
       "...        ...           ...           ...             ...             ...   \n",
       "32555   Female             0             0              38   United-States   \n",
       "32556     Male             0             0              40   United-States   \n",
       "32557   Female             0             0              40   United-States   \n",
       "32558     Male             0             0              20   United-States   \n",
       "32559   Female         15024             0              40   United-States   \n",
       "\n",
       "       Income  \n",
       "0       <=50K  \n",
       "1       <=50K  \n",
       "2       <=50K  \n",
       "3       <=50K  \n",
       "4       <=50K  \n",
       "...       ...  \n",
       "32555   <=50K  \n",
       "32556    >50K  \n",
       "32557   <=50K  \n",
       "32558   <=50K  \n",
       "32559    >50K  \n",
       "\n",
       "[32560 rows x 15 columns]"
      ]
     },
     "execution_count": 2,
     "metadata": {},
     "output_type": "execute_result"
    }
   ],
   "source": [
    "df= pd.read_csv(\"https://raw.githubusercontent.com/dsrscientist/dataset1/master/census_income.csv\")\n",
    "df"
   ]
  },
  {
   "cell_type": "code",
   "execution_count": 3,
   "id": "55fba493",
   "metadata": {},
   "outputs": [
    {
     "data": {
      "text/html": [
       "<div>\n",
       "<style scoped>\n",
       "    .dataframe tbody tr th:only-of-type {\n",
       "        vertical-align: middle;\n",
       "    }\n",
       "\n",
       "    .dataframe tbody tr th {\n",
       "        vertical-align: top;\n",
       "    }\n",
       "\n",
       "    .dataframe thead th {\n",
       "        text-align: right;\n",
       "    }\n",
       "</style>\n",
       "<table border=\"1\" class=\"dataframe\">\n",
       "  <thead>\n",
       "    <tr style=\"text-align: right;\">\n",
       "      <th></th>\n",
       "      <th>0</th>\n",
       "      <th>1</th>\n",
       "      <th>2</th>\n",
       "      <th>3</th>\n",
       "      <th>4</th>\n",
       "      <th>5</th>\n",
       "      <th>6</th>\n",
       "      <th>7</th>\n",
       "      <th>8</th>\n",
       "      <th>9</th>\n",
       "    </tr>\n",
       "  </thead>\n",
       "  <tbody>\n",
       "    <tr>\n",
       "      <th>Age</th>\n",
       "      <td>50</td>\n",
       "      <td>38</td>\n",
       "      <td>53</td>\n",
       "      <td>28</td>\n",
       "      <td>37</td>\n",
       "      <td>49</td>\n",
       "      <td>52</td>\n",
       "      <td>31</td>\n",
       "      <td>42</td>\n",
       "      <td>37</td>\n",
       "    </tr>\n",
       "    <tr>\n",
       "      <th>Workclass</th>\n",
       "      <td>Self-emp-not-inc</td>\n",
       "      <td>Private</td>\n",
       "      <td>Private</td>\n",
       "      <td>Private</td>\n",
       "      <td>Private</td>\n",
       "      <td>Private</td>\n",
       "      <td>Self-emp-not-inc</td>\n",
       "      <td>Private</td>\n",
       "      <td>Private</td>\n",
       "      <td>Private</td>\n",
       "    </tr>\n",
       "    <tr>\n",
       "      <th>Fnlwgt</th>\n",
       "      <td>83311</td>\n",
       "      <td>215646</td>\n",
       "      <td>234721</td>\n",
       "      <td>338409</td>\n",
       "      <td>284582</td>\n",
       "      <td>160187</td>\n",
       "      <td>209642</td>\n",
       "      <td>45781</td>\n",
       "      <td>159449</td>\n",
       "      <td>280464</td>\n",
       "    </tr>\n",
       "    <tr>\n",
       "      <th>Education</th>\n",
       "      <td>Bachelors</td>\n",
       "      <td>HS-grad</td>\n",
       "      <td>11th</td>\n",
       "      <td>Bachelors</td>\n",
       "      <td>Masters</td>\n",
       "      <td>9th</td>\n",
       "      <td>HS-grad</td>\n",
       "      <td>Masters</td>\n",
       "      <td>Bachelors</td>\n",
       "      <td>Some-college</td>\n",
       "    </tr>\n",
       "    <tr>\n",
       "      <th>Education_num</th>\n",
       "      <td>13</td>\n",
       "      <td>9</td>\n",
       "      <td>7</td>\n",
       "      <td>13</td>\n",
       "      <td>14</td>\n",
       "      <td>5</td>\n",
       "      <td>9</td>\n",
       "      <td>14</td>\n",
       "      <td>13</td>\n",
       "      <td>10</td>\n",
       "    </tr>\n",
       "    <tr>\n",
       "      <th>Marital_status</th>\n",
       "      <td>Married-civ-spouse</td>\n",
       "      <td>Divorced</td>\n",
       "      <td>Married-civ-spouse</td>\n",
       "      <td>Married-civ-spouse</td>\n",
       "      <td>Married-civ-spouse</td>\n",
       "      <td>Married-spouse-absent</td>\n",
       "      <td>Married-civ-spouse</td>\n",
       "      <td>Never-married</td>\n",
       "      <td>Married-civ-spouse</td>\n",
       "      <td>Married-civ-spouse</td>\n",
       "    </tr>\n",
       "    <tr>\n",
       "      <th>Occupation</th>\n",
       "      <td>Exec-managerial</td>\n",
       "      <td>Handlers-cleaners</td>\n",
       "      <td>Handlers-cleaners</td>\n",
       "      <td>Prof-specialty</td>\n",
       "      <td>Exec-managerial</td>\n",
       "      <td>Other-service</td>\n",
       "      <td>Exec-managerial</td>\n",
       "      <td>Prof-specialty</td>\n",
       "      <td>Exec-managerial</td>\n",
       "      <td>Exec-managerial</td>\n",
       "    </tr>\n",
       "    <tr>\n",
       "      <th>Relationship</th>\n",
       "      <td>Husband</td>\n",
       "      <td>Not-in-family</td>\n",
       "      <td>Husband</td>\n",
       "      <td>Wife</td>\n",
       "      <td>Wife</td>\n",
       "      <td>Not-in-family</td>\n",
       "      <td>Husband</td>\n",
       "      <td>Not-in-family</td>\n",
       "      <td>Husband</td>\n",
       "      <td>Husband</td>\n",
       "    </tr>\n",
       "    <tr>\n",
       "      <th>Race</th>\n",
       "      <td>White</td>\n",
       "      <td>White</td>\n",
       "      <td>Black</td>\n",
       "      <td>Black</td>\n",
       "      <td>White</td>\n",
       "      <td>Black</td>\n",
       "      <td>White</td>\n",
       "      <td>White</td>\n",
       "      <td>White</td>\n",
       "      <td>Black</td>\n",
       "    </tr>\n",
       "    <tr>\n",
       "      <th>Sex</th>\n",
       "      <td>Male</td>\n",
       "      <td>Male</td>\n",
       "      <td>Male</td>\n",
       "      <td>Female</td>\n",
       "      <td>Female</td>\n",
       "      <td>Female</td>\n",
       "      <td>Male</td>\n",
       "      <td>Female</td>\n",
       "      <td>Male</td>\n",
       "      <td>Male</td>\n",
       "    </tr>\n",
       "    <tr>\n",
       "      <th>Capital_gain</th>\n",
       "      <td>0</td>\n",
       "      <td>0</td>\n",
       "      <td>0</td>\n",
       "      <td>0</td>\n",
       "      <td>0</td>\n",
       "      <td>0</td>\n",
       "      <td>0</td>\n",
       "      <td>14084</td>\n",
       "      <td>5178</td>\n",
       "      <td>0</td>\n",
       "    </tr>\n",
       "    <tr>\n",
       "      <th>Capital_loss</th>\n",
       "      <td>0</td>\n",
       "      <td>0</td>\n",
       "      <td>0</td>\n",
       "      <td>0</td>\n",
       "      <td>0</td>\n",
       "      <td>0</td>\n",
       "      <td>0</td>\n",
       "      <td>0</td>\n",
       "      <td>0</td>\n",
       "      <td>0</td>\n",
       "    </tr>\n",
       "    <tr>\n",
       "      <th>Hours_per_week</th>\n",
       "      <td>13</td>\n",
       "      <td>40</td>\n",
       "      <td>40</td>\n",
       "      <td>40</td>\n",
       "      <td>40</td>\n",
       "      <td>16</td>\n",
       "      <td>45</td>\n",
       "      <td>50</td>\n",
       "      <td>40</td>\n",
       "      <td>80</td>\n",
       "    </tr>\n",
       "    <tr>\n",
       "      <th>Native_country</th>\n",
       "      <td>United-States</td>\n",
       "      <td>United-States</td>\n",
       "      <td>United-States</td>\n",
       "      <td>Cuba</td>\n",
       "      <td>United-States</td>\n",
       "      <td>Jamaica</td>\n",
       "      <td>United-States</td>\n",
       "      <td>United-States</td>\n",
       "      <td>United-States</td>\n",
       "      <td>United-States</td>\n",
       "    </tr>\n",
       "    <tr>\n",
       "      <th>Income</th>\n",
       "      <td>&lt;=50K</td>\n",
       "      <td>&lt;=50K</td>\n",
       "      <td>&lt;=50K</td>\n",
       "      <td>&lt;=50K</td>\n",
       "      <td>&lt;=50K</td>\n",
       "      <td>&lt;=50K</td>\n",
       "      <td>&gt;50K</td>\n",
       "      <td>&gt;50K</td>\n",
       "      <td>&gt;50K</td>\n",
       "      <td>&gt;50K</td>\n",
       "    </tr>\n",
       "  </tbody>\n",
       "</table>\n",
       "</div>"
      ],
      "text/plain": [
       "                                  0                   1                    2  \\\n",
       "Age                              50                  38                   53   \n",
       "Workclass          Self-emp-not-inc             Private              Private   \n",
       "Fnlwgt                        83311              215646               234721   \n",
       "Education                 Bachelors             HS-grad                 11th   \n",
       "Education_num                    13                   9                    7   \n",
       "Marital_status   Married-civ-spouse            Divorced   Married-civ-spouse   \n",
       "Occupation          Exec-managerial   Handlers-cleaners    Handlers-cleaners   \n",
       "Relationship                Husband       Not-in-family              Husband   \n",
       "Race                          White               White                Black   \n",
       "Sex                            Male                Male                 Male   \n",
       "Capital_gain                      0                   0                    0   \n",
       "Capital_loss                      0                   0                    0   \n",
       "Hours_per_week                   13                  40                   40   \n",
       "Native_country        United-States       United-States        United-States   \n",
       "Income                        <=50K               <=50K                <=50K   \n",
       "\n",
       "                                  3                    4  \\\n",
       "Age                              28                   37   \n",
       "Workclass                   Private              Private   \n",
       "Fnlwgt                       338409               284582   \n",
       "Education                 Bachelors              Masters   \n",
       "Education_num                    13                   14   \n",
       "Marital_status   Married-civ-spouse   Married-civ-spouse   \n",
       "Occupation           Prof-specialty      Exec-managerial   \n",
       "Relationship                   Wife                 Wife   \n",
       "Race                          Black                White   \n",
       "Sex                          Female               Female   \n",
       "Capital_gain                      0                    0   \n",
       "Capital_loss                      0                    0   \n",
       "Hours_per_week                   40                   40   \n",
       "Native_country                 Cuba        United-States   \n",
       "Income                        <=50K                <=50K   \n",
       "\n",
       "                                     5                    6                7  \\\n",
       "Age                                 49                   52               31   \n",
       "Workclass                      Private     Self-emp-not-inc          Private   \n",
       "Fnlwgt                          160187               209642            45781   \n",
       "Education                          9th              HS-grad          Masters   \n",
       "Education_num                        5                    9               14   \n",
       "Marital_status   Married-spouse-absent   Married-civ-spouse    Never-married   \n",
       "Occupation               Other-service      Exec-managerial   Prof-specialty   \n",
       "Relationship             Not-in-family              Husband    Not-in-family   \n",
       "Race                             Black                White            White   \n",
       "Sex                             Female                 Male           Female   \n",
       "Capital_gain                         0                    0            14084   \n",
       "Capital_loss                         0                    0                0   \n",
       "Hours_per_week                      16                   45               50   \n",
       "Native_country                 Jamaica        United-States    United-States   \n",
       "Income                           <=50K                 >50K             >50K   \n",
       "\n",
       "                                  8                    9  \n",
       "Age                              42                   37  \n",
       "Workclass                   Private              Private  \n",
       "Fnlwgt                       159449               280464  \n",
       "Education                 Bachelors         Some-college  \n",
       "Education_num                    13                   10  \n",
       "Marital_status   Married-civ-spouse   Married-civ-spouse  \n",
       "Occupation          Exec-managerial      Exec-managerial  \n",
       "Relationship                Husband              Husband  \n",
       "Race                          White                Black  \n",
       "Sex                            Male                 Male  \n",
       "Capital_gain                   5178                    0  \n",
       "Capital_loss                      0                    0  \n",
       "Hours_per_week                   40                   80  \n",
       "Native_country        United-States        United-States  \n",
       "Income                         >50K                 >50K  "
      ]
     },
     "execution_count": 3,
     "metadata": {},
     "output_type": "execute_result"
    }
   ],
   "source": [
    "df.head(10).T"
   ]
  },
  {
   "cell_type": "code",
   "execution_count": 4,
   "id": "5f0afd84",
   "metadata": {},
   "outputs": [
    {
     "data": {
      "text/plain": [
       "Age               0\n",
       "Workclass         0\n",
       "Fnlwgt            0\n",
       "Education         0\n",
       "Education_num     0\n",
       "Marital_status    0\n",
       "Occupation        0\n",
       "Relationship      0\n",
       "Race              0\n",
       "Sex               0\n",
       "Capital_gain      0\n",
       "Capital_loss      0\n",
       "Hours_per_week    0\n",
       "Native_country    0\n",
       "Income            0\n",
       "dtype: int64"
      ]
     },
     "execution_count": 4,
     "metadata": {},
     "output_type": "execute_result"
    }
   ],
   "source": [
    "df.isnull().sum()"
   ]
  },
  {
   "cell_type": "code",
   "execution_count": 5,
   "id": "db6d76c1",
   "metadata": {},
   "outputs": [
    {
     "data": {
      "text/plain": [
       "<AxesSubplot:>"
      ]
     },
     "execution_count": 5,
     "metadata": {},
     "output_type": "execute_result"
    },
    {
     "data": {
      "image/png": "[encoded data removed]",
      "text/plain": [
       "<Figure size 432x288 with 2 Axes>"
      ]
     },
     "metadata": {
      "needs_background": "light"
     },
     "output_type": "display_data"
    }
   ],
   "source": [
    "sns.heatmap(df.isnull())"
   ]
  },
  {
   "cell_type": "markdown",
   "id": "62c81541",
   "metadata": {},
   "source": [
    "As per above visualization there is no null values"
   ]
  },
  {
   "cell_type": "code",
   "execution_count": 6,
   "id": "cd2ae99a",
   "metadata": {},
   "outputs": [
    {
     "data": {
      "text/plain": [
       "Age                  73\n",
       "Workclass             9\n",
       "Fnlwgt            21647\n",
       "Education            16\n",
       "Education_num        16\n",
       "Marital_status        7\n",
       "Occupation           15\n",
       "Relationship          6\n",
       "Race                  5\n",
       "Sex                   2\n",
       "Capital_gain        119\n",
       "Capital_loss         92\n",
       "Hours_per_week       94\n",
       "Native_country       42\n",
       "Income                2\n",
       "dtype: int64"
      ]
     },
     "execution_count": 6,
     "metadata": {},
     "output_type": "execute_result"
    }
   ],
   "source": [
    "df.nunique()"
   ]
  },
  {
   "cell_type": "code",
   "execution_count": 7,
   "id": "1bbfc478",
   "metadata": {},
   "outputs": [
    {
     "data": {
      "text/html": [
       "<div>\n",
       "<style scoped>\n",
       "    .dataframe tbody tr th:only-of-type {\n",
       "        vertical-align: middle;\n",
       "    }\n",
       "\n",
       "    .dataframe tbody tr th {\n",
       "        vertical-align: top;\n",
       "    }\n",
       "\n",
       "    .dataframe thead th {\n",
       "        text-align: right;\n",
       "    }\n",
       "</style>\n",
       "<table border=\"1\" class=\"dataframe\">\n",
       "  <thead>\n",
       "    <tr style=\"text-align: right;\">\n",
       "      <th></th>\n",
       "      <th>Age</th>\n",
       "      <th>Workclass</th>\n",
       "      <th>Fnlwgt</th>\n",
       "      <th>Education</th>\n",
       "      <th>Education_num</th>\n",
       "      <th>Marital_status</th>\n",
       "      <th>Occupation</th>\n",
       "      <th>Relationship</th>\n",
       "      <th>Race</th>\n",
       "      <th>Sex</th>\n",
       "      <th>Capital_gain</th>\n",
       "      <th>Capital_loss</th>\n",
       "      <th>Hours_per_week</th>\n",
       "      <th>Native_country</th>\n",
       "      <th>Income</th>\n",
       "    </tr>\n",
       "  </thead>\n",
       "  <tbody>\n",
       "    <tr>\n",
       "      <th>0</th>\n",
       "      <td>50</td>\n",
       "      <td>Self-emp-not-inc</td>\n",
       "      <td>83311</td>\n",
       "      <td>Bachelors</td>\n",
       "      <td>13</td>\n",
       "      <td>Married-civ-spouse</td>\n",
       "      <td>Exec-managerial</td>\n",
       "      <td>Husband</td>\n",
       "      <td>White</td>\n",
       "      <td>Male</td>\n",
       "      <td>0</td>\n",
       "      <td>0</td>\n",
       "      <td>13</td>\n",
       "      <td>United-States</td>\n",
       "      <td>&lt;=50K</td>\n",
       "    </tr>\n",
       "    <tr>\n",
       "      <th>1</th>\n",
       "      <td>38</td>\n",
       "      <td>Private</td>\n",
       "      <td>215646</td>\n",
       "      <td>HS-grad</td>\n",
       "      <td>9</td>\n",
       "      <td>Divorced</td>\n",
       "      <td>Handlers-cleaners</td>\n",
       "      <td>Not-in-family</td>\n",
       "      <td>White</td>\n",
       "      <td>Male</td>\n",
       "      <td>0</td>\n",
       "      <td>0</td>\n",
       "      <td>40</td>\n",
       "      <td>United-States</td>\n",
       "      <td>&lt;=50K</td>\n",
       "    </tr>\n",
       "    <tr>\n",
       "      <th>2</th>\n",
       "      <td>53</td>\n",
       "      <td>Private</td>\n",
       "      <td>234721</td>\n",
       "      <td>11th</td>\n",
       "      <td>7</td>\n",
       "      <td>Married-civ-spouse</td>\n",
       "      <td>Handlers-cleaners</td>\n",
       "      <td>Husband</td>\n",
       "      <td>Black</td>\n",
       "      <td>Male</td>\n",
       "      <td>0</td>\n",
       "      <td>0</td>\n",
       "      <td>40</td>\n",
       "      <td>United-States</td>\n",
       "      <td>&lt;=50K</td>\n",
       "    </tr>\n",
       "    <tr>\n",
       "      <th>3</th>\n",
       "      <td>28</td>\n",
       "      <td>Private</td>\n",
       "      <td>338409</td>\n",
       "      <td>Bachelors</td>\n",
       "      <td>13</td>\n",
       "      <td>Married-civ-spouse</td>\n",
       "      <td>Prof-specialty</td>\n",
       "      <td>Wife</td>\n",
       "      <td>Black</td>\n",
       "      <td>Female</td>\n",
       "      <td>0</td>\n",
       "      <td>0</td>\n",
       "      <td>40</td>\n",
       "      <td>Cuba</td>\n",
       "      <td>&lt;=50K</td>\n",
       "    </tr>\n",
       "    <tr>\n",
       "      <th>4</th>\n",
       "      <td>37</td>\n",
       "      <td>Private</td>\n",
       "      <td>284582</td>\n",
       "      <td>Masters</td>\n",
       "      <td>14</td>\n",
       "      <td>Married-civ-spouse</td>\n",
       "      <td>Exec-managerial</td>\n",
       "      <td>Wife</td>\n",
       "      <td>White</td>\n",
       "      <td>Female</td>\n",
       "      <td>0</td>\n",
       "      <td>0</td>\n",
       "      <td>40</td>\n",
       "      <td>United-States</td>\n",
       "      <td>&lt;=50K</td>\n",
       "    </tr>\n",
       "    <tr>\n",
       "      <th>...</th>\n",
       "      <td>...</td>\n",
       "      <td>...</td>\n",
       "      <td>...</td>\n",
       "      <td>...</td>\n",
       "      <td>...</td>\n",
       "      <td>...</td>\n",
       "      <td>...</td>\n",
       "      <td>...</td>\n",
       "      <td>...</td>\n",
       "      <td>...</td>\n",
       "      <td>...</td>\n",
       "      <td>...</td>\n",
       "      <td>...</td>\n",
       "      <td>...</td>\n",
       "      <td>...</td>\n",
       "    </tr>\n",
       "    <tr>\n",
       "      <th>32555</th>\n",
       "      <td>27</td>\n",
       "      <td>Private</td>\n",
       "      <td>257302</td>\n",
       "      <td>Assoc-acdm</td>\n",
       "      <td>12</td>\n",
       "      <td>Married-civ-spouse</td>\n",
       "      <td>Tech-support</td>\n",
       "      <td>Wife</td>\n",
       "      <td>White</td>\n",
       "      <td>Female</td>\n",
       "      <td>0</td>\n",
       "      <td>0</td>\n",
       "      <td>38</td>\n",
       "      <td>United-States</td>\n",
       "      <td>&lt;=50K</td>\n",
       "    </tr>\n",
       "    <tr>\n",
       "      <th>32556</th>\n",
       "      <td>40</td>\n",
       "      <td>Private</td>\n",
       "      <td>154374</td>\n",
       "      <td>HS-grad</td>\n",
       "      <td>9</td>\n",
       "      <td>Married-civ-spouse</td>\n",
       "      <td>Machine-op-inspct</td>\n",
       "      <td>Husband</td>\n",
       "      <td>White</td>\n",
       "      <td>Male</td>\n",
       "      <td>0</td>\n",
       "      <td>0</td>\n",
       "      <td>40</td>\n",
       "      <td>United-States</td>\n",
       "      <td>&gt;50K</td>\n",
       "    </tr>\n",
       "    <tr>\n",
       "      <th>32557</th>\n",
       "      <td>58</td>\n",
       "      <td>Private</td>\n",
       "      <td>151910</td>\n",
       "      <td>HS-grad</td>\n",
       "      <td>9</td>\n",
       "      <td>Widowed</td>\n",
       "      <td>Adm-clerical</td>\n",
       "      <td>Unmarried</td>\n",
       "      <td>White</td>\n",
       "      <td>Female</td>\n",
       "      <td>0</td>\n",
       "      <td>0</td>\n",
       "      <td>40</td>\n",
       "      <td>United-States</td>\n",
       "      <td>&lt;=50K</td>\n",
       "    </tr>\n",
       "    <tr>\n",
       "      <th>32558</th>\n",
       "      <td>22</td>\n",
       "      <td>Private</td>\n",
       "      <td>201490</td>\n",
       "      <td>HS-grad</td>\n",
       "      <td>9</td>\n",
       "      <td>Never-married</td>\n",
       "      <td>Adm-clerical</td>\n",
       "      <td>Own-child</td>\n",
       "      <td>White</td>\n",
       "      <td>Male</td>\n",
       "      <td>0</td>\n",
       "      <td>0</td>\n",
       "      <td>20</td>\n",
       "      <td>United-States</td>\n",
       "      <td>&lt;=50K</td>\n",
       "    </tr>\n",
       "    <tr>\n",
       "      <th>32559</th>\n",
       "      <td>52</td>\n",
       "      <td>Self-emp-inc</td>\n",
       "      <td>287927</td>\n",
       "      <td>HS-grad</td>\n",
       "      <td>9</td>\n",
       "      <td>Married-civ-spouse</td>\n",
       "      <td>Exec-managerial</td>\n",
       "      <td>Wife</td>\n",
       "      <td>White</td>\n",
       "      <td>Female</td>\n",
       "      <td>15024</td>\n",
       "      <td>0</td>\n",
       "      <td>40</td>\n",
       "      <td>United-States</td>\n",
       "      <td>&gt;50K</td>\n",
       "    </tr>\n",
       "  </tbody>\n",
       "</table>\n",
       "<p>30161 rows × 15 columns</p>\n",
       "</div>"
      ],
      "text/plain": [
       "       Age          Workclass  Fnlwgt    Education  Education_num  \\\n",
       "0       50   Self-emp-not-inc   83311    Bachelors             13   \n",
       "1       38            Private  215646      HS-grad              9   \n",
       "2       53            Private  234721         11th              7   \n",
       "3       28            Private  338409    Bachelors             13   \n",
       "4       37            Private  284582      Masters             14   \n",
       "...    ...                ...     ...          ...            ...   \n",
       "32555   27            Private  257302   Assoc-acdm             12   \n",
       "32556   40            Private  154374      HS-grad              9   \n",
       "32557   58            Private  151910      HS-grad              9   \n",
       "32558   22            Private  201490      HS-grad              9   \n",
       "32559   52       Self-emp-inc  287927      HS-grad              9   \n",
       "\n",
       "            Marital_status          Occupation    Relationship    Race  \\\n",
       "0       Married-civ-spouse     Exec-managerial         Husband   White   \n",
       "1                 Divorced   Handlers-cleaners   Not-in-family   White   \n",
       "2       Married-civ-spouse   Handlers-cleaners         Husband   Black   \n",
       "3       Married-civ-spouse      Prof-specialty            Wife   Black   \n",
       "4       Married-civ-spouse     Exec-managerial            Wife   White   \n",
       "...                    ...                 ...             ...     ...   \n",
       "32555   Married-civ-spouse        Tech-support            Wife   White   \n",
       "32556   Married-civ-spouse   Machine-op-inspct         Husband   White   \n",
       "32557              Widowed        Adm-clerical       Unmarried   White   \n",
       "32558        Never-married        Adm-clerical       Own-child   White   \n",
       "32559   Married-civ-spouse     Exec-managerial            Wife   White   \n",
       "\n",
       "           Sex  Capital_gain  Capital_loss  Hours_per_week  Native_country  \\\n",
       "0         Male             0             0              13   United-States   \n",
       "1         Male             0             0              40   United-States   \n",
       "2         Male             0             0              40   United-States   \n",
       "3       Female             0             0              40            Cuba   \n",
       "4       Female             0             0              40   United-States   \n",
       "...        ...           ...           ...             ...             ...   \n",
       "32555   Female             0             0              38   United-States   \n",
       "32556     Male             0             0              40   United-States   \n",
       "32557   Female             0             0              40   United-States   \n",
       "32558     Male             0             0              20   United-States   \n",
       "32559   Female         15024             0              40   United-States   \n",
       "\n",
       "       Income  \n",
       "0       <=50K  \n",
       "1       <=50K  \n",
       "2       <=50K  \n",
       "3       <=50K  \n",
       "4       <=50K  \n",
       "...       ...  \n",
       "32555   <=50K  \n",
       "32556    >50K  \n",
       "32557   <=50K  \n",
       "32558   <=50K  \n",
       "32559    >50K  \n",
       "\n",
       "[30161 rows x 15 columns]"
      ]
     },
     "execution_count": 7,
     "metadata": {},
     "output_type": "execute_result"
    }
   ],
   "source": [
    "df.replace(to_replace=\" ?\", value=np.nan, inplace= True)\n",
    "df =df.dropna()\n",
    "df"
   ]
  },
  {
   "cell_type": "code",
   "execution_count": 8,
   "id": "f410b378",
   "metadata": {},
   "outputs": [
    {
     "data": {
      "text/plain": [
       "Age               0\n",
       "Workclass         0\n",
       "Fnlwgt            0\n",
       "Education         0\n",
       "Education_num     0\n",
       "Marital_status    0\n",
       "Occupation        0\n",
       "Relationship      0\n",
       "Race              0\n",
       "Sex               0\n",
       "Capital_gain      0\n",
       "Capital_loss      0\n",
       "Hours_per_week    0\n",
       "Native_country    0\n",
       "Income            0\n",
       "dtype: int64"
      ]
     },
     "execution_count": 8,
     "metadata": {},
     "output_type": "execute_result"
    }
   ],
   "source": [
    "df.isin([\"?\"]).sum()"
   ]
  },
  {
   "cell_type": "markdown",
   "id": "5e1b2360",
   "metadata": {},
   "source": [
    "As per above data education and education numbers both are similar then drop education,.Drop capacity gain and capacity loss as not required for model analysis"
   ]
  },
  {
   "cell_type": "code",
   "execution_count": 9,
   "id": "ef63309d",
   "metadata": {},
   "outputs": [],
   "source": [
    "df.drop(['Education','Capital_gain',\"Capital_loss\"], axis=1, inplace=True)"
   ]
  },
  {
   "cell_type": "code",
   "execution_count": 10,
   "id": "cffe4e84",
   "metadata": {},
   "outputs": [
    {
     "data": {
      "text/html": [
       "<div>\n",
       "<style scoped>\n",
       "    .dataframe tbody tr th:only-of-type {\n",
       "        vertical-align: middle;\n",
       "    }\n",
       "\n",
       "    .dataframe tbody tr th {\n",
       "        vertical-align: top;\n",
       "    }\n",
       "\n",
       "    .dataframe thead th {\n",
       "        text-align: right;\n",
       "    }\n",
       "</style>\n",
       "<table border=\"1\" class=\"dataframe\">\n",
       "  <thead>\n",
       "    <tr style=\"text-align: right;\">\n",
       "      <th></th>\n",
       "      <th>Age</th>\n",
       "      <th>Workclass</th>\n",
       "      <th>Fnlwgt</th>\n",
       "      <th>Education_num</th>\n",
       "      <th>Marital_status</th>\n",
       "      <th>Occupation</th>\n",
       "      <th>Relationship</th>\n",
       "      <th>Race</th>\n",
       "      <th>Sex</th>\n",
       "      <th>Hours_per_week</th>\n",
       "      <th>Native_country</th>\n",
       "      <th>Income</th>\n",
       "    </tr>\n",
       "  </thead>\n",
       "  <tbody>\n",
       "    <tr>\n",
       "      <th>0</th>\n",
       "      <td>50</td>\n",
       "      <td>Self-emp-not-inc</td>\n",
       "      <td>83311</td>\n",
       "      <td>13</td>\n",
       "      <td>Married-civ-spouse</td>\n",
       "      <td>Exec-managerial</td>\n",
       "      <td>Husband</td>\n",
       "      <td>White</td>\n",
       "      <td>Male</td>\n",
       "      <td>13</td>\n",
       "      <td>United-States</td>\n",
       "      <td>&lt;=50K</td>\n",
       "    </tr>\n",
       "    <tr>\n",
       "      <th>1</th>\n",
       "      <td>38</td>\n",
       "      <td>Private</td>\n",
       "      <td>215646</td>\n",
       "      <td>9</td>\n",
       "      <td>Divorced</td>\n",
       "      <td>Handlers-cleaners</td>\n",
       "      <td>Not-in-family</td>\n",
       "      <td>White</td>\n",
       "      <td>Male</td>\n",
       "      <td>40</td>\n",
       "      <td>United-States</td>\n",
       "      <td>&lt;=50K</td>\n",
       "    </tr>\n",
       "    <tr>\n",
       "      <th>2</th>\n",
       "      <td>53</td>\n",
       "      <td>Private</td>\n",
       "      <td>234721</td>\n",
       "      <td>7</td>\n",
       "      <td>Married-civ-spouse</td>\n",
       "      <td>Handlers-cleaners</td>\n",
       "      <td>Husband</td>\n",
       "      <td>Black</td>\n",
       "      <td>Male</td>\n",
       "      <td>40</td>\n",
       "      <td>United-States</td>\n",
       "      <td>&lt;=50K</td>\n",
       "    </tr>\n",
       "    <tr>\n",
       "      <th>3</th>\n",
       "      <td>28</td>\n",
       "      <td>Private</td>\n",
       "      <td>338409</td>\n",
       "      <td>13</td>\n",
       "      <td>Married-civ-spouse</td>\n",
       "      <td>Prof-specialty</td>\n",
       "      <td>Wife</td>\n",
       "      <td>Black</td>\n",
       "      <td>Female</td>\n",
       "      <td>40</td>\n",
       "      <td>Cuba</td>\n",
       "      <td>&lt;=50K</td>\n",
       "    </tr>\n",
       "    <tr>\n",
       "      <th>4</th>\n",
       "      <td>37</td>\n",
       "      <td>Private</td>\n",
       "      <td>284582</td>\n",
       "      <td>14</td>\n",
       "      <td>Married-civ-spouse</td>\n",
       "      <td>Exec-managerial</td>\n",
       "      <td>Wife</td>\n",
       "      <td>White</td>\n",
       "      <td>Female</td>\n",
       "      <td>40</td>\n",
       "      <td>United-States</td>\n",
       "      <td>&lt;=50K</td>\n",
       "    </tr>\n",
       "    <tr>\n",
       "      <th>...</th>\n",
       "      <td>...</td>\n",
       "      <td>...</td>\n",
       "      <td>...</td>\n",
       "      <td>...</td>\n",
       "      <td>...</td>\n",
       "      <td>...</td>\n",
       "      <td>...</td>\n",
       "      <td>...</td>\n",
       "      <td>...</td>\n",
       "      <td>...</td>\n",
       "      <td>...</td>\n",
       "      <td>...</td>\n",
       "    </tr>\n",
       "    <tr>\n",
       "      <th>32555</th>\n",
       "      <td>27</td>\n",
       "      <td>Private</td>\n",
       "      <td>257302</td>\n",
       "      <td>12</td>\n",
       "      <td>Married-civ-spouse</td>\n",
       "      <td>Tech-support</td>\n",
       "      <td>Wife</td>\n",
       "      <td>White</td>\n",
       "      <td>Female</td>\n",
       "      <td>38</td>\n",
       "      <td>United-States</td>\n",
       "      <td>&lt;=50K</td>\n",
       "    </tr>\n",
       "    <tr>\n",
       "      <th>32556</th>\n",
       "      <td>40</td>\n",
       "      <td>Private</td>\n",
       "      <td>154374</td>\n",
       "      <td>9</td>\n",
       "      <td>Married-civ-spouse</td>\n",
       "      <td>Machine-op-inspct</td>\n",
       "      <td>Husband</td>\n",
       "      <td>White</td>\n",
       "      <td>Male</td>\n",
       "      <td>40</td>\n",
       "      <td>United-States</td>\n",
       "      <td>&gt;50K</td>\n",
       "    </tr>\n",
       "    <tr>\n",
       "      <th>32557</th>\n",
       "      <td>58</td>\n",
       "      <td>Private</td>\n",
       "      <td>151910</td>\n",
       "      <td>9</td>\n",
       "      <td>Widowed</td>\n",
       "      <td>Adm-clerical</td>\n",
       "      <td>Unmarried</td>\n",
       "      <td>White</td>\n",
       "      <td>Female</td>\n",
       "      <td>40</td>\n",
       "      <td>United-States</td>\n",
       "      <td>&lt;=50K</td>\n",
       "    </tr>\n",
       "    <tr>\n",
       "      <th>32558</th>\n",
       "      <td>22</td>\n",
       "      <td>Private</td>\n",
       "      <td>201490</td>\n",
       "      <td>9</td>\n",
       "      <td>Never-married</td>\n",
       "      <td>Adm-clerical</td>\n",
       "      <td>Own-child</td>\n",
       "      <td>White</td>\n",
       "      <td>Male</td>\n",
       "      <td>20</td>\n",
       "      <td>United-States</td>\n",
       "      <td>&lt;=50K</td>\n",
       "    </tr>\n",
       "    <tr>\n",
       "      <th>32559</th>\n",
       "      <td>52</td>\n",
       "      <td>Self-emp-inc</td>\n",
       "      <td>287927</td>\n",
       "      <td>9</td>\n",
       "      <td>Married-civ-spouse</td>\n",
       "      <td>Exec-managerial</td>\n",
       "      <td>Wife</td>\n",
       "      <td>White</td>\n",
       "      <td>Female</td>\n",
       "      <td>40</td>\n",
       "      <td>United-States</td>\n",
       "      <td>&gt;50K</td>\n",
       "    </tr>\n",
       "  </tbody>\n",
       "</table>\n",
       "<p>30161 rows × 12 columns</p>\n",
       "</div>"
      ],
      "text/plain": [
       "       Age          Workclass  Fnlwgt  Education_num       Marital_status  \\\n",
       "0       50   Self-emp-not-inc   83311             13   Married-civ-spouse   \n",
       "1       38            Private  215646              9             Divorced   \n",
       "2       53            Private  234721              7   Married-civ-spouse   \n",
       "3       28            Private  338409             13   Married-civ-spouse   \n",
       "4       37            Private  284582             14   Married-civ-spouse   \n",
       "...    ...                ...     ...            ...                  ...   \n",
       "32555   27            Private  257302             12   Married-civ-spouse   \n",
       "32556   40            Private  154374              9   Married-civ-spouse   \n",
       "32557   58            Private  151910              9              Widowed   \n",
       "32558   22            Private  201490              9        Never-married   \n",
       "32559   52       Self-emp-inc  287927              9   Married-civ-spouse   \n",
       "\n",
       "               Occupation    Relationship    Race      Sex  Hours_per_week  \\\n",
       "0         Exec-managerial         Husband   White     Male              13   \n",
       "1       Handlers-cleaners   Not-in-family   White     Male              40   \n",
       "2       Handlers-cleaners         Husband   Black     Male              40   \n",
       "3          Prof-specialty            Wife   Black   Female              40   \n",
       "4         Exec-managerial            Wife   White   Female              40   \n",
       "...                   ...             ...     ...      ...             ...   \n",
       "32555        Tech-support            Wife   White   Female              38   \n",
       "32556   Machine-op-inspct         Husband   White     Male              40   \n",
       "32557        Adm-clerical       Unmarried   White   Female              40   \n",
       "32558        Adm-clerical       Own-child   White     Male              20   \n",
       "32559     Exec-managerial            Wife   White   Female              40   \n",
       "\n",
       "       Native_country  Income  \n",
       "0       United-States   <=50K  \n",
       "1       United-States   <=50K  \n",
       "2       United-States   <=50K  \n",
       "3                Cuba   <=50K  \n",
       "4       United-States   <=50K  \n",
       "...               ...     ...  \n",
       "32555   United-States   <=50K  \n",
       "32556   United-States    >50K  \n",
       "32557   United-States   <=50K  \n",
       "32558   United-States   <=50K  \n",
       "32559   United-States    >50K  \n",
       "\n",
       "[30161 rows x 12 columns]"
      ]
     },
     "execution_count": 10,
     "metadata": {},
     "output_type": "execute_result"
    }
   ],
   "source": [
    "df"
   ]
  },
  {
   "cell_type": "code",
   "execution_count": 11,
   "id": "76d257c5",
   "metadata": {},
   "outputs": [
    {
     "data": {
      "text/plain": [
       " Private             22286\n",
       " Self-emp-not-inc     2499\n",
       " Local-gov            2067\n",
       " State-gov            1278\n",
       " Self-emp-inc         1074\n",
       " Federal-gov           943\n",
       " Without-pay            14\n",
       "Name: Workclass, dtype: int64"
      ]
     },
     "execution_count": 11,
     "metadata": {},
     "output_type": "execute_result"
    },
    {
     "data": {
      "image/png": "[encoded data removed]",
      "text/plain": [
       "<Figure size 432x288 with 1 Axes>"
      ]
     },
     "metadata": {
      "needs_background": "light"
     },
     "output_type": "display_data"
    }
   ],
   "source": [
    "sns.countplot(x='Workclass', data=df)\n",
    "df['Workclass'].value_counts()"
   ]
  },
  {
   "cell_type": "markdown",
   "id": "97daf9f0",
   "metadata": {},
   "source": [
    "As per above visualization Private employees are 22286, 2499 are Self-emp-not-inc, 2067 are Local-gov, 1278 are state-gov,1074 are Self-emp-inc, 943 are from Federal-gov and 14 are without-pay"
   ]
  },
  {
   "cell_type": "code",
   "execution_count": 12,
   "id": "dc7f78df",
   "metadata": {},
   "outputs": [
    {
     "data": {
      "text/plain": [
       " Married-civ-spouse       14065\n",
       " Never-married             9725\n",
       " Divorced                  4214\n",
       " Separated                  939\n",
       " Widowed                    827\n",
       " Married-spouse-absent      370\n",
       " Married-AF-spouse           21\n",
       "Name: Marital_status, dtype: int64"
      ]
     },
     "execution_count": 12,
     "metadata": {},
     "output_type": "execute_result"
    },
    {
     "data": {
      "image/png": "[encoded data removed]",
      "text/plain": [
       "<Figure size 432x288 with 1 Axes>"
      ]
     },
     "metadata": {
      "needs_background": "light"
     },
     "output_type": "display_data"
    }
   ],
   "source": [
    "sns.countplot(x='Marital_status', data=df)\n",
    "df['Marital_status'].value_counts()"
   ]
  },
  {
   "cell_type": "markdown",
   "id": "f94386c0",
   "metadata": {},
   "source": [
    "As per above visualization 14065 are married-civ-spouse, 9725 are Neve-married, 4214 are Divorced, 939 are Seperated, 827 are widow, 370 are Married-spouse-absent and 21 are Married-AF-spouse"
   ]
  },
  {
   "cell_type": "code",
   "execution_count": 13,
   "id": "7cf3a6c6",
   "metadata": {},
   "outputs": [
    {
     "data": {
      "text/plain": [
       " Prof-specialty       4038\n",
       " Craft-repair         4030\n",
       " Exec-managerial      3992\n",
       " Adm-clerical         3720\n",
       " Sales                3584\n",
       " Other-service        3212\n",
       " Machine-op-inspct    1966\n",
       " Transport-moving     1572\n",
       " Handlers-cleaners    1350\n",
       " Farming-fishing       989\n",
       " Tech-support          912\n",
       " Protective-serv       644\n",
       " Priv-house-serv       143\n",
       " Armed-Forces            9\n",
       "Name: Occupation, dtype: int64"
      ]
     },
     "execution_count": 13,
     "metadata": {},
     "output_type": "execute_result"
    },
    {
     "data": {
      "image/png": "[encoded data removed]",
      "text/plain": [
       "<Figure size 432x288 with 1 Axes>"
      ]
     },
     "metadata": {
      "needs_background": "light"
     },
     "output_type": "display_data"
    }
   ],
   "source": [
    "sns.countplot(x='Occupation', data=df)\n",
    "df['Occupation'].value_counts()"
   ]
  },
  {
   "cell_type": "markdown",
   "id": "0adaf080",
   "metadata": {},
   "source": [
    "As per above visualization it is showing the different catagories of occupation with numbers"
   ]
  },
  {
   "cell_type": "code",
   "execution_count": 14,
   "id": "7a6332e2",
   "metadata": {},
   "outputs": [
    {
     "data": {
      "text/plain": [
       " Husband           12463\n",
       " Not-in-family      7725\n",
       " Own-child          4466\n",
       " Unmarried          3212\n",
       " Wife               1406\n",
       " Other-relative      889\n",
       "Name: Relationship, dtype: int64"
      ]
     },
     "execution_count": 14,
     "metadata": {},
     "output_type": "execute_result"
    },
    {
     "data": {
      "image/png": "[encoded data removed]",
      "text/plain": [
       "<Figure size 432x288 with 1 Axes>"
      ]
     },
     "metadata": {
      "needs_background": "light"
     },
     "output_type": "display_data"
    }
   ],
   "source": [
    "sns.countplot(x='Relationship', data=df)\n",
    "df['Relationship'].value_counts()"
   ]
  },
  {
   "cell_type": "markdown",
   "id": "1bd7ee8e",
   "metadata": {},
   "source": [
    "As per above visualization 12463 are married, 7725 are Not-in-familiy, 4466 are having child, 3212 are unmarried, 1406 are wives and 889 are other relatives"
   ]
  },
  {
   "cell_type": "code",
   "execution_count": 15,
   "id": "db34e23a",
   "metadata": {},
   "outputs": [
    {
     "data": {
      "text/plain": [
       " White                 25932\n",
       " Black                  2817\n",
       " Asian-Pac-Islander      895\n",
       " Amer-Indian-Eskimo      286\n",
       " Other                   231\n",
       "Name: Race, dtype: int64"
      ]
     },
     "execution_count": 15,
     "metadata": {},
     "output_type": "execute_result"
    },
    {
     "data": {
      "image/png": "[encoded data removed]",
      "text/plain": [
       "<Figure size 432x288 with 1 Axes>"
      ]
     },
     "metadata": {
      "needs_background": "light"
     },
     "output_type": "display_data"
    }
   ],
   "source": [
    "sns.countplot(x='Race', data=df)\n",
    "df['Race'].value_counts()"
   ]
  },
  {
   "cell_type": "markdown",
   "id": "0b114439",
   "metadata": {},
   "source": [
    "As per above visualization 25932 employees are White in complexion, 2817 are Black in complexion, 895 are Asian-Pac-Islander, 231 are from other"
   ]
  },
  {
   "cell_type": "code",
   "execution_count": 16,
   "id": "4fe9a870",
   "metadata": {},
   "outputs": [
    {
     "data": {
      "text/plain": [
       " Male      20379\n",
       " Female     9782\n",
       "Name: Sex, dtype: int64"
      ]
     },
     "execution_count": 16,
     "metadata": {},
     "output_type": "execute_result"
    },
    {
     "data": {
      "image/png": "[encoded data removed]",
      "text/plain": [
       "<Figure size 432x288 with 1 Axes>"
      ]
     },
     "metadata": {
      "needs_background": "light"
     },
     "output_type": "display_data"
    }
   ],
   "source": [
    "sns.countplot(x='Sex', data=df)\n",
    "df['Sex'].value_counts()"
   ]
  },
  {
   "cell_type": "markdown",
   "id": "8fb3f7fe",
   "metadata": {},
   "source": [
    "As per abovve visualization 20379 are male and 9782 are females"
   ]
  },
  {
   "cell_type": "code",
   "execution_count": 17,
   "id": "bbf91f63",
   "metadata": {},
   "outputs": [
    {
     "data": {
      "text/plain": [
       " United-States                 27503\n",
       " Mexico                          610\n",
       " Philippines                     188\n",
       " Germany                         128\n",
       " Puerto-Rico                     109\n",
       " Canada                          107\n",
       " India                           100\n",
       " El-Salvador                     100\n",
       " Cuba                             92\n",
       " England                          86\n",
       " Jamaica                          80\n",
       " South                            71\n",
       " China                            68\n",
       " Italy                            68\n",
       " Dominican-Republic               67\n",
       " Vietnam                          64\n",
       " Guatemala                        63\n",
       " Japan                            59\n",
       " Poland                           56\n",
       " Columbia                         56\n",
       " Iran                             42\n",
       " Taiwan                           42\n",
       " Haiti                            42\n",
       " Portugal                         34\n",
       " Nicaragua                        33\n",
       " Peru                             30\n",
       " Greece                           29\n",
       " France                           27\n",
       " Ecuador                          27\n",
       " Ireland                          24\n",
       " Hong                             19\n",
       " Cambodia                         18\n",
       " Trinadad&Tobago                  18\n",
       " Thailand                         17\n",
       " Laos                             17\n",
       " Yugoslavia                       16\n",
       " Outlying-US(Guam-USVI-etc)       14\n",
       " Hungary                          13\n",
       " Honduras                         12\n",
       " Scotland                         11\n",
       " Holand-Netherlands                1\n",
       "Name: Native_country, dtype: int64"
      ]
     },
     "execution_count": 17,
     "metadata": {},
     "output_type": "execute_result"
    },
    {
     "data": {
      "image/png": "[encoded data removed]",
      "text/plain": [
       "<Figure size 432x288 with 1 Axes>"
      ]
     },
     "metadata": {
      "needs_background": "light"
     },
     "output_type": "display_data"
    }
   ],
   "source": [
    "sns.countplot(x='Native_country', data=df)\n",
    "df['Native_country'].value_counts()"
   ]
  },
  {
   "cell_type": "markdown",
   "id": "9257feb1",
   "metadata": {},
   "source": [
    "As per above visualization the highest employee native country is United states, as per above data there are 42 different countries."
   ]
  },
  {
   "cell_type": "code",
   "execution_count": 18,
   "id": "f9522551",
   "metadata": {},
   "outputs": [
    {
     "data": {
      "text/plain": [
       " <=50K    22653\n",
       " >50K      7508\n",
       "Name: Income, dtype: int64"
      ]
     },
     "execution_count": 18,
     "metadata": {},
     "output_type": "execute_result"
    },
    {
     "data": {
      "image/png": "[encoded data removed]",
      "text/plain": [
       "<Figure size 432x288 with 1 Axes>"
      ]
     },
     "metadata": {
      "needs_background": "light"
     },
     "output_type": "display_data"
    }
   ],
   "source": [
    "sns.countplot(x='Income', data=df)\n",
    "df['Income'].value_counts()"
   ]
  },
  {
   "cell_type": "markdown",
   "id": "98874a8e",
   "metadata": {},
   "source": [
    "As per above visualization 22653 employees having salary <=50K and 7508 employees ahving salary >50K"
   ]
  },
  {
   "cell_type": "code",
   "execution_count": 19,
   "id": "c51c9194",
   "metadata": {},
   "outputs": [
    {
     "data": {
      "text/plain": [
       "Age                int64\n",
       "Workclass         object\n",
       "Fnlwgt             int64\n",
       "Education_num      int64\n",
       "Marital_status    object\n",
       "Occupation        object\n",
       "Relationship      object\n",
       "Race              object\n",
       "Sex               object\n",
       "Hours_per_week     int64\n",
       "Native_country    object\n",
       "Income            object\n",
       "dtype: object"
      ]
     },
     "execution_count": 19,
     "metadata": {},
     "output_type": "execute_result"
    }
   ],
   "source": [
    "df.dtypes"
   ]
  },
  {
   "cell_type": "code",
   "execution_count": 20,
   "id": "b582f163",
   "metadata": {},
   "outputs": [
    {
     "data": {
      "text/plain": [
       "<AxesSubplot:xlabel='Age', ylabel='Density'>"
      ]
     },
     "execution_count": 20,
     "metadata": {},
     "output_type": "execute_result"
    },
    {
     "data": {
      "image/png": "[encoded data removed]",
      "text/plain": [
       "<Figure size 432x288 with 1 Axes>"
      ]
     },
     "metadata": {
      "needs_background": "light"
     },
     "output_type": "display_data"
    }
   ],
   "source": [
    "sns.distplot(df['Age'], kde= True)"
   ]
  },
  {
   "cell_type": "markdown",
   "id": "b6b747cc",
   "metadata": {},
   "source": [
    "As per above visualization the data is higher on 30-40 years age people"
   ]
  },
  {
   "cell_type": "code",
   "execution_count": 21,
   "id": "562f0a67",
   "metadata": {},
   "outputs": [
    {
     "data": {
      "text/plain": [
       "<AxesSubplot:xlabel='Fnlwgt', ylabel='Density'>"
      ]
     },
     "execution_count": 21,
     "metadata": {},
     "output_type": "execute_result"
    },
    {
     "data": {
      "image/png": "[encoded data removed]",
      "text/plain": [
       "<Figure size 432x288 with 1 Axes>"
      ]
     },
     "metadata": {
      "needs_background": "light"
     },
     "output_type": "display_data"
    }
   ],
   "source": [
    "sns.distplot(df['Fnlwgt'], kde= True)"
   ]
  },
  {
   "cell_type": "markdown",
   "id": "3ad49ea5",
   "metadata": {},
   "source": [
    "The highly spreade final weight spreaded at 0.1-0.2"
   ]
  },
  {
   "cell_type": "code",
   "execution_count": 22,
   "id": "f0b99716",
   "metadata": {},
   "outputs": [
    {
     "data": {
      "text/plain": [
       "<AxesSubplot:xlabel='Hours_per_week', ylabel='Density'>"
      ]
     },
     "execution_count": 22,
     "metadata": {},
     "output_type": "execute_result"
    },
    {
     "data": {
      "image/png": "[encoded data removed]",
      "text/plain": [
       "<Figure size 432x288 with 1 Axes>"
      ]
     },
     "metadata": {
      "needs_background": "light"
     },
     "output_type": "display_data"
    }
   ],
   "source": [
    "sns.distplot(df['Hours_per_week'], kde= True)"
   ]
  },
  {
   "cell_type": "markdown",
   "id": "0522e250",
   "metadata": {},
   "source": [
    "The highly distributed data between 35-45"
   ]
  },
  {
   "cell_type": "markdown",
   "id": "73343d34",
   "metadata": {},
   "source": [
    "As per above visualization skewness is present is data"
   ]
  },
  {
   "cell_type": "markdown",
   "id": "b0e82a1c",
   "metadata": {},
   "source": [
    "Relation with Target column"
   ]
  },
  {
   "cell_type": "code",
   "execution_count": 23,
   "id": "685db7d4",
   "metadata": {},
   "outputs": [
    {
     "data": {
      "text/plain": [
       "<AxesSubplot:xlabel='Age', ylabel='Income'>"
      ]
     },
     "execution_count": 23,
     "metadata": {},
     "output_type": "execute_result"
    },
    {
     "data": {
      "image/png": "[encoded data removed]",
      "text/plain": [
       "<Figure size 432x288 with 1 Axes>"
      ]
     },
     "metadata": {
      "needs_background": "light"
     },
     "output_type": "display_data"
    }
   ],
   "source": [
    "sns.scatterplot(data=df,x='Age',y='Income')"
   ]
  },
  {
   "cell_type": "markdown",
   "id": "2731cb57",
   "metadata": {},
   "source": [
    "As per above visualization Age is somehow equally distributed with target variable but some outliers are present"
   ]
  },
  {
   "cell_type": "code",
   "execution_count": 24,
   "id": "48ea2fad",
   "metadata": {},
   "outputs": [
    {
     "data": {
      "text/plain": [
       "<AxesSubplot:xlabel='Workclass', ylabel='Income'>"
      ]
     },
     "execution_count": 24,
     "metadata": {},
     "output_type": "execute_result"
    },
    {
     "data": {
      "image/png": "[encoded data removed]",
      "text/plain": [
       "<Figure size 432x288 with 1 Axes>"
      ]
     },
     "metadata": {
      "needs_background": "light"
     },
     "output_type": "display_data"
    }
   ],
   "source": [
    "sns.scatterplot(data=df,x='Workclass',y='Income')"
   ]
  },
  {
   "cell_type": "markdown",
   "id": "a198986a",
   "metadata": {},
   "source": [
    "As per above visualization Workclass is somehow equally distributed with target variable but some outliers are present"
   ]
  },
  {
   "cell_type": "code",
   "execution_count": 25,
   "id": "f1027732",
   "metadata": {},
   "outputs": [
    {
     "data": {
      "text/plain": [
       "<AxesSubplot:xlabel='Fnlwgt', ylabel='Income'>"
      ]
     },
     "execution_count": 25,
     "metadata": {},
     "output_type": "execute_result"
    },
    {
     "data": {
      "image/png": "[encoded data removed]",
      "text/plain": [
       "<Figure size 432x288 with 1 Axes>"
      ]
     },
     "metadata": {
      "needs_background": "light"
     },
     "output_type": "display_data"
    }
   ],
   "source": [
    "sns.scatterplot(data=df,x='Fnlwgt',y='Income')"
   ]
  },
  {
   "cell_type": "markdown",
   "id": "e99786aa",
   "metadata": {},
   "source": [
    "As per above visualization Fnlwgt is not equally distributed with target variable and some outliers are present"
   ]
  },
  {
   "cell_type": "code",
   "execution_count": 26,
   "id": "fd0f6943",
   "metadata": {},
   "outputs": [
    {
     "data": {
      "text/plain": [
       "<AxesSubplot:xlabel='Education_num', ylabel='Income'>"
      ]
     },
     "execution_count": 26,
     "metadata": {},
     "output_type": "execute_result"
    },
    {
     "data": {
      "image/png": "[encoded data removed]",
      "text/plain": [
       "<Figure size 432x288 with 1 Axes>"
      ]
     },
     "metadata": {
      "needs_background": "light"
     },
     "output_type": "display_data"
    }
   ],
   "source": [
    "sns.scatterplot(data=df,x='Education_num',y='Income')"
   ]
  },
  {
   "cell_type": "markdown",
   "id": "106b4ea2",
   "metadata": {},
   "source": [
    "As per above visualization Education_num is somehow equally distributed with target variable but some outliers are present"
   ]
  },
  {
   "cell_type": "code",
   "execution_count": 27,
   "id": "da06cf40",
   "metadata": {},
   "outputs": [
    {
     "data": {
      "text/plain": [
       "<AxesSubplot:xlabel='Marital_status', ylabel='Income'>"
      ]
     },
     "execution_count": 27,
     "metadata": {},
     "output_type": "execute_result"
    },
    {
     "data": {
      "image/png": "[encoded data removed]",
      "text/plain": [
       "<Figure size 432x288 with 1 Axes>"
      ]
     },
     "metadata": {
      "needs_background": "light"
     },
     "output_type": "display_data"
    }
   ],
   "source": [
    "sns.scatterplot(data=df,x='Marital_status',y='Income')"
   ]
  },
  {
   "cell_type": "markdown",
   "id": "61beff2c",
   "metadata": {},
   "source": [
    "As per above visualization Marital_staus is equally distributed with target variable"
   ]
  },
  {
   "cell_type": "code",
   "execution_count": 28,
   "id": "bd65c150",
   "metadata": {},
   "outputs": [
    {
     "data": {
      "text/plain": [
       "<AxesSubplot:xlabel='Occupation', ylabel='Income'>"
      ]
     },
     "execution_count": 28,
     "metadata": {},
     "output_type": "execute_result"
    },
    {
     "data": {
      "image/png": "[encoded data removed]",
      "text/plain": [
       "<Figure size 432x288 with 1 Axes>"
      ]
     },
     "metadata": {
      "needs_background": "light"
     },
     "output_type": "display_data"
    }
   ],
   "source": [
    "sns.scatterplot(data=df,x='Occupation',y='Income')"
   ]
  },
  {
   "cell_type": "markdown",
   "id": "a73157c1",
   "metadata": {},
   "source": [
    "As per above visualization Occupation is equally distributed with target variable"
   ]
  },
  {
   "cell_type": "code",
   "execution_count": 29,
   "id": "341d6c51",
   "metadata": {},
   "outputs": [
    {
     "data": {
      "text/plain": [
       "<AxesSubplot:xlabel='Marital_status', ylabel='Income'>"
      ]
     },
     "execution_count": 29,
     "metadata": {},
     "output_type": "execute_result"
    },
    {
     "data": {
      "image/png": "[encoded data removed]",
      "text/plain": [
       "<Figure size 432x288 with 1 Axes>"
      ]
     },
     "metadata": {
      "needs_background": "light"
     },
     "output_type": "display_data"
    }
   ],
   "source": [
    "sns.scatterplot(data=df,x='Marital_status',y='Income')"
   ]
  },
  {
   "cell_type": "markdown",
   "id": "d1be59e4",
   "metadata": {},
   "source": [
    "As per above visualization Marital_status is equally distributed with target variable"
   ]
  },
  {
   "cell_type": "code",
   "execution_count": 30,
   "id": "a07af202",
   "metadata": {},
   "outputs": [
    {
     "data": {
      "text/plain": [
       "<AxesSubplot:xlabel='Race', ylabel='Income'>"
      ]
     },
     "execution_count": 30,
     "metadata": {},
     "output_type": "execute_result"
    },
    {
     "data": {
      "image/png": "[encoded data removed]",
      "text/plain": [
       "<Figure size 432x288 with 1 Axes>"
      ]
     },
     "metadata": {
      "needs_background": "light"
     },
     "output_type": "display_data"
    }
   ],
   "source": [
    "sns.scatterplot(data=df,x='Race',y='Income')"
   ]
  },
  {
   "cell_type": "markdown",
   "id": "b3005c3a",
   "metadata": {},
   "source": [
    "As per above visualization Race is equally distributed with target variable"
   ]
  },
  {
   "cell_type": "code",
   "execution_count": 31,
   "id": "19cd8d72",
   "metadata": {},
   "outputs": [
    {
     "data": {
      "text/plain": [
       "<AxesSubplot:xlabel='Sex', ylabel='Income'>"
      ]
     },
     "execution_count": 31,
     "metadata": {},
     "output_type": "execute_result"
    },
    {
     "data": {
      "image/png": "[encoded data removed]",
      "text/plain": [
       "<Figure size 432x288 with 1 Axes>"
      ]
     },
     "metadata": {
      "needs_background": "light"
     },
     "output_type": "display_data"
    }
   ],
   "source": [
    "sns.scatterplot(data=df,x='Sex',y='Income')"
   ]
  },
  {
   "cell_type": "markdown",
   "id": "10154444",
   "metadata": {},
   "source": [
    "As per above visualization Sex is equally distributed with target variable"
   ]
  },
  {
   "cell_type": "code",
   "execution_count": 32,
   "id": "6e43281f",
   "metadata": {},
   "outputs": [
    {
     "data": {
      "text/plain": [
       "<AxesSubplot:xlabel='Hours_per_week', ylabel='Income'>"
      ]
     },
     "execution_count": 32,
     "metadata": {},
     "output_type": "execute_result"
    },
    {
     "data": {
      "image/png": "[encoded data removed]",
      "text/plain": [
       "<Figure size 432x288 with 1 Axes>"
      ]
     },
     "metadata": {
      "needs_background": "light"
     },
     "output_type": "display_data"
    }
   ],
   "source": [
    "sns.scatterplot(data=df,x='Hours_per_week',y='Income')"
   ]
  },
  {
   "cell_type": "markdown",
   "id": "01585e50",
   "metadata": {},
   "source": [
    "As per above visualization Hours per week is somehow equally distributed or some places not equallt distributed with target variable but some outliers are present"
   ]
  },
  {
   "cell_type": "code",
   "execution_count": 33,
   "id": "cbdc0613",
   "metadata": {},
   "outputs": [
    {
     "data": {
      "text/plain": [
       "<AxesSubplot:xlabel='Native_country', ylabel='Income'>"
      ]
     },
     "execution_count": 33,
     "metadata": {},
     "output_type": "execute_result"
    },
    {
     "data": {
      "image/png": "[encoded data removed]",
      "text/plain": [
       "<Figure size 432x288 with 1 Axes>"
      ]
     },
     "metadata": {
      "needs_background": "light"
     },
     "output_type": "display_data"
    }
   ],
   "source": [
    "sns.scatterplot(data=df,x='Native_country',y='Income')"
   ]
  },
  {
   "cell_type": "markdown",
   "id": "a0797f7e",
   "metadata": {},
   "source": [
    "As per above visualization Native_country is somehow equally distributed or some places not equallt distributed with target variable but some outliers are present"
   ]
  },
  {
   "cell_type": "markdown",
   "id": "7b5adc19",
   "metadata": {},
   "source": [
    "# Label Encoder"
   ]
  },
  {
   "cell_type": "code",
   "execution_count": 34,
   "id": "7d0f0d90",
   "metadata": {},
   "outputs": [],
   "source": [
    "from sklearn.preprocessing import LabelEncoder\n",
    "enc = LabelEncoder()\n",
    "for i in df.columns:\n",
    "    if df[i].dtype == 'object':\n",
    "        df[i]= enc.fit_transform(df[i].values.reshape(-1,1))"
   ]
  },
  {
   "cell_type": "code",
   "execution_count": 35,
   "id": "6c4a5650",
   "metadata": {},
   "outputs": [
    {
     "data": {
      "image/png": "[encoded data removed]",
      "text/plain": [
       "<Figure size 2160x2880 with 12 Axes>"
      ]
     },
     "metadata": {
      "needs_background": "light"
     },
     "output_type": "display_data"
    }
   ],
   "source": [
    "df.hist(figsize= (30,40), bins =100, xlabelsize = 10, ylabelsize = 10)\n",
    "plt.show()"
   ]
  },
  {
   "cell_type": "markdown",
   "id": "614c4574",
   "metadata": {},
   "source": [
    "As per above visualization it is showing the hist distribution of data"
   ]
  },
  {
   "cell_type": "code",
   "execution_count": 36,
   "id": "541d12b7",
   "metadata": {},
   "outputs": [
    {
     "data": {
      "text/html": [
       "<div>\n",
       "<style scoped>\n",
       "    .dataframe tbody tr th:only-of-type {\n",
       "        vertical-align: middle;\n",
       "    }\n",
       "\n",
       "    .dataframe tbody tr th {\n",
       "        vertical-align: top;\n",
       "    }\n",
       "\n",
       "    .dataframe thead th {\n",
       "        text-align: right;\n",
       "    }\n",
       "</style>\n",
       "<table border=\"1\" class=\"dataframe\">\n",
       "  <thead>\n",
       "    <tr style=\"text-align: right;\">\n",
       "      <th></th>\n",
       "      <th>Age</th>\n",
       "      <th>Workclass</th>\n",
       "      <th>Fnlwgt</th>\n",
       "      <th>Education_num</th>\n",
       "      <th>Marital_status</th>\n",
       "      <th>Occupation</th>\n",
       "      <th>Relationship</th>\n",
       "      <th>Race</th>\n",
       "      <th>Sex</th>\n",
       "      <th>Hours_per_week</th>\n",
       "      <th>Native_country</th>\n",
       "      <th>Income</th>\n",
       "    </tr>\n",
       "  </thead>\n",
       "  <tbody>\n",
       "    <tr>\n",
       "      <th>count</th>\n",
       "      <td>30161.000000</td>\n",
       "      <td>30161.000000</td>\n",
       "      <td>3.016100e+04</td>\n",
       "      <td>30161.000000</td>\n",
       "      <td>30161.000000</td>\n",
       "      <td>30161.000000</td>\n",
       "      <td>30161.000000</td>\n",
       "      <td>30161.000000</td>\n",
       "      <td>30161.000000</td>\n",
       "      <td>30161.000000</td>\n",
       "      <td>30161.000000</td>\n",
       "      <td>30161.000000</td>\n",
       "    </tr>\n",
       "    <tr>\n",
       "      <th>mean</th>\n",
       "      <td>38.437883</td>\n",
       "      <td>2.199231</td>\n",
       "      <td>1.897976e+05</td>\n",
       "      <td>10.121216</td>\n",
       "      <td>2.580087</td>\n",
       "      <td>5.960048</td>\n",
       "      <td>1.418355</td>\n",
       "      <td>3.678592</td>\n",
       "      <td>0.675674</td>\n",
       "      <td>40.931269</td>\n",
       "      <td>36.382514</td>\n",
       "      <td>0.248931</td>\n",
       "    </tr>\n",
       "    <tr>\n",
       "      <th>std</th>\n",
       "      <td>13.134882</td>\n",
       "      <td>0.953804</td>\n",
       "      <td>1.056527e+05</td>\n",
       "      <td>2.549983</td>\n",
       "      <td>1.498018</td>\n",
       "      <td>4.029487</td>\n",
       "      <td>1.601363</td>\n",
       "      <td>0.834721</td>\n",
       "      <td>0.468130</td>\n",
       "      <td>11.980182</td>\n",
       "      <td>6.105467</td>\n",
       "      <td>0.432401</td>\n",
       "    </tr>\n",
       "    <tr>\n",
       "      <th>min</th>\n",
       "      <td>17.000000</td>\n",
       "      <td>0.000000</td>\n",
       "      <td>1.376900e+04</td>\n",
       "      <td>1.000000</td>\n",
       "      <td>0.000000</td>\n",
       "      <td>0.000000</td>\n",
       "      <td>0.000000</td>\n",
       "      <td>0.000000</td>\n",
       "      <td>0.000000</td>\n",
       "      <td>1.000000</td>\n",
       "      <td>0.000000</td>\n",
       "      <td>0.000000</td>\n",
       "    </tr>\n",
       "    <tr>\n",
       "      <th>25%</th>\n",
       "      <td>28.000000</td>\n",
       "      <td>2.000000</td>\n",
       "      <td>1.176280e+05</td>\n",
       "      <td>9.000000</td>\n",
       "      <td>2.000000</td>\n",
       "      <td>2.000000</td>\n",
       "      <td>0.000000</td>\n",
       "      <td>4.000000</td>\n",
       "      <td>0.000000</td>\n",
       "      <td>40.000000</td>\n",
       "      <td>38.000000</td>\n",
       "      <td>0.000000</td>\n",
       "    </tr>\n",
       "    <tr>\n",
       "      <th>50%</th>\n",
       "      <td>37.000000</td>\n",
       "      <td>2.000000</td>\n",
       "      <td>1.784290e+05</td>\n",
       "      <td>10.000000</td>\n",
       "      <td>2.000000</td>\n",
       "      <td>6.000000</td>\n",
       "      <td>1.000000</td>\n",
       "      <td>4.000000</td>\n",
       "      <td>1.000000</td>\n",
       "      <td>40.000000</td>\n",
       "      <td>38.000000</td>\n",
       "      <td>0.000000</td>\n",
       "    </tr>\n",
       "    <tr>\n",
       "      <th>75%</th>\n",
       "      <td>47.000000</td>\n",
       "      <td>2.000000</td>\n",
       "      <td>2.376300e+05</td>\n",
       "      <td>13.000000</td>\n",
       "      <td>4.000000</td>\n",
       "      <td>9.000000</td>\n",
       "      <td>3.000000</td>\n",
       "      <td>4.000000</td>\n",
       "      <td>1.000000</td>\n",
       "      <td>45.000000</td>\n",
       "      <td>38.000000</td>\n",
       "      <td>0.000000</td>\n",
       "    </tr>\n",
       "    <tr>\n",
       "      <th>max</th>\n",
       "      <td>90.000000</td>\n",
       "      <td>6.000000</td>\n",
       "      <td>1.484705e+06</td>\n",
       "      <td>16.000000</td>\n",
       "      <td>6.000000</td>\n",
       "      <td>13.000000</td>\n",
       "      <td>5.000000</td>\n",
       "      <td>4.000000</td>\n",
       "      <td>1.000000</td>\n",
       "      <td>99.000000</td>\n",
       "      <td>40.000000</td>\n",
       "      <td>1.000000</td>\n",
       "    </tr>\n",
       "  </tbody>\n",
       "</table>\n",
       "</div>"
      ],
      "text/plain": [
       "                Age     Workclass        Fnlwgt  Education_num  \\\n",
       "count  30161.000000  30161.000000  3.016100e+04   30161.000000   \n",
       "mean      38.437883      2.199231  1.897976e+05      10.121216   \n",
       "std       13.134882      0.953804  1.056527e+05       2.549983   \n",
       "min       17.000000      0.000000  1.376900e+04       1.000000   \n",
       "25%       28.000000      2.000000  1.176280e+05       9.000000   \n",
       "50%       37.000000      2.000000  1.784290e+05      10.000000   \n",
       "75%       47.000000      2.000000  2.376300e+05      13.000000   \n",
       "max       90.000000      6.000000  1.484705e+06      16.000000   \n",
       "\n",
       "       Marital_status    Occupation  Relationship          Race           Sex  \\\n",
       "count    30161.000000  30161.000000  30161.000000  30161.000000  30161.000000   \n",
       "mean         2.580087      5.960048      1.418355      3.678592      0.675674   \n",
       "std          1.498018      4.029487      1.601363      0.834721      0.468130   \n",
       "min          0.000000      0.000000      0.000000      0.000000      0.000000   \n",
       "25%          2.000000      2.000000      0.000000      4.000000      0.000000   \n",
       "50%          2.000000      6.000000      1.000000      4.000000      1.000000   \n",
       "75%          4.000000      9.000000      3.000000      4.000000      1.000000   \n",
       "max          6.000000     13.000000      5.000000      4.000000      1.000000   \n",
       "\n",
       "       Hours_per_week  Native_country        Income  \n",
       "count    30161.000000    30161.000000  30161.000000  \n",
       "mean        40.931269       36.382514      0.248931  \n",
       "std         11.980182        6.105467      0.432401  \n",
       "min          1.000000        0.000000      0.000000  \n",
       "25%         40.000000       38.000000      0.000000  \n",
       "50%         40.000000       38.000000      0.000000  \n",
       "75%         45.000000       38.000000      0.000000  \n",
       "max         99.000000       40.000000      1.000000  "
      ]
     },
     "execution_count": 36,
     "metadata": {},
     "output_type": "execute_result"
    }
   ],
   "source": [
    "df.describe()"
   ]
  },
  {
   "cell_type": "markdown",
   "id": "e090e005",
   "metadata": {},
   "source": [
    "As per above data representation shows the differance between min, 25%,50%, 75% and max is not equal. So that skewness is present in the data"
   ]
  },
  {
   "cell_type": "code",
   "execution_count": 37,
   "id": "fe4172c3",
   "metadata": {},
   "outputs": [
    {
     "data": {
      "text/html": [
       "<div>\n",
       "<style scoped>\n",
       "    .dataframe tbody tr th:only-of-type {\n",
       "        vertical-align: middle;\n",
       "    }\n",
       "\n",
       "    .dataframe tbody tr th {\n",
       "        vertical-align: top;\n",
       "    }\n",
       "\n",
       "    .dataframe thead th {\n",
       "        text-align: right;\n",
       "    }\n",
       "</style>\n",
       "<table border=\"1\" class=\"dataframe\">\n",
       "  <thead>\n",
       "    <tr style=\"text-align: right;\">\n",
       "      <th></th>\n",
       "      <th>Age</th>\n",
       "      <th>Workclass</th>\n",
       "      <th>Fnlwgt</th>\n",
       "      <th>Education_num</th>\n",
       "      <th>Marital_status</th>\n",
       "      <th>Occupation</th>\n",
       "      <th>Relationship</th>\n",
       "      <th>Race</th>\n",
       "      <th>Sex</th>\n",
       "      <th>Hours_per_week</th>\n",
       "      <th>Native_country</th>\n",
       "      <th>Income</th>\n",
       "    </tr>\n",
       "  </thead>\n",
       "  <tbody>\n",
       "    <tr>\n",
       "      <th>Age</th>\n",
       "      <td>1.000000</td>\n",
       "      <td>0.080548</td>\n",
       "      <td>-0.076511</td>\n",
       "      <td>0.043525</td>\n",
       "      <td>-0.276378</td>\n",
       "      <td>-0.005680</td>\n",
       "      <td>-0.246456</td>\n",
       "      <td>0.023373</td>\n",
       "      <td>0.081992</td>\n",
       "      <td>0.101599</td>\n",
       "      <td>-0.001905</td>\n",
       "      <td>0.242000</td>\n",
       "    </tr>\n",
       "    <tr>\n",
       "      <th>Workclass</th>\n",
       "      <td>0.080548</td>\n",
       "      <td>1.000000</td>\n",
       "      <td>-0.032395</td>\n",
       "      <td>0.037729</td>\n",
       "      <td>-0.034338</td>\n",
       "      <td>0.015719</td>\n",
       "      <td>-0.067401</td>\n",
       "      <td>0.044700</td>\n",
       "      <td>0.074917</td>\n",
       "      <td>0.050738</td>\n",
       "      <td>0.007644</td>\n",
       "      <td>0.018103</td>\n",
       "    </tr>\n",
       "    <tr>\n",
       "      <th>Fnlwgt</th>\n",
       "      <td>-0.076511</td>\n",
       "      <td>-0.032395</td>\n",
       "      <td>1.000000</td>\n",
       "      <td>-0.044954</td>\n",
       "      <td>0.032197</td>\n",
       "      <td>0.000152</td>\n",
       "      <td>0.009289</td>\n",
       "      <td>-0.023882</td>\n",
       "      <td>0.025387</td>\n",
       "      <td>-0.022889</td>\n",
       "      <td>-0.066709</td>\n",
       "      <td>-0.008978</td>\n",
       "    </tr>\n",
       "    <tr>\n",
       "      <th>Education_num</th>\n",
       "      <td>0.043525</td>\n",
       "      <td>0.037729</td>\n",
       "      <td>-0.044954</td>\n",
       "      <td>1.000000</td>\n",
       "      <td>-0.063457</td>\n",
       "      <td>0.087778</td>\n",
       "      <td>-0.091928</td>\n",
       "      <td>0.032791</td>\n",
       "      <td>0.006131</td>\n",
       "      <td>0.152528</td>\n",
       "      <td>0.091547</td>\n",
       "      <td>0.335317</td>\n",
       "    </tr>\n",
       "    <tr>\n",
       "      <th>Marital_status</th>\n",
       "      <td>-0.276378</td>\n",
       "      <td>-0.034338</td>\n",
       "      <td>0.032197</td>\n",
       "      <td>-0.063457</td>\n",
       "      <td>1.000000</td>\n",
       "      <td>0.022702</td>\n",
       "      <td>0.177975</td>\n",
       "      <td>-0.068641</td>\n",
       "      <td>-0.119837</td>\n",
       "      <td>-0.189004</td>\n",
       "      <td>-0.025911</td>\n",
       "      <td>-0.193504</td>\n",
       "    </tr>\n",
       "    <tr>\n",
       "      <th>Occupation</th>\n",
       "      <td>-0.005680</td>\n",
       "      <td>0.015719</td>\n",
       "      <td>0.000152</td>\n",
       "      <td>0.087778</td>\n",
       "      <td>0.022702</td>\n",
       "      <td>1.000000</td>\n",
       "      <td>-0.053742</td>\n",
       "      <td>0.000736</td>\n",
       "      <td>0.062350</td>\n",
       "      <td>0.018362</td>\n",
       "      <td>-0.003470</td>\n",
       "      <td>0.051551</td>\n",
       "    </tr>\n",
       "    <tr>\n",
       "      <th>Relationship</th>\n",
       "      <td>-0.246456</td>\n",
       "      <td>-0.067401</td>\n",
       "      <td>0.009289</td>\n",
       "      <td>-0.091928</td>\n",
       "      <td>0.177975</td>\n",
       "      <td>-0.053742</td>\n",
       "      <td>1.000000</td>\n",
       "      <td>-0.117140</td>\n",
       "      <td>-0.584876</td>\n",
       "      <td>-0.257851</td>\n",
       "      <td>-0.010806</td>\n",
       "      <td>-0.251009</td>\n",
       "    </tr>\n",
       "    <tr>\n",
       "      <th>Race</th>\n",
       "      <td>0.023373</td>\n",
       "      <td>0.044700</td>\n",
       "      <td>-0.023882</td>\n",
       "      <td>0.032791</td>\n",
       "      <td>-0.068641</td>\n",
       "      <td>0.000736</td>\n",
       "      <td>-0.117140</td>\n",
       "      <td>1.000000</td>\n",
       "      <td>0.089178</td>\n",
       "      <td>0.048533</td>\n",
       "      <td>0.124511</td>\n",
       "      <td>0.071666</td>\n",
       "    </tr>\n",
       "    <tr>\n",
       "      <th>Sex</th>\n",
       "      <td>0.081992</td>\n",
       "      <td>0.074917</td>\n",
       "      <td>0.025387</td>\n",
       "      <td>0.006131</td>\n",
       "      <td>-0.119837</td>\n",
       "      <td>0.062350</td>\n",
       "      <td>-0.584876</td>\n",
       "      <td>0.089178</td>\n",
       "      <td>1.000000</td>\n",
       "      <td>0.231272</td>\n",
       "      <td>0.000612</td>\n",
       "      <td>0.216715</td>\n",
       "    </tr>\n",
       "    <tr>\n",
       "      <th>Hours_per_week</th>\n",
       "      <td>0.101599</td>\n",
       "      <td>0.050738</td>\n",
       "      <td>-0.022889</td>\n",
       "      <td>0.152528</td>\n",
       "      <td>-0.189004</td>\n",
       "      <td>0.018362</td>\n",
       "      <td>-0.257851</td>\n",
       "      <td>0.048533</td>\n",
       "      <td>0.231272</td>\n",
       "      <td>1.000000</td>\n",
       "      <td>0.008408</td>\n",
       "      <td>0.229480</td>\n",
       "    </tr>\n",
       "    <tr>\n",
       "      <th>Native_country</th>\n",
       "      <td>-0.001905</td>\n",
       "      <td>0.007644</td>\n",
       "      <td>-0.066709</td>\n",
       "      <td>0.091547</td>\n",
       "      <td>-0.025911</td>\n",
       "      <td>-0.003470</td>\n",
       "      <td>-0.010806</td>\n",
       "      <td>0.124511</td>\n",
       "      <td>0.000612</td>\n",
       "      <td>0.008408</td>\n",
       "      <td>1.000000</td>\n",
       "      <td>0.023273</td>\n",
       "    </tr>\n",
       "    <tr>\n",
       "      <th>Income</th>\n",
       "      <td>0.242000</td>\n",
       "      <td>0.018103</td>\n",
       "      <td>-0.008978</td>\n",
       "      <td>0.335317</td>\n",
       "      <td>-0.193504</td>\n",
       "      <td>0.051551</td>\n",
       "      <td>-0.251009</td>\n",
       "      <td>0.071666</td>\n",
       "      <td>0.216715</td>\n",
       "      <td>0.229480</td>\n",
       "      <td>0.023273</td>\n",
       "      <td>1.000000</td>\n",
       "    </tr>\n",
       "  </tbody>\n",
       "</table>\n",
       "</div>"
      ],
      "text/plain": [
       "                     Age  Workclass    Fnlwgt  Education_num  Marital_status  \\\n",
       "Age             1.000000   0.080548 -0.076511       0.043525       -0.276378   \n",
       "Workclass       0.080548   1.000000 -0.032395       0.037729       -0.034338   \n",
       "Fnlwgt         -0.076511  -0.032395  1.000000      -0.044954        0.032197   \n",
       "Education_num   0.043525   0.037729 -0.044954       1.000000       -0.063457   \n",
       "Marital_status -0.276378  -0.034338  0.032197      -0.063457        1.000000   \n",
       "Occupation     -0.005680   0.015719  0.000152       0.087778        0.022702   \n",
       "Relationship   -0.246456  -0.067401  0.009289      -0.091928        0.177975   \n",
       "Race            0.023373   0.044700 -0.023882       0.032791       -0.068641   \n",
       "Sex             0.081992   0.074917  0.025387       0.006131       -0.119837   \n",
       "Hours_per_week  0.101599   0.050738 -0.022889       0.152528       -0.189004   \n",
       "Native_country -0.001905   0.007644 -0.066709       0.091547       -0.025911   \n",
       "Income          0.242000   0.018103 -0.008978       0.335317       -0.193504   \n",
       "\n",
       "                Occupation  Relationship      Race       Sex  Hours_per_week  \\\n",
       "Age              -0.005680     -0.246456  0.023373  0.081992        0.101599   \n",
       "Workclass         0.015719     -0.067401  0.044700  0.074917        0.050738   \n",
       "Fnlwgt            0.000152      0.009289 -0.023882  0.025387       -0.022889   \n",
       "Education_num     0.087778     -0.091928  0.032791  0.006131        0.152528   \n",
       "Marital_status    0.022702      0.177975 -0.068641 -0.119837       -0.189004   \n",
       "Occupation        1.000000     -0.053742  0.000736  0.062350        0.018362   \n",
       "Relationship     -0.053742      1.000000 -0.117140 -0.584876       -0.257851   \n",
       "Race              0.000736     -0.117140  1.000000  0.089178        0.048533   \n",
       "Sex               0.062350     -0.584876  0.089178  1.000000        0.231272   \n",
       "Hours_per_week    0.018362     -0.257851  0.048533  0.231272        1.000000   \n",
       "Native_country   -0.003470     -0.010806  0.124511  0.000612        0.008408   \n",
       "Income            0.051551     -0.251009  0.071666  0.216715        0.229480   \n",
       "\n",
       "                Native_country    Income  \n",
       "Age                  -0.001905  0.242000  \n",
       "Workclass             0.007644  0.018103  \n",
       "Fnlwgt               -0.066709 -0.008978  \n",
       "Education_num         0.091547  0.335317  \n",
       "Marital_status       -0.025911 -0.193504  \n",
       "Occupation           -0.003470  0.051551  \n",
       "Relationship         -0.010806 -0.251009  \n",
       "Race                  0.124511  0.071666  \n",
       "Sex                   0.000612  0.216715  \n",
       "Hours_per_week        0.008408  0.229480  \n",
       "Native_country        1.000000  0.023273  \n",
       "Income                0.023273  1.000000  "
      ]
     },
     "execution_count": 37,
     "metadata": {},
     "output_type": "execute_result"
    }
   ],
   "source": [
    "df.corr()"
   ]
  },
  {
   "cell_type": "code",
   "execution_count": 38,
   "id": "8a363a50",
   "metadata": {},
   "outputs": [
    {
     "data": {
      "text/plain": [
       "<AxesSubplot:>"
      ]
     },
     "execution_count": 38,
     "metadata": {},
     "output_type": "execute_result"
    },
    {
     "data": {
      "image/png": "[encoded data removed]",
      "text/plain": [
       "<Figure size 720x720 with 2 Axes>"
      ]
     },
     "metadata": {
      "needs_background": "light"
     },
     "output_type": "display_data"
    }
   ],
   "source": [
    "plt.figure(figsize=(10,10))\n",
    "sns.heatmap(df.corr(),annot=True, linewidth=1, linecolor='red')"
   ]
  },
  {
   "cell_type": "markdown",
   "id": "9343a28b",
   "metadata": {},
   "source": [
    "Education_num is highly coorelated with target variable but as dtype object, 0.22 is also object dtypes, the 3rd highly coorelated with target varibale is Hours_per_week. Relatioship and Marital_status is negatively coorelated with Target variable. We will drop both columns Marital_status and Relationship"
   ]
  },
  {
   "cell_type": "code",
   "execution_count": 39,
   "id": "1cc2b046",
   "metadata": {},
   "outputs": [],
   "source": [
    "df.drop(['Relationship', \"Marital_status\"], axis=1, inplace=True)"
   ]
  },
  {
   "cell_type": "code",
   "execution_count": 40,
   "id": "c32cf930",
   "metadata": {},
   "outputs": [
    {
     "data": {
      "text/plain": [
       "Age               0.530223\n",
       "Workclass         1.154786\n",
       "Fnlwgt            1.459212\n",
       "Education_num    -0.305328\n",
       "Occupation        0.110420\n",
       "Race             -2.506976\n",
       "Sex              -0.750584\n",
       "Hours_per_week    0.330856\n",
       "Native_country   -4.178826\n",
       "Income            1.161357\n",
       "dtype: float64"
      ]
     },
     "execution_count": 40,
     "metadata": {},
     "output_type": "execute_result"
    }
   ],
   "source": [
    "df.skew()"
   ]
  },
  {
   "cell_type": "markdown",
   "id": "5e57e598",
   "metadata": {},
   "source": [
    "Skewness more than +/-0.5 will be treated Removing skewness from numerical data"
   ]
  },
  {
   "cell_type": "code",
   "execution_count": 41,
   "id": "64b2205f",
   "metadata": {},
   "outputs": [],
   "source": [
    "from sklearn.preprocessing import power_transform"
   ]
  },
  {
   "cell_type": "code",
   "execution_count": 42,
   "id": "fb04e1da",
   "metadata": {},
   "outputs": [],
   "source": [
    "df[['Fnlwgt','Hours_per_week']]=power_transform(df[['Fnlwgt','Hours_per_week']],method='yeo-johnson')"
   ]
  },
  {
   "cell_type": "code",
   "execution_count": 43,
   "id": "dec957c9",
   "metadata": {},
   "outputs": [
    {
     "data": {
      "text/plain": [
       "Age               0.530223\n",
       "Workclass         1.154786\n",
       "Fnlwgt            0.016745\n",
       "Education_num    -0.305328\n",
       "Occupation        0.110420\n",
       "Race             -2.506976\n",
       "Sex              -0.750584\n",
       "Hours_per_week    0.235762\n",
       "Native_country   -4.178826\n",
       "Income            1.161357\n",
       "dtype: float64"
      ]
     },
     "execution_count": 43,
     "metadata": {},
     "output_type": "execute_result"
    }
   ],
   "source": [
    "df.skew()"
   ]
  },
  {
   "cell_type": "markdown",
   "id": "37efca4d",
   "metadata": {},
   "source": [
    "# Checking Outliers"
   ]
  },
  {
   "cell_type": "code",
   "execution_count": 44,
   "id": "b41f6962",
   "metadata": {},
   "outputs": [
    {
     "data": {
      "image/png": "[encoded data removed]",
      "text/plain": [
       "<Figure size 432x288 with 1 Axes>"
      ]
     },
     "metadata": {
      "needs_background": "light"
     },
     "output_type": "display_data"
    },
    {
     "data": {
      "image/png": "[encoded data removed]",
      "text/plain": [
       "<Figure size 432x288 with 1 Axes>"
      ]
     },
     "metadata": {
      "needs_background": "light"
     },
     "output_type": "display_data"
    },
    {
     "data": {
      "image/png": "[encoded data removed]",
      "text/plain": [
       "<Figure size 432x288 with 1 Axes>"
      ]
     },
     "metadata": {
      "needs_background": "light"
     },
     "output_type": "display_data"
    },
    {
     "data": {
      "image/png": "[encoded data removed]",
      "text/plain": [
       "<Figure size 432x288 with 1 Axes>"
      ]
     },
     "metadata": {
      "needs_background": "light"
     },
     "output_type": "display_data"
    },
    {
     "data": {
      "image/png": "[encoded data removed]",
      "text/plain": [
       "<Figure size 432x288 with 1 Axes>"
      ]
     },
     "metadata": {
      "needs_background": "light"
     },
     "output_type": "display_data"
    },
    {
     "data": {
      "image/png": "[encoded data removed]",
      "text/plain": [
       "<Figure size 432x288 with 1 Axes>"
      ]
     },
     "metadata": {
      "needs_background": "light"
     },
     "output_type": "display_data"
    },
    {
     "data": {
      "image/png": "[encoded data removed]",
      "text/plain": [
       "<Figure size 432x288 with 1 Axes>"
      ]
     },
     "metadata": {
      "needs_background": "light"
     },
     "output_type": "display_data"
    },
    {
     "data": {
      "image/png": "[encoded data removed]",
      "text/plain": [
       "<Figure size 432x288 with 1 Axes>"
      ]
     },
     "metadata": {
      "needs_background": "light"
     },
     "output_type": "display_data"
    },
    {
     "data": {
      "image/png": "[encoded data removed]",
      "text/plain": [
       "<Figure size 432x288 with 1 Axes>"
      ]
     },
     "metadata": {
      "needs_background": "light"
     },
     "output_type": "display_data"
    },
    {
     "data": {
      "image/png": "[encoded data removed]",
      "text/plain": [
       "<Figure size 432x288 with 1 Axes>"
      ]
     },
     "metadata": {
      "needs_background": "light"
     },
     "output_type": "display_data"
    }
   ],
   "source": [
    "for i in df:\n",
    "    plt.boxplot(df[i], labels= [i])\n",
    "    plt.show()"
   ]
  },
  {
   "cell_type": "markdown",
   "id": "9c45dd41",
   "metadata": {},
   "source": [
    "As per above visualization outliers are present "
   ]
  },
  {
   "cell_type": "markdown",
   "id": "ad92613e",
   "metadata": {},
   "source": [
    "# Removing Outliers"
   ]
  },
  {
   "cell_type": "code",
   "execution_count": 45,
   "id": "72c0f233",
   "metadata": {},
   "outputs": [
    {
     "name": "stdout",
     "output_type": "stream",
     "text": [
      "(array([    9,    25,   144,   174,   250,   276,   383,   476,   541,\n",
      "         629,   759,   859,   933,   978,   980,  1078,  1102,  1168,\n",
      "        1185,  1274,  1294,  1300,  1348,  1378,  1463,  1545,  1588,\n",
      "        1675,  1734,  1774,  2004,  2148,  2161,  2179,  2232,  2247,\n",
      "        2465,  2668,  2681,  2715,  2718,  2732,  2839,  2961,  3028,\n",
      "        3029,  3067,  3284,  3391,  3429,  3442,  3586,  3635,  3750,\n",
      "        3760,  3856,  3882,  3921,  3936,  3948,  3951,  3984,  4068,\n",
      "        4185,  4190,  4336,  4448,  4661,  4805,  4919,  4925,  4969,\n",
      "        4978,  5011,  5031,  5048,  5090,  5128,  5156,  5210,  5391,\n",
      "        5551,  5573,  5587,  5668,  5679,  5754,  5763,  5867,  5877,\n",
      "        5958,  6005,  6092,  6162,  6209,  6210,  6257,  6285,  6307,\n",
      "        6355,  6582,  6595,  6943,  6991,  7016,  7084,  7205,  7206,\n",
      "        7253,  7319,  7413,  7419,  7443,  7476,  7512,  7581,  7613,\n",
      "        7631,  7663,  7724,  7741,  7758,  7778,  7780,  7828,  7891,\n",
      "        7923,  7965,  7966,  7972,  7990,  8005,  8037,  8044,  8062,\n",
      "        8078,  8109,  8122,  8147,  8327,  8364,  8429,  8540,  8613,\n",
      "        8681,  8977,  8999,  9006,  9014,  9054,  9065,  9075,  9085,\n",
      "        9134,  9297,  9366,  9480,  9486,  9591,  9600,  9675,  9856,\n",
      "        9914, 10017, 10025, 10087, 10125, 10127, 10155, 10189, 10294,\n",
      "       10315, 10582, 10584, 10629, 10889, 10934, 10936, 11230, 11289,\n",
      "       11338, 11400, 11405, 11446, 11452, 11555, 11577, 11669, 11677,\n",
      "       11747, 11803, 11830, 11913, 11957, 12003, 12032, 12113, 12127,\n",
      "       12239, 12271, 12339, 12343, 12369, 12547, 12568, 12602, 12610,\n",
      "       12676, 12689, 12789, 12828, 12894, 12898, 12950, 13114, 13347,\n",
      "       13379, 13437, 13439, 13471, 13494, 13508, 13555, 13558, 13655,\n",
      "       13671, 13676, 13743, 13879, 13901, 13908, 13932, 13973, 14061,\n",
      "       14225, 14243, 14253, 14281, 14325, 14367, 14390, 14423, 14451,\n",
      "       14468, 14547, 14553, 14627, 14685, 14727, 14881, 14946, 15110,\n",
      "       15205, 15374, 15502, 15616, 15661, 15677, 15706, 15734, 15899,\n",
      "       15982, 16013, 16023, 16056, 16107, 16129, 16158, 16319, 16321,\n",
      "       16340, 16341, 16376, 16440, 16505, 16815, 16819, 16906, 17048,\n",
      "       17239, 17274, 17289, 17335, 17449, 17460, 17497, 17504, 17579,\n",
      "       17588, 17617, 17632, 17660, 17742, 17760, 17885, 17932, 17978,\n",
      "       17997, 18005, 18022, 18099, 18119, 18287, 18306, 18331, 18353,\n",
      "       18465, 18482, 18484, 18533, 18566, 18572, 18770, 18796, 18932,\n",
      "       18986, 19068, 19078, 19083, 19175, 19341, 19371, 19418, 19503,\n",
      "       19511, 19593, 19687, 19783, 19817, 19828, 19938, 19991, 20222,\n",
      "       20241, 20247, 20311, 20344, 20383, 20558, 20584, 20603, 20675,\n",
      "       20745, 20900, 20909, 21057, 21065, 21271, 21274, 21276, 21305,\n",
      "       21383, 21390, 21413, 21480, 21516, 21525, 21543, 21547, 21677,\n",
      "       21679, 21743, 21751, 21793, 21797, 21848, 21914, 21928, 21933,\n",
      "       22008, 22081, 22150, 22150, 22169, 22178, 22245, 22324, 22475,\n",
      "       22507, 22573, 22598, 22695, 22772, 22784, 22928, 23051, 23233,\n",
      "       23237, 23239, 23287, 23302, 23330, 23435, 23468, 23471, 23493,\n",
      "       23502, 23672, 23732, 23789, 23826, 23830, 23935, 23952, 24061,\n",
      "       24078, 24205, 24236, 24324, 24325, 24462, 24487, 24571, 24642,\n",
      "       24681, 24704, 24795, 24811, 24817, 24827, 24892, 24898, 24920,\n",
      "       25174, 25182, 25186, 25227, 25288, 25361, 25479, 25560, 25571,\n",
      "       25587, 25652, 25693, 25719, 25729, 25771, 25801, 26016, 26072,\n",
      "       26153, 26234, 26268, 26286, 26330, 26343, 26394, 26501, 26530,\n",
      "       26602, 26708, 26786, 26883, 26894, 26947, 27027, 27049, 27085,\n",
      "       27120, 27130, 27285, 27310, 27327, 27343, 27457, 27508, 27513,\n",
      "       27570, 27593, 27676, 27699, 27748, 27792, 27805, 27813, 27838,\n",
      "       27911, 27912, 27966, 27991, 27996, 28019, 28117, 28176, 28266,\n",
      "       28289, 28299, 28322, 28373, 28463, 28496, 28501, 28507, 28543,\n",
      "       28544, 28564, 28569, 28719, 28769, 28829, 28844, 28876, 28980,\n",
      "       29087, 29193, 29213, 29223, 29280, 29328, 29349, 29355, 29371,\n",
      "       29418, 29425, 29461, 29466, 29490, 29502, 29645, 29660, 29678,\n",
      "       29716, 29778, 29788, 29833, 30006, 30017, 30071, 30087],\n",
      "      dtype=int64), array([1, 1, 1, 1, 1, 1, 0, 1, 1, 1, 0, 1, 0, 1, 1, 1, 1, 1, 0, 1, 1, 1,\n",
      "       1, 1, 0, 1, 1, 1, 1, 1, 1, 1, 0, 0, 1, 1, 1, 1, 1, 1, 1, 0, 1, 1,\n",
      "       1, 0, 1, 1, 1, 1, 1, 1, 0, 1, 1, 1, 1, 0, 1, 1, 1, 1, 1, 1, 0, 1,\n",
      "       1, 1, 1, 0, 1, 0, 1, 1, 1, 1, 0, 1, 0, 1, 1, 1, 1, 1, 0, 1, 0, 1,\n",
      "       1, 1, 1, 1, 1, 1, 1, 1, 1, 1, 1, 1, 1, 0, 1, 1, 1, 1, 1, 1, 1, 0,\n",
      "       1, 1, 1, 1, 1, 1, 0, 0, 1, 1, 1, 1, 1, 0, 0, 1, 1, 1, 1, 1, 1, 1,\n",
      "       1, 1, 0, 1, 1, 1, 1, 0, 1, 1, 0, 1, 1, 1, 1, 0, 0, 0, 1, 1, 1, 1,\n",
      "       1, 1, 1, 1, 1, 1, 1, 1, 1, 1, 1, 1, 1, 1, 1, 1, 1, 1, 1, 1, 1, 1,\n",
      "       1, 1, 1, 1, 0, 1, 1, 0, 0, 1, 1, 1, 1, 0, 0, 1, 1, 1, 1, 1, 0, 0,\n",
      "       0, 1, 1, 1, 0, 1, 1, 1, 1, 1, 1, 1, 1, 1, 1, 1, 0, 0, 0, 1, 1, 1,\n",
      "       1, 1, 1, 1, 1, 1, 0, 0, 1, 1, 1, 0, 0, 1, 1, 1, 1, 1, 1, 1, 1, 0,\n",
      "       1, 1, 1, 0, 1, 1, 1, 1, 1, 1, 1, 1, 0, 1, 1, 1, 1, 1, 1, 1, 1, 0,\n",
      "       1, 1, 1, 1, 1, 1, 1, 1, 1, 0, 1, 0, 0, 0, 1, 1, 1, 1, 1, 1, 1, 0,\n",
      "       1, 1, 1, 0, 1, 1, 1, 1, 1, 1, 1, 1, 1, 1, 1, 1, 1, 1, 1, 1, 1, 1,\n",
      "       1, 1, 1, 1, 0, 1, 1, 0, 1, 1, 1, 1, 1, 1, 0, 1, 1, 1, 1, 1, 0, 1,\n",
      "       0, 1, 1, 1, 1, 1, 0, 1, 1, 1, 1, 1, 1, 1, 1, 1, 1, 1, 1, 1, 0, 1,\n",
      "       1, 1, 1, 1, 1, 1, 1, 1, 1, 1, 1, 1, 0, 1, 1, 0, 1, 1, 1, 0, 1, 1,\n",
      "       0, 1, 0, 1, 1, 0, 1, 1, 0, 1, 1, 1, 1, 0, 1, 1, 1, 1, 1, 1, 1, 1,\n",
      "       1, 0, 1, 1, 1, 1, 1, 0, 1, 1, 1, 1, 1, 1, 1, 1, 1, 1, 1, 1, 1, 0,\n",
      "       1, 0, 1, 1, 1, 0, 1, 1, 1, 1, 0, 1, 1, 1, 1, 0, 1, 1, 1, 1, 1, 1,\n",
      "       1, 1, 1, 0, 1, 1, 0, 1, 1, 1, 1, 1, 1, 1, 1, 0, 0, 1, 1, 1, 1, 1,\n",
      "       1, 1, 1, 0, 1, 1, 1, 1, 1, 0, 1, 1, 1, 1, 1, 0, 0, 1, 1, 1, 1, 1,\n",
      "       1, 0, 1, 1, 1, 1, 0, 1, 0, 1, 0, 1, 0, 1, 1, 1, 1, 1, 1, 0, 1, 1,\n",
      "       1, 1, 1, 1, 0, 1, 1, 1, 0, 1, 0, 1, 1, 1, 1, 1, 1, 1, 1, 0, 1, 1,\n",
      "       1, 1], dtype=int64))\n"
     ]
    }
   ],
   "source": [
    "from scipy.stats import zscore\n",
    "\n",
    "z=np.abs(zscore(df[['Fnlwgt','Hours_per_week','Income']]))\n",
    "print(np.where(z>3))"
   ]
  },
  {
   "cell_type": "code",
   "execution_count": 46,
   "id": "1f39535d",
   "metadata": {},
   "outputs": [
    {
     "name": "stdout",
     "output_type": "stream",
     "text": [
      "with outliers:: (30161, 10)\n",
      "After removing outliers:: (29632, 10)\n"
     ]
    }
   ],
   "source": [
    "z=np.abs(zscore(df[['Fnlwgt','Hours_per_week','Income']]))\n",
    "threshold = 3\n",
    "df_new = df[(z<3).all(axis = 1)]\n",
    "\n",
    "print(\"with outliers::\",df.shape)\n",
    "print(\"After removing outliers::\",df_new.shape)"
   ]
  },
  {
   "cell_type": "code",
   "execution_count": 47,
   "id": "3998684c",
   "metadata": {},
   "outputs": [
    {
     "name": "stdout",
     "output_type": "stream",
     "text": [
      "Percentage of data loss:  1.7539206259739397\n"
     ]
    }
   ],
   "source": [
    "print (\"Percentage of data loss: \", ((30161-29632)/30161)*100)"
   ]
  },
  {
   "cell_type": "markdown",
   "id": "a45dcb1a",
   "metadata": {},
   "source": [
    "# Splitting feature and target vatiables"
   ]
  },
  {
   "cell_type": "code",
   "execution_count": 53,
   "id": "951d2a5a",
   "metadata": {},
   "outputs": [],
   "source": [
    "x=df_new.drop(columns='Income',axis=1)\n",
    "y=df_new[['Income']]"
   ]
  },
  {
   "cell_type": "markdown",
   "id": "f5d95453",
   "metadata": {},
   "source": [
    "# Scaling the data using min max scaler¶"
   ]
  },
  {
   "cell_type": "code",
   "execution_count": 54,
   "id": "2839cb7c",
   "metadata": {},
   "outputs": [],
   "source": [
    "from sklearn.preprocessing import MinMaxScaler\n",
    "\n",
    "mn=MinMaxScaler()\n",
    "x=mn.fit_transform(x)"
   ]
  },
  {
   "cell_type": "markdown",
   "id": "af4b032b",
   "metadata": {},
   "source": [
    "# For Balancing the Data using SMOTE"
   ]
  },
  {
   "cell_type": "code",
   "execution_count": 48,
   "id": "76b309ca",
   "metadata": {
    "scrolled": false
   },
   "outputs": [
    {
     "name": "stdout",
     "output_type": "stream",
     "text": [
      "Requirement already satisfied: imblearn in c:\\users\\nitin gupta\\anaconda3\\lib\\site-packages (0.0)\n",
      "Requirement already satisfied: imbalanced-learn in c:\\users\\nitin gupta\\anaconda3\\lib\\site-packages (from imblearn) (0.9.1)\n",
      "Requirement already satisfied: numpy>=1.17.3 in c:\\users\\nitin gupta\\anaconda3\\lib\\site-packages (from imbalanced-learn->imblearn) (1.21.5)\n",
      "Requirement already satisfied: joblib>=1.0.0 in c:\\users\\nitin gupta\\anaconda3\\lib\\site-packages (from imbalanced-learn->imblearn) (1.1.0)\n",
      "Requirement already satisfied: threadpoolctl>=2.0.0 in c:\\users\\nitin gupta\\anaconda3\\lib\\site-packages (from imbalanced-learn->imblearn) (2.2.0)\n",
      "Requirement already satisfied: scipy>=1.3.2 in c:\\users\\nitin gupta\\anaconda3\\lib\\site-packages (from imbalanced-learn->imblearn) (1.7.3)\n",
      "Requirement already satisfied: scikit-learn>=1.1.0 in c:\\users\\nitin gupta\\anaconda3\\lib\\site-packages (from imbalanced-learn->imblearn) (1.1.1)\n"
     ]
    }
   ],
   "source": [
    "!pip install imblearn"
   ]
  },
  {
   "cell_type": "code",
   "execution_count": 50,
   "id": "1af08795",
   "metadata": {},
   "outputs": [],
   "source": [
    "from imblearn.over_sampling import SMOTE"
   ]
  },
  {
   "cell_type": "code",
   "execution_count": 51,
   "id": "a7c6a57f",
   "metadata": {},
   "outputs": [],
   "source": [
    "smt= SMOTE()"
   ]
  },
  {
   "cell_type": "code",
   "execution_count": 62,
   "id": "6cc7933f",
   "metadata": {},
   "outputs": [
    {
     "name": "stdout",
     "output_type": "stream",
     "text": [
      "Shape of x before SMOTE: (29632, 9)\n",
      "Shape of x after SMOTE: (44544, 9)\n",
      "\n",
      "Balance of positive and negative classes (%):\n"
     ]
    },
    {
     "data": {
      "text/plain": [
       "Income\n",
       "0         50.0\n",
       "1         50.0\n",
       "dtype: float64"
      ]
     },
     "execution_count": 62,
     "metadata": {},
     "output_type": "execute_result"
    }
   ],
   "source": [
    "x_sm, y_sm = smt.fit_resample(x, y)\n",
    "print(f'''Shape of x before SMOTE: {x.shape}\n",
    "Shape of x after SMOTE: {x_sm.shape}''')\n",
    "\n",
    "print('\\nBalance of positive and negative classes (%):')\n",
    "y_sm.value_counts(normalize=True) * 100"
   ]
  },
  {
   "cell_type": "markdown",
   "id": "bc7874fa",
   "metadata": {},
   "source": [
    "# Importing Model"
   ]
  },
  {
   "cell_type": "code",
   "execution_count": 63,
   "id": "557d8475",
   "metadata": {},
   "outputs": [],
   "source": [
    "import sklearn\n",
    "from sklearn.model_selection import train_test_split\n",
    "from sklearn.linear_model import LogisticRegression\n",
    "from sklearn.neighbors import KNeighborsClassifier\n",
    "from sklearn.svm import SVC\n",
    "from sklearn.tree import DecisionTreeClassifier\n",
    "from sklearn.ensemble import RandomForestClassifier\n",
    "from sklearn.ensemble import VotingClassifier"
   ]
  },
  {
   "cell_type": "code",
   "execution_count": 64,
   "id": "e3b82281",
   "metadata": {},
   "outputs": [
    {
     "data": {
      "text/plain": [
       "[('LR', LogisticRegression()),\n",
       " ('KNN', KNeighborsClassifier()),\n",
       " ('SV', SVC()),\n",
       " ('DT', DecisionTreeClassifier()),\n",
       " ('RF', RandomForestClassifier(random_state=42))]"
      ]
     },
     "execution_count": 64,
     "metadata": {},
     "output_type": "execute_result"
    }
   ],
   "source": [
    "xtrain,xtest,ytrain,ytest = train_test_split(x_sm,y_sm,test_size= .22, random_state=42)\n",
    "estimator = []\n",
    "estimator.append(('LR',LogisticRegression()))\n",
    "estimator.append(('KNN',KNeighborsClassifier()))\n",
    "estimator.append(('SV',SVC()))\n",
    "estimator.append(('DT',DecisionTreeClassifier()))\n",
    "estimator.append(('RF',RandomForestClassifier(n_estimators=100, random_state=42)))\n",
    "estimator"
   ]
  },
  {
   "cell_type": "code",
   "execution_count": 65,
   "id": "73cbf652",
   "metadata": {},
   "outputs": [],
   "source": [
    "from sklearn.metrics import accuracy_score,confusion_matrix,classification_report"
   ]
  },
  {
   "cell_type": "code",
   "execution_count": 66,
   "id": "3d213504",
   "metadata": {},
   "outputs": [
    {
     "name": "stdout",
     "output_type": "stream",
     "text": [
      "Accuracy Score 0.8323469387755102\n",
      "Confusion Metrics [[3832 1054]\n",
      " [ 589 4325]]\n",
      "Classification_report               precision    recall  f1-score   support\n",
      "\n",
      "           0       0.87      0.78      0.82      4886\n",
      "           1       0.80      0.88      0.84      4914\n",
      "\n",
      "    accuracy                           0.83      9800\n",
      "   macro avg       0.84      0.83      0.83      9800\n",
      "weighted avg       0.84      0.83      0.83      9800\n",
      "\n"
     ]
    }
   ],
   "source": [
    "vot_hard = VotingClassifier(estimators= estimator, voting= 'hard')\n",
    "vot_hard.fit(xtrain,ytrain)\n",
    "pred = vot_hard.predict(xtest)\n",
    "print(\"Accuracy Score\", accuracy_score(ytest,pred))\n",
    "print(\"Confusion Metrics\", confusion_matrix(ytest,pred))\n",
    "print(\"Classification_report\", classification_report(ytest,pred))"
   ]
  },
  {
   "cell_type": "code",
   "execution_count": 68,
   "id": "237ea9f2",
   "metadata": {},
   "outputs": [
    {
     "data": {
      "text/plain": [
       "[LogisticRegression(),\n",
       " KNeighborsClassifier(),\n",
       " SVC(),\n",
       " DecisionTreeClassifier(),\n",
       " RandomForestClassifier(random_state=42)]"
      ]
     },
     "execution_count": 68,
     "metadata": {},
     "output_type": "execute_result"
    }
   ],
   "source": [
    "LR = LogisticRegression()\n",
    "KNN = KNeighborsClassifier()\n",
    "SV = SVC()\n",
    "DT = DecisionTreeClassifier()\n",
    "RF = RandomForestClassifier(n_estimators=100, random_state=42)\n",
    "mod = [LR, KNN, SV, DT, RF]\n",
    "\n",
    "mod"
   ]
  },
  {
   "cell_type": "code",
   "execution_count": 69,
   "id": "94a873e2",
   "metadata": {},
   "outputs": [
    {
     "name": "stdout",
     "output_type": "stream",
     "text": [
      "Accuracy Score 0.8058282208588957\n",
      "Confusion Metrics [[4591  340]\n",
      " [ 926  663]]\n",
      "Classification_report               precision    recall  f1-score   support\n",
      "\n",
      "           0       0.83      0.93      0.88      4931\n",
      "           1       0.66      0.42      0.51      1589\n",
      "\n",
      "    accuracy                           0.81      6520\n",
      "   macro avg       0.75      0.67      0.70      6520\n",
      "weighted avg       0.79      0.81      0.79      6520\n",
      "\n",
      "Accuracy Score 0.786042944785276\n",
      "Confusion Metrics [[4341  590]\n",
      " [ 805  784]]\n",
      "Classification_report               precision    recall  f1-score   support\n",
      "\n",
      "           0       0.84      0.88      0.86      4931\n",
      "           1       0.57      0.49      0.53      1589\n",
      "\n",
      "    accuracy                           0.79      6520\n",
      "   macro avg       0.71      0.69      0.70      6520\n",
      "weighted avg       0.78      0.79      0.78      6520\n",
      "\n",
      "Accuracy Score 0.8088957055214724\n",
      "Confusion Metrics [[4686  245]\n",
      " [1001  588]]\n",
      "Classification_report               precision    recall  f1-score   support\n",
      "\n",
      "           0       0.82      0.95      0.88      4931\n",
      "           1       0.71      0.37      0.49      1589\n",
      "\n",
      "    accuracy                           0.81      6520\n",
      "   macro avg       0.76      0.66      0.68      6520\n",
      "weighted avg       0.80      0.81      0.79      6520\n",
      "\n",
      "Accuracy Score 0.7404907975460123\n",
      "Confusion Metrics [[4015  916]\n",
      " [ 776  813]]\n",
      "Classification_report               precision    recall  f1-score   support\n",
      "\n",
      "           0       0.84      0.81      0.83      4931\n",
      "           1       0.47      0.51      0.49      1589\n",
      "\n",
      "    accuracy                           0.74      6520\n",
      "   macro avg       0.65      0.66      0.66      6520\n",
      "weighted avg       0.75      0.74      0.74      6520\n",
      "\n",
      "Accuracy Score 0.7980061349693252\n",
      "Confusion Metrics [[4441  490]\n",
      " [ 827  762]]\n",
      "Classification_report               precision    recall  f1-score   support\n",
      "\n",
      "           0       0.84      0.90      0.87      4931\n",
      "           1       0.61      0.48      0.54      1589\n",
      "\n",
      "    accuracy                           0.80      6520\n",
      "   macro avg       0.73      0.69      0.70      6520\n",
      "weighted avg       0.79      0.80      0.79      6520\n",
      "\n"
     ]
    }
   ],
   "source": [
    "for i in mod:\n",
    "    xtrain,xtest,ytrain,ytest = train_test_split(x,y,test_size= .22, random_state=42)\n",
    "    i.fit(xtrain,ytrain)\n",
    "    pred = i.predict(xtest)\n",
    "    print(\"Accuracy Score\", accuracy_score(ytest,pred))\n",
    "    print(\"Confusion Metrics\", confusion_matrix(ytest,pred))\n",
    "    print(\"Classification_report\", classification_report(ytest,pred))"
   ]
  },
  {
   "cell_type": "markdown",
   "id": "6a1b20a7",
   "metadata": {},
   "source": [
    "As per above results support vector classifier has best accuracy"
   ]
  },
  {
   "cell_type": "markdown",
   "id": "4b80cb32",
   "metadata": {},
   "source": [
    "# Now we can check with various parameter using Grid Search CV"
   ]
  },
  {
   "cell_type": "code",
   "execution_count": 70,
   "id": "12f6bd19",
   "metadata": {},
   "outputs": [],
   "source": [
    "from sklearn.model_selection import GridSearchCV\n",
    "model = SVC()"
   ]
  },
  {
   "cell_type": "code",
   "execution_count": 71,
   "id": "54b1f222",
   "metadata": {},
   "outputs": [],
   "source": [
    "param_grid = {'kernel' :['rbf','poly','linear'], \"C\":[0.1,1,10]}"
   ]
  },
  {
   "cell_type": "code",
   "execution_count": 72,
   "id": "23feeb41",
   "metadata": {},
   "outputs": [],
   "source": [
    "grid = GridSearchCV(estimator = model, param_grid = param_grid)"
   ]
  },
  {
   "cell_type": "code",
   "execution_count": 73,
   "id": "e8d0b006",
   "metadata": {},
   "outputs": [
    {
     "data": {
      "text/html": [
       "<style>#sk-container-id-1 {color: black;background-color: white;}#sk-container-id-1 pre{padding: 0;}#sk-container-id-1 div.sk-toggleable {background-color: white;}#sk-container-id-1 label.sk-toggleable__label {cursor: pointer;display: block;width: 100%;margin-bottom: 0;padding: 0.3em;box-sizing: border-box;text-align: center;}#sk-container-id-1 label.sk-toggleable__label-arrow:before {content: \"▸\";float: left;margin-right: 0.25em;color: #696969;}#sk-container-id-1 label.sk-toggleable__label-arrow:hover:before {color: black;}#sk-container-id-1 div.sk-estimator:hover label.sk-toggleable__label-arrow:before {color: black;}#sk-container-id-1 div.sk-toggleable__content {max-height: 0;max-width: 0;overflow: hidden;text-align: left;background-color: #f0f8ff;}#sk-container-id-1 div.sk-toggleable__content pre {margin: 0.2em;color: black;border-radius: 0.25em;background-color: #f0f8ff;}#sk-container-id-1 input.sk-toggleable__control:checked~div.sk-toggleable__content {max-height: 200px;max-width: 100%;overflow: auto;}#sk-container-id-1 input.sk-toggleable__control:checked~label.sk-toggleable__label-arrow:before {content: \"▾\";}#sk-container-id-1 div.sk-estimator input.sk-toggleable__control:checked~label.sk-toggleable__label {background-color: #d4ebff;}#sk-container-id-1 div.sk-label input.sk-toggleable__control:checked~label.sk-toggleable__label {background-color: #d4ebff;}#sk-container-id-1 input.sk-hidden--visually {border: 0;clip: rect(1px 1px 1px 1px);clip: rect(1px, 1px, 1px, 1px);height: 1px;margin: -1px;overflow: hidden;padding: 0;position: absolute;width: 1px;}#sk-container-id-1 div.sk-estimator {font-family: monospace;background-color: #f0f8ff;border: 1px dotted black;border-radius: 0.25em;box-sizing: border-box;margin-bottom: 0.5em;}#sk-container-id-1 div.sk-estimator:hover {background-color: #d4ebff;}#sk-container-id-1 div.sk-parallel-item::after {content: \"\";width: 100%;border-bottom: 1px solid gray;flex-grow: 1;}#sk-container-id-1 div.sk-label:hover label.sk-toggleable__label {background-color: #d4ebff;}#sk-container-id-1 div.sk-serial::before {content: \"\";position: absolute;border-left: 1px solid gray;box-sizing: border-box;top: 0;bottom: 0;left: 50%;z-index: 0;}#sk-container-id-1 div.sk-serial {display: flex;flex-direction: column;align-items: center;background-color: white;padding-right: 0.2em;padding-left: 0.2em;position: relative;}#sk-container-id-1 div.sk-item {position: relative;z-index: 1;}#sk-container-id-1 div.sk-parallel {display: flex;align-items: stretch;justify-content: center;background-color: white;position: relative;}#sk-container-id-1 div.sk-item::before, #sk-container-id-1 div.sk-parallel-item::before {content: \"\";position: absolute;border-left: 1px solid gray;box-sizing: border-box;top: 0;bottom: 0;left: 50%;z-index: -1;}#sk-container-id-1 div.sk-parallel-item {display: flex;flex-direction: column;z-index: 1;position: relative;background-color: white;}#sk-container-id-1 div.sk-parallel-item:first-child::after {align-self: flex-end;width: 50%;}#sk-container-id-1 div.sk-parallel-item:last-child::after {align-self: flex-start;width: 50%;}#sk-container-id-1 div.sk-parallel-item:only-child::after {width: 0;}#sk-container-id-1 div.sk-dashed-wrapped {border: 1px dashed gray;margin: 0 0.4em 0.5em 0.4em;box-sizing: border-box;padding-bottom: 0.4em;background-color: white;}#sk-container-id-1 div.sk-label label {font-family: monospace;font-weight: bold;display: inline-block;line-height: 1.2em;}#sk-container-id-1 div.sk-label-container {text-align: center;}#sk-container-id-1 div.sk-container {/* jupyter's `normalize.less` sets `[hidden] { display: none; }` but bootstrap.min.css set `[hidden] { display: none !important; }` so we also need the `!important` here to be able to override the default hidden behavior on the sphinx rendered scikit-learn.org. See: https://github.com/scikit-learn/scikit-learn/issues/21755 */display: inline-block !important;position: relative;}#sk-container-id-1 div.sk-text-repr-fallback {display: none;}</style><div id=\"sk-container-id-1\" class=\"sk-top-container\"><div class=\"sk-text-repr-fallback\"><pre>GridSearchCV(estimator=SVC(),\n",
       "             param_grid={&#x27;C&#x27;: [0.1, 1, 10],\n",
       "                         &#x27;kernel&#x27;: [&#x27;rbf&#x27;, &#x27;poly&#x27;, &#x27;linear&#x27;]})</pre><b>In a Jupyter environment, please rerun this cell to show the HTML representation or trust the notebook. <br />On GitHub, the HTML representation is unable to render, please try loading this page with nbviewer.org.</b></div><div class=\"sk-container\" hidden><div class=\"sk-item sk-dashed-wrapped\"><div class=\"sk-label-container\"><div class=\"sk-label sk-toggleable\"><input class=\"sk-toggleable__control sk-hidden--visually\" id=\"sk-estimator-id-1\" type=\"checkbox\" ><label for=\"sk-estimator-id-1\" class=\"sk-toggleable__label sk-toggleable__label-arrow\">GridSearchCV</label><div class=\"sk-toggleable__content\"><pre>GridSearchCV(estimator=SVC(),\n",
       "             param_grid={&#x27;C&#x27;: [0.1, 1, 10],\n",
       "                         &#x27;kernel&#x27;: [&#x27;rbf&#x27;, &#x27;poly&#x27;, &#x27;linear&#x27;]})</pre></div></div></div><div class=\"sk-parallel\"><div class=\"sk-parallel-item\"><div class=\"sk-item\"><div class=\"sk-label-container\"><div class=\"sk-label sk-toggleable\"><input class=\"sk-toggleable__control sk-hidden--visually\" id=\"sk-estimator-id-2\" type=\"checkbox\" ><label for=\"sk-estimator-id-2\" class=\"sk-toggleable__label sk-toggleable__label-arrow\">estimator: SVC</label><div class=\"sk-toggleable__content\"><pre>SVC()</pre></div></div></div><div class=\"sk-serial\"><div class=\"sk-item\"><div class=\"sk-estimator sk-toggleable\"><input class=\"sk-toggleable__control sk-hidden--visually\" id=\"sk-estimator-id-3\" type=\"checkbox\" ><label for=\"sk-estimator-id-3\" class=\"sk-toggleable__label sk-toggleable__label-arrow\">SVC</label><div class=\"sk-toggleable__content\"><pre>SVC()</pre></div></div></div></div></div></div></div></div></div></div>"
      ],
      "text/plain": [
       "GridSearchCV(estimator=SVC(),\n",
       "             param_grid={'C': [0.1, 1, 10],\n",
       "                         'kernel': ['rbf', 'poly', 'linear']})"
      ]
     },
     "execution_count": 73,
     "metadata": {},
     "output_type": "execute_result"
    }
   ],
   "source": [
    "grid.fit(xtrain,ytrain)"
   ]
  },
  {
   "cell_type": "code",
   "execution_count": 74,
   "id": "acb159cd",
   "metadata": {},
   "outputs": [
    {
     "name": "stdout",
     "output_type": "stream",
     "text": [
      "0.8026131828394011\n",
      "SVC(C=10)\n",
      "{'C': 10, 'kernel': 'rbf'}\n"
     ]
    }
   ],
   "source": [
    "print(grid.best_score_)\n",
    "print(grid.best_estimator_)\n",
    "print(grid.best_params_)"
   ]
  },
  {
   "cell_type": "markdown",
   "id": "a944429f",
   "metadata": {},
   "source": [
    "As per Grid Search CV we found the best accuracy when kernel='rbf', c= 10"
   ]
  },
  {
   "cell_type": "code",
   "execution_count": 77,
   "id": "81887c91",
   "metadata": {},
   "outputs": [],
   "source": [
    "SVV = SVC(kernel='rbf', C=10)"
   ]
  },
  {
   "cell_type": "code",
   "execution_count": 78,
   "id": "8f304f47",
   "metadata": {},
   "outputs": [
    {
     "name": "stdout",
     "output_type": "stream",
     "text": [
      "Accuracy Score 0.8096625766871166\n",
      "Confusion Metrics [[4684  247]\n",
      " [ 994  595]]\n",
      "Classification_report               precision    recall  f1-score   support\n",
      "\n",
      "           0       0.82      0.95      0.88      4931\n",
      "           1       0.71      0.37      0.49      1589\n",
      "\n",
      "    accuracy                           0.81      6520\n",
      "   macro avg       0.77      0.66      0.69      6520\n",
      "weighted avg       0.80      0.81      0.79      6520\n",
      "\n"
     ]
    }
   ],
   "source": [
    "SVV.fit(xtrain,ytrain)\n",
    "pred = SVV.predict(xtest)\n",
    "print(\"Accuracy Score\", accuracy_score(ytest,pred))\n",
    "print(\"Confusion Metrics\", confusion_matrix(ytest,pred))\n",
    "print(\"Classification_report\", classification_report(ytest,pred))"
   ]
  },
  {
   "cell_type": "markdown",
   "id": "f8475288",
   "metadata": {},
   "source": [
    "# Cross validation score for Support Vector Classifier"
   ]
  },
  {
   "cell_type": "code",
   "execution_count": 79,
   "id": "5cdaca2d",
   "metadata": {},
   "outputs": [
    {
     "name": "stdout",
     "output_type": "stream",
     "text": [
      "At cv value at 2 the cv score is [0.8025108  0.80399568]\n",
      "0.8032532397408207\n",
      "0.000742440604751593\n",
      "At cv value at 3 the cv score is [0.80026321 0.80560899 0.80500152]\n",
      "0.8036245734800994\n",
      "0.0023897451651391836\n",
      "At cv value at 4 the cv score is [0.80062095 0.80507559 0.80696544 0.80264579]\n",
      "0.8038269438444925\n",
      "0.0024022294514790894\n",
      "At cv value at 5 the cv score is [0.80057365 0.80344188 0.80931488 0.80610867 0.80188998]\n",
      "0.8042658111534868\n",
      "0.003125534112653147\n",
      "At cv value at 6 the cv score is [0.79813727 0.80481879 0.8074509  0.80603361 0.80822195 0.8017416 ]\n",
      "0.8044006871683874\n",
      "0.003489226738183318\n",
      "At cv value at 7 the cv score is [0.79971658 0.80604772 0.80155918 0.80864635 0.80179542 0.80864635\n",
      " 0.80203166]\n",
      "0.8040633216367972\n",
      "0.0033886805872284493\n",
      "At cv value at 8 the cv score is [0.7975162  0.80507559 0.80210583 0.80885529 0.80885529 0.80534557\n",
      " 0.80966523 0.7975162 ]\n",
      "0.8043669006479481\n",
      "0.00459347741878553\n",
      "At cv value at 9 the cv score is [0.79866383 0.80321895 0.8038263  0.80807774 0.81105711 0.79890644\n",
      " 0.80832321 0.80984204 0.79799514]\n",
      "0.8044345285938799\n",
      "0.004815121779676042\n"
     ]
    }
   ],
   "source": [
    "from sklearn.model_selection import cross_val_score\n",
    "for i in range (2,10):\n",
    "    score= cross_val_score(SVV,x,y,cv=i)\n",
    "    print(\"At cv value at\", i,\"the cv score is\",score)\n",
    "    print(score.mean())\n",
    "    print(score.std())"
   ]
  },
  {
   "cell_type": "markdown",
   "id": "8bd62527",
   "metadata": {},
   "source": [
    "# AUC ROC CURVE"
   ]
  },
  {
   "cell_type": "code",
   "execution_count": 80,
   "id": "d3be12d8",
   "metadata": {},
   "outputs": [
    {
     "data": {
      "image/png": "[encoded data removed]",
      "text/plain": [
       "<Figure size 432x288 with 1 Axes>"
      ]
     },
     "metadata": {
      "needs_background": "light"
     },
     "output_type": "display_data"
    }
   ],
   "source": [
    "from sklearn.metrics import roc_curve,auc\n",
    "fpr,tpr,thresholds = roc_curve(pred, ytest)\n",
    "roc_auc=auc(fpr,tpr)\n",
    "\n",
    "plt.figure()\n",
    "plt.plot(fpr, tpr, color = \"darkorange\", lw =10, label =\"ROC Curve (area= %0.2f)\" %roc_auc)\n",
    "plt.plot([0,1], [0,1], color= 'navy', lw =10, linestyle ='--')\n",
    "plt.xlim([0.0,1.0])\n",
    "plt.ylim([0.0,1.05])\n",
    "plt.xlabel(\"False Positive Rate\")\n",
    "plt.ylabel(\"True Positive Rate\")\n",
    "plt.title(\"Receiver Operating Characteristics\")\n",
    "plt.legend(loc =\"lower right\")\n",
    "plt.show()"
   ]
  },
  {
   "cell_type": "markdown",
   "id": "a41ba813",
   "metadata": {},
   "source": [
    "# Model Saving"
   ]
  },
  {
   "cell_type": "code",
   "execution_count": 81,
   "id": "1ba06f48",
   "metadata": {},
   "outputs": [],
   "source": [
    "import pickle\n",
    "filename = \"Income.pkl\"\n",
    "pickle.dump(SVV, open(filename, 'wb'))"
   ]
  },
  {
   "cell_type": "code",
   "execution_count": null,
   "id": "64db2bc2",
   "metadata": {},
   "outputs": [],
   "source": []
  }
 ],
 "metadata": {
  "kernelspec": {
   "display_name": "Python 3 (ipykernel)",
   "language": "python",
   "name": "python3"
  },
  "language_info": {
   "codemirror_mode": {
    "name": "ipython",
    "version": 3
   },
   "file_extension": ".py",
   "mimetype": "text/x-python",
   "name": "python",
   "nbconvert_exporter": "python",
   "pygments_lexer": "ipython3",
   "version": "3.9.12"
  }
 },
 "nbformat": 4,
 "nbformat_minor": 5
}
