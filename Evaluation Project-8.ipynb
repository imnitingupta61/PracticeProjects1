{
 "cells": [
  {
   "cell_type": "code",
   "execution_count": 1,
   "id": "dd5e29b9",
   "metadata": {},
   "outputs": [],
   "source": [
    "import pandas as pd\n",
    "import numpy as np\n",
    "import matplotlib.pyplot as plt\n",
    "import seaborn as sns\n",
    "import warnings\n",
    "warnings.filterwarnings('ignore')"
   ]
  },
  {
   "cell_type": "code",
   "execution_count": 2,
   "id": "07cd9531",
   "metadata": {},
   "outputs": [
    {
     "data": {
      "text/html": [
       "<div>\n",
       "<style scoped>\n",
       "    .dataframe tbody tr th:only-of-type {\n",
       "        vertical-align: middle;\n",
       "    }\n",
       "\n",
       "    .dataframe tbody tr th {\n",
       "        vertical-align: top;\n",
       "    }\n",
       "\n",
       "    .dataframe thead th {\n",
       "        text-align: right;\n",
       "    }\n",
       "</style>\n",
       "<table border=\"1\" class=\"dataframe\">\n",
       "  <thead>\n",
       "    <tr style=\"text-align: right;\">\n",
       "      <th></th>\n",
       "      <th>Airline</th>\n",
       "      <th>Date_of_Journey</th>\n",
       "      <th>Source</th>\n",
       "      <th>Destination</th>\n",
       "      <th>Route</th>\n",
       "      <th>Dep_Time</th>\n",
       "      <th>Arrival_Time</th>\n",
       "      <th>Duration</th>\n",
       "      <th>Total_Stops</th>\n",
       "      <th>Additional_Info</th>\n",
       "      <th>Price</th>\n",
       "    </tr>\n",
       "  </thead>\n",
       "  <tbody>\n",
       "    <tr>\n",
       "      <th>0</th>\n",
       "      <td>IndiGo</td>\n",
       "      <td>24/03/2019</td>\n",
       "      <td>Banglore</td>\n",
       "      <td>New Delhi</td>\n",
       "      <td>BLR → DEL</td>\n",
       "      <td>22:20</td>\n",
       "      <td>01:10 22 Mar</td>\n",
       "      <td>2h 50m</td>\n",
       "      <td>non-stop</td>\n",
       "      <td>No info</td>\n",
       "      <td>3897</td>\n",
       "    </tr>\n",
       "    <tr>\n",
       "      <th>1</th>\n",
       "      <td>Air India</td>\n",
       "      <td>1/05/2019</td>\n",
       "      <td>Kolkata</td>\n",
       "      <td>Banglore</td>\n",
       "      <td>CCU → IXR → BBI → BLR</td>\n",
       "      <td>05:50</td>\n",
       "      <td>13:15</td>\n",
       "      <td>7h 25m</td>\n",
       "      <td>2 stops</td>\n",
       "      <td>No info</td>\n",
       "      <td>7662</td>\n",
       "    </tr>\n",
       "    <tr>\n",
       "      <th>2</th>\n",
       "      <td>Jet Airways</td>\n",
       "      <td>9/06/2019</td>\n",
       "      <td>Delhi</td>\n",
       "      <td>Cochin</td>\n",
       "      <td>DEL → LKO → BOM → COK</td>\n",
       "      <td>09:25</td>\n",
       "      <td>04:25 10 Jun</td>\n",
       "      <td>19h</td>\n",
       "      <td>2 stops</td>\n",
       "      <td>No info</td>\n",
       "      <td>13882</td>\n",
       "    </tr>\n",
       "    <tr>\n",
       "      <th>3</th>\n",
       "      <td>IndiGo</td>\n",
       "      <td>12/05/2019</td>\n",
       "      <td>Kolkata</td>\n",
       "      <td>Banglore</td>\n",
       "      <td>CCU → NAG → BLR</td>\n",
       "      <td>18:05</td>\n",
       "      <td>23:30</td>\n",
       "      <td>5h 25m</td>\n",
       "      <td>1 stop</td>\n",
       "      <td>No info</td>\n",
       "      <td>6218</td>\n",
       "    </tr>\n",
       "    <tr>\n",
       "      <th>4</th>\n",
       "      <td>IndiGo</td>\n",
       "      <td>01/03/2019</td>\n",
       "      <td>Banglore</td>\n",
       "      <td>New Delhi</td>\n",
       "      <td>BLR → NAG → DEL</td>\n",
       "      <td>16:50</td>\n",
       "      <td>21:35</td>\n",
       "      <td>4h 45m</td>\n",
       "      <td>1 stop</td>\n",
       "      <td>No info</td>\n",
       "      <td>13302</td>\n",
       "    </tr>\n",
       "    <tr>\n",
       "      <th>...</th>\n",
       "      <td>...</td>\n",
       "      <td>...</td>\n",
       "      <td>...</td>\n",
       "      <td>...</td>\n",
       "      <td>...</td>\n",
       "      <td>...</td>\n",
       "      <td>...</td>\n",
       "      <td>...</td>\n",
       "      <td>...</td>\n",
       "      <td>...</td>\n",
       "      <td>...</td>\n",
       "    </tr>\n",
       "    <tr>\n",
       "      <th>10678</th>\n",
       "      <td>Air Asia</td>\n",
       "      <td>9/04/2019</td>\n",
       "      <td>Kolkata</td>\n",
       "      <td>Banglore</td>\n",
       "      <td>CCU → BLR</td>\n",
       "      <td>19:55</td>\n",
       "      <td>22:25</td>\n",
       "      <td>2h 30m</td>\n",
       "      <td>non-stop</td>\n",
       "      <td>No info</td>\n",
       "      <td>4107</td>\n",
       "    </tr>\n",
       "    <tr>\n",
       "      <th>10679</th>\n",
       "      <td>Air India</td>\n",
       "      <td>27/04/2019</td>\n",
       "      <td>Kolkata</td>\n",
       "      <td>Banglore</td>\n",
       "      <td>CCU → BLR</td>\n",
       "      <td>20:45</td>\n",
       "      <td>23:20</td>\n",
       "      <td>2h 35m</td>\n",
       "      <td>non-stop</td>\n",
       "      <td>No info</td>\n",
       "      <td>4145</td>\n",
       "    </tr>\n",
       "    <tr>\n",
       "      <th>10680</th>\n",
       "      <td>Jet Airways</td>\n",
       "      <td>27/04/2019</td>\n",
       "      <td>Banglore</td>\n",
       "      <td>Delhi</td>\n",
       "      <td>BLR → DEL</td>\n",
       "      <td>08:20</td>\n",
       "      <td>11:20</td>\n",
       "      <td>3h</td>\n",
       "      <td>non-stop</td>\n",
       "      <td>No info</td>\n",
       "      <td>7229</td>\n",
       "    </tr>\n",
       "    <tr>\n",
       "      <th>10681</th>\n",
       "      <td>Vistara</td>\n",
       "      <td>01/03/2019</td>\n",
       "      <td>Banglore</td>\n",
       "      <td>New Delhi</td>\n",
       "      <td>BLR → DEL</td>\n",
       "      <td>11:30</td>\n",
       "      <td>14:10</td>\n",
       "      <td>2h 40m</td>\n",
       "      <td>non-stop</td>\n",
       "      <td>No info</td>\n",
       "      <td>12648</td>\n",
       "    </tr>\n",
       "    <tr>\n",
       "      <th>10682</th>\n",
       "      <td>Air India</td>\n",
       "      <td>9/05/2019</td>\n",
       "      <td>Delhi</td>\n",
       "      <td>Cochin</td>\n",
       "      <td>DEL → GOI → BOM → COK</td>\n",
       "      <td>10:55</td>\n",
       "      <td>19:15</td>\n",
       "      <td>8h 20m</td>\n",
       "      <td>2 stops</td>\n",
       "      <td>No info</td>\n",
       "      <td>11753</td>\n",
       "    </tr>\n",
       "  </tbody>\n",
       "</table>\n",
       "<p>10683 rows × 11 columns</p>\n",
       "</div>"
      ],
      "text/plain": [
       "           Airline Date_of_Journey    Source Destination  \\\n",
       "0           IndiGo      24/03/2019  Banglore   New Delhi   \n",
       "1        Air India       1/05/2019   Kolkata    Banglore   \n",
       "2      Jet Airways       9/06/2019     Delhi      Cochin   \n",
       "3           IndiGo      12/05/2019   Kolkata    Banglore   \n",
       "4           IndiGo      01/03/2019  Banglore   New Delhi   \n",
       "...            ...             ...       ...         ...   \n",
       "10678     Air Asia       9/04/2019   Kolkata    Banglore   \n",
       "10679    Air India      27/04/2019   Kolkata    Banglore   \n",
       "10680  Jet Airways      27/04/2019  Banglore       Delhi   \n",
       "10681      Vistara      01/03/2019  Banglore   New Delhi   \n",
       "10682    Air India       9/05/2019     Delhi      Cochin   \n",
       "\n",
       "                       Route Dep_Time  Arrival_Time Duration Total_Stops  \\\n",
       "0                  BLR → DEL    22:20  01:10 22 Mar   2h 50m    non-stop   \n",
       "1      CCU → IXR → BBI → BLR    05:50         13:15   7h 25m     2 stops   \n",
       "2      DEL → LKO → BOM → COK    09:25  04:25 10 Jun      19h     2 stops   \n",
       "3            CCU → NAG → BLR    18:05         23:30   5h 25m      1 stop   \n",
       "4            BLR → NAG → DEL    16:50         21:35   4h 45m      1 stop   \n",
       "...                      ...      ...           ...      ...         ...   \n",
       "10678              CCU → BLR    19:55         22:25   2h 30m    non-stop   \n",
       "10679              CCU → BLR    20:45         23:20   2h 35m    non-stop   \n",
       "10680              BLR → DEL    08:20         11:20       3h    non-stop   \n",
       "10681              BLR → DEL    11:30         14:10   2h 40m    non-stop   \n",
       "10682  DEL → GOI → BOM → COK    10:55         19:15   8h 20m     2 stops   \n",
       "\n",
       "      Additional_Info  Price  \n",
       "0             No info   3897  \n",
       "1             No info   7662  \n",
       "2             No info  13882  \n",
       "3             No info   6218  \n",
       "4             No info  13302  \n",
       "...               ...    ...  \n",
       "10678         No info   4107  \n",
       "10679         No info   4145  \n",
       "10680         No info   7229  \n",
       "10681         No info  12648  \n",
       "10682         No info  11753  \n",
       "\n",
       "[10683 rows x 11 columns]"
      ]
     },
     "execution_count": 2,
     "metadata": {},
     "output_type": "execute_result"
    }
   ],
   "source": [
    "df=pd.read_excel('C:\\\\Users\\\\NITIN GUPTA\\\\Data_Train.xlsx')\n",
    "df"
   ]
  },
  {
   "cell_type": "code",
   "execution_count": 3,
   "id": "1ca24d73",
   "metadata": {},
   "outputs": [
    {
     "data": {
      "text/html": [
       "<div>\n",
       "<style scoped>\n",
       "    .dataframe tbody tr th:only-of-type {\n",
       "        vertical-align: middle;\n",
       "    }\n",
       "\n",
       "    .dataframe tbody tr th {\n",
       "        vertical-align: top;\n",
       "    }\n",
       "\n",
       "    .dataframe thead th {\n",
       "        text-align: right;\n",
       "    }\n",
       "</style>\n",
       "<table border=\"1\" class=\"dataframe\">\n",
       "  <thead>\n",
       "    <tr style=\"text-align: right;\">\n",
       "      <th></th>\n",
       "      <th>0</th>\n",
       "      <th>1</th>\n",
       "      <th>2</th>\n",
       "      <th>3</th>\n",
       "      <th>4</th>\n",
       "      <th>5</th>\n",
       "      <th>6</th>\n",
       "      <th>7</th>\n",
       "      <th>8</th>\n",
       "      <th>9</th>\n",
       "    </tr>\n",
       "  </thead>\n",
       "  <tbody>\n",
       "    <tr>\n",
       "      <th>Airline</th>\n",
       "      <td>IndiGo</td>\n",
       "      <td>Air India</td>\n",
       "      <td>Jet Airways</td>\n",
       "      <td>IndiGo</td>\n",
       "      <td>IndiGo</td>\n",
       "      <td>SpiceJet</td>\n",
       "      <td>Jet Airways</td>\n",
       "      <td>Jet Airways</td>\n",
       "      <td>Jet Airways</td>\n",
       "      <td>Multiple carriers</td>\n",
       "    </tr>\n",
       "    <tr>\n",
       "      <th>Date_of_Journey</th>\n",
       "      <td>24/03/2019</td>\n",
       "      <td>1/05/2019</td>\n",
       "      <td>9/06/2019</td>\n",
       "      <td>12/05/2019</td>\n",
       "      <td>01/03/2019</td>\n",
       "      <td>24/06/2019</td>\n",
       "      <td>12/03/2019</td>\n",
       "      <td>01/03/2019</td>\n",
       "      <td>12/03/2019</td>\n",
       "      <td>27/05/2019</td>\n",
       "    </tr>\n",
       "    <tr>\n",
       "      <th>Source</th>\n",
       "      <td>Banglore</td>\n",
       "      <td>Kolkata</td>\n",
       "      <td>Delhi</td>\n",
       "      <td>Kolkata</td>\n",
       "      <td>Banglore</td>\n",
       "      <td>Kolkata</td>\n",
       "      <td>Banglore</td>\n",
       "      <td>Banglore</td>\n",
       "      <td>Banglore</td>\n",
       "      <td>Delhi</td>\n",
       "    </tr>\n",
       "    <tr>\n",
       "      <th>Destination</th>\n",
       "      <td>New Delhi</td>\n",
       "      <td>Banglore</td>\n",
       "      <td>Cochin</td>\n",
       "      <td>Banglore</td>\n",
       "      <td>New Delhi</td>\n",
       "      <td>Banglore</td>\n",
       "      <td>New Delhi</td>\n",
       "      <td>New Delhi</td>\n",
       "      <td>New Delhi</td>\n",
       "      <td>Cochin</td>\n",
       "    </tr>\n",
       "    <tr>\n",
       "      <th>Route</th>\n",
       "      <td>BLR → DEL</td>\n",
       "      <td>CCU → IXR → BBI → BLR</td>\n",
       "      <td>DEL → LKO → BOM → COK</td>\n",
       "      <td>CCU → NAG → BLR</td>\n",
       "      <td>BLR → NAG → DEL</td>\n",
       "      <td>CCU → BLR</td>\n",
       "      <td>BLR → BOM → DEL</td>\n",
       "      <td>BLR → BOM → DEL</td>\n",
       "      <td>BLR → BOM → DEL</td>\n",
       "      <td>DEL → BOM → COK</td>\n",
       "    </tr>\n",
       "    <tr>\n",
       "      <th>Dep_Time</th>\n",
       "      <td>22:20</td>\n",
       "      <td>05:50</td>\n",
       "      <td>09:25</td>\n",
       "      <td>18:05</td>\n",
       "      <td>16:50</td>\n",
       "      <td>09:00</td>\n",
       "      <td>18:55</td>\n",
       "      <td>08:00</td>\n",
       "      <td>08:55</td>\n",
       "      <td>11:25</td>\n",
       "    </tr>\n",
       "    <tr>\n",
       "      <th>Arrival_Time</th>\n",
       "      <td>01:10 22 Mar</td>\n",
       "      <td>13:15</td>\n",
       "      <td>04:25 10 Jun</td>\n",
       "      <td>23:30</td>\n",
       "      <td>21:35</td>\n",
       "      <td>11:25</td>\n",
       "      <td>10:25 13 Mar</td>\n",
       "      <td>05:05 02 Mar</td>\n",
       "      <td>10:25 13 Mar</td>\n",
       "      <td>19:15</td>\n",
       "    </tr>\n",
       "    <tr>\n",
       "      <th>Duration</th>\n",
       "      <td>2h 50m</td>\n",
       "      <td>7h 25m</td>\n",
       "      <td>19h</td>\n",
       "      <td>5h 25m</td>\n",
       "      <td>4h 45m</td>\n",
       "      <td>2h 25m</td>\n",
       "      <td>15h 30m</td>\n",
       "      <td>21h 5m</td>\n",
       "      <td>25h 30m</td>\n",
       "      <td>7h 50m</td>\n",
       "    </tr>\n",
       "    <tr>\n",
       "      <th>Total_Stops</th>\n",
       "      <td>non-stop</td>\n",
       "      <td>2 stops</td>\n",
       "      <td>2 stops</td>\n",
       "      <td>1 stop</td>\n",
       "      <td>1 stop</td>\n",
       "      <td>non-stop</td>\n",
       "      <td>1 stop</td>\n",
       "      <td>1 stop</td>\n",
       "      <td>1 stop</td>\n",
       "      <td>1 stop</td>\n",
       "    </tr>\n",
       "    <tr>\n",
       "      <th>Additional_Info</th>\n",
       "      <td>No info</td>\n",
       "      <td>No info</td>\n",
       "      <td>No info</td>\n",
       "      <td>No info</td>\n",
       "      <td>No info</td>\n",
       "      <td>No info</td>\n",
       "      <td>In-flight meal not included</td>\n",
       "      <td>No info</td>\n",
       "      <td>In-flight meal not included</td>\n",
       "      <td>No info</td>\n",
       "    </tr>\n",
       "    <tr>\n",
       "      <th>Price</th>\n",
       "      <td>3897</td>\n",
       "      <td>7662</td>\n",
       "      <td>13882</td>\n",
       "      <td>6218</td>\n",
       "      <td>13302</td>\n",
       "      <td>3873</td>\n",
       "      <td>11087</td>\n",
       "      <td>22270</td>\n",
       "      <td>11087</td>\n",
       "      <td>8625</td>\n",
       "    </tr>\n",
       "  </tbody>\n",
       "</table>\n",
       "</div>"
      ],
      "text/plain": [
       "                            0                      1                      2  \\\n",
       "Airline                IndiGo              Air India            Jet Airways   \n",
       "Date_of_Journey    24/03/2019              1/05/2019              9/06/2019   \n",
       "Source               Banglore                Kolkata                  Delhi   \n",
       "Destination         New Delhi               Banglore                 Cochin   \n",
       "Route               BLR → DEL  CCU → IXR → BBI → BLR  DEL → LKO → BOM → COK   \n",
       "Dep_Time                22:20                  05:50                  09:25   \n",
       "Arrival_Time     01:10 22 Mar                  13:15           04:25 10 Jun   \n",
       "Duration               2h 50m                 7h 25m                    19h   \n",
       "Total_Stops          non-stop                2 stops                2 stops   \n",
       "Additional_Info       No info                No info                No info   \n",
       "Price                    3897                   7662                  13882   \n",
       "\n",
       "                               3                4           5  \\\n",
       "Airline                   IndiGo           IndiGo    SpiceJet   \n",
       "Date_of_Journey       12/05/2019       01/03/2019  24/06/2019   \n",
       "Source                   Kolkata         Banglore     Kolkata   \n",
       "Destination             Banglore        New Delhi    Banglore   \n",
       "Route            CCU → NAG → BLR  BLR → NAG → DEL   CCU → BLR   \n",
       "Dep_Time                   18:05            16:50       09:00   \n",
       "Arrival_Time               23:30            21:35       11:25   \n",
       "Duration                  5h 25m           4h 45m      2h 25m   \n",
       "Total_Stops               1 stop           1 stop    non-stop   \n",
       "Additional_Info          No info          No info     No info   \n",
       "Price                       6218            13302        3873   \n",
       "\n",
       "                                           6                7  \\\n",
       "Airline                          Jet Airways      Jet Airways   \n",
       "Date_of_Journey                   12/03/2019       01/03/2019   \n",
       "Source                              Banglore         Banglore   \n",
       "Destination                        New Delhi        New Delhi   \n",
       "Route                        BLR → BOM → DEL  BLR → BOM → DEL   \n",
       "Dep_Time                               18:55            08:00   \n",
       "Arrival_Time                    10:25 13 Mar     05:05 02 Mar   \n",
       "Duration                             15h 30m           21h 5m   \n",
       "Total_Stops                           1 stop           1 stop   \n",
       "Additional_Info  In-flight meal not included          No info   \n",
       "Price                                  11087            22270   \n",
       "\n",
       "                                           8                  9  \n",
       "Airline                          Jet Airways  Multiple carriers  \n",
       "Date_of_Journey                   12/03/2019         27/05/2019  \n",
       "Source                              Banglore              Delhi  \n",
       "Destination                        New Delhi             Cochin  \n",
       "Route                        BLR → BOM → DEL    DEL → BOM → COK  \n",
       "Dep_Time                               08:55              11:25  \n",
       "Arrival_Time                    10:25 13 Mar              19:15  \n",
       "Duration                             25h 30m             7h 50m  \n",
       "Total_Stops                           1 stop             1 stop  \n",
       "Additional_Info  In-flight meal not included            No info  \n",
       "Price                                  11087               8625  "
      ]
     },
     "execution_count": 3,
     "metadata": {},
     "output_type": "execute_result"
    }
   ],
   "source": [
    "df.head(10).T"
   ]
  },
  {
   "cell_type": "code",
   "execution_count": 4,
   "id": "fd35d404",
   "metadata": {},
   "outputs": [
    {
     "data": {
      "text/plain": [
       "Airline            0\n",
       "Date_of_Journey    0\n",
       "Source             0\n",
       "Destination        0\n",
       "Route              1\n",
       "Dep_Time           0\n",
       "Arrival_Time       0\n",
       "Duration           0\n",
       "Total_Stops        1\n",
       "Additional_Info    0\n",
       "Price              0\n",
       "dtype: int64"
      ]
     },
     "execution_count": 4,
     "metadata": {},
     "output_type": "execute_result"
    }
   ],
   "source": [
    "df.isnull().sum()"
   ]
  },
  {
   "cell_type": "markdown",
   "id": "b6d5131f",
   "metadata": {},
   "source": [
    "As per above observations there are 2 null values present one in Route and second in Total_Stops"
   ]
  },
  {
   "cell_type": "code",
   "execution_count": 5,
   "id": "06751ade",
   "metadata": {},
   "outputs": [
    {
     "data": {
      "text/plain": [
       "<AxesSubplot:>"
      ]
     },
     "execution_count": 5,
     "metadata": {},
     "output_type": "execute_result"
    },
    {
     "data": {
      "image/png": "[encoded data removed]",
      "text/plain": [
       "<Figure size 864x576 with 2 Axes>"
      ]
     },
     "metadata": {
      "needs_background": "light"
     },
     "output_type": "display_data"
    }
   ],
   "source": [
    "plt.figure(figsize=(12,8))\n",
    "sns.heatmap(df.isna(),cmap=\"YlGnBu\")"
   ]
  },
  {
   "cell_type": "markdown",
   "id": "6a6e9c72",
   "metadata": {},
   "source": [
    "As per above pridiction also there are 2 values which are Null there is 10,000+ rows so 2 blank values doesn't affect simply drop ."
   ]
  },
  {
   "cell_type": "code",
   "execution_count": 6,
   "id": "354569e0",
   "metadata": {},
   "outputs": [
    {
     "name": "stdout",
     "output_type": "stream",
     "text": [
      "<class 'pandas.core.frame.DataFrame'>\n",
      "RangeIndex: 10683 entries, 0 to 10682\n",
      "Data columns (total 11 columns):\n",
      " #   Column           Non-Null Count  Dtype \n",
      "---  ------           --------------  ----- \n",
      " 0   Airline          10683 non-null  object\n",
      " 1   Date_of_Journey  10683 non-null  object\n",
      " 2   Source           10683 non-null  object\n",
      " 3   Destination      10683 non-null  object\n",
      " 4   Route            10682 non-null  object\n",
      " 5   Dep_Time         10683 non-null  object\n",
      " 6   Arrival_Time     10683 non-null  object\n",
      " 7   Duration         10683 non-null  object\n",
      " 8   Total_Stops      10682 non-null  object\n",
      " 9   Additional_Info  10683 non-null  object\n",
      " 10  Price            10683 non-null  int64 \n",
      "dtypes: int64(1), object(10)\n",
      "memory usage: 918.2+ KB\n"
     ]
    }
   ],
   "source": [
    "df.info()"
   ]
  },
  {
   "cell_type": "code",
   "execution_count": 7,
   "id": "e1d9d9b6",
   "metadata": {},
   "outputs": [
    {
     "name": "stdout",
     "output_type": "stream",
     "text": [
      "<class 'pandas.core.frame.DataFrame'>\n",
      "Int64Index: 10682 entries, 0 to 10682\n",
      "Data columns (total 11 columns):\n",
      " #   Column           Non-Null Count  Dtype \n",
      "---  ------           --------------  ----- \n",
      " 0   Airline          10682 non-null  object\n",
      " 1   Date_of_Journey  10682 non-null  object\n",
      " 2   Source           10682 non-null  object\n",
      " 3   Destination      10682 non-null  object\n",
      " 4   Route            10682 non-null  object\n",
      " 5   Dep_Time         10682 non-null  object\n",
      " 6   Arrival_Time     10682 non-null  object\n",
      " 7   Duration         10682 non-null  object\n",
      " 8   Total_Stops      10682 non-null  object\n",
      " 9   Additional_Info  10682 non-null  object\n",
      " 10  Price            10682 non-null  int64 \n",
      "dtypes: int64(1), object(10)\n",
      "memory usage: 1001.4+ KB\n"
     ]
    }
   ],
   "source": [
    "df.dropna(inplace=True)\n",
    "df.info()"
   ]
  },
  {
   "cell_type": "code",
   "execution_count": 8,
   "id": "488c0f02",
   "metadata": {},
   "outputs": [
    {
     "data": {
      "text/plain": [
       "Airline            object\n",
       "Date_of_Journey    object\n",
       "Source             object\n",
       "Destination        object\n",
       "Route              object\n",
       "Dep_Time           object\n",
       "Arrival_Time       object\n",
       "Duration           object\n",
       "Total_Stops        object\n",
       "Additional_Info    object\n",
       "Price               int64\n",
       "dtype: object"
      ]
     },
     "execution_count": 8,
     "metadata": {},
     "output_type": "execute_result"
    }
   ],
   "source": [
    "df.dtypes"
   ]
  },
  {
   "cell_type": "markdown",
   "id": "8f96cc6c",
   "metadata": {},
   "source": [
    "As per above observation all showing datatypes as object except the target variable."
   ]
  },
  {
   "cell_type": "code",
   "execution_count": 9,
   "id": "cb175e6c",
   "metadata": {},
   "outputs": [
    {
     "data": {
      "text/plain": [
       "Airline              12\n",
       "Date_of_Journey      44\n",
       "Source                5\n",
       "Destination           6\n",
       "Route               128\n",
       "Dep_Time            222\n",
       "Arrival_Time       1343\n",
       "Duration            368\n",
       "Total_Stops           5\n",
       "Additional_Info      10\n",
       "Price              1870\n",
       "dtype: int64"
      ]
     },
     "execution_count": 9,
     "metadata": {},
     "output_type": "execute_result"
    }
   ],
   "source": [
    "df.nunique()"
   ]
  },
  {
   "cell_type": "markdown",
   "id": "789f39e7",
   "metadata": {},
   "source": [
    "# Visualization of Object data"
   ]
  },
  {
   "cell_type": "code",
   "execution_count": 10,
   "id": "6c435c29",
   "metadata": {},
   "outputs": [
    {
     "data": {
      "text/plain": [
       "Jet Airways                          3849\n",
       "IndiGo                               2053\n",
       "Air India                            1751\n",
       "Multiple carriers                    1196\n",
       "SpiceJet                              818\n",
       "Vistara                               479\n",
       "Air Asia                              319\n",
       "GoAir                                 194\n",
       "Multiple carriers Premium economy      13\n",
       "Jet Airways Business                    6\n",
       "Vistara Premium economy                 3\n",
       "Trujet                                  1\n",
       "Name: Airline, dtype: int64"
      ]
     },
     "execution_count": 10,
     "metadata": {},
     "output_type": "execute_result"
    },
    {
     "data": {
      "image/png": "[encoded data removed]",
      "text/plain": [
       "<Figure size 432x288 with 1 Axes>"
      ]
     },
     "metadata": {
      "needs_background": "light"
     },
     "output_type": "display_data"
    }
   ],
   "source": [
    "sns.countplot(x='Airline', data=df)\n",
    "df['Airline'].value_counts()"
   ]
  },
  {
   "cell_type": "markdown",
   "id": "19a62cb8",
   "metadata": {},
   "source": [
    "As per above visualization there are 12 unique Airlines distributed as per above maximum peopele travel from Jet Airways which is 3849. and only 1 pesron travel with Trujet amd 3 from Vistara Premium Business "
   ]
  },
  {
   "cell_type": "code",
   "execution_count": 11,
   "id": "5e0c0799",
   "metadata": {},
   "outputs": [
    {
     "data": {
      "text/plain": [
       "18/05/2019    504\n",
       "6/06/2019     503\n",
       "21/05/2019    497\n",
       "9/06/2019     495\n",
       "12/06/2019    493\n",
       "9/05/2019     484\n",
       "21/03/2019    423\n",
       "15/05/2019    405\n",
       "27/05/2019    382\n",
       "27/06/2019    355\n",
       "24/06/2019    351\n",
       "1/06/2019     342\n",
       "3/06/2019     333\n",
       "15/06/2019    328\n",
       "24/03/2019    323\n",
       "6/03/2019     308\n",
       "27/03/2019    299\n",
       "24/05/2019    286\n",
       "6/05/2019     281\n",
       "1/05/2019     277\n",
       "12/05/2019    259\n",
       "1/04/2019     257\n",
       "3/03/2019     218\n",
       "9/03/2019     200\n",
       "15/03/2019    162\n",
       "18/03/2019    156\n",
       "01/03/2019    152\n",
       "12/03/2019    142\n",
       "9/04/2019     125\n",
       "3/04/2019     110\n",
       "21/06/2019    109\n",
       "18/06/2019    105\n",
       "09/03/2019    102\n",
       "6/04/2019     100\n",
       "03/03/2019     97\n",
       "06/03/2019     95\n",
       "27/04/2019     94\n",
       "24/04/2019     92\n",
       "3/05/2019      90\n",
       "15/04/2019     89\n",
       "21/04/2019     82\n",
       "18/04/2019     67\n",
       "12/04/2019     63\n",
       "1/03/2019      47\n",
       "Name: Date_of_Journey, dtype: int64"
      ]
     },
     "execution_count": 11,
     "metadata": {},
     "output_type": "execute_result"
    },
    {
     "data": {
      "image/png": "[encoded data removed]",
      "text/plain": [
       "<Figure size 432x288 with 1 Axes>"
      ]
     },
     "metadata": {
      "needs_background": "light"
     },
     "output_type": "display_data"
    }
   ],
   "source": [
    "sns.countplot(x='Date_of_Journey', data=df)\n",
    "df['Date_of_Journey'].value_counts()"
   ]
  },
  {
   "cell_type": "markdown",
   "id": "e2699954",
   "metadata": {},
   "source": [
    "As per above visualization these are the different dates when people travelled on different different dates"
   ]
  },
  {
   "cell_type": "code",
   "execution_count": 12,
   "id": "e475b612",
   "metadata": {},
   "outputs": [
    {
     "data": {
      "text/plain": [
       "Delhi       4536\n",
       "Kolkata     2871\n",
       "Banglore    2197\n",
       "Mumbai       697\n",
       "Chennai      381\n",
       "Name: Source, dtype: int64"
      ]
     },
     "execution_count": 12,
     "metadata": {},
     "output_type": "execute_result"
    },
    {
     "data": {
      "image/png": "[encoded data removed]",
      "text/plain": [
       "<Figure size 432x288 with 1 Axes>"
      ]
     },
     "metadata": {
      "needs_background": "light"
     },
     "output_type": "display_data"
    }
   ],
   "source": [
    "sns.countplot(x='Source', data=df)\n",
    "df['Source'].value_counts()"
   ]
  },
  {
   "cell_type": "markdown",
   "id": "2b29720d",
   "metadata": {},
   "source": [
    "As per above visualization maximum people source travelled from Delhi is 4536 and from chennai is 381 from Kolkata 2871 and Banglore 2197 and from Mumbai is 697"
   ]
  },
  {
   "cell_type": "code",
   "execution_count": 13,
   "id": "a059af35",
   "metadata": {},
   "outputs": [
    {
     "data": {
      "text/plain": [
       "Cochin       4536\n",
       "Banglore     2871\n",
       "Delhi        1265\n",
       "New Delhi     932\n",
       "Hyderabad     697\n",
       "Kolkata       381\n",
       "Name: Destination, dtype: int64"
      ]
     },
     "execution_count": 13,
     "metadata": {},
     "output_type": "execute_result"
    },
    {
     "data": {
      "image/png": "[encoded data removed]",
      "text/plain": [
       "<Figure size 432x288 with 1 Axes>"
      ]
     },
     "metadata": {
      "needs_background": "light"
     },
     "output_type": "display_data"
    }
   ],
   "source": [
    "sns.countplot(x='Destination', data=df)\n",
    "df['Destination'].value_counts()"
   ]
  },
  {
   "cell_type": "markdown",
   "id": "959f47ae",
   "metadata": {},
   "source": [
    "As per above visualization the maximum number of people's designation is Cochin which is 4536, Banglore is 2871, delhi is 1265, New Delhi is 932 Hyderabad is 697 and very less designation is 381"
   ]
  },
  {
   "cell_type": "code",
   "execution_count": 14,
   "id": "9c97942a",
   "metadata": {},
   "outputs": [
    {
     "data": {
      "text/plain": [
       "DEL → BOM → COK          2376\n",
       "BLR → DEL                1552\n",
       "CCU → BOM → BLR           979\n",
       "CCU → BLR                 724\n",
       "BOM → HYD                 621\n",
       "                         ... \n",
       "CCU → VTZ → BLR             1\n",
       "CCU → IXZ → MAA → BLR       1\n",
       "BOM → COK → MAA → HYD       1\n",
       "BOM → CCU → HYD             1\n",
       "BOM → BBI → HYD             1\n",
       "Name: Route, Length: 128, dtype: int64"
      ]
     },
     "execution_count": 14,
     "metadata": {},
     "output_type": "execute_result"
    },
    {
     "data": {
      "image/png": "[encoded data removed]",
      "text/plain": [
       "<Figure size 432x288 with 1 Axes>"
      ]
     },
     "metadata": {
      "needs_background": "light"
     },
     "output_type": "display_data"
    }
   ],
   "source": [
    "sns.countplot(x='Route', data=df)\n",
    "df['Route'].value_counts()"
   ]
  },
  {
   "cell_type": "markdown",
   "id": "5deff9f9",
   "metadata": {},
   "source": [
    "As per above visualization there are 128 routs from all source to designation."
   ]
  },
  {
   "cell_type": "code",
   "execution_count": 15,
   "id": "2ffb228c",
   "metadata": {},
   "outputs": [
    {
     "data": {
      "text/plain": [
       "18:55    233\n",
       "17:00    227\n",
       "07:05    205\n",
       "10:00    203\n",
       "07:10    202\n",
       "        ... \n",
       "16:25      1\n",
       "01:35      1\n",
       "21:35      1\n",
       "04:15      1\n",
       "03:00      1\n",
       "Name: Dep_Time, Length: 222, dtype: int64"
      ]
     },
     "execution_count": 15,
     "metadata": {},
     "output_type": "execute_result"
    },
    {
     "data": {
      "image/png": "[encoded data removed]",
      "text/plain": [
       "<Figure size 432x288 with 1 Axes>"
      ]
     },
     "metadata": {
      "needs_background": "light"
     },
     "output_type": "display_data"
    }
   ],
   "source": [
    "sns.countplot(x='Dep_Time', data=df)\n",
    "df['Dep_Time'].value_counts()"
   ]
  },
  {
   "cell_type": "markdown",
   "id": "b7422c70",
   "metadata": {},
   "source": [
    "As per above visualization there are 222 unique times as per departure of flight time"
   ]
  },
  {
   "cell_type": "code",
   "execution_count": 16,
   "id": "1e517e49",
   "metadata": {},
   "outputs": [
    {
     "data": {
      "text/plain": [
       "19:00           423\n",
       "21:00           360\n",
       "19:15           333\n",
       "16:10           154\n",
       "12:35           122\n",
       "               ... \n",
       "00:25 02 Jun      1\n",
       "08:55 13 Mar      1\n",
       "11:05 19 May      1\n",
       "12:30 22 May      1\n",
       "21:20 13 Mar      1\n",
       "Name: Arrival_Time, Length: 1343, dtype: int64"
      ]
     },
     "execution_count": 16,
     "metadata": {},
     "output_type": "execute_result"
    },
    {
     "data": {
      "image/png": "[encoded data removed]",
      "text/plain": [
       "<Figure size 432x288 with 1 Axes>"
      ]
     },
     "metadata": {
      "needs_background": "light"
     },
     "output_type": "display_data"
    }
   ],
   "source": [
    "sns.countplot(x='Arrival_Time', data=df)\n",
    "df['Arrival_Time'].value_counts()"
   ]
  },
  {
   "cell_type": "markdown",
   "id": "2d86a3d2",
   "metadata": {},
   "source": [
    "As per above visualization there are 1343 unique times as per Arrival of flight time"
   ]
  },
  {
   "cell_type": "code",
   "execution_count": 17,
   "id": "82d31ef6",
   "metadata": {},
   "outputs": [
    {
     "data": {
      "text/plain": [
       "2h 50m     550\n",
       "1h 30m     386\n",
       "2h 45m     337\n",
       "2h 55m     337\n",
       "2h 35m     329\n",
       "          ... \n",
       "31h 30m      1\n",
       "30h 25m      1\n",
       "42h 5m       1\n",
       "4h 10m       1\n",
       "47h 40m      1\n",
       "Name: Duration, Length: 368, dtype: int64"
      ]
     },
     "execution_count": 17,
     "metadata": {},
     "output_type": "execute_result"
    },
    {
     "data": {
      "image/png": "[encoded data removed]",
      "text/plain": [
       "<Figure size 432x288 with 1 Axes>"
      ]
     },
     "metadata": {
      "needs_background": "light"
     },
     "output_type": "display_data"
    }
   ],
   "source": [
    "sns.countplot(x='Duration', data=df)\n",
    "df['Duration'].value_counts()"
   ]
  },
  {
   "cell_type": "markdown",
   "id": "8a5b833b",
   "metadata": {},
   "source": [
    "As per above visualization there are 368 unique times as per the total duration to reach the Designation Place."
   ]
  },
  {
   "cell_type": "code",
   "execution_count": 18,
   "id": "c07342dc",
   "metadata": {},
   "outputs": [
    {
     "data": {
      "text/plain": [
       "1 stop      5625\n",
       "non-stop    3491\n",
       "2 stops     1520\n",
       "3 stops       45\n",
       "4 stops        1\n",
       "Name: Total_Stops, dtype: int64"
      ]
     },
     "execution_count": 18,
     "metadata": {},
     "output_type": "execute_result"
    },
    {
     "data": {
      "image/png": "[encoded data removed]",
      "text/plain": [
       "<Figure size 432x288 with 1 Axes>"
      ]
     },
     "metadata": {
      "needs_background": "light"
     },
     "output_type": "display_data"
    }
   ],
   "source": [
    "sns.countplot(x='Total_Stops', data=df)\n",
    "df['Total_Stops'].value_counts()"
   ]
  },
  {
   "cell_type": "markdown",
   "id": "a243492c",
   "metadata": {},
   "source": [
    "As per above visualization there are 5625 trains which has onlt 1 stop and 3491 trains are Non-stop trains. 1520 trains are the trains which has 2 stops 45 trains has 3 stops and only 1 train has 4 stops"
   ]
  },
  {
   "cell_type": "code",
   "execution_count": 19,
   "id": "9789dd4c",
   "metadata": {},
   "outputs": [
    {
     "data": {
      "text/plain": [
       "No info                         8344\n",
       "In-flight meal not included     1982\n",
       "No check-in baggage included     320\n",
       "1 Long layover                    19\n",
       "Change airports                    7\n",
       "Business class                     4\n",
       "No Info                            3\n",
       "1 Short layover                    1\n",
       "Red-eye flight                     1\n",
       "2 Long layover                     1\n",
       "Name: Additional_Info, dtype: int64"
      ]
     },
     "execution_count": 19,
     "metadata": {},
     "output_type": "execute_result"
    },
    {
     "data": {
      "image/png": "[encoded data removed]",
      "text/plain": [
       "<Figure size 432x288 with 1 Axes>"
      ]
     },
     "metadata": {
      "needs_background": "light"
     },
     "output_type": "display_data"
    }
   ],
   "source": [
    "sns.countplot(x='Additional_Info', data=df)\n",
    "df['Additional_Info'].value_counts()"
   ]
  },
  {
   "cell_type": "code",
   "execution_count": 20,
   "id": "7d6c280e",
   "metadata": {},
   "outputs": [
    {
     "ename": "IndentationError",
     "evalue": "unexpected indent (2346623988.py, line 2)",
     "output_type": "error",
     "traceback": [
      "\u001b[1;36m  Input \u001b[1;32mIn [20]\u001b[1;36m\u001b[0m\n\u001b[1;33m    plt.xticks(rotation = 90)\u001b[0m\n\u001b[1;37m    ^\u001b[0m\n\u001b[1;31mIndentationError\u001b[0m\u001b[1;31m:\u001b[0m unexpected indent\n"
     ]
    }
   ],
   "source": [
    "sns.scatterplot(data=df,x='Airline',y='Price')\n",
    "    plt.xticks(rotation = 90)"
   ]
  },
  {
   "cell_type": "markdown",
   "id": "1efd8c79",
   "metadata": {},
   "source": [
    "As per above visualization Jet Airways Business has maximum price is almost 8,000 "
   ]
  },
  {
   "cell_type": "code",
   "execution_count": null,
   "id": "5f95b68c",
   "metadata": {},
   "outputs": [],
   "source": [
    "plt.figure(figsize=(12,8))\n",
    "sns.scatterplot(data=df,x='Date_of_Journey',y='Price')\n",
    "plt.xticks(rotation = 90)"
   ]
  },
  {
   "cell_type": "markdown",
   "id": "8a0aec1b",
   "metadata": {},
   "source": [
    "The maximum price is distributed on 01/03/2019"
   ]
  },
  {
   "cell_type": "code",
   "execution_count": null,
   "id": "dd3b3c49",
   "metadata": {},
   "outputs": [],
   "source": [
    "sns.scatterplot(data=df,x='Source',y='Price')\n",
    "plt.xticks(rotation = 90)"
   ]
  },
  {
   "cell_type": "markdown",
   "id": "efb143fc",
   "metadata": {},
   "source": [
    "Flight from Bangalore is maximum distributed with target varible Price"
   ]
  },
  {
   "cell_type": "code",
   "execution_count": null,
   "id": "e7162f14",
   "metadata": {},
   "outputs": [],
   "source": [
    "sns.scatterplot(data=df,x='Destination',y='Price')\n",
    "plt.xticks(rotation = 90)"
   ]
  },
  {
   "cell_type": "markdown",
   "id": "bcb9b6d3",
   "metadata": {},
   "source": [
    "Flight to New Delhi is maximum distributed with target varible Price"
   ]
  },
  {
   "cell_type": "code",
   "execution_count": null,
   "id": "9551d343",
   "metadata": {},
   "outputs": [],
   "source": [
    "plt.figure(figsize=(25,25))\n",
    "sns.scatterplot(data=df,x='Route',y='Price')\n",
    "plt.xticks(rotation = 90)"
   ]
  },
  {
   "cell_type": "code",
   "execution_count": null,
   "id": "565cfe98",
   "metadata": {},
   "outputs": [],
   "source": [
    "sns.scatterplot(data=df,x='Total_Stops',y='Price')\n",
    "plt.xticks(rotation = 90)"
   ]
  },
  {
   "cell_type": "markdown",
   "id": "ef2be14e",
   "metadata": {},
   "source": [
    "Flight has only 1 stop is highly distributed with target varible Price"
   ]
  },
  {
   "cell_type": "code",
   "execution_count": null,
   "id": "d10b009a",
   "metadata": {},
   "outputs": [],
   "source": [
    "sns.scatterplot(data=df,x='Additional_Info',y='Price')\n",
    "plt.xticks(rotation = 90)"
   ]
  },
  {
   "cell_type": "markdown",
   "id": "99e0de56",
   "metadata": {},
   "source": [
    "As per above observation Business class has maximum Price"
   ]
  },
  {
   "cell_type": "markdown",
   "id": "3443692f",
   "metadata": {},
   "source": [
    "# Change Date_of_Journey into day and month sperate"
   ]
  },
  {
   "cell_type": "code",
   "execution_count": null,
   "id": "b07e8b10",
   "metadata": {},
   "outputs": [],
   "source": [
    "df[\"Journey_day\"] =pd.to_datetime(df[\"Date_of_Journey\"],format=\"%d/%m/%Y\").dt.day\n",
    "df[\"Journey_month\"] =pd.to_datetime(df[\"Date_of_Journey\"],format=\"%d/%m/%Y\").dt.month"
   ]
  },
  {
   "cell_type": "markdown",
   "id": "cfa0d326",
   "metadata": {},
   "source": [
    "Hence change Date_of_Journey into day and month sperate so Date_of_Journey into day and month sperate no need to Date_of_Journey"
   ]
  },
  {
   "cell_type": "code",
   "execution_count": null,
   "id": "9ba46e3f",
   "metadata": {},
   "outputs": [],
   "source": [
    "df.drop([\"Date_of_Journey\"], axis = 1, inplace = True)"
   ]
  },
  {
   "cell_type": "code",
   "execution_count": null,
   "id": "9917d878",
   "metadata": {},
   "outputs": [],
   "source": [
    "df[\"Dep_hour\"] = pd.to_datetime(df[\"Dep_Time\"]).dt.hour\n",
    "df[\"Dep_min\"] = pd.to_datetime(df[\"Dep_Time\"]).dt.minute"
   ]
  },
  {
   "cell_type": "code",
   "execution_count": null,
   "id": "193966bd",
   "metadata": {},
   "outputs": [],
   "source": [
    "df[\"Arrival_hour\"] = pd.to_datetime(df[\"Arrival_Time\"]).dt.hour\n",
    "df[\"Arrival_min\"] = pd.to_datetime(df[\"Arrival_Time\"]).dt.minute"
   ]
  },
  {
   "cell_type": "code",
   "execution_count": null,
   "id": "7f957471",
   "metadata": {},
   "outputs": [],
   "source": [
    "df.drop([\"Dep_Time\",\"Arrival_Time\"], axis = 1, inplace = True)"
   ]
  },
  {
   "cell_type": "code",
   "execution_count": null,
   "id": "889d6ede",
   "metadata": {},
   "outputs": [],
   "source": [
    "df['Duration']=df['Duration'].str.replace('h','*60').str.replace(' ','+').str.replace('m','*1').apply(eval)\n",
    "df['Duration']=pd.to_numeric(df['Duration'])"
   ]
  },
  {
   "cell_type": "markdown",
   "id": "40f9cc8c",
   "metadata": {},
   "source": [
    "as per the data Rout is not relevent so dropping the column is best idea"
   ]
  },
  {
   "cell_type": "code",
   "execution_count": null,
   "id": "78252a85",
   "metadata": {},
   "outputs": [],
   "source": [
    "df.drop(['Route'], axis=1,inplace=True)"
   ]
  },
  {
   "cell_type": "code",
   "execution_count": null,
   "id": "ec51a88f",
   "metadata": {
    "scrolled": false
   },
   "outputs": [],
   "source": [
    "df"
   ]
  },
  {
   "cell_type": "code",
   "execution_count": null,
   "id": "25d14019",
   "metadata": {},
   "outputs": [],
   "source": [
    "df.dtypes"
   ]
  },
  {
   "cell_type": "markdown",
   "id": "6c32fd39",
   "metadata": {},
   "source": [
    "# Label Encoder Converting the object values into Integer"
   ]
  },
  {
   "cell_type": "code",
   "execution_count": null,
   "id": "278dd230",
   "metadata": {},
   "outputs": [],
   "source": [
    "from sklearn.preprocessing import LabelEncoder\n",
    "enc = LabelEncoder()\n",
    "for i in df.columns:\n",
    "    if df[i].dtype == 'object':\n",
    "        df[i]= enc.fit_transform(df[i].values.reshape(-1,1))"
   ]
  },
  {
   "cell_type": "code",
   "execution_count": null,
   "id": "672567e3",
   "metadata": {},
   "outputs": [],
   "source": [
    "df.hist(figsize= (30,40), bins =100, xlabelsize = 10, ylabelsize = 10)\n",
    "plt.show()"
   ]
  },
  {
   "cell_type": "code",
   "execution_count": null,
   "id": "9e4911c6",
   "metadata": {
    "scrolled": false
   },
   "outputs": [],
   "source": [
    "df.corr()"
   ]
  },
  {
   "cell_type": "code",
   "execution_count": null,
   "id": "d076c87a",
   "metadata": {},
   "outputs": [],
   "source": [
    "plt.figure(figsize=(10,10))\n",
    "sns.heatmap(df.corr(),annot=True, linewidth=1, linecolor='red')"
   ]
  },
  {
   "cell_type": "markdown",
   "id": "764c8a56",
   "metadata": {},
   "source": [
    "As per above visualization Duration is highly coorelated with Target variable and Total_stops has negatively coocrelated with Tearget but it's an object variable"
   ]
  },
  {
   "cell_type": "code",
   "execution_count": null,
   "id": "d3833e6b",
   "metadata": {},
   "outputs": [],
   "source": [
    "df.skew()"
   ]
  },
  {
   "cell_type": "markdown",
   "id": "63b7c7a2",
   "metadata": {},
   "source": [
    "Skewness more than +/-0.5 will be treated Removing skewness from numerical data"
   ]
  },
  {
   "cell_type": "markdown",
   "id": "376bdc98",
   "metadata": {},
   "source": [
    "# Removing Skewness"
   ]
  },
  {
   "cell_type": "code",
   "execution_count": null,
   "id": "8a3aaaba",
   "metadata": {},
   "outputs": [],
   "source": [
    "from sklearn.preprocessing import power_transform"
   ]
  },
  {
   "cell_type": "code",
   "execution_count": null,
   "id": "ef8cedf4",
   "metadata": {},
   "outputs": [],
   "source": [
    "df[['Duration','Journey_day','Journey_day','Journey_month','Dep_hour','Dep_min','Arrival_hour','Arrival_min']]=power_transform(df[['Duration','Journey_day','Journey_day','Journey_month','Dep_hour','Dep_min','Arrival_hour','Arrival_min']],method='yeo-johnson')"
   ]
  },
  {
   "cell_type": "markdown",
   "id": "c57200af",
   "metadata": {},
   "source": [
    "# Checking Outliers"
   ]
  },
  {
   "cell_type": "code",
   "execution_count": null,
   "id": "6d9d0ea1",
   "metadata": {},
   "outputs": [],
   "source": [
    "for i in df:\n",
    "    plt.boxplot(df[i], labels= [i])\n",
    "    plt.show()"
   ]
  },
  {
   "cell_type": "markdown",
   "id": "c8522a0f",
   "metadata": {},
   "source": [
    "# Z Score method"
   ]
  },
  {
   "cell_type": "code",
   "execution_count": null,
   "id": "96c1e6b3",
   "metadata": {},
   "outputs": [],
   "source": [
    "from scipy.stats import zscore\n",
    "\n",
    "z = np.abs(zscore(df))\n",
    "print(np.where(z>3))"
   ]
  },
  {
   "cell_type": "code",
   "execution_count": null,
   "id": "cab4bb3a",
   "metadata": {},
   "outputs": [],
   "source": [
    "df_new = df[(z<3).all(axis=1)]\n",
    "print(\"with outliers::\",df.shape)\n",
    "print(\"After removing outliers::\",df_new.shape)"
   ]
  },
  {
   "cell_type": "code",
   "execution_count": null,
   "id": "03e5755a",
   "metadata": {},
   "outputs": [],
   "source": [
    "print(\"Total Data Loss\", ((10682-10576)/10682)*100)"
   ]
  },
  {
   "cell_type": "markdown",
   "id": "0b77734b",
   "metadata": {},
   "source": [
    "# Splitting Data in Training and Testing"
   ]
  },
  {
   "cell_type": "code",
   "execution_count": null,
   "id": "efb94595",
   "metadata": {},
   "outputs": [],
   "source": [
    "from sklearn.model_selection import train_test_split\n",
    "from sklearn.metrics import mean_squared_error,mean_absolute_error\n",
    "from sklearn.metrics import r2_score"
   ]
  },
  {
   "cell_type": "code",
   "execution_count": null,
   "id": "4c231aea",
   "metadata": {},
   "outputs": [],
   "source": [
    "x=df_new.drop(columns='Price',axis=1)\n",
    "y=df_new[['Price']]"
   ]
  },
  {
   "cell_type": "code",
   "execution_count": null,
   "id": "720ba697",
   "metadata": {},
   "outputs": [],
   "source": [
    "x.shape"
   ]
  },
  {
   "cell_type": "code",
   "execution_count": null,
   "id": "c1e53f09",
   "metadata": {},
   "outputs": [],
   "source": [
    "y.shape"
   ]
  },
  {
   "cell_type": "markdown",
   "id": "f8e5c8f5",
   "metadata": {},
   "source": [
    "# Scaling the data using min max scaler"
   ]
  },
  {
   "cell_type": "code",
   "execution_count": null,
   "id": "2427b4d8",
   "metadata": {},
   "outputs": [],
   "source": [
    "from sklearn.preprocessing import MinMaxScaler\n",
    "\n",
    "mn=MinMaxScaler()\n",
    "x=mn.fit_transform(x)"
   ]
  },
  {
   "cell_type": "markdown",
   "id": "48bbc398",
   "metadata": {},
   "source": [
    "# Importing Model"
   ]
  },
  {
   "cell_type": "code",
   "execution_count": null,
   "id": "c526310c",
   "metadata": {},
   "outputs": [],
   "source": [
    "import sklearn\n",
    "from sklearn.neighbors import KNeighborsRegressor\n",
    "from sklearn.tree import DecisionTreeRegressor\n",
    "from sklearn.ensemble import RandomForestRegressor\n",
    "from sklearn.ensemble import AdaBoostRegressor\n",
    "from sklearn.linear_model import Ridge, Lasso"
   ]
  },
  {
   "cell_type": "code",
   "execution_count": null,
   "id": "c7d8eaaf",
   "metadata": {},
   "outputs": [],
   "source": [
    "ne = KNeighborsRegressor(n_neighbors=2)\n",
    "dt = DecisionTreeRegressor()\n",
    "rf= RandomForestRegressor(n_estimators=100)\n",
    "ab= AdaBoostRegressor()\n",
    "rd= Ridge()\n",
    "mod = [ne, dt, rf, ab, rd]\n",
    "mod"
   ]
  },
  {
   "cell_type": "code",
   "execution_count": null,
   "id": "e877c867",
   "metadata": {},
   "outputs": [],
   "source": [
    "for j in mod:\n",
    "    for i in range(0,100):\n",
    "        xtrain,xtest,ytrain,ytest = train_test_split(x,y,test_size= 0.22, random_state=i)\n",
    "        j.fit(xtrain,ytrain)\n",
    "        pred_train = j.predict(xtrain)\n",
    "        pred_test= j.predict(xtest)\n",
    "\n",
    "        print(f\"For Model {j} At random state {i}, the training accuracy is: {r2_score(ytrain,pred_train)}\")\n",
    "        print(f\"For Model {j} At random state {i}, the testing accuracy is: {r2_score(ytest,pred_test)}\")\n",
    "        print('\\n')"
   ]
  },
  {
   "cell_type": "markdown",
   "id": "c1e787cc",
   "metadata": {},
   "source": [
    "As per above visualization we found model Random Forest Regressor is best at random state 42"
   ]
  },
  {
   "cell_type": "code",
   "execution_count": null,
   "id": "2802a570",
   "metadata": {},
   "outputs": [],
   "source": [
    "print(\"Mean Squared error\", mean_squared_error(ytest,pred_test))\n",
    "print(\"Mean Absolute Error\", mean_absolute_error(ytest,pred_test))"
   ]
  },
  {
   "cell_type": "markdown",
   "id": "2633b747",
   "metadata": {},
   "source": [
    "# Using Grid Search CV to find the best parameter"
   ]
  },
  {
   "cell_type": "code",
   "execution_count": null,
   "id": "7b0b4fe2",
   "metadata": {},
   "outputs": [],
   "source": [
    "from sklearn.model_selection import GridSearchCV\n",
    "\n",
    "model = RandomForestRegressor()\n",
    "param_grid = {'n_estimators': [10,20,50,100], 'random_state' : [42]}\n",
    "xg_grid = GridSearchCV(estimator = model, param_grid = param_grid)\n",
    "print(xg_grid)\n",
    "xg_grid.fit(xtrain, ytrain)"
   ]
  },
  {
   "cell_type": "code",
   "execution_count": null,
   "id": "408f417a",
   "metadata": {},
   "outputs": [],
   "source": [
    "print(xg_grid.best_score_)\n",
    "print(xg_grid.best_estimator_)\n",
    "print(xg_grid.best_params_)"
   ]
  },
  {
   "cell_type": "markdown",
   "id": "427aef0d",
   "metadata": {},
   "source": [
    "As per Grid Search CV we found the best accuracy when n_estimators=100, random_state= 42"
   ]
  },
  {
   "cell_type": "code",
   "execution_count": null,
   "id": "397c2c5d",
   "metadata": {},
   "outputs": [],
   "source": [
    "xtrain,xtest,ytrain,ytest = train_test_split(x,y,test_size= 0.22, random_state=42)\n",
    "RFR = RandomForestRegressor(n_estimators=100)\n",
    "RFR.fit(xtrain,ytrain)\n",
    "pred_train =RFR.predict(xtrain)\n",
    "pred_test= RFR.predict(xtest)\n",
    "print(\"Mean Squared error\", mean_squared_error(ytest,pred_test))\n",
    "print(\"Mean Absolute Error\", mean_absolute_error(ytest,pred_test))"
   ]
  },
  {
   "cell_type": "code",
   "execution_count": null,
   "id": "6aa1ec92",
   "metadata": {},
   "outputs": [],
   "source": [
    "print(r2_score(ytest,pred_test))"
   ]
  },
  {
   "cell_type": "markdown",
   "id": "5a11fe1c",
   "metadata": {},
   "source": [
    "# Cross Validation of the Model"
   ]
  },
  {
   "cell_type": "code",
   "execution_count": null,
   "id": "a2c38e4d",
   "metadata": {},
   "outputs": [],
   "source": [
    "train_accuracy = r2_score(ytrain,pred_train)\n",
    "test_accuracy =r2_score(ytest,pred_test)\n",
    "\n",
    "from sklearn.model_selection import cross_val_score\n",
    "for j in range(2,10):\n",
    "    cv_score =cross_val_score(RFR,x,y,cv=j)\n",
    "    cv_mean = cv_score.mean()\n",
    "    print(f\"At cross val  {j} the cv score  is {cv_mean} and accuracy score for training is {train_accuracy} and accuracy for testing is {test_accuracy}\")\n",
    "    print(\"\\n\")"
   ]
  },
  {
   "cell_type": "code",
   "execution_count": null,
   "id": "4f6cb3d3",
   "metadata": {},
   "outputs": [],
   "source": [
    "plt.figure(figsize=(8,6))\n",
    "plt.scatter(x= ytest, y =pred_test, color= \"maroon\")\n",
    "plt.plot(ytest,ytest, color='b')\n",
    "plt.xlabel('Actual Charges', fontsize= 14)\n",
    "plt.ylabel(\"Predicted Charges\", fontsize=14)\n",
    "plt.show()"
   ]
  },
  {
   "cell_type": "markdown",
   "id": "f89fdd5f",
   "metadata": {},
   "source": [
    "# Saving the Model"
   ]
  },
  {
   "cell_type": "code",
   "execution_count": null,
   "id": "547b4576",
   "metadata": {},
   "outputs": [],
   "source": [
    "import pickle\n",
    "# open a file, where you ant to store the data\n",
    "file = open('flight_rf.pkl', 'wb')"
   ]
  },
  {
   "cell_type": "code",
   "execution_count": 22,
   "id": "7c49211d",
   "metadata": {},
   "outputs": [
    {
     "data": {
      "text/html": [
       "<div>\n",
       "<style scoped>\n",
       "    .dataframe tbody tr th:only-of-type {\n",
       "        vertical-align: middle;\n",
       "    }\n",
       "\n",
       "    .dataframe tbody tr th {\n",
       "        vertical-align: top;\n",
       "    }\n",
       "\n",
       "    .dataframe thead th {\n",
       "        text-align: right;\n",
       "    }\n",
       "</style>\n",
       "<table border=\"1\" class=\"dataframe\">\n",
       "  <thead>\n",
       "    <tr style=\"text-align: right;\">\n",
       "      <th></th>\n",
       "      <th>Airline</th>\n",
       "      <th>Date_of_Journey</th>\n",
       "      <th>Source</th>\n",
       "      <th>Destination</th>\n",
       "      <th>Route</th>\n",
       "      <th>Dep_Time</th>\n",
       "      <th>Arrival_Time</th>\n",
       "      <th>Duration</th>\n",
       "      <th>Total_Stops</th>\n",
       "      <th>Additional_Info</th>\n",
       "    </tr>\n",
       "  </thead>\n",
       "  <tbody>\n",
       "    <tr>\n",
       "      <th>0</th>\n",
       "      <td>Jet Airways</td>\n",
       "      <td>6/06/2019</td>\n",
       "      <td>Delhi</td>\n",
       "      <td>Cochin</td>\n",
       "      <td>DEL → BOM → COK</td>\n",
       "      <td>17:30</td>\n",
       "      <td>04:25 07 Jun</td>\n",
       "      <td>10h 55m</td>\n",
       "      <td>1 stop</td>\n",
       "      <td>No info</td>\n",
       "    </tr>\n",
       "    <tr>\n",
       "      <th>1</th>\n",
       "      <td>IndiGo</td>\n",
       "      <td>12/05/2019</td>\n",
       "      <td>Kolkata</td>\n",
       "      <td>Banglore</td>\n",
       "      <td>CCU → MAA → BLR</td>\n",
       "      <td>06:20</td>\n",
       "      <td>10:20</td>\n",
       "      <td>4h</td>\n",
       "      <td>1 stop</td>\n",
       "      <td>No info</td>\n",
       "    </tr>\n",
       "    <tr>\n",
       "      <th>2</th>\n",
       "      <td>Jet Airways</td>\n",
       "      <td>21/05/2019</td>\n",
       "      <td>Delhi</td>\n",
       "      <td>Cochin</td>\n",
       "      <td>DEL → BOM → COK</td>\n",
       "      <td>19:15</td>\n",
       "      <td>19:00 22 May</td>\n",
       "      <td>23h 45m</td>\n",
       "      <td>1 stop</td>\n",
       "      <td>In-flight meal not included</td>\n",
       "    </tr>\n",
       "    <tr>\n",
       "      <th>3</th>\n",
       "      <td>Multiple carriers</td>\n",
       "      <td>21/05/2019</td>\n",
       "      <td>Delhi</td>\n",
       "      <td>Cochin</td>\n",
       "      <td>DEL → BOM → COK</td>\n",
       "      <td>08:00</td>\n",
       "      <td>21:00</td>\n",
       "      <td>13h</td>\n",
       "      <td>1 stop</td>\n",
       "      <td>No info</td>\n",
       "    </tr>\n",
       "    <tr>\n",
       "      <th>4</th>\n",
       "      <td>Air Asia</td>\n",
       "      <td>24/06/2019</td>\n",
       "      <td>Banglore</td>\n",
       "      <td>Delhi</td>\n",
       "      <td>BLR → DEL</td>\n",
       "      <td>23:55</td>\n",
       "      <td>02:45 25 Jun</td>\n",
       "      <td>2h 50m</td>\n",
       "      <td>non-stop</td>\n",
       "      <td>No info</td>\n",
       "    </tr>\n",
       "    <tr>\n",
       "      <th>...</th>\n",
       "      <td>...</td>\n",
       "      <td>...</td>\n",
       "      <td>...</td>\n",
       "      <td>...</td>\n",
       "      <td>...</td>\n",
       "      <td>...</td>\n",
       "      <td>...</td>\n",
       "      <td>...</td>\n",
       "      <td>...</td>\n",
       "      <td>...</td>\n",
       "    </tr>\n",
       "    <tr>\n",
       "      <th>2666</th>\n",
       "      <td>Air India</td>\n",
       "      <td>6/06/2019</td>\n",
       "      <td>Kolkata</td>\n",
       "      <td>Banglore</td>\n",
       "      <td>CCU → DEL → BLR</td>\n",
       "      <td>20:30</td>\n",
       "      <td>20:25 07 Jun</td>\n",
       "      <td>23h 55m</td>\n",
       "      <td>1 stop</td>\n",
       "      <td>No info</td>\n",
       "    </tr>\n",
       "    <tr>\n",
       "      <th>2667</th>\n",
       "      <td>IndiGo</td>\n",
       "      <td>27/03/2019</td>\n",
       "      <td>Kolkata</td>\n",
       "      <td>Banglore</td>\n",
       "      <td>CCU → BLR</td>\n",
       "      <td>14:20</td>\n",
       "      <td>16:55</td>\n",
       "      <td>2h 35m</td>\n",
       "      <td>non-stop</td>\n",
       "      <td>No info</td>\n",
       "    </tr>\n",
       "    <tr>\n",
       "      <th>2668</th>\n",
       "      <td>Jet Airways</td>\n",
       "      <td>6/03/2019</td>\n",
       "      <td>Delhi</td>\n",
       "      <td>Cochin</td>\n",
       "      <td>DEL → BOM → COK</td>\n",
       "      <td>21:50</td>\n",
       "      <td>04:25 07 Mar</td>\n",
       "      <td>6h 35m</td>\n",
       "      <td>1 stop</td>\n",
       "      <td>No info</td>\n",
       "    </tr>\n",
       "    <tr>\n",
       "      <th>2669</th>\n",
       "      <td>Air India</td>\n",
       "      <td>6/03/2019</td>\n",
       "      <td>Delhi</td>\n",
       "      <td>Cochin</td>\n",
       "      <td>DEL → BOM → COK</td>\n",
       "      <td>04:00</td>\n",
       "      <td>19:15</td>\n",
       "      <td>15h 15m</td>\n",
       "      <td>1 stop</td>\n",
       "      <td>No info</td>\n",
       "    </tr>\n",
       "    <tr>\n",
       "      <th>2670</th>\n",
       "      <td>Multiple carriers</td>\n",
       "      <td>15/06/2019</td>\n",
       "      <td>Delhi</td>\n",
       "      <td>Cochin</td>\n",
       "      <td>DEL → BOM → COK</td>\n",
       "      <td>04:55</td>\n",
       "      <td>19:15</td>\n",
       "      <td>14h 20m</td>\n",
       "      <td>1 stop</td>\n",
       "      <td>No info</td>\n",
       "    </tr>\n",
       "  </tbody>\n",
       "</table>\n",
       "<p>2671 rows × 10 columns</p>\n",
       "</div>"
      ],
      "text/plain": [
       "                Airline Date_of_Journey    Source Destination  \\\n",
       "0           Jet Airways       6/06/2019     Delhi      Cochin   \n",
       "1                IndiGo      12/05/2019   Kolkata    Banglore   \n",
       "2           Jet Airways      21/05/2019     Delhi      Cochin   \n",
       "3     Multiple carriers      21/05/2019     Delhi      Cochin   \n",
       "4              Air Asia      24/06/2019  Banglore       Delhi   \n",
       "...                 ...             ...       ...         ...   \n",
       "2666          Air India       6/06/2019   Kolkata    Banglore   \n",
       "2667             IndiGo      27/03/2019   Kolkata    Banglore   \n",
       "2668        Jet Airways       6/03/2019     Delhi      Cochin   \n",
       "2669          Air India       6/03/2019     Delhi      Cochin   \n",
       "2670  Multiple carriers      15/06/2019     Delhi      Cochin   \n",
       "\n",
       "                Route Dep_Time  Arrival_Time Duration Total_Stops  \\\n",
       "0     DEL → BOM → COK    17:30  04:25 07 Jun  10h 55m      1 stop   \n",
       "1     CCU → MAA → BLR    06:20         10:20       4h      1 stop   \n",
       "2     DEL → BOM → COK    19:15  19:00 22 May  23h 45m      1 stop   \n",
       "3     DEL → BOM → COK    08:00         21:00      13h      1 stop   \n",
       "4           BLR → DEL    23:55  02:45 25 Jun   2h 50m    non-stop   \n",
       "...               ...      ...           ...      ...         ...   \n",
       "2666  CCU → DEL → BLR    20:30  20:25 07 Jun  23h 55m      1 stop   \n",
       "2667        CCU → BLR    14:20         16:55   2h 35m    non-stop   \n",
       "2668  DEL → BOM → COK    21:50  04:25 07 Mar   6h 35m      1 stop   \n",
       "2669  DEL → BOM → COK    04:00         19:15  15h 15m      1 stop   \n",
       "2670  DEL → BOM → COK    04:55         19:15  14h 20m      1 stop   \n",
       "\n",
       "                  Additional_Info  \n",
       "0                         No info  \n",
       "1                         No info  \n",
       "2     In-flight meal not included  \n",
       "3                         No info  \n",
       "4                         No info  \n",
       "...                           ...  \n",
       "2666                      No info  \n",
       "2667                      No info  \n",
       "2668                      No info  \n",
       "2669                      No info  \n",
       "2670                      No info  \n",
       "\n",
       "[2671 rows x 10 columns]"
      ]
     },
     "execution_count": 22,
     "metadata": {},
     "output_type": "execute_result"
    }
   ],
   "source": [
    "df_test=pd.read_excel('C:\\\\Users\\\\NITIN GUPTA\\\\Test_set.xlsx')\n",
    "df_test"
   ]
  },
  {
   "cell_type": "code",
   "execution_count": 23,
   "id": "17d78835",
   "metadata": {},
   "outputs": [
    {
     "data": {
      "text/plain": [
       "Airline            0\n",
       "Date_of_Journey    0\n",
       "Source             0\n",
       "Destination        0\n",
       "Route              0\n",
       "Dep_Time           0\n",
       "Arrival_Time       0\n",
       "Duration           0\n",
       "Total_Stops        0\n",
       "Additional_Info    0\n",
       "dtype: int64"
      ]
     },
     "execution_count": 23,
     "metadata": {},
     "output_type": "execute_result"
    }
   ],
   "source": [
    "df_test.isnull().sum()"
   ]
  },
  {
   "cell_type": "code",
   "execution_count": 24,
   "id": "94277890",
   "metadata": {},
   "outputs": [
    {
     "data": {
      "text/plain": [
       "Airline            object\n",
       "Date_of_Journey    object\n",
       "Source             object\n",
       "Destination        object\n",
       "Route              object\n",
       "Dep_Time           object\n",
       "Arrival_Time       object\n",
       "Duration           object\n",
       "Total_Stops        object\n",
       "Additional_Info    object\n",
       "dtype: object"
      ]
     },
     "execution_count": 24,
     "metadata": {},
     "output_type": "execute_result"
    }
   ],
   "source": [
    "df.dtypes"
   ]
  },
  {
   "cell_type": "code",
   "execution_count": null,
   "id": "e6f91fca",
   "metadata": {},
   "outputs": [],
   "source": [
    "k"
   ]
  }
 ],
 "metadata": {
  "kernelspec": {
   "display_name": "Python 3 (ipykernel)",
   "language": "python",
   "name": "python3"
  },
  "language_info": {
   "codemirror_mode": {
    "name": "ipython",
    "version": 3
   },
   "file_extension": ".py",
   "mimetype": "text/x-python",
   "name": "python",
   "nbconvert_exporter": "python",
   "pygments_lexer": "ipython3",
   "version": "3.9.12"
  }
 },
 "nbformat": 4,
 "nbformat_minor": 5
}
